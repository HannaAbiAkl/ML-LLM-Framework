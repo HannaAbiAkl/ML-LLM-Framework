{
  "cells": [
    {
      "cell_type": "code",
      "execution_count": 4,
      "metadata": {
        "colab": {
          "base_uri": "https://localhost:8080/",
          "height": 74
        },
        "id": "2lswlIshW5wX",
        "outputId": "f78bc2f8-1954-403f-cdae-647ffc0e1699"
      },
      "outputs": [
        {
          "output_type": "display_data",
          "data": {
            "text/plain": [
              "<IPython.core.display.HTML object>"
            ],
            "text/html": [
              "\n",
              "     <input type=\"file\" id=\"files-c27f3307-434a-49d3-84ad-4510f80d31cc\" name=\"files[]\" multiple disabled\n",
              "        style=\"border:none\" />\n",
              "     <output id=\"result-c27f3307-434a-49d3-84ad-4510f80d31cc\">\n",
              "      Upload widget is only available when the cell has been executed in the\n",
              "      current browser session. Please rerun this cell to enable.\n",
              "      </output>\n",
              "      <script>// Copyright 2017 Google LLC\n",
              "//\n",
              "// Licensed under the Apache License, Version 2.0 (the \"License\");\n",
              "// you may not use this file except in compliance with the License.\n",
              "// You may obtain a copy of the License at\n",
              "//\n",
              "//      http://www.apache.org/licenses/LICENSE-2.0\n",
              "//\n",
              "// Unless required by applicable law or agreed to in writing, software\n",
              "// distributed under the License is distributed on an \"AS IS\" BASIS,\n",
              "// WITHOUT WARRANTIES OR CONDITIONS OF ANY KIND, either express or implied.\n",
              "// See the License for the specific language governing permissions and\n",
              "// limitations under the License.\n",
              "\n",
              "/**\n",
              " * @fileoverview Helpers for google.colab Python module.\n",
              " */\n",
              "(function(scope) {\n",
              "function span(text, styleAttributes = {}) {\n",
              "  const element = document.createElement('span');\n",
              "  element.textContent = text;\n",
              "  for (const key of Object.keys(styleAttributes)) {\n",
              "    element.style[key] = styleAttributes[key];\n",
              "  }\n",
              "  return element;\n",
              "}\n",
              "\n",
              "// Max number of bytes which will be uploaded at a time.\n",
              "const MAX_PAYLOAD_SIZE = 100 * 1024;\n",
              "\n",
              "function _uploadFiles(inputId, outputId) {\n",
              "  const steps = uploadFilesStep(inputId, outputId);\n",
              "  const outputElement = document.getElementById(outputId);\n",
              "  // Cache steps on the outputElement to make it available for the next call\n",
              "  // to uploadFilesContinue from Python.\n",
              "  outputElement.steps = steps;\n",
              "\n",
              "  return _uploadFilesContinue(outputId);\n",
              "}\n",
              "\n",
              "// This is roughly an async generator (not supported in the browser yet),\n",
              "// where there are multiple asynchronous steps and the Python side is going\n",
              "// to poll for completion of each step.\n",
              "// This uses a Promise to block the python side on completion of each step,\n",
              "// then passes the result of the previous step as the input to the next step.\n",
              "function _uploadFilesContinue(outputId) {\n",
              "  const outputElement = document.getElementById(outputId);\n",
              "  const steps = outputElement.steps;\n",
              "\n",
              "  const next = steps.next(outputElement.lastPromiseValue);\n",
              "  return Promise.resolve(next.value.promise).then((value) => {\n",
              "    // Cache the last promise value to make it available to the next\n",
              "    // step of the generator.\n",
              "    outputElement.lastPromiseValue = value;\n",
              "    return next.value.response;\n",
              "  });\n",
              "}\n",
              "\n",
              "/**\n",
              " * Generator function which is called between each async step of the upload\n",
              " * process.\n",
              " * @param {string} inputId Element ID of the input file picker element.\n",
              " * @param {string} outputId Element ID of the output display.\n",
              " * @return {!Iterable<!Object>} Iterable of next steps.\n",
              " */\n",
              "function* uploadFilesStep(inputId, outputId) {\n",
              "  const inputElement = document.getElementById(inputId);\n",
              "  inputElement.disabled = false;\n",
              "\n",
              "  const outputElement = document.getElementById(outputId);\n",
              "  outputElement.innerHTML = '';\n",
              "\n",
              "  const pickedPromise = new Promise((resolve) => {\n",
              "    inputElement.addEventListener('change', (e) => {\n",
              "      resolve(e.target.files);\n",
              "    });\n",
              "  });\n",
              "\n",
              "  const cancel = document.createElement('button');\n",
              "  inputElement.parentElement.appendChild(cancel);\n",
              "  cancel.textContent = 'Cancel upload';\n",
              "  const cancelPromise = new Promise((resolve) => {\n",
              "    cancel.onclick = () => {\n",
              "      resolve(null);\n",
              "    };\n",
              "  });\n",
              "\n",
              "  // Wait for the user to pick the files.\n",
              "  const files = yield {\n",
              "    promise: Promise.race([pickedPromise, cancelPromise]),\n",
              "    response: {\n",
              "      action: 'starting',\n",
              "    }\n",
              "  };\n",
              "\n",
              "  cancel.remove();\n",
              "\n",
              "  // Disable the input element since further picks are not allowed.\n",
              "  inputElement.disabled = true;\n",
              "\n",
              "  if (!files) {\n",
              "    return {\n",
              "      response: {\n",
              "        action: 'complete',\n",
              "      }\n",
              "    };\n",
              "  }\n",
              "\n",
              "  for (const file of files) {\n",
              "    const li = document.createElement('li');\n",
              "    li.append(span(file.name, {fontWeight: 'bold'}));\n",
              "    li.append(span(\n",
              "        `(${file.type || 'n/a'}) - ${file.size} bytes, ` +\n",
              "        `last modified: ${\n",
              "            file.lastModifiedDate ? file.lastModifiedDate.toLocaleDateString() :\n",
              "                                    'n/a'} - `));\n",
              "    const percent = span('0% done');\n",
              "    li.appendChild(percent);\n",
              "\n",
              "    outputElement.appendChild(li);\n",
              "\n",
              "    const fileDataPromise = new Promise((resolve) => {\n",
              "      const reader = new FileReader();\n",
              "      reader.onload = (e) => {\n",
              "        resolve(e.target.result);\n",
              "      };\n",
              "      reader.readAsArrayBuffer(file);\n",
              "    });\n",
              "    // Wait for the data to be ready.\n",
              "    let fileData = yield {\n",
              "      promise: fileDataPromise,\n",
              "      response: {\n",
              "        action: 'continue',\n",
              "      }\n",
              "    };\n",
              "\n",
              "    // Use a chunked sending to avoid message size limits. See b/62115660.\n",
              "    let position = 0;\n",
              "    do {\n",
              "      const length = Math.min(fileData.byteLength - position, MAX_PAYLOAD_SIZE);\n",
              "      const chunk = new Uint8Array(fileData, position, length);\n",
              "      position += length;\n",
              "\n",
              "      const base64 = btoa(String.fromCharCode.apply(null, chunk));\n",
              "      yield {\n",
              "        response: {\n",
              "          action: 'append',\n",
              "          file: file.name,\n",
              "          data: base64,\n",
              "        },\n",
              "      };\n",
              "\n",
              "      let percentDone = fileData.byteLength === 0 ?\n",
              "          100 :\n",
              "          Math.round((position / fileData.byteLength) * 100);\n",
              "      percent.textContent = `${percentDone}% done`;\n",
              "\n",
              "    } while (position < fileData.byteLength);\n",
              "  }\n",
              "\n",
              "  // All done.\n",
              "  yield {\n",
              "    response: {\n",
              "      action: 'complete',\n",
              "    }\n",
              "  };\n",
              "}\n",
              "\n",
              "scope.google = scope.google || {};\n",
              "scope.google.colab = scope.google.colab || {};\n",
              "scope.google.colab._files = {\n",
              "  _uploadFiles,\n",
              "  _uploadFilesContinue,\n",
              "};\n",
              "})(self);\n",
              "</script> "
            ]
          },
          "metadata": {}
        },
        {
          "output_type": "stream",
          "name": "stdout",
          "text": [
            "Saving chatgpt_generated_data_with_class.csv to chatgpt_generated_data_with_class.csv\n"
          ]
        }
      ],
      "source": [
        "from google.colab import files\n",
        "uploaded = files.upload()"
      ]
    },
    {
      "cell_type": "code",
      "execution_count": 17,
      "metadata": {
        "colab": {
          "base_uri": "https://localhost:8080/",
          "height": 206
        },
        "id": "pCa1Ve80X9Jt",
        "outputId": "e4146789-19f6-4bbc-ceeb-e78d47e0139a"
      },
      "outputs": [
        {
          "output_type": "execute_result",
          "data": {
            "text/plain": [
              "       Comments                           Surrounding Code Context       Class\n",
              "0  /*test 529*/  -10.   int res = 0;\\n-9.   CURL *curl = NULL;\\...  Not Useful\n",
              "1  /*test 525*/  -2.     fprintf(stderr, \"Usage: lib529 [url] [...  Not Useful\n",
              "2      /*done*/  -10.   multi_add_handle(m, curl);\\n-9.   for(;...  Not Useful\n",
              "3  /*test 529*/  -10.   int res = 0;\\n-9.   CURL *curl = NULL;\\...  Not Useful\n",
              "4  /*test 525*/  -2.     fprintf(stderr, \"Usage: lib529 [url] [...  Not Useful"
            ],
            "text/html": [
              "\n",
              "\n",
              "  <div id=\"df-b747cc9b-5f68-4226-9dfd-2201f66cef52\">\n",
              "    <div class=\"colab-df-container\">\n",
              "      <div>\n",
              "<style scoped>\n",
              "    .dataframe tbody tr th:only-of-type {\n",
              "        vertical-align: middle;\n",
              "    }\n",
              "\n",
              "    .dataframe tbody tr th {\n",
              "        vertical-align: top;\n",
              "    }\n",
              "\n",
              "    .dataframe thead th {\n",
              "        text-align: right;\n",
              "    }\n",
              "</style>\n",
              "<table border=\"1\" class=\"dataframe\">\n",
              "  <thead>\n",
              "    <tr style=\"text-align: right;\">\n",
              "      <th></th>\n",
              "      <th>Comments</th>\n",
              "      <th>Surrounding Code Context</th>\n",
              "      <th>Class</th>\n",
              "    </tr>\n",
              "  </thead>\n",
              "  <tbody>\n",
              "    <tr>\n",
              "      <th>0</th>\n",
              "      <td>/*test 529*/</td>\n",
              "      <td>-10.   int res = 0;\\n-9.   CURL *curl = NULL;\\...</td>\n",
              "      <td>Not Useful</td>\n",
              "    </tr>\n",
              "    <tr>\n",
              "      <th>1</th>\n",
              "      <td>/*test 525*/</td>\n",
              "      <td>-2.     fprintf(stderr, \"Usage: lib529 [url] [...</td>\n",
              "      <td>Not Useful</td>\n",
              "    </tr>\n",
              "    <tr>\n",
              "      <th>2</th>\n",
              "      <td>/*done*/</td>\n",
              "      <td>-10.   multi_add_handle(m, curl);\\n-9.   for(;...</td>\n",
              "      <td>Not Useful</td>\n",
              "    </tr>\n",
              "    <tr>\n",
              "      <th>3</th>\n",
              "      <td>/*test 529*/</td>\n",
              "      <td>-10.   int res = 0;\\n-9.   CURL *curl = NULL;\\...</td>\n",
              "      <td>Not Useful</td>\n",
              "    </tr>\n",
              "    <tr>\n",
              "      <th>4</th>\n",
              "      <td>/*test 525*/</td>\n",
              "      <td>-2.     fprintf(stderr, \"Usage: lib529 [url] [...</td>\n",
              "      <td>Not Useful</td>\n",
              "    </tr>\n",
              "  </tbody>\n",
              "</table>\n",
              "</div>\n",
              "      <button class=\"colab-df-convert\" onclick=\"convertToInteractive('df-b747cc9b-5f68-4226-9dfd-2201f66cef52')\"\n",
              "              title=\"Convert this dataframe to an interactive table.\"\n",
              "              style=\"display:none;\">\n",
              "\n",
              "  <svg xmlns=\"http://www.w3.org/2000/svg\" height=\"24px\"viewBox=\"0 0 24 24\"\n",
              "       width=\"24px\">\n",
              "    <path d=\"M0 0h24v24H0V0z\" fill=\"none\"/>\n",
              "    <path d=\"M18.56 5.44l.94 2.06.94-2.06 2.06-.94-2.06-.94-.94-2.06-.94 2.06-2.06.94zm-11 1L8.5 8.5l.94-2.06 2.06-.94-2.06-.94L8.5 2.5l-.94 2.06-2.06.94zm10 10l.94 2.06.94-2.06 2.06-.94-2.06-.94-.94-2.06-.94 2.06-2.06.94z\"/><path d=\"M17.41 7.96l-1.37-1.37c-.4-.4-.92-.59-1.43-.59-.52 0-1.04.2-1.43.59L10.3 9.45l-7.72 7.72c-.78.78-.78 2.05 0 2.83L4 21.41c.39.39.9.59 1.41.59.51 0 1.02-.2 1.41-.59l7.78-7.78 2.81-2.81c.8-.78.8-2.07 0-2.86zM5.41 20L4 18.59l7.72-7.72 1.47 1.35L5.41 20z\"/>\n",
              "  </svg>\n",
              "      </button>\n",
              "\n",
              "\n",
              "\n",
              "    <div id=\"df-c588e8c2-70d4-4ca2-aed8-7db42820f2ff\">\n",
              "      <button class=\"colab-df-quickchart\" onclick=\"quickchart('df-c588e8c2-70d4-4ca2-aed8-7db42820f2ff')\"\n",
              "              title=\"Suggest charts.\"\n",
              "              style=\"display:none;\">\n",
              "\n",
              "<svg xmlns=\"http://www.w3.org/2000/svg\" height=\"24px\"viewBox=\"0 0 24 24\"\n",
              "     width=\"24px\">\n",
              "    <g>\n",
              "        <path d=\"M19 3H5c-1.1 0-2 .9-2 2v14c0 1.1.9 2 2 2h14c1.1 0 2-.9 2-2V5c0-1.1-.9-2-2-2zM9 17H7v-7h2v7zm4 0h-2V7h2v10zm4 0h-2v-4h2v4z\"/>\n",
              "    </g>\n",
              "</svg>\n",
              "      </button>\n",
              "    </div>\n",
              "\n",
              "<style>\n",
              "  .colab-df-quickchart {\n",
              "    background-color: #E8F0FE;\n",
              "    border: none;\n",
              "    border-radius: 50%;\n",
              "    cursor: pointer;\n",
              "    display: none;\n",
              "    fill: #1967D2;\n",
              "    height: 32px;\n",
              "    padding: 0 0 0 0;\n",
              "    width: 32px;\n",
              "  }\n",
              "\n",
              "  .colab-df-quickchart:hover {\n",
              "    background-color: #E2EBFA;\n",
              "    box-shadow: 0px 1px 2px rgba(60, 64, 67, 0.3), 0px 1px 3px 1px rgba(60, 64, 67, 0.15);\n",
              "    fill: #174EA6;\n",
              "  }\n",
              "\n",
              "  [theme=dark] .colab-df-quickchart {\n",
              "    background-color: #3B4455;\n",
              "    fill: #D2E3FC;\n",
              "  }\n",
              "\n",
              "  [theme=dark] .colab-df-quickchart:hover {\n",
              "    background-color: #434B5C;\n",
              "    box-shadow: 0px 1px 3px 1px rgba(0, 0, 0, 0.15);\n",
              "    filter: drop-shadow(0px 1px 2px rgba(0, 0, 0, 0.3));\n",
              "    fill: #FFFFFF;\n",
              "  }\n",
              "</style>\n",
              "\n",
              "    <script>\n",
              "      async function quickchart(key) {\n",
              "        const containerElement = document.querySelector('#' + key);\n",
              "        const charts = await google.colab.kernel.invokeFunction(\n",
              "            'suggestCharts', [key], {});\n",
              "      }\n",
              "    </script>\n",
              "\n",
              "      <script>\n",
              "\n",
              "function displayQuickchartButton(domScope) {\n",
              "  let quickchartButtonEl =\n",
              "    domScope.querySelector('#df-c588e8c2-70d4-4ca2-aed8-7db42820f2ff button.colab-df-quickchart');\n",
              "  quickchartButtonEl.style.display =\n",
              "    google.colab.kernel.accessAllowed ? 'block' : 'none';\n",
              "}\n",
              "\n",
              "        displayQuickchartButton(document);\n",
              "      </script>\n",
              "      <style>\n",
              "    .colab-df-container {\n",
              "      display:flex;\n",
              "      flex-wrap:wrap;\n",
              "      gap: 12px;\n",
              "    }\n",
              "\n",
              "    .colab-df-convert {\n",
              "      background-color: #E8F0FE;\n",
              "      border: none;\n",
              "      border-radius: 50%;\n",
              "      cursor: pointer;\n",
              "      display: none;\n",
              "      fill: #1967D2;\n",
              "      height: 32px;\n",
              "      padding: 0 0 0 0;\n",
              "      width: 32px;\n",
              "    }\n",
              "\n",
              "    .colab-df-convert:hover {\n",
              "      background-color: #E2EBFA;\n",
              "      box-shadow: 0px 1px 2px rgba(60, 64, 67, 0.3), 0px 1px 3px 1px rgba(60, 64, 67, 0.15);\n",
              "      fill: #174EA6;\n",
              "    }\n",
              "\n",
              "    [theme=dark] .colab-df-convert {\n",
              "      background-color: #3B4455;\n",
              "      fill: #D2E3FC;\n",
              "    }\n",
              "\n",
              "    [theme=dark] .colab-df-convert:hover {\n",
              "      background-color: #434B5C;\n",
              "      box-shadow: 0px 1px 3px 1px rgba(0, 0, 0, 0.15);\n",
              "      filter: drop-shadow(0px 1px 2px rgba(0, 0, 0, 0.3));\n",
              "      fill: #FFFFFF;\n",
              "    }\n",
              "  </style>\n",
              "\n",
              "      <script>\n",
              "        const buttonEl =\n",
              "          document.querySelector('#df-b747cc9b-5f68-4226-9dfd-2201f66cef52 button.colab-df-convert');\n",
              "        buttonEl.style.display =\n",
              "          google.colab.kernel.accessAllowed ? 'block' : 'none';\n",
              "\n",
              "        async function convertToInteractive(key) {\n",
              "          const element = document.querySelector('#df-b747cc9b-5f68-4226-9dfd-2201f66cef52');\n",
              "          const dataTable =\n",
              "            await google.colab.kernel.invokeFunction('convertToInteractive',\n",
              "                                                     [key], {});\n",
              "          if (!dataTable) return;\n",
              "\n",
              "          const docLinkHtml = 'Like what you see? Visit the ' +\n",
              "            '<a target=\"_blank\" href=https://colab.research.google.com/notebooks/data_table.ipynb>data table notebook</a>'\n",
              "            + ' to learn more about interactive tables.';\n",
              "          element.innerHTML = '';\n",
              "          dataTable['output_type'] = 'display_data';\n",
              "          await google.colab.output.renderOutput(dataTable, element);\n",
              "          const docLink = document.createElement('div');\n",
              "          docLink.innerHTML = docLinkHtml;\n",
              "          element.appendChild(docLink);\n",
              "        }\n",
              "      </script>\n",
              "    </div>\n",
              "  </div>\n"
            ]
          },
          "metadata": {},
          "execution_count": 17
        }
      ],
      "source": [
        "import io\n",
        "import pandas as pd\n",
        "#data = pd.read_csv(io.BytesIO(uploaded['FIRE2023_IRSE_training_Code_Comment_Seed_Data (1).csv']))\n",
        "data = pd.read_csv('FIRE2023_IRSE_training_Code_Comment_Seed_Data.csv')\n",
        "data.head(5)"
      ]
    },
    {
      "cell_type": "code",
      "execution_count": 18,
      "metadata": {
        "colab": {
          "base_uri": "https://localhost:8080/",
          "height": 174
        },
        "id": "QLwLvcsyYK_d",
        "outputId": "9dfa54aa-a3c8-4c08-c1a2-902397142c33"
      },
      "outputs": [
        {
          "output_type": "execute_result",
          "data": {
            "text/plain": [
              "                                                 Comments  \\\n",
              "count                                               11452   \n",
              "unique                                               7107   \n",
              "top     /*********************************************...   \n",
              "freq                                                  144   \n",
              "\n",
              "                                 Surrounding Code Context   Class  \n",
              "count                                               11452   11452  \n",
              "unique                                               7791       2  \n",
              "top     -10. //  the X-windows Version 11 distribution...  Useful  \n",
              "freq                                                   72    7063  "
            ],
            "text/html": [
              "\n",
              "\n",
              "  <div id=\"df-4392da84-9d94-48d4-8713-af35ba9e0205\">\n",
              "    <div class=\"colab-df-container\">\n",
              "      <div>\n",
              "<style scoped>\n",
              "    .dataframe tbody tr th:only-of-type {\n",
              "        vertical-align: middle;\n",
              "    }\n",
              "\n",
              "    .dataframe tbody tr th {\n",
              "        vertical-align: top;\n",
              "    }\n",
              "\n",
              "    .dataframe thead th {\n",
              "        text-align: right;\n",
              "    }\n",
              "</style>\n",
              "<table border=\"1\" class=\"dataframe\">\n",
              "  <thead>\n",
              "    <tr style=\"text-align: right;\">\n",
              "      <th></th>\n",
              "      <th>Comments</th>\n",
              "      <th>Surrounding Code Context</th>\n",
              "      <th>Class</th>\n",
              "    </tr>\n",
              "  </thead>\n",
              "  <tbody>\n",
              "    <tr>\n",
              "      <th>count</th>\n",
              "      <td>11452</td>\n",
              "      <td>11452</td>\n",
              "      <td>11452</td>\n",
              "    </tr>\n",
              "    <tr>\n",
              "      <th>unique</th>\n",
              "      <td>7107</td>\n",
              "      <td>7791</td>\n",
              "      <td>2</td>\n",
              "    </tr>\n",
              "    <tr>\n",
              "      <th>top</th>\n",
              "      <td>/*********************************************...</td>\n",
              "      <td>-10. //  the X-windows Version 11 distribution...</td>\n",
              "      <td>Useful</td>\n",
              "    </tr>\n",
              "    <tr>\n",
              "      <th>freq</th>\n",
              "      <td>144</td>\n",
              "      <td>72</td>\n",
              "      <td>7063</td>\n",
              "    </tr>\n",
              "  </tbody>\n",
              "</table>\n",
              "</div>\n",
              "      <button class=\"colab-df-convert\" onclick=\"convertToInteractive('df-4392da84-9d94-48d4-8713-af35ba9e0205')\"\n",
              "              title=\"Convert this dataframe to an interactive table.\"\n",
              "              style=\"display:none;\">\n",
              "\n",
              "  <svg xmlns=\"http://www.w3.org/2000/svg\" height=\"24px\"viewBox=\"0 0 24 24\"\n",
              "       width=\"24px\">\n",
              "    <path d=\"M0 0h24v24H0V0z\" fill=\"none\"/>\n",
              "    <path d=\"M18.56 5.44l.94 2.06.94-2.06 2.06-.94-2.06-.94-.94-2.06-.94 2.06-2.06.94zm-11 1L8.5 8.5l.94-2.06 2.06-.94-2.06-.94L8.5 2.5l-.94 2.06-2.06.94zm10 10l.94 2.06.94-2.06 2.06-.94-2.06-.94-.94-2.06-.94 2.06-2.06.94z\"/><path d=\"M17.41 7.96l-1.37-1.37c-.4-.4-.92-.59-1.43-.59-.52 0-1.04.2-1.43.59L10.3 9.45l-7.72 7.72c-.78.78-.78 2.05 0 2.83L4 21.41c.39.39.9.59 1.41.59.51 0 1.02-.2 1.41-.59l7.78-7.78 2.81-2.81c.8-.78.8-2.07 0-2.86zM5.41 20L4 18.59l7.72-7.72 1.47 1.35L5.41 20z\"/>\n",
              "  </svg>\n",
              "      </button>\n",
              "\n",
              "\n",
              "\n",
              "    <div id=\"df-4dbab732-548a-40a5-885e-84c2aa863ef9\">\n",
              "      <button class=\"colab-df-quickchart\" onclick=\"quickchart('df-4dbab732-548a-40a5-885e-84c2aa863ef9')\"\n",
              "              title=\"Suggest charts.\"\n",
              "              style=\"display:none;\">\n",
              "\n",
              "<svg xmlns=\"http://www.w3.org/2000/svg\" height=\"24px\"viewBox=\"0 0 24 24\"\n",
              "     width=\"24px\">\n",
              "    <g>\n",
              "        <path d=\"M19 3H5c-1.1 0-2 .9-2 2v14c0 1.1.9 2 2 2h14c1.1 0 2-.9 2-2V5c0-1.1-.9-2-2-2zM9 17H7v-7h2v7zm4 0h-2V7h2v10zm4 0h-2v-4h2v4z\"/>\n",
              "    </g>\n",
              "</svg>\n",
              "      </button>\n",
              "    </div>\n",
              "\n",
              "<style>\n",
              "  .colab-df-quickchart {\n",
              "    background-color: #E8F0FE;\n",
              "    border: none;\n",
              "    border-radius: 50%;\n",
              "    cursor: pointer;\n",
              "    display: none;\n",
              "    fill: #1967D2;\n",
              "    height: 32px;\n",
              "    padding: 0 0 0 0;\n",
              "    width: 32px;\n",
              "  }\n",
              "\n",
              "  .colab-df-quickchart:hover {\n",
              "    background-color: #E2EBFA;\n",
              "    box-shadow: 0px 1px 2px rgba(60, 64, 67, 0.3), 0px 1px 3px 1px rgba(60, 64, 67, 0.15);\n",
              "    fill: #174EA6;\n",
              "  }\n",
              "\n",
              "  [theme=dark] .colab-df-quickchart {\n",
              "    background-color: #3B4455;\n",
              "    fill: #D2E3FC;\n",
              "  }\n",
              "\n",
              "  [theme=dark] .colab-df-quickchart:hover {\n",
              "    background-color: #434B5C;\n",
              "    box-shadow: 0px 1px 3px 1px rgba(0, 0, 0, 0.15);\n",
              "    filter: drop-shadow(0px 1px 2px rgba(0, 0, 0, 0.3));\n",
              "    fill: #FFFFFF;\n",
              "  }\n",
              "</style>\n",
              "\n",
              "    <script>\n",
              "      async function quickchart(key) {\n",
              "        const containerElement = document.querySelector('#' + key);\n",
              "        const charts = await google.colab.kernel.invokeFunction(\n",
              "            'suggestCharts', [key], {});\n",
              "      }\n",
              "    </script>\n",
              "\n",
              "      <script>\n",
              "\n",
              "function displayQuickchartButton(domScope) {\n",
              "  let quickchartButtonEl =\n",
              "    domScope.querySelector('#df-4dbab732-548a-40a5-885e-84c2aa863ef9 button.colab-df-quickchart');\n",
              "  quickchartButtonEl.style.display =\n",
              "    google.colab.kernel.accessAllowed ? 'block' : 'none';\n",
              "}\n",
              "\n",
              "        displayQuickchartButton(document);\n",
              "      </script>\n",
              "      <style>\n",
              "    .colab-df-container {\n",
              "      display:flex;\n",
              "      flex-wrap:wrap;\n",
              "      gap: 12px;\n",
              "    }\n",
              "\n",
              "    .colab-df-convert {\n",
              "      background-color: #E8F0FE;\n",
              "      border: none;\n",
              "      border-radius: 50%;\n",
              "      cursor: pointer;\n",
              "      display: none;\n",
              "      fill: #1967D2;\n",
              "      height: 32px;\n",
              "      padding: 0 0 0 0;\n",
              "      width: 32px;\n",
              "    }\n",
              "\n",
              "    .colab-df-convert:hover {\n",
              "      background-color: #E2EBFA;\n",
              "      box-shadow: 0px 1px 2px rgba(60, 64, 67, 0.3), 0px 1px 3px 1px rgba(60, 64, 67, 0.15);\n",
              "      fill: #174EA6;\n",
              "    }\n",
              "\n",
              "    [theme=dark] .colab-df-convert {\n",
              "      background-color: #3B4455;\n",
              "      fill: #D2E3FC;\n",
              "    }\n",
              "\n",
              "    [theme=dark] .colab-df-convert:hover {\n",
              "      background-color: #434B5C;\n",
              "      box-shadow: 0px 1px 3px 1px rgba(0, 0, 0, 0.15);\n",
              "      filter: drop-shadow(0px 1px 2px rgba(0, 0, 0, 0.3));\n",
              "      fill: #FFFFFF;\n",
              "    }\n",
              "  </style>\n",
              "\n",
              "      <script>\n",
              "        const buttonEl =\n",
              "          document.querySelector('#df-4392da84-9d94-48d4-8713-af35ba9e0205 button.colab-df-convert');\n",
              "        buttonEl.style.display =\n",
              "          google.colab.kernel.accessAllowed ? 'block' : 'none';\n",
              "\n",
              "        async function convertToInteractive(key) {\n",
              "          const element = document.querySelector('#df-4392da84-9d94-48d4-8713-af35ba9e0205');\n",
              "          const dataTable =\n",
              "            await google.colab.kernel.invokeFunction('convertToInteractive',\n",
              "                                                     [key], {});\n",
              "          if (!dataTable) return;\n",
              "\n",
              "          const docLinkHtml = 'Like what you see? Visit the ' +\n",
              "            '<a target=\"_blank\" href=https://colab.research.google.com/notebooks/data_table.ipynb>data table notebook</a>'\n",
              "            + ' to learn more about interactive tables.';\n",
              "          element.innerHTML = '';\n",
              "          dataTable['output_type'] = 'display_data';\n",
              "          await google.colab.output.renderOutput(dataTable, element);\n",
              "          const docLink = document.createElement('div');\n",
              "          docLink.innerHTML = docLinkHtml;\n",
              "          element.appendChild(docLink);\n",
              "        }\n",
              "      </script>\n",
              "    </div>\n",
              "  </div>\n"
            ]
          },
          "metadata": {},
          "execution_count": 18
        }
      ],
      "source": [
        "data.describe()"
      ]
    },
    {
      "cell_type": "code",
      "execution_count": 19,
      "metadata": {
        "id": "P3e6WYu8ZRDy"
      },
      "outputs": [],
      "source": [
        "data.loc[:,[\"Class\"]] = pd.get_dummies(data.Class,drop_first=True).values"
      ]
    },
    {
      "cell_type": "code",
      "execution_count": 20,
      "metadata": {
        "colab": {
          "base_uri": "https://localhost:8080/",
          "height": 174
        },
        "id": "OUtfMVDDZcPi",
        "outputId": "37e732ac-4c0a-466a-f407-5cf394ee2b97"
      },
      "outputs": [
        {
          "output_type": "execute_result",
          "data": {
            "text/plain": [
              "                                                 Comments  \\\n",
              "count                                               11452   \n",
              "unique                                               7107   \n",
              "top     /*********************************************...   \n",
              "freq                                                  144   \n",
              "\n",
              "                                 Surrounding Code Context  Class  \n",
              "count                                               11452  11452  \n",
              "unique                                               7791      2  \n",
              "top     -10. //  the X-windows Version 11 distribution...      1  \n",
              "freq                                                   72   7063  "
            ],
            "text/html": [
              "\n",
              "\n",
              "  <div id=\"df-168aa2d4-6ccc-47c1-88e7-bcaade57a268\">\n",
              "    <div class=\"colab-df-container\">\n",
              "      <div>\n",
              "<style scoped>\n",
              "    .dataframe tbody tr th:only-of-type {\n",
              "        vertical-align: middle;\n",
              "    }\n",
              "\n",
              "    .dataframe tbody tr th {\n",
              "        vertical-align: top;\n",
              "    }\n",
              "\n",
              "    .dataframe thead th {\n",
              "        text-align: right;\n",
              "    }\n",
              "</style>\n",
              "<table border=\"1\" class=\"dataframe\">\n",
              "  <thead>\n",
              "    <tr style=\"text-align: right;\">\n",
              "      <th></th>\n",
              "      <th>Comments</th>\n",
              "      <th>Surrounding Code Context</th>\n",
              "      <th>Class</th>\n",
              "    </tr>\n",
              "  </thead>\n",
              "  <tbody>\n",
              "    <tr>\n",
              "      <th>count</th>\n",
              "      <td>11452</td>\n",
              "      <td>11452</td>\n",
              "      <td>11452</td>\n",
              "    </tr>\n",
              "    <tr>\n",
              "      <th>unique</th>\n",
              "      <td>7107</td>\n",
              "      <td>7791</td>\n",
              "      <td>2</td>\n",
              "    </tr>\n",
              "    <tr>\n",
              "      <th>top</th>\n",
              "      <td>/*********************************************...</td>\n",
              "      <td>-10. //  the X-windows Version 11 distribution...</td>\n",
              "      <td>1</td>\n",
              "    </tr>\n",
              "    <tr>\n",
              "      <th>freq</th>\n",
              "      <td>144</td>\n",
              "      <td>72</td>\n",
              "      <td>7063</td>\n",
              "    </tr>\n",
              "  </tbody>\n",
              "</table>\n",
              "</div>\n",
              "      <button class=\"colab-df-convert\" onclick=\"convertToInteractive('df-168aa2d4-6ccc-47c1-88e7-bcaade57a268')\"\n",
              "              title=\"Convert this dataframe to an interactive table.\"\n",
              "              style=\"display:none;\">\n",
              "\n",
              "  <svg xmlns=\"http://www.w3.org/2000/svg\" height=\"24px\"viewBox=\"0 0 24 24\"\n",
              "       width=\"24px\">\n",
              "    <path d=\"M0 0h24v24H0V0z\" fill=\"none\"/>\n",
              "    <path d=\"M18.56 5.44l.94 2.06.94-2.06 2.06-.94-2.06-.94-.94-2.06-.94 2.06-2.06.94zm-11 1L8.5 8.5l.94-2.06 2.06-.94-2.06-.94L8.5 2.5l-.94 2.06-2.06.94zm10 10l.94 2.06.94-2.06 2.06-.94-2.06-.94-.94-2.06-.94 2.06-2.06.94z\"/><path d=\"M17.41 7.96l-1.37-1.37c-.4-.4-.92-.59-1.43-.59-.52 0-1.04.2-1.43.59L10.3 9.45l-7.72 7.72c-.78.78-.78 2.05 0 2.83L4 21.41c.39.39.9.59 1.41.59.51 0 1.02-.2 1.41-.59l7.78-7.78 2.81-2.81c.8-.78.8-2.07 0-2.86zM5.41 20L4 18.59l7.72-7.72 1.47 1.35L5.41 20z\"/>\n",
              "  </svg>\n",
              "      </button>\n",
              "\n",
              "\n",
              "\n",
              "    <div id=\"df-42031696-2057-41bc-86f7-14139b06d31d\">\n",
              "      <button class=\"colab-df-quickchart\" onclick=\"quickchart('df-42031696-2057-41bc-86f7-14139b06d31d')\"\n",
              "              title=\"Suggest charts.\"\n",
              "              style=\"display:none;\">\n",
              "\n",
              "<svg xmlns=\"http://www.w3.org/2000/svg\" height=\"24px\"viewBox=\"0 0 24 24\"\n",
              "     width=\"24px\">\n",
              "    <g>\n",
              "        <path d=\"M19 3H5c-1.1 0-2 .9-2 2v14c0 1.1.9 2 2 2h14c1.1 0 2-.9 2-2V5c0-1.1-.9-2-2-2zM9 17H7v-7h2v7zm4 0h-2V7h2v10zm4 0h-2v-4h2v4z\"/>\n",
              "    </g>\n",
              "</svg>\n",
              "      </button>\n",
              "    </div>\n",
              "\n",
              "<style>\n",
              "  .colab-df-quickchart {\n",
              "    background-color: #E8F0FE;\n",
              "    border: none;\n",
              "    border-radius: 50%;\n",
              "    cursor: pointer;\n",
              "    display: none;\n",
              "    fill: #1967D2;\n",
              "    height: 32px;\n",
              "    padding: 0 0 0 0;\n",
              "    width: 32px;\n",
              "  }\n",
              "\n",
              "  .colab-df-quickchart:hover {\n",
              "    background-color: #E2EBFA;\n",
              "    box-shadow: 0px 1px 2px rgba(60, 64, 67, 0.3), 0px 1px 3px 1px rgba(60, 64, 67, 0.15);\n",
              "    fill: #174EA6;\n",
              "  }\n",
              "\n",
              "  [theme=dark] .colab-df-quickchart {\n",
              "    background-color: #3B4455;\n",
              "    fill: #D2E3FC;\n",
              "  }\n",
              "\n",
              "  [theme=dark] .colab-df-quickchart:hover {\n",
              "    background-color: #434B5C;\n",
              "    box-shadow: 0px 1px 3px 1px rgba(0, 0, 0, 0.15);\n",
              "    filter: drop-shadow(0px 1px 2px rgba(0, 0, 0, 0.3));\n",
              "    fill: #FFFFFF;\n",
              "  }\n",
              "</style>\n",
              "\n",
              "    <script>\n",
              "      async function quickchart(key) {\n",
              "        const containerElement = document.querySelector('#' + key);\n",
              "        const charts = await google.colab.kernel.invokeFunction(\n",
              "            'suggestCharts', [key], {});\n",
              "      }\n",
              "    </script>\n",
              "\n",
              "      <script>\n",
              "\n",
              "function displayQuickchartButton(domScope) {\n",
              "  let quickchartButtonEl =\n",
              "    domScope.querySelector('#df-42031696-2057-41bc-86f7-14139b06d31d button.colab-df-quickchart');\n",
              "  quickchartButtonEl.style.display =\n",
              "    google.colab.kernel.accessAllowed ? 'block' : 'none';\n",
              "}\n",
              "\n",
              "        displayQuickchartButton(document);\n",
              "      </script>\n",
              "      <style>\n",
              "    .colab-df-container {\n",
              "      display:flex;\n",
              "      flex-wrap:wrap;\n",
              "      gap: 12px;\n",
              "    }\n",
              "\n",
              "    .colab-df-convert {\n",
              "      background-color: #E8F0FE;\n",
              "      border: none;\n",
              "      border-radius: 50%;\n",
              "      cursor: pointer;\n",
              "      display: none;\n",
              "      fill: #1967D2;\n",
              "      height: 32px;\n",
              "      padding: 0 0 0 0;\n",
              "      width: 32px;\n",
              "    }\n",
              "\n",
              "    .colab-df-convert:hover {\n",
              "      background-color: #E2EBFA;\n",
              "      box-shadow: 0px 1px 2px rgba(60, 64, 67, 0.3), 0px 1px 3px 1px rgba(60, 64, 67, 0.15);\n",
              "      fill: #174EA6;\n",
              "    }\n",
              "\n",
              "    [theme=dark] .colab-df-convert {\n",
              "      background-color: #3B4455;\n",
              "      fill: #D2E3FC;\n",
              "    }\n",
              "\n",
              "    [theme=dark] .colab-df-convert:hover {\n",
              "      background-color: #434B5C;\n",
              "      box-shadow: 0px 1px 3px 1px rgba(0, 0, 0, 0.15);\n",
              "      filter: drop-shadow(0px 1px 2px rgba(0, 0, 0, 0.3));\n",
              "      fill: #FFFFFF;\n",
              "    }\n",
              "  </style>\n",
              "\n",
              "      <script>\n",
              "        const buttonEl =\n",
              "          document.querySelector('#df-168aa2d4-6ccc-47c1-88e7-bcaade57a268 button.colab-df-convert');\n",
              "        buttonEl.style.display =\n",
              "          google.colab.kernel.accessAllowed ? 'block' : 'none';\n",
              "\n",
              "        async function convertToInteractive(key) {\n",
              "          const element = document.querySelector('#df-168aa2d4-6ccc-47c1-88e7-bcaade57a268');\n",
              "          const dataTable =\n",
              "            await google.colab.kernel.invokeFunction('convertToInteractive',\n",
              "                                                     [key], {});\n",
              "          if (!dataTable) return;\n",
              "\n",
              "          const docLinkHtml = 'Like what you see? Visit the ' +\n",
              "            '<a target=\"_blank\" href=https://colab.research.google.com/notebooks/data_table.ipynb>data table notebook</a>'\n",
              "            + ' to learn more about interactive tables.';\n",
              "          element.innerHTML = '';\n",
              "          dataTable['output_type'] = 'display_data';\n",
              "          await google.colab.output.renderOutput(dataTable, element);\n",
              "          const docLink = document.createElement('div');\n",
              "          docLink.innerHTML = docLinkHtml;\n",
              "          element.appendChild(docLink);\n",
              "        }\n",
              "      </script>\n",
              "    </div>\n",
              "  </div>\n"
            ]
          },
          "metadata": {},
          "execution_count": 20
        }
      ],
      "source": [
        "data.describe()"
      ]
    },
    {
      "cell_type": "code",
      "execution_count": 21,
      "metadata": {
        "colab": {
          "base_uri": "https://localhost:8080/"
        },
        "id": "AfUNL4EhawHJ",
        "outputId": "bdb9c643-8b30-4306-fa4d-d0c1a45a4705"
      },
      "outputs": [
        {
          "output_type": "execute_result",
          "data": {
            "text/plain": [
              "Comments                    0\n",
              "Surrounding Code Context    0\n",
              "Class                       0\n",
              "dtype: int64"
            ]
          },
          "metadata": {},
          "execution_count": 21
        }
      ],
      "source": [
        "data.isna().sum()"
      ]
    },
    {
      "cell_type": "code",
      "execution_count": 22,
      "metadata": {
        "colab": {
          "base_uri": "https://localhost:8080/",
          "height": 206
        },
        "id": "qdXYS6avcXH8",
        "outputId": "c7b24c24-3fe6-4ab0-be06-5da8705df9d6"
      },
      "outputs": [
        {
          "output_type": "execute_result",
          "data": {
            "text/plain": [
              "       Comments                           Surrounding Code Context Class  \\\n",
              "0  /*test 529*/  -10.   int res = 0;\\n-9.   CURL *curl = NULL;\\...     0   \n",
              "1  /*test 525*/  -2.     fprintf(stderr, \"Usage: lib529 [url] [...     0   \n",
              "2      /*done*/  -10.   multi_add_handle(m, curl);\\n-9.   for(;...     0   \n",
              "3  /*test 529*/  -10.   int res = 0;\\n-9.   CURL *curl = NULL;\\...     0   \n",
              "4  /*test 525*/  -2.     fprintf(stderr, \"Usage: lib529 [url] [...     0   \n",
              "\n",
              "                                               Input  \n",
              "0  /*test 529*/ -10.   int res = 0;\\n-9.   CURL *...  \n",
              "1  /*test 525*/ -2.     fprintf(stderr, \"Usage: l...  \n",
              "2  /*done*/ -10.   multi_add_handle(m, curl);\\n-9...  \n",
              "3  /*test 529*/ -10.   int res = 0;\\n-9.   CURL *...  \n",
              "4  /*test 525*/ -2.     fprintf(stderr, \"Usage: l...  "
            ],
            "text/html": [
              "\n",
              "\n",
              "  <div id=\"df-837f7d5a-1b86-4cea-9fef-67970caba885\">\n",
              "    <div class=\"colab-df-container\">\n",
              "      <div>\n",
              "<style scoped>\n",
              "    .dataframe tbody tr th:only-of-type {\n",
              "        vertical-align: middle;\n",
              "    }\n",
              "\n",
              "    .dataframe tbody tr th {\n",
              "        vertical-align: top;\n",
              "    }\n",
              "\n",
              "    .dataframe thead th {\n",
              "        text-align: right;\n",
              "    }\n",
              "</style>\n",
              "<table border=\"1\" class=\"dataframe\">\n",
              "  <thead>\n",
              "    <tr style=\"text-align: right;\">\n",
              "      <th></th>\n",
              "      <th>Comments</th>\n",
              "      <th>Surrounding Code Context</th>\n",
              "      <th>Class</th>\n",
              "      <th>Input</th>\n",
              "    </tr>\n",
              "  </thead>\n",
              "  <tbody>\n",
              "    <tr>\n",
              "      <th>0</th>\n",
              "      <td>/*test 529*/</td>\n",
              "      <td>-10.   int res = 0;\\n-9.   CURL *curl = NULL;\\...</td>\n",
              "      <td>0</td>\n",
              "      <td>/*test 529*/ -10.   int res = 0;\\n-9.   CURL *...</td>\n",
              "    </tr>\n",
              "    <tr>\n",
              "      <th>1</th>\n",
              "      <td>/*test 525*/</td>\n",
              "      <td>-2.     fprintf(stderr, \"Usage: lib529 [url] [...</td>\n",
              "      <td>0</td>\n",
              "      <td>/*test 525*/ -2.     fprintf(stderr, \"Usage: l...</td>\n",
              "    </tr>\n",
              "    <tr>\n",
              "      <th>2</th>\n",
              "      <td>/*done*/</td>\n",
              "      <td>-10.   multi_add_handle(m, curl);\\n-9.   for(;...</td>\n",
              "      <td>0</td>\n",
              "      <td>/*done*/ -10.   multi_add_handle(m, curl);\\n-9...</td>\n",
              "    </tr>\n",
              "    <tr>\n",
              "      <th>3</th>\n",
              "      <td>/*test 529*/</td>\n",
              "      <td>-10.   int res = 0;\\n-9.   CURL *curl = NULL;\\...</td>\n",
              "      <td>0</td>\n",
              "      <td>/*test 529*/ -10.   int res = 0;\\n-9.   CURL *...</td>\n",
              "    </tr>\n",
              "    <tr>\n",
              "      <th>4</th>\n",
              "      <td>/*test 525*/</td>\n",
              "      <td>-2.     fprintf(stderr, \"Usage: lib529 [url] [...</td>\n",
              "      <td>0</td>\n",
              "      <td>/*test 525*/ -2.     fprintf(stderr, \"Usage: l...</td>\n",
              "    </tr>\n",
              "  </tbody>\n",
              "</table>\n",
              "</div>\n",
              "      <button class=\"colab-df-convert\" onclick=\"convertToInteractive('df-837f7d5a-1b86-4cea-9fef-67970caba885')\"\n",
              "              title=\"Convert this dataframe to an interactive table.\"\n",
              "              style=\"display:none;\">\n",
              "\n",
              "  <svg xmlns=\"http://www.w3.org/2000/svg\" height=\"24px\"viewBox=\"0 0 24 24\"\n",
              "       width=\"24px\">\n",
              "    <path d=\"M0 0h24v24H0V0z\" fill=\"none\"/>\n",
              "    <path d=\"M18.56 5.44l.94 2.06.94-2.06 2.06-.94-2.06-.94-.94-2.06-.94 2.06-2.06.94zm-11 1L8.5 8.5l.94-2.06 2.06-.94-2.06-.94L8.5 2.5l-.94 2.06-2.06.94zm10 10l.94 2.06.94-2.06 2.06-.94-2.06-.94-.94-2.06-.94 2.06-2.06.94z\"/><path d=\"M17.41 7.96l-1.37-1.37c-.4-.4-.92-.59-1.43-.59-.52 0-1.04.2-1.43.59L10.3 9.45l-7.72 7.72c-.78.78-.78 2.05 0 2.83L4 21.41c.39.39.9.59 1.41.59.51 0 1.02-.2 1.41-.59l7.78-7.78 2.81-2.81c.8-.78.8-2.07 0-2.86zM5.41 20L4 18.59l7.72-7.72 1.47 1.35L5.41 20z\"/>\n",
              "  </svg>\n",
              "      </button>\n",
              "\n",
              "\n",
              "\n",
              "    <div id=\"df-dd21e866-b663-4f5c-83fb-f4e882ae414f\">\n",
              "      <button class=\"colab-df-quickchart\" onclick=\"quickchart('df-dd21e866-b663-4f5c-83fb-f4e882ae414f')\"\n",
              "              title=\"Suggest charts.\"\n",
              "              style=\"display:none;\">\n",
              "\n",
              "<svg xmlns=\"http://www.w3.org/2000/svg\" height=\"24px\"viewBox=\"0 0 24 24\"\n",
              "     width=\"24px\">\n",
              "    <g>\n",
              "        <path d=\"M19 3H5c-1.1 0-2 .9-2 2v14c0 1.1.9 2 2 2h14c1.1 0 2-.9 2-2V5c0-1.1-.9-2-2-2zM9 17H7v-7h2v7zm4 0h-2V7h2v10zm4 0h-2v-4h2v4z\"/>\n",
              "    </g>\n",
              "</svg>\n",
              "      </button>\n",
              "    </div>\n",
              "\n",
              "<style>\n",
              "  .colab-df-quickchart {\n",
              "    background-color: #E8F0FE;\n",
              "    border: none;\n",
              "    border-radius: 50%;\n",
              "    cursor: pointer;\n",
              "    display: none;\n",
              "    fill: #1967D2;\n",
              "    height: 32px;\n",
              "    padding: 0 0 0 0;\n",
              "    width: 32px;\n",
              "  }\n",
              "\n",
              "  .colab-df-quickchart:hover {\n",
              "    background-color: #E2EBFA;\n",
              "    box-shadow: 0px 1px 2px rgba(60, 64, 67, 0.3), 0px 1px 3px 1px rgba(60, 64, 67, 0.15);\n",
              "    fill: #174EA6;\n",
              "  }\n",
              "\n",
              "  [theme=dark] .colab-df-quickchart {\n",
              "    background-color: #3B4455;\n",
              "    fill: #D2E3FC;\n",
              "  }\n",
              "\n",
              "  [theme=dark] .colab-df-quickchart:hover {\n",
              "    background-color: #434B5C;\n",
              "    box-shadow: 0px 1px 3px 1px rgba(0, 0, 0, 0.15);\n",
              "    filter: drop-shadow(0px 1px 2px rgba(0, 0, 0, 0.3));\n",
              "    fill: #FFFFFF;\n",
              "  }\n",
              "</style>\n",
              "\n",
              "    <script>\n",
              "      async function quickchart(key) {\n",
              "        const containerElement = document.querySelector('#' + key);\n",
              "        const charts = await google.colab.kernel.invokeFunction(\n",
              "            'suggestCharts', [key], {});\n",
              "      }\n",
              "    </script>\n",
              "\n",
              "      <script>\n",
              "\n",
              "function displayQuickchartButton(domScope) {\n",
              "  let quickchartButtonEl =\n",
              "    domScope.querySelector('#df-dd21e866-b663-4f5c-83fb-f4e882ae414f button.colab-df-quickchart');\n",
              "  quickchartButtonEl.style.display =\n",
              "    google.colab.kernel.accessAllowed ? 'block' : 'none';\n",
              "}\n",
              "\n",
              "        displayQuickchartButton(document);\n",
              "      </script>\n",
              "      <style>\n",
              "    .colab-df-container {\n",
              "      display:flex;\n",
              "      flex-wrap:wrap;\n",
              "      gap: 12px;\n",
              "    }\n",
              "\n",
              "    .colab-df-convert {\n",
              "      background-color: #E8F0FE;\n",
              "      border: none;\n",
              "      border-radius: 50%;\n",
              "      cursor: pointer;\n",
              "      display: none;\n",
              "      fill: #1967D2;\n",
              "      height: 32px;\n",
              "      padding: 0 0 0 0;\n",
              "      width: 32px;\n",
              "    }\n",
              "\n",
              "    .colab-df-convert:hover {\n",
              "      background-color: #E2EBFA;\n",
              "      box-shadow: 0px 1px 2px rgba(60, 64, 67, 0.3), 0px 1px 3px 1px rgba(60, 64, 67, 0.15);\n",
              "      fill: #174EA6;\n",
              "    }\n",
              "\n",
              "    [theme=dark] .colab-df-convert {\n",
              "      background-color: #3B4455;\n",
              "      fill: #D2E3FC;\n",
              "    }\n",
              "\n",
              "    [theme=dark] .colab-df-convert:hover {\n",
              "      background-color: #434B5C;\n",
              "      box-shadow: 0px 1px 3px 1px rgba(0, 0, 0, 0.15);\n",
              "      filter: drop-shadow(0px 1px 2px rgba(0, 0, 0, 0.3));\n",
              "      fill: #FFFFFF;\n",
              "    }\n",
              "  </style>\n",
              "\n",
              "      <script>\n",
              "        const buttonEl =\n",
              "          document.querySelector('#df-837f7d5a-1b86-4cea-9fef-67970caba885 button.colab-df-convert');\n",
              "        buttonEl.style.display =\n",
              "          google.colab.kernel.accessAllowed ? 'block' : 'none';\n",
              "\n",
              "        async function convertToInteractive(key) {\n",
              "          const element = document.querySelector('#df-837f7d5a-1b86-4cea-9fef-67970caba885');\n",
              "          const dataTable =\n",
              "            await google.colab.kernel.invokeFunction('convertToInteractive',\n",
              "                                                     [key], {});\n",
              "          if (!dataTable) return;\n",
              "\n",
              "          const docLinkHtml = 'Like what you see? Visit the ' +\n",
              "            '<a target=\"_blank\" href=https://colab.research.google.com/notebooks/data_table.ipynb>data table notebook</a>'\n",
              "            + ' to learn more about interactive tables.';\n",
              "          element.innerHTML = '';\n",
              "          dataTable['output_type'] = 'display_data';\n",
              "          await google.colab.output.renderOutput(dataTable, element);\n",
              "          const docLink = document.createElement('div');\n",
              "          docLink.innerHTML = docLinkHtml;\n",
              "          element.appendChild(docLink);\n",
              "        }\n",
              "      </script>\n",
              "    </div>\n",
              "  </div>\n"
            ]
          },
          "metadata": {},
          "execution_count": 22
        }
      ],
      "source": [
        "# combine code and comment columns to form 1 input column\n",
        "data[\"Input\"] = data[\"Comments\"] + \" \" + data[\"Surrounding Code Context\"]\n",
        "data.head()"
      ]
    },
    {
      "cell_type": "code",
      "execution_count": 23,
      "metadata": {
        "colab": {
          "base_uri": "https://localhost:8080/"
        },
        "id": "vB-3GHKfZf2u",
        "outputId": "04876bb4-e321-4ba7-b722-4e0edbc86a52"
      },
      "outputs": [
        {
          "output_type": "stream",
          "name": "stdout",
          "text": [
            "Counter({1: 7063, 0: 4389})\n"
          ]
        }
      ],
      "source": [
        "from collections import Counter\n",
        "Y = data['Class']\n",
        "X = data.drop(columns=\"Class\")\n",
        "counter = Counter(Y)\n",
        "print(counter)"
      ]
    },
    {
      "cell_type": "code",
      "execution_count": null,
      "metadata": {
        "colab": {
          "base_uri": "https://localhost:8080/"
        },
        "id": "F4Y_j8E9-0I5",
        "outputId": "5e3bf7b5-117c-4718-cde9-b5a3e9868af9"
      },
      "outputs": [
        {
          "output_type": "stream",
          "name": "stdout",
          "text": [
            "Collecting sentence-transformers\n",
            "  Downloading sentence-transformers-2.2.2.tar.gz (85 kB)\n",
            "\u001b[?25l     \u001b[90m━━━━━━━━━━━━━━━━━━━━━━━━━━━━━━━━━━━━━━━━\u001b[0m \u001b[32m0.0/86.0 kB\u001b[0m \u001b[31m?\u001b[0m eta \u001b[36m-:--:--\u001b[0m\r\u001b[2K     \u001b[91m━━━━━━━━━━━━━━━━━━\u001b[0m\u001b[91m╸\u001b[0m\u001b[90m━━━━━━━━━━━━━━━━━━━━\u001b[0m \u001b[32m41.0/86.0 kB\u001b[0m \u001b[31m976.0 kB/s\u001b[0m eta \u001b[36m0:00:01\u001b[0m\r\u001b[2K     \u001b[90m━━━━━━━━━━━━━━━━━━━━━━━━━━━━━━━━━━━━━━━━\u001b[0m \u001b[32m86.0/86.0 kB\u001b[0m \u001b[31m1.5 MB/s\u001b[0m eta \u001b[36m0:00:00\u001b[0m\n",
            "\u001b[?25h  Preparing metadata (setup.py) ... \u001b[?25l\u001b[?25hdone\n",
            "Requirement already satisfied: transformers<5.0.0,>=4.6.0 in /usr/local/lib/python3.10/dist-packages (from sentence-transformers) (4.31.0)\n",
            "Requirement already satisfied: tqdm in /usr/local/lib/python3.10/dist-packages (from sentence-transformers) (4.65.0)\n",
            "Requirement already satisfied: torch>=1.6.0 in /usr/local/lib/python3.10/dist-packages (from sentence-transformers) (2.0.1+cu118)\n",
            "Requirement already satisfied: torchvision in /usr/local/lib/python3.10/dist-packages (from sentence-transformers) (0.15.2+cu118)\n",
            "Requirement already satisfied: numpy in /usr/local/lib/python3.10/dist-packages (from sentence-transformers) (1.22.4)\n",
            "Requirement already satisfied: scikit-learn in /usr/local/lib/python3.10/dist-packages (from sentence-transformers) (1.2.2)\n",
            "Requirement already satisfied: scipy in /usr/local/lib/python3.10/dist-packages (from sentence-transformers) (1.10.1)\n",
            "Requirement already satisfied: nltk in /usr/local/lib/python3.10/dist-packages (from sentence-transformers) (3.8.1)\n",
            "Collecting sentencepiece (from sentence-transformers)\n",
            "  Downloading sentencepiece-0.1.99-cp310-cp310-manylinux_2_17_x86_64.manylinux2014_x86_64.whl (1.3 MB)\n",
            "\u001b[2K     \u001b[90m━━━━━━━━━━━━━━━━━━━━━━━━━━━━━━━━━━━━━━━━\u001b[0m \u001b[32m1.3/1.3 MB\u001b[0m \u001b[31m23.4 MB/s\u001b[0m eta \u001b[36m0:00:00\u001b[0m\n",
            "\u001b[?25hRequirement already satisfied: huggingface-hub>=0.4.0 in /usr/local/lib/python3.10/dist-packages (from sentence-transformers) (0.16.4)\n",
            "Requirement already satisfied: filelock in /usr/local/lib/python3.10/dist-packages (from huggingface-hub>=0.4.0->sentence-transformers) (3.12.2)\n",
            "Requirement already satisfied: fsspec in /usr/local/lib/python3.10/dist-packages (from huggingface-hub>=0.4.0->sentence-transformers) (2023.6.0)\n",
            "Requirement already satisfied: requests in /usr/local/lib/python3.10/dist-packages (from huggingface-hub>=0.4.0->sentence-transformers) (2.27.1)\n",
            "Requirement already satisfied: pyyaml>=5.1 in /usr/local/lib/python3.10/dist-packages (from huggingface-hub>=0.4.0->sentence-transformers) (6.0.1)\n",
            "Requirement already satisfied: typing-extensions>=3.7.4.3 in /usr/local/lib/python3.10/dist-packages (from huggingface-hub>=0.4.0->sentence-transformers) (4.7.1)\n",
            "Requirement already satisfied: packaging>=20.9 in /usr/local/lib/python3.10/dist-packages (from huggingface-hub>=0.4.0->sentence-transformers) (23.1)\n",
            "Requirement already satisfied: sympy in /usr/local/lib/python3.10/dist-packages (from torch>=1.6.0->sentence-transformers) (1.11.1)\n",
            "Requirement already satisfied: networkx in /usr/local/lib/python3.10/dist-packages (from torch>=1.6.0->sentence-transformers) (3.1)\n",
            "Requirement already satisfied: jinja2 in /usr/local/lib/python3.10/dist-packages (from torch>=1.6.0->sentence-transformers) (3.1.2)\n",
            "Requirement already satisfied: triton==2.0.0 in /usr/local/lib/python3.10/dist-packages (from torch>=1.6.0->sentence-transformers) (2.0.0)\n",
            "Requirement already satisfied: cmake in /usr/local/lib/python3.10/dist-packages (from triton==2.0.0->torch>=1.6.0->sentence-transformers) (3.25.2)\n",
            "Requirement already satisfied: lit in /usr/local/lib/python3.10/dist-packages (from triton==2.0.0->torch>=1.6.0->sentence-transformers) (16.0.6)\n",
            "Requirement already satisfied: regex!=2019.12.17 in /usr/local/lib/python3.10/dist-packages (from transformers<5.0.0,>=4.6.0->sentence-transformers) (2022.10.31)\n",
            "Requirement already satisfied: tokenizers!=0.11.3,<0.14,>=0.11.1 in /usr/local/lib/python3.10/dist-packages (from transformers<5.0.0,>=4.6.0->sentence-transformers) (0.13.3)\n",
            "Requirement already satisfied: safetensors>=0.3.1 in /usr/local/lib/python3.10/dist-packages (from transformers<5.0.0,>=4.6.0->sentence-transformers) (0.3.1)\n",
            "Requirement already satisfied: click in /usr/local/lib/python3.10/dist-packages (from nltk->sentence-transformers) (8.1.6)\n",
            "Requirement already satisfied: joblib in /usr/local/lib/python3.10/dist-packages (from nltk->sentence-transformers) (1.3.1)\n",
            "Requirement already satisfied: threadpoolctl>=2.0.0 in /usr/local/lib/python3.10/dist-packages (from scikit-learn->sentence-transformers) (3.2.0)\n",
            "Requirement already satisfied: pillow!=8.3.*,>=5.3.0 in /usr/local/lib/python3.10/dist-packages (from torchvision->sentence-transformers) (9.4.0)\n",
            "Requirement already satisfied: MarkupSafe>=2.0 in /usr/local/lib/python3.10/dist-packages (from jinja2->torch>=1.6.0->sentence-transformers) (2.1.3)\n",
            "Requirement already satisfied: urllib3<1.27,>=1.21.1 in /usr/local/lib/python3.10/dist-packages (from requests->huggingface-hub>=0.4.0->sentence-transformers) (1.26.16)\n",
            "Requirement already satisfied: certifi>=2017.4.17 in /usr/local/lib/python3.10/dist-packages (from requests->huggingface-hub>=0.4.0->sentence-transformers) (2023.7.22)\n",
            "Requirement already satisfied: charset-normalizer~=2.0.0 in /usr/local/lib/python3.10/dist-packages (from requests->huggingface-hub>=0.4.0->sentence-transformers) (2.0.12)\n",
            "Requirement already satisfied: idna<4,>=2.5 in /usr/local/lib/python3.10/dist-packages (from requests->huggingface-hub>=0.4.0->sentence-transformers) (3.4)\n",
            "Requirement already satisfied: mpmath>=0.19 in /usr/local/lib/python3.10/dist-packages (from sympy->torch>=1.6.0->sentence-transformers) (1.3.0)\n",
            "Building wheels for collected packages: sentence-transformers\n",
            "  Building wheel for sentence-transformers (setup.py) ... \u001b[?25l\u001b[?25hdone\n",
            "  Created wheel for sentence-transformers: filename=sentence_transformers-2.2.2-py3-none-any.whl size=125925 sha256=944fff1e3f52f4cf7b88c7e0fd39f70d0f43a475a36aa30d6f94ab7661d57123\n",
            "  Stored in directory: /root/.cache/pip/wheels/62/f2/10/1e606fd5f02395388f74e7462910fe851042f97238cbbd902f\n",
            "Successfully built sentence-transformers\n",
            "Installing collected packages: sentencepiece, sentence-transformers\n",
            "Successfully installed sentence-transformers-2.2.2 sentencepiece-0.1.99\n"
          ]
        }
      ],
      "source": [
        "!pip install sentence-transformers"
      ]
    },
    {
      "cell_type": "code",
      "execution_count": 24,
      "metadata": {
        "id": "D0l_Of-whXUh"
      },
      "outputs": [],
      "source": [
        "from sentence_transformers import SentenceTransformer, util\n",
        "\n",
        "model = SentenceTransformer(\"flax-sentence-embeddings/st-codesearch-distilroberta-base\")\n",
        "\n",
        "# Encode our code into the vector space\n",
        "code_emb = model.encode(data[\"Input\"].astype(str).values.tolist(), convert_to_tensor=True)"
      ]
    },
    {
      "cell_type": "code",
      "execution_count": null,
      "metadata": {
        "colab": {
          "base_uri": "https://localhost:8080/"
        },
        "id": "822xkd_v_MGm",
        "outputId": "05f793fc-00e3-42db-8f76-f0aaa3e7dea4"
      },
      "outputs": [
        {
          "name": "stdout",
          "output_type": "stream",
          "text": [
            "tensor([ 0.0068, -0.0611,  0.0388,  0.0529,  0.0217, -0.0211, -0.0420,  0.0630,\n",
            "         0.0126, -0.0125,  0.0713,  0.0211,  0.0106,  0.0454,  0.0125, -0.0556,\n",
            "         0.0718, -0.0727,  0.0184,  0.0609,  0.0255, -0.0450,  0.0129, -0.0275,\n",
            "         0.0509,  0.0214, -0.0213,  0.0456, -0.0039, -0.0499,  0.0315,  0.0395,\n",
            "        -0.0109, -0.0052,  0.0253, -0.0388, -0.0248,  0.0252, -0.0394,  0.0126,\n",
            "        -0.0330,  0.0567,  0.0336,  0.0121,  0.0094, -0.0014,  0.0196, -0.0147,\n",
            "        -0.0026, -0.0008,  0.0226, -0.0011, -0.0308,  0.0553, -0.0262,  0.0224,\n",
            "         0.0421, -0.0478, -0.0359,  0.0458, -0.0497, -0.0304, -0.0025,  0.0024,\n",
            "         0.0414, -0.0536,  0.0504,  0.0453, -0.0059, -0.0405, -0.0075, -0.0024,\n",
            "        -0.0444,  0.0100,  0.0372,  0.0012, -0.0415, -0.1171, -0.0213,  0.0184,\n",
            "         0.0198,  0.0017,  0.0165, -0.0262, -0.0225, -0.0534,  0.0488, -0.0709,\n",
            "         0.0372,  0.0074,  0.0131, -0.0073, -0.0103,  0.0013,  0.0061,  0.0053,\n",
            "        -0.0251, -0.0121, -0.0937,  0.0032, -0.0476, -0.0446, -0.0103,  0.0159,\n",
            "         0.0016,  0.0569,  0.0457, -0.0470,  0.0449, -0.0361, -0.0341,  0.0514,\n",
            "        -0.0333, -0.0028,  0.0025, -0.0111,  0.0137, -0.0444, -0.0178, -0.0245,\n",
            "        -0.0203,  0.0281,  0.0342, -0.0179, -0.0147,  0.0077, -0.0025, -0.0140,\n",
            "         0.0231, -0.0130, -0.0219,  0.0015, -0.0087,  0.0128, -0.0053,  0.0448,\n",
            "         0.0031,  0.0391, -0.0381,  0.0858,  0.0159, -0.0339,  0.0063,  0.0652,\n",
            "         0.0219, -0.0315,  0.0503, -0.0133,  0.0019,  0.0254,  0.0406,  0.0217,\n",
            "        -0.0107,  0.0034,  0.0199, -0.0074,  0.0310,  0.0492,  0.0080,  0.0080,\n",
            "         0.0004,  0.0981,  0.0108,  0.0473, -0.0061,  0.0357, -0.0400, -0.0016,\n",
            "        -0.0747,  0.0389, -0.0431, -0.0447, -0.0110,  0.0343, -0.0841, -0.0410,\n",
            "        -0.0273,  0.0103,  0.0001,  0.0242,  0.0582, -0.0185,  0.0026, -0.0012,\n",
            "         0.0899, -0.0422, -0.0154, -0.0269, -0.0240, -0.0014, -0.0364, -0.0164,\n",
            "        -0.0368, -0.0621,  0.0442, -0.0649, -0.0116,  0.0412,  0.0212, -0.0082,\n",
            "        -0.0062,  0.0764,  0.0713,  0.0081, -0.0120, -0.0073, -0.0176, -0.0004,\n",
            "         0.0240, -0.0285,  0.0148,  0.1032,  0.0057,  0.0339, -0.0515,  0.0242,\n",
            "         0.0094, -0.0016,  0.0136, -0.0089, -0.0213, -0.0237,  0.0027, -0.0435,\n",
            "        -0.0287, -0.1025,  0.0736, -0.0732,  0.0033,  0.0582,  0.0663,  0.0291,\n",
            "        -0.0513,  0.0745,  0.0331, -0.0339, -0.0706,  0.0505,  0.0177,  0.0040,\n",
            "        -0.0024,  0.0414, -0.0076,  0.0192, -0.0221,  0.0435, -0.0329, -0.0387,\n",
            "         0.0423, -0.0390, -0.0209,  0.0123,  0.0297,  0.0197,  0.0021, -0.0178,\n",
            "         0.0347,  0.0002,  0.0098, -0.0154,  0.0098,  0.0292, -0.0165,  0.0305,\n",
            "        -0.0336, -0.0102, -0.0188, -0.0081, -0.0322, -0.0030, -0.0080,  0.0320,\n",
            "         0.0422,  0.0085, -0.0116,  0.0057,  0.0645, -0.0076, -0.0200, -0.0459,\n",
            "         0.0224,  0.0655,  0.0008, -0.0305,  0.0351,  0.0230, -0.0659, -0.0457,\n",
            "         0.0089, -0.0166, -0.0137,  0.0658, -0.0158,  0.0668,  0.0418, -0.0192,\n",
            "        -0.0080,  0.0623, -0.0228, -0.0184, -0.0283,  0.0133,  0.0368, -0.0255,\n",
            "         0.0023, -0.0325, -0.0325,  0.0503, -0.0079, -0.0665,  0.0151, -0.0395,\n",
            "        -0.0187,  0.0608,  0.0499,  0.0091, -0.0357,  0.0367, -0.0082,  0.0074,\n",
            "        -0.0065, -0.0283, -0.0052,  0.0333, -0.0273,  0.0235,  0.0162, -0.0559,\n",
            "        -0.0157, -0.0190, -0.0271,  0.0182,  0.0510,  0.0390, -0.0201, -0.0466,\n",
            "        -0.0511,  0.0321, -0.0034, -0.0243, -0.0092,  0.0388, -0.0154, -0.0223,\n",
            "         0.0018, -0.0292, -0.0223, -0.0838,  0.0351,  0.0256, -0.0260, -0.0108,\n",
            "         0.0363, -0.0390,  0.0412,  0.0609, -0.0038,  0.0169,  0.0159,  0.0650,\n",
            "         0.0615,  0.0101, -0.0053,  0.0298, -0.0168,  0.0013,  0.0249,  0.0415,\n",
            "         0.0264,  0.0125, -0.0071,  0.0503, -0.0301,  0.0169,  0.0465, -0.0365,\n",
            "         0.0461, -0.0248,  0.0073,  0.0411, -0.0103,  0.0190, -0.0213, -0.0201,\n",
            "         0.0106,  0.0024,  0.0079, -0.0302, -0.0060,  0.0247, -0.0306,  0.0103,\n",
            "         0.0040, -0.0886, -0.0274,  0.0371, -0.0346, -0.0675, -0.0786,  0.0133,\n",
            "         0.0167,  0.0400, -0.0033,  0.0253, -0.0049, -0.0215,  0.0071, -0.0455,\n",
            "         0.0006, -0.0484, -0.0169, -0.0209, -0.0129, -0.0108,  0.0208,  0.0106,\n",
            "         0.0518, -0.0457, -0.0328,  0.0387,  0.0294, -0.0355,  0.0048, -0.0060,\n",
            "         0.0210, -0.0055, -0.0407, -0.0045,  0.0557, -0.0393,  0.0086,  0.0016,\n",
            "        -0.0336, -0.0138, -0.0934, -0.0107,  0.0053,  0.0271,  0.0687,  0.0271,\n",
            "        -0.0561, -0.0194,  0.0090, -0.0237,  0.0145, -0.0093, -0.0760, -0.0805,\n",
            "        -0.0355, -0.0132,  0.0144, -0.0395,  0.0417, -0.1032, -0.0468,  0.0278,\n",
            "         0.0216,  0.0285, -0.0281, -0.0189, -0.0092, -0.0319,  0.0203, -0.0264,\n",
            "         0.0045,  0.0290, -0.0093, -0.0203, -0.0129,  0.1120,  0.0372,  0.0043,\n",
            "         0.0530, -0.0447,  0.0071, -0.0260,  0.0464, -0.0274, -0.0097,  0.0199,\n",
            "        -0.0057,  0.0088,  0.0115,  0.0587,  0.0503, -0.0403, -0.0211,  0.0020,\n",
            "        -0.0319, -0.0238,  0.0370, -0.0200, -0.0134,  0.0612, -0.0023, -0.0348,\n",
            "        -0.0046,  0.0168,  0.0295,  0.0205, -0.0098, -0.0349, -0.0484,  0.0908,\n",
            "         0.0141, -0.0467,  0.0367,  0.0084,  0.0533, -0.0121, -0.0423, -0.0173,\n",
            "        -0.0060,  0.0322,  0.0061, -0.0636,  0.0360,  0.0211,  0.0152,  0.0166,\n",
            "        -0.0179,  0.0385,  0.0185, -0.0196,  0.0012, -0.0386, -0.0605, -0.0107,\n",
            "         0.0297,  0.0145,  0.0410,  0.0124, -0.0228, -0.0361, -0.0023,  0.0142,\n",
            "        -0.0433,  0.0285, -0.0140,  0.0630, -0.0137,  0.0104,  0.0299, -0.0525,\n",
            "         0.0273, -0.0225, -0.0247,  0.0167,  0.0029,  0.0270,  0.0302, -0.0406,\n",
            "        -0.0021,  0.0332, -0.0099, -0.0296,  0.0320, -0.0228, -0.0121,  0.0553,\n",
            "         0.0160,  0.0141, -0.0193,  0.0082, -0.0643, -0.0270, -0.0423,  0.0368,\n",
            "        -0.0032,  0.0469,  0.0336,  0.0518, -0.0121, -0.0303, -0.0070,  0.0212,\n",
            "         0.0292,  0.0486, -0.0385, -0.0109,  0.0656, -0.0347,  0.0612, -0.0662,\n",
            "         0.0162,  0.0158,  0.0815,  0.0448,  0.0441,  0.0068,  0.0042,  0.0466,\n",
            "         0.0071,  0.0117,  0.0195,  0.0179, -0.0247, -0.0593, -0.0034,  0.0286,\n",
            "        -0.0104, -0.0369,  0.0327,  0.0612,  0.0496,  0.0400, -0.0379,  0.0677,\n",
            "         0.0070,  0.0005, -0.0280,  0.0262, -0.0095, -0.0014,  0.0327,  0.0505,\n",
            "        -0.0003, -0.0500, -0.0722, -0.0245, -0.0079, -0.0375, -0.0197,  0.0176,\n",
            "         0.0002, -0.0360,  0.0180,  0.0227,  0.0666, -0.0344,  0.0531,  0.0304,\n",
            "        -0.0016,  0.0018,  0.0452,  0.0471,  0.0139, -0.0110, -0.0058, -0.0007,\n",
            "         0.0220,  0.0088,  0.0183,  0.0298, -0.0735, -0.0113, -0.0290, -0.0436,\n",
            "        -0.0009,  0.0175,  0.0036,  0.0543,  0.0364, -0.0079,  0.0301, -0.0805,\n",
            "         0.1022,  0.0402, -0.0464, -0.0187, -0.0010, -0.0043, -0.0418, -0.0018,\n",
            "        -0.0496,  0.0330, -0.0170,  0.0150, -0.0426, -0.0294, -0.0569, -0.0027,\n",
            "        -0.0436,  0.0021,  0.0585,  0.0529, -0.0064, -0.0121,  0.0028, -0.0242,\n",
            "         0.0447, -0.0398,  0.0275, -0.0062,  0.0031, -0.0179, -0.0110, -0.0203,\n",
            "        -0.0054, -0.0702,  0.0042,  0.0224, -0.0152, -0.0139, -0.0290,  0.0315,\n",
            "         0.0664, -0.0086, -0.0107,  0.0870,  0.0180, -0.1100,  0.0913,  0.0244,\n",
            "         0.0189, -0.0336, -0.0123, -0.0220, -0.0138,  0.0519,  0.0428, -0.0154,\n",
            "        -0.0135, -0.0212,  0.0016,  0.0225, -0.0187, -0.0179,  0.0249, -0.0117,\n",
            "         0.0315, -0.0205, -0.0459,  0.0071,  0.0418, -0.0097,  0.0361, -0.0094,\n",
            "        -0.0003, -0.0030,  0.0740,  0.0119, -0.0466, -0.0054, -0.1205, -0.0232,\n",
            "         0.0608, -0.0053, -0.0074,  0.0489,  0.0405, -0.0431, -0.0530,  0.0157,\n",
            "         0.0223,  0.0586, -0.0348, -0.0186, -0.0538, -0.0177, -0.0364,  0.0292,\n",
            "         0.0110, -0.0048,  0.0528,  0.0212,  0.0225, -0.0713,  0.0894, -0.0270,\n",
            "         0.0264, -0.0157, -0.0577, -0.0013,  0.0242,  0.0206, -0.0440, -0.0225],\n",
            "       device='cuda:0')\n"
          ]
        }
      ],
      "source": [
        "print(code_emb[0])"
      ]
    },
    {
      "cell_type": "code",
      "execution_count": null,
      "metadata": {
        "colab": {
          "base_uri": "https://localhost:8080/"
        },
        "id": "RxljXOhpaDLg",
        "outputId": "10c4278f-c387-4717-9484-b0f61c14be53"
      },
      "outputs": [
        {
          "output_type": "stream",
          "name": "stdout",
          "text": [
            "Requirement already satisfied: imbalanced-learn in /usr/local/lib/python3.10/dist-packages (0.10.1)\n",
            "Requirement already satisfied: numpy>=1.17.3 in /usr/local/lib/python3.10/dist-packages (from imbalanced-learn) (1.22.4)\n",
            "Requirement already satisfied: scipy>=1.3.2 in /usr/local/lib/python3.10/dist-packages (from imbalanced-learn) (1.10.1)\n",
            "Requirement already satisfied: scikit-learn>=1.0.2 in /usr/local/lib/python3.10/dist-packages (from imbalanced-learn) (1.2.2)\n",
            "Requirement already satisfied: joblib>=1.1.1 in /usr/local/lib/python3.10/dist-packages (from imbalanced-learn) (1.3.1)\n",
            "Requirement already satisfied: threadpoolctl>=2.0.0 in /usr/local/lib/python3.10/dist-packages (from imbalanced-learn) (3.2.0)\n"
          ]
        }
      ],
      "source": [
        "# use SMOTE to balance dataset\n",
        "# and generate enough \"Not Useful\" comment data\n",
        "!pip install imbalanced-learn"
      ]
    },
    {
      "cell_type": "code",
      "execution_count": 25,
      "metadata": {
        "colab": {
          "base_uri": "https://localhost:8080/"
        },
        "id": "quOP78VdaTe3",
        "outputId": "48078321-0861-4aa6-8a07-3c0692e17c88"
      },
      "outputs": [
        {
          "output_type": "stream",
          "name": "stdout",
          "text": [
            "Counter({1: 7063, 0: 4389})\n",
            "Counter({0: 7063, 1: 7063})\n"
          ]
        }
      ],
      "source": [
        "from imblearn.over_sampling import SMOTE\n",
        "oversample = SMOTE()\n",
        "Y=Y.astype('int')\n",
        "X = code_emb.tolist()\n",
        "counter = Counter(Y)\n",
        "print(counter)\n",
        "X, y = oversample.fit_resample(X, Y)\n",
        "# summarize the new class distribution\n",
        "counter = Counter(y)\n",
        "print(counter)"
      ]
    },
    {
      "cell_type": "code",
      "execution_count": null,
      "metadata": {
        "colab": {
          "base_uri": "https://localhost:8080/"
        },
        "id": "pTcM559s_mWl",
        "outputId": "25a2fa60-82d6-4e98-ec3d-371f6c1a2be2"
      },
      "outputs": [
        {
          "output_type": "stream",
          "name": "stdout",
          "text": [
            "Scores: {'fit_time': array([57.25440478, 57.83422947, 57.3429172 , 57.5197587 , 60.14270592,\n",
            "       59.64366508, 73.29595399, 69.4622848 , 67.49067807, 68.77097464,\n",
            "       56.72610235, 57.67711902, 56.80229664, 55.86572289, 56.04528403,\n",
            "       56.36754131, 61.28350925, 63.0823276 , 55.86354589, 54.04394245,\n",
            "       56.03915834, 54.18628097, 55.68704748, 54.4905951 , 56.13476229,\n",
            "       55.35322428, 55.8082633 , 55.15687132, 55.64643025, 53.93826842]), 'score_time': array([0.14978552, 0.16606188, 0.15117621, 0.15002346, 0.14739609,\n",
            "       0.15525532, 0.40032339, 0.46599817, 0.15517521, 0.15559268,\n",
            "       0.44554853, 0.14972138, 0.15763426, 0.1524179 , 0.15069914,\n",
            "       0.1708312 , 0.14999628, 0.29793763, 0.16567922, 0.32556939,\n",
            "       0.1721487 , 0.22288656, 0.15420508, 0.14679289, 0.15916109,\n",
            "       0.15191102, 0.15554929, 0.15273952, 0.14856339, 0.09570003]), 'test_precision': array([0.83561644, 0.84531886, 0.83469945, 0.8340081 , 0.8454039 ,\n",
            "       0.84027778, 0.84173669, 0.82376502, 0.82692308, 0.82216142,\n",
            "       0.83469945, 0.82923497, 0.83746556, 0.8260274 , 0.84038199,\n",
            "       0.83636364, 0.81610738, 0.83967391, 0.82352941, 0.83835616,\n",
            "       0.83586207, 0.82677165, 0.83813443, 0.85610465, 0.82065217,\n",
            "       0.82234186, 0.84499314, 0.84084507, 0.83265306, 0.84478022]), 'test_recall': array([0.86402266, 0.88243626, 0.86543909, 0.87411598, 0.85855728,\n",
            "       0.85572843, 0.85127479, 0.87393768, 0.85269122, 0.85127479,\n",
            "       0.86543909, 0.85977337, 0.8611898 , 0.85289958, 0.87128713,\n",
            "       0.84582744, 0.8611898 , 0.87535411, 0.85269122, 0.86685552,\n",
            "       0.85835694, 0.89235127, 0.86543909, 0.8330976 , 0.854314  ,\n",
            "       0.86421499, 0.87252125, 0.84560907, 0.86685552, 0.87110482]), 'test_f1': array([0.84958217, 0.86347886, 0.84979138, 0.85359116, 0.85192982,\n",
            "       0.84793273, 0.84647887, 0.84810997, 0.83960948, 0.83646486,\n",
            "       0.84979138, 0.84422809, 0.84916201, 0.83924843, 0.85555556,\n",
            "       0.84106892, 0.83804273, 0.85714286, 0.83785665, 0.85236769,\n",
            "       0.84696017, 0.85831063, 0.85156794, 0.84444444, 0.83714484,\n",
            "       0.84275862, 0.85853659, 0.84322034, 0.84941013, 0.85774059])}\n"
          ]
        }
      ],
      "source": [
        "# random forest evaluated on re-balanced dataset\n",
        "from numpy import mean\n",
        "from sklearn.datasets import make_classification\n",
        "from sklearn.model_selection import cross_validate\n",
        "from sklearn.model_selection import RepeatedStratifiedKFold\n",
        "from sklearn.ensemble import RandomForestClassifier\n",
        "from sklearn.metrics import accuracy_score, f1_score, precision_score, recall_score\n",
        "from sklearn.metrics import make_scorer\n",
        "\n",
        "# define scoring metrics\n",
        "scoring = {'accuracy': make_scorer(accuracy_score),\n",
        "            'precision': make_scorer(precision_score),\n",
        "           'recall': make_scorer(recall_score),\n",
        "           'f1': make_scorer(f1_score)}\n",
        "\n",
        "scoring = ['precision', 'recall', 'f1']\n",
        "\n",
        "# define model\n",
        "model = RandomForestClassifier(random_state = 42)\n",
        "# evaluate pipeline\n",
        "cv = RepeatedStratifiedKFold(n_splits=10, n_repeats=3, random_state=42)\n",
        "scores = cross_validate(model, X, y, scoring= scoring, cv=cv, n_jobs=-1)\n",
        "print('Scores:', scores)"
      ]
    },
    {
      "cell_type": "code",
      "source": [
        "# classification report on CV with VotingClassifier\n",
        "import numpy as np\n",
        "from sklearn.model_selection import cross_validate, cross_val_predict\n",
        "from sklearn.model_selection import RepeatedStratifiedKFold\n",
        "from sklearn.ensemble import VotingClassifier\n",
        "from sklearn.svm import LinearSVC\n",
        "from sklearn.ensemble import RandomForestClassifier\n",
        "from sklearn.neural_network import MLPClassifier\n",
        "from sklearn.semi_supervised import SelfTrainingClassifier\n",
        "from sklearn.metrics import accuracy_score, f1_score, precision_score, recall_score, classification_report, make_scorer\n",
        "\n",
        "# define model\n",
        "model = RandomForestClassifier(random_state = 42)\n",
        "\n",
        "classification_report_list = []\n",
        "# evaluate pipeline\n",
        "cv = RepeatedStratifiedKFold(n_splits=10, n_repeats=3, random_state=42)\n",
        "for train_index, test_index in cv.split(X, y):\n",
        "    x_train, x_test = np.array(X)[train_index], np.array(X)[test_index]\n",
        "    y_train, y_test = y[train_index], y[test_index]\n",
        "    model.fit(x_train, y_train)\n",
        "    y_pred = model.predict(x_test)\n",
        "    print(\"*** K-Fold Split Results ***\")\n",
        "    classification_report_results = classification_report(y_test, y_pred, output_dict=True)\n",
        "    print(classification_report_results)\n",
        "    classification_report_list.append(classification_report_results)"
      ],
      "metadata": {
        "colab": {
          "base_uri": "https://localhost:8080/"
        },
        "id": "WW7NFS9gippA",
        "outputId": "f2869af2-ea3b-43b4-b5b1-9016c4d223a8"
      },
      "execution_count": 26,
      "outputs": [
        {
          "output_type": "stream",
          "name": "stdout",
          "text": [
            "*** K-Fold Split Results ***\n",
            "{'0': {'precision': 0.8408759124087591, 'recall': 0.8147100424328148, 'f1-score': 0.8275862068965517, 'support': 707}, '1': {'precision': 0.820054945054945, 'recall': 0.8456090651558074, 'f1-score': 0.8326359832635983, 'support': 706}, 'accuracy': 0.8301486199575372, 'macro avg': {'precision': 0.830465428731852, 'recall': 0.8301595537943111, 'f1-score': 0.830111095080075, 'support': 1413}, 'weighted avg': {'precision': 0.8304727963777665, 'recall': 0.8301486199575372, 'f1-score': 0.8301093081811484, 'support': 1413}}\n",
            "*** K-Fold Split Results ***\n",
            "{'0': {'precision': 0.8723723723723724, 'recall': 0.8217821782178217, 'f1-score': 0.8463219227967954, 'support': 707}, '1': {'precision': 0.8313253012048193, 'recall': 0.8796033994334278, 'f1-score': 0.854783207157605, 'support': 706}, 'accuracy': 0.8506723283793347, 'macro avg': {'precision': 0.8518488367885959, 'recall': 0.8506927888256248, 'f1-score': 0.8505525649772002, 'support': 1413}, 'weighted avg': {'precision': 0.8518633615837718, 'recall': 0.8506723283793347, 'f1-score': 0.8505495708921469, 'support': 1413}}\n",
            "*** K-Fold Split Results ***\n",
            "{'0': {'precision': 0.8675595238095238, 'recall': 0.8246110325318247, 'f1-score': 0.845540246555475, 'support': 707}, '1': {'precision': 0.8326585695006747, 'recall': 0.8739376770538244, 'f1-score': 0.8527988942639945, 'support': 706}, 'accuracy': 0.8492569002123143, 'macro avg': {'precision': 0.8501090466550993, 'recall': 0.8492743547928245, 'f1-score': 0.8491695704097347, 'support': 1413}, 'weighted avg': {'precision': 0.8501213966035455, 'recall': 0.8492569002123143, 'f1-score': 0.8491670018861294, 'support': 1413}}\n",
            "*** K-Fold Split Results ***\n",
            "{'0': {'precision': 0.8581765557163531, 'recall': 0.839943342776204, 'f1-score': 0.8489620615604868, 'support': 706}, '1': {'precision': 0.8434903047091413, 'recall': 0.8613861386138614, 'f1-score': 0.8523442967109867, 'support': 707}, 'accuracy': 0.8506723283793347, 'macro avg': {'precision': 0.8508334302127472, 'recall': 0.8506647406950327, 'f1-score': 0.8506531791357368, 'support': 1413}, 'weighted avg': {'precision': 0.8508282333794113, 'recall': 0.8506723283793347, 'f1-score': 0.8506543759634617, 'support': 1413}}\n",
            "*** K-Fold Split Results ***\n",
            "{'0': {'precision': 0.8716814159292036, 'recall': 0.8371104815864022, 'f1-score': 0.8540462427745664, 'support': 706}, '1': {'precision': 0.8435374149659864, 'recall': 0.8769448373408769, 'f1-score': 0.8599167822468793, 'support': 707}, 'accuracy': 0.8570417551309271, 'macro avg': {'precision': 0.8576094154475951, 'recall': 0.8570276594636396, 'f1-score': 0.8569815125107229, 'support': 1413}, 'weighted avg': {'precision': 0.857599456494671, 'recall': 0.8570417551309271, 'f1-score': 0.8569835898424539, 'support': 1413}}\n",
            "*** K-Fold Split Results ***\n",
            "{'0': {'precision': 0.8490566037735849, 'recall': 0.8286118980169972, 'f1-score': 0.8387096774193549, 'support': 706}, '1': {'precision': 0.8328729281767956, 'recall': 0.8528995756718529, 'f1-score': 0.8427672955974843, 'support': 707}, 'accuracy': 0.8407643312101911, 'macro avg': {'precision': 0.8409647659751902, 'recall': 0.8407557368444251, 'f1-score': 0.8407384865084195, 'support': 1413}, 'weighted avg': {'precision': 0.8409590392676188, 'recall': 0.8407643312101911, 'f1-score': 0.8407399223251846, 'support': 1413}}\n",
            "*** K-Fold Split Results ***\n",
            "{'0': {'precision': 0.8529839883551674, 'recall': 0.830028328611898, 'f1-score': 0.8413496051687006, 'support': 706}, '1': {'precision': 0.8344827586206897, 'recall': 0.8569405099150141, 'f1-score': 0.8455625436757511, 'support': 706}, 'accuracy': 0.8434844192634561, 'macro avg': {'precision': 0.8437333734879285, 'recall': 0.8434844192634561, 'f1-score': 0.8434560744222259, 'support': 1412}, 'weighted avg': {'precision': 0.8437333734879285, 'recall': 0.8434844192634561, 'f1-score': 0.8434560744222258, 'support': 1412}}\n",
            "*** K-Fold Split Results ***\n",
            "{'0': {'precision': 0.8731117824773413, 'recall': 0.8186968838526912, 'f1-score': 0.8450292397660819, 'support': 706}, '1': {'precision': 0.8293333333333334, 'recall': 0.8810198300283286, 'f1-score': 0.8543956043956045, 'support': 706}, 'accuracy': 0.8498583569405099, 'macro avg': {'precision': 0.8512225579053374, 'recall': 0.8498583569405099, 'f1-score': 0.8497124220808432, 'support': 1412}, 'weighted avg': {'precision': 0.8512225579053373, 'recall': 0.8498583569405099, 'f1-score': 0.8497124220808432, 'support': 1412}}\n",
            "*** K-Fold Split Results ***\n",
            "{'0': {'precision': 0.8502906976744186, 'recall': 0.8286118980169972, 'f1-score': 0.8393113342898135, 'support': 706}, '1': {'precision': 0.8328729281767956, 'recall': 0.8541076487252125, 'f1-score': 0.8433566433566433, 'support': 706}, 'accuracy': 0.8413597733711048, 'macro avg': {'precision': 0.8415818129256071, 'recall': 0.8413597733711049, 'f1-score': 0.8413339888232284, 'support': 1412}, 'weighted avg': {'precision': 0.8415818129256071, 'recall': 0.8413597733711048, 'f1-score': 0.8413339888232283, 'support': 1412}}\n",
            "*** K-Fold Split Results ***\n",
            "{'0': {'precision': 0.8462664714494875, 'recall': 0.8186968838526912, 'f1-score': 0.832253419726422, 'support': 706}, '1': {'precision': 0.8244170096021948, 'recall': 0.8512747875354107, 'f1-score': 0.837630662020906, 'support': 706}, 'accuracy': 0.8349858356940509, 'macro avg': {'precision': 0.8353417405258412, 'recall': 0.8349858356940509, 'f1-score': 0.834942040873664, 'support': 1412}, 'weighted avg': {'precision': 0.8353417405258412, 'recall': 0.8349858356940509, 'f1-score': 0.834942040873664, 'support': 1412}}\n",
            "*** K-Fold Split Results ***\n",
            "{'0': {'precision': 0.8716012084592145, 'recall': 0.8161244695898161, 'f1-score': 0.8429510591672754, 'support': 707}, '1': {'precision': 0.8268974700399467, 'recall': 0.8796033994334278, 'f1-score': 0.852436513383665, 'support': 706}, 'accuracy': 0.8478414720452937, 'macro avg': {'precision': 0.8492493392495806, 'recall': 0.8478639345116219, 'f1-score': 0.8476937862754702, 'support': 1413}, 'weighted avg': {'precision': 0.8492651579822131, 'recall': 0.8478414720452937, 'f1-score': 0.8476904297807015, 'support': 1413}}\n",
            "*** K-Fold Split Results ***\n",
            "{'0': {'precision': 0.8562962962962963, 'recall': 0.8175388967468176, 'f1-score': 0.8364688856729378, 'support': 707}, '1': {'precision': 0.8252032520325203, 'recall': 0.8626062322946175, 'f1-score': 0.8434903047091412, 'support': 706}, 'accuracy': 0.8400566171266808, 'macro avg': {'precision': 0.8407497741644083, 'recall': 0.8400725645207175, 'f1-score': 0.8399795951910395, 'support': 1413}, 'weighted avg': {'precision': 0.8407607766570707, 'recall': 0.8400566171266808, 'f1-score': 0.8399771106124704, 'support': 1413}}\n",
            "*** K-Fold Split Results ***\n",
            "{'0': {'precision': 0.87518573551263, 'recall': 0.8330975954738331, 'f1-score': 0.8536231884057971, 'support': 707}, '1': {'precision': 0.8405405405405405, 'recall': 0.8810198300283286, 'f1-score': 0.8603042876901799, 'support': 706}, 'accuracy': 0.8570417551309271, 'macro avg': {'precision': 0.8578631380265853, 'recall': 0.8570587127510809, 'f1-score': 0.8569637380479884, 'support': 1413}, 'weighted avg': {'precision': 0.8578753974727892, 'recall': 0.8570417551309271, 'f1-score': 0.8569613738939601, 'support': 1413}}\n",
            "*** K-Fold Split Results ***\n",
            "{'0': {'precision': 0.8289855072463768, 'recall': 0.8101983002832861, 'f1-score': 0.8194842406876791, 'support': 706}, '1': {'precision': 0.8146611341632088, 'recall': 0.8330975954738331, 'f1-score': 0.8237762237762238, 'support': 707}, 'accuracy': 0.821656050955414, 'macro avg': {'precision': 0.8218233207047928, 'recall': 0.8216479478785597, 'f1-score': 0.8216302322319515, 'support': 1413}, 'weighted avg': {'precision': 0.8218182519245085, 'recall': 0.821656050955414, 'f1-score': 0.8216317509803904, 'support': 1413}}\n",
            "*** K-Fold Split Results ***\n",
            "{'0': {'precision': 0.8549295774647887, 'recall': 0.8597733711048159, 'f1-score': 0.8573446327683616, 'support': 706}, '1': {'precision': 0.8591749644381224, 'recall': 0.8543140028288543, 'f1-score': 0.8567375886524822, 'support': 707}, 'accuracy': 0.8570417551309271, 'macro avg': {'precision': 0.8570522709514555, 'recall': 0.8570436869668351, 'f1-score': 0.8570411107104219, 'support': 1413}, 'weighted avg': {'precision': 0.8570537732115311, 'recall': 0.8570417551309271, 'f1-score': 0.8570408959035869, 'support': 1413}}\n",
            "*** K-Fold Split Results ***\n",
            "{'0': {'precision': 0.8504273504273504, 'recall': 0.8456090651558074, 'f1-score': 0.8480113636363635, 'support': 706}, '1': {'precision': 0.8466947960618847, 'recall': 0.8514851485148515, 'f1-score': 0.849083215796897, 'support': 707}, 'accuracy': 0.8485491861288039, 'macro avg': {'precision': 0.8485610732446176, 'recall': 0.8485471068353294, 'f1-score': 0.8485472897166303, 'support': 1413}, 'weighted avg': {'precision': 0.8485597524539715, 'recall': 0.8485491861288039, 'f1-score': 0.8485476689990651, 'support': 1413}}\n",
            "*** K-Fold Split Results ***\n",
            "{'0': {'precision': 0.8590704647676162, 'recall': 0.8116147308781869, 'f1-score': 0.8346686088856519, 'support': 706}, '1': {'precision': 0.8214765100671141, 'recall': 0.8668555240793201, 'f1-score': 0.8435561681598898, 'support': 706}, 'accuracy': 0.8392351274787535, 'macro avg': {'precision': 0.8402734874173652, 'recall': 0.8392351274787535, 'f1-score': 0.8391123885227708, 'support': 1412}, 'weighted avg': {'precision': 0.8402734874173651, 'recall': 0.8392351274787535, 'f1-score': 0.8391123885227709, 'support': 1412}}\n",
            "*** K-Fold Split Results ***\n",
            "{'0': {'precision': 0.8642533936651584, 'recall': 0.8116147308781869, 'f1-score': 0.8371073776479181, 'support': 706}, '1': {'precision': 0.822429906542056, 'recall': 0.8725212464589235, 'f1-score': 0.8467353951890034, 'support': 706}, 'accuracy': 0.8420679886685553, 'macro avg': {'precision': 0.8433416501036073, 'recall': 0.8420679886685551, 'f1-score': 0.8419213864184607, 'support': 1412}, 'weighted avg': {'precision': 0.8433416501036072, 'recall': 0.8420679886685553, 'f1-score': 0.8419213864184607, 'support': 1412}}\n",
            "*** K-Fold Split Results ***\n",
            "{'0': {'precision': 0.8607784431137725, 'recall': 0.8144475920679887, 'f1-score': 0.836972343522562, 'support': 706}, '1': {'precision': 0.8239247311827957, 'recall': 0.8682719546742209, 'f1-score': 0.8455172413793104, 'support': 706}, 'accuracy': 0.8413597733711048, 'macro avg': {'precision': 0.8423515871482841, 'recall': 0.8413597733711048, 'f1-score': 0.8412447924509362, 'support': 1412}, 'weighted avg': {'precision': 0.8423515871482841, 'recall': 0.8413597733711048, 'f1-score': 0.8412447924509362, 'support': 1412}}\n",
            "*** K-Fold Split Results ***\n",
            "{'0': {'precision': 0.8649851632047477, 'recall': 0.8257790368271954, 'f1-score': 0.8449275362318841, 'support': 706}, '1': {'precision': 0.8333333333333334, 'recall': 0.8711048158640227, 'f1-score': 0.8518005540166206, 'support': 706}, 'accuracy': 0.8484419263456091, 'macro avg': {'precision': 0.8491592482690405, 'recall': 0.8484419263456091, 'f1-score': 0.8483640451242523, 'support': 1412}, 'weighted avg': {'precision': 0.8491592482690405, 'recall': 0.8484419263456091, 'f1-score': 0.8483640451242523, 'support': 1412}}\n",
            "*** K-Fold Split Results ***\n",
            "{'0': {'precision': 0.8575624082232012, 'recall': 0.826025459688826, 'f1-score': 0.8414985590778098, 'support': 707}, '1': {'precision': 0.8319672131147541, 'recall': 0.8626062322946175, 'f1-score': 0.8470097357440889, 'support': 706}, 'accuracy': 0.8443029016277424, 'macro avg': {'precision': 0.8447648106689776, 'recall': 0.8443158459917217, 'f1-score': 0.8442541474109493, 'support': 1413}, 'weighted avg': {'precision': 0.8447738677090019, 'recall': 0.8443029016277424, 'f1-score': 0.8442521972422776, 'support': 1413}}\n",
            "*** K-Fold Split Results ***\n",
            "{'0': {'precision': 0.8712574850299402, 'recall': 0.8231966053748232, 'f1-score': 0.8465454545454546, 'support': 707}, '1': {'precision': 0.8322147651006712, 'recall': 0.8781869688385269, 'f1-score': 0.8545830461750518, 'support': 706}, 'accuracy': 0.8506723283793347, 'macro avg': {'precision': 0.8517361250653057, 'recall': 0.850691787106675, 'f1-score': 0.8505642503602532, 'support': 1413}, 'weighted avg': {'precision': 0.8517499406066819, 'recall': 0.8506723283793347, 'f1-score': 0.8505614062018563, 'support': 1413}}\n",
            "*** K-Fold Split Results ***\n",
            "{'0': {'precision': 0.8565153733528551, 'recall': 0.8274398868458275, 'f1-score': 0.841726618705036, 'support': 707}, '1': {'precision': 0.8328767123287671, 'recall': 0.8611898016997167, 'f1-score': 0.8467966573816156, 'support': 706}, 'accuracy': 0.8443029016277424, 'macro avg': {'precision': 0.8446960428408111, 'recall': 0.8443148442727721, 'f1-score': 0.8442616380433258, 'support': 1413}, 'weighted avg': {'precision': 0.8447044075474721, 'recall': 0.8443029016277424, 'f1-score': 0.8442598439744382, 'support': 1413}}\n",
            "*** K-Fold Split Results ***\n",
            "{'0': {'precision': 0.8398268398268398, 'recall': 0.8243626062322946, 'f1-score': 0.8320228734810579, 'support': 706}, '1': {'precision': 0.8277777777777777, 'recall': 0.842998585572843, 'f1-score': 0.8353188507358094, 'support': 707}, 'accuracy': 0.8336871903750884, 'macro avg': {'precision': 0.8338023088023088, 'recall': 0.8336805959025688, 'f1-score': 0.8336708621084337, 'support': 1413}, 'weighted avg': {'precision': 0.8337980451568562, 'recall': 0.8336871903750884, 'f1-score': 0.8336720284131947, 'support': 1413}}\n",
            "*** K-Fold Split Results ***\n",
            "{'0': {'precision': 0.8504398826979472, 'recall': 0.8215297450424929, 'f1-score': 0.8357348703170029, 'support': 706}, '1': {'precision': 0.8276333789329685, 'recall': 0.8557284299858557, 'f1-score': 0.8414464534075105, 'support': 707}, 'accuracy': 0.8386411889596603, 'macro avg': {'precision': 0.8390366308154579, 'recall': 0.8386290875141743, 'f1-score': 0.8385906618622567, 'support': 1413}, 'weighted avg': {'precision': 0.8390285605735028, 'recall': 0.8386411889596603, 'f1-score': 0.8385926829461529, 'support': 1413}}\n",
            "*** K-Fold Split Results ***\n",
            "{'0': {'precision': 0.8508124076809453, 'recall': 0.8158640226628895, 'f1-score': 0.8329718004338396, 'support': 706}, '1': {'precision': 0.8233695652173914, 'recall': 0.8571428571428571, 'f1-score': 0.8399168399168401, 'support': 707}, 'accuracy': 0.8365180467091295, 'macro avg': {'precision': 0.8370909864491684, 'recall': 0.8365034399028732, 'f1-score': 0.8364443201753398, 'support': 1413}, 'weighted avg': {'precision': 0.8370812756061169, 'recall': 0.8365180467091295, 'f1-score': 0.8364467777264661, 'support': 1413}}\n",
            "*** K-Fold Split Results ***\n",
            "{'0': {'precision': 0.8757396449704142, 'recall': 0.8385269121813032, 'f1-score': 0.8567293777134587, 'support': 706}, '1': {'precision': 0.845108695652174, 'recall': 0.8810198300283286, 'f1-score': 0.8626907073509015, 'support': 706}, 'accuracy': 0.8597733711048159, 'macro avg': {'precision': 0.860424170311294, 'recall': 0.8597733711048159, 'f1-score': 0.8597100425321801, 'support': 1412}, 'weighted avg': {'precision': 0.8604241703112939, 'recall': 0.8597733711048159, 'f1-score': 0.8597100425321801, 'support': 1412}}\n",
            "*** K-Fold Split Results ***\n",
            "{'0': {'precision': 0.8373071528751753, 'recall': 0.8456090651558074, 'f1-score': 0.8414376321353066, 'support': 706}, '1': {'precision': 0.844062947067239, 'recall': 0.8356940509915014, 'f1-score': 0.8398576512455516, 'support': 706}, 'accuracy': 0.8406515580736544, 'macro avg': {'precision': 0.8406850499712071, 'recall': 0.8406515580736544, 'f1-score': 0.8406476416904292, 'support': 1412}, 'weighted avg': {'precision': 0.8406850499712071, 'recall': 0.8406515580736544, 'f1-score': 0.8406476416904289, 'support': 1412}}\n",
            "*** K-Fold Split Results ***\n",
            "{'0': {'precision': 0.8584070796460177, 'recall': 0.8243626062322946, 'f1-score': 0.8410404624277457, 'support': 706}, '1': {'precision': 0.8310626702997275, 'recall': 0.8640226628895185, 'f1-score': 0.8472222222222223, 'support': 706}, 'accuracy': 0.8441926345609065, 'macro avg': {'precision': 0.8447348749728726, 'recall': 0.8441926345609065, 'f1-score': 0.844131342324984, 'support': 1412}, 'weighted avg': {'precision': 0.8447348749728726, 'recall': 0.8441926345609065, 'f1-score': 0.844131342324984, 'support': 1412}}\n",
            "*** K-Fold Split Results ***\n",
            "{'0': {'precision': 0.8606676342525399, 'recall': 0.839943342776204, 'f1-score': 0.850179211469534, 'support': 706}, '1': {'precision': 0.8437067773167358, 'recall': 0.8640226628895185, 'f1-score': 0.853743876836949, 'support': 706}, 'accuracy': 0.8519830028328612, 'macro avg': {'precision': 0.8521872057846378, 'recall': 0.8519830028328612, 'f1-score': 0.8519615441532415, 'support': 1412}, 'weighted avg': {'precision': 0.8521872057846378, 'recall': 0.8519830028328612, 'f1-score': 0.8519615441532415, 'support': 1412}}\n"
          ]
        }
      ]
    },
    {
      "cell_type": "code",
      "source": [
        "# calculate average metrics for submission\n",
        "import numpy\n",
        "final_dict = {}\n",
        "final_dict['0-precision'] = []\n",
        "final_dict['0-recall'] = []\n",
        "final_dict['0-f1'] = []\n",
        "final_dict['1-precision'] = []\n",
        "final_dict['1-recall'] = []\n",
        "final_dict['1-f1'] = []\n",
        "final_dict['accuracy'] = []\n",
        "\n",
        "for dictionary in classification_report_list:\n",
        "    for key, inner_dict in dictionary.items():\n",
        "        if key == '0':\n",
        "            for inner_key in inner_dict.keys():\n",
        "                if inner_key == \"precision\":\n",
        "                    final_dict['0-precision'].append(inner_dict['precision'])\n",
        "                if inner_key == \"recall\":\n",
        "                    final_dict['0-recall'].append(inner_dict['recall'])\n",
        "                if inner_key == \"f1-score\":\n",
        "                    final_dict['0-f1'].append(inner_dict['f1-score'])\n",
        "        if key == '1':\n",
        "            for inner_key in inner_dict.keys():\n",
        "                if inner_key == \"precision\":\n",
        "                    final_dict['1-precision'].append(inner_dict['precision'])\n",
        "                if inner_key == \"recall\":\n",
        "                    final_dict['1-recall'].append(inner_dict['recall'])\n",
        "                if inner_key == \"f1-score\":\n",
        "                    final_dict['1-f1'].append(inner_dict['f1-score'])\n",
        "        if key == \"accuracy\":\n",
        "            final_dict['accuracy'].append(dictionary['accuracy'])\n",
        "\n",
        "\n",
        "for key in final_dict.keys():\n",
        "    final_dict[key] = numpy.average(final_dict[key])\n",
        "\n",
        "print(\"******** FINAL DICT ********\")\n",
        "print(final_dict)"
      ],
      "metadata": {
        "colab": {
          "base_uri": "https://localhost:8080/"
        },
        "id": "t7MlMjOOnIup",
        "outputId": "5c645366-ce7f-4b93-cc45-24c9d7c9550e"
      },
      "execution_count": 27,
      "outputs": [
        {
          "output_type": "stream",
          "name": "stdout",
          "text": [
            "******** FINAL DICT ********\n",
            "{'0-precision': 0.857580812422668, '0-recall': 0.8265153670365014, '0-f1': 0.8416852017962309, '1-precision': 0.8326387544851702, '1-recall': 0.86257384338191, '1-f1': 0.8472738482153134, 'accuracy': 0.8445420475057255}\n"
          ]
        }
      ]
    },
    {
      "cell_type": "code",
      "execution_count": null,
      "metadata": {
        "colab": {
          "base_uri": "https://localhost:8080/"
        },
        "id": "bFYqjfzwU2HU",
        "outputId": "940800f2-25fa-4fc9-da84-5349fd2d53b0"
      },
      "outputs": [
        {
          "name": "stdout",
          "output_type": "stream",
          "text": [
            "Scores: {'fit_time': array([3.7595315 , 3.7526269 , 2.18612647, 2.29225564, 2.62626052,\n",
            "       2.26049089, 4.35855651, 3.66726184, 2.17899609, 2.54246712,\n",
            "       2.32606626, 2.40179706, 4.22317719, 3.18432331, 2.49445772,\n",
            "       2.47898436, 2.58372641, 2.43346143, 4.36194396, 3.25201941,\n",
            "       2.49387264, 2.29506588, 2.91750741, 2.985147  , 4.33724451,\n",
            "       3.6194129 , 3.78106213, 4.18181276, 4.63927603, 3.34985781]), 'score_time': array([0.20349431, 0.14024615, 0.15434456, 0.14341402, 0.13696957,\n",
            "       0.205127  , 0.22757125, 0.13729477, 0.13356137, 0.14744377,\n",
            "       0.15140796, 0.15050364, 0.23771358, 0.13884211, 0.14015341,\n",
            "       0.1412766 , 0.13741827, 0.28267932, 0.13950968, 0.24811149,\n",
            "       0.14285541, 0.25418758, 0.15813804, 0.46051908, 0.14117908,\n",
            "       0.1738205 , 0.16378331, 0.47143745, 0.18451762, 0.17149949]), 'test_precision': array([0.80142857, 0.80796586, 0.81313869, 0.83808096, 0.82404692,\n",
            "       0.81647399, 0.82985075, 0.81118881, 0.80323054, 0.79387187,\n",
            "       0.81405564, 0.82732733, 0.81258941, 0.80895522, 0.81294964,\n",
            "       0.80654339, 0.80631868, 0.80586592, 0.81567489, 0.80686695,\n",
            "       0.82209469, 0.80346821, 0.81778426, 0.80663781, 0.81476122,\n",
            "       0.8150289 , 0.80696662, 0.81818182, 0.80250348, 0.82783357]), 'test_recall': array([0.79461756, 0.80453258, 0.78895184, 0.79066478, 0.79490806,\n",
            "       0.79915134, 0.78753541, 0.82152975, 0.77478754, 0.80736544,\n",
            "       0.78753541, 0.78045326, 0.80453258, 0.76661952, 0.79915134,\n",
            "       0.8019802 , 0.83144476, 0.81728045, 0.79603399, 0.79886686,\n",
            "       0.81161473, 0.78753541, 0.79461756, 0.79066478, 0.79632249,\n",
            "       0.79773692, 0.78753541, 0.75212465, 0.81728045, 0.81728045]), 'test_f1': array([0.79800853, 0.80624556, 0.80086269, 0.81368268, 0.80921526,\n",
            "       0.8077198 , 0.80813953, 0.81632653, 0.7887527 , 0.8005618 ,\n",
            "       0.80057595, 0.803207  , 0.80854093, 0.78721859, 0.80599144,\n",
            "       0.80425532, 0.81868898, 0.81153305, 0.80573477, 0.80284698,\n",
            "       0.8168211 , 0.79542203, 0.80603448, 0.79857143, 0.80543634,\n",
            "       0.80629021, 0.79713262, 0.78376384, 0.80982456, 0.82252316])}\n"
          ]
        }
      ],
      "source": [
        "# logistic evaluated on re-balanced dataset\n",
        "from numpy import mean\n",
        "from sklearn.datasets import make_classification\n",
        "from sklearn.model_selection import cross_validate\n",
        "from sklearn.model_selection import RepeatedStratifiedKFold\n",
        "from sklearn.linear_model import LogisticRegression\n",
        "from sklearn.metrics import accuracy_score, f1_score, precision_score, recall_score\n",
        "from sklearn.metrics import make_scorer\n",
        "\n",
        "# define scoring metrics\n",
        "scoring = {'accuracy': make_scorer(accuracy_score),\n",
        "            'precision': make_scorer(precision_score),\n",
        "           'recall': make_scorer(recall_score),\n",
        "           'f1': make_scorer(f1_score)}\n",
        "\n",
        "scoring = ['precision', 'recall', 'f1']\n",
        "\n",
        "# define model\n",
        "model = LogisticRegression(random_state = 42)\n",
        "# evaluate pipeline\n",
        "cv = RepeatedStratifiedKFold(n_splits=10, n_repeats=3, random_state=42)\n",
        "scores = cross_validate(model, X, y, scoring= scoring, cv=cv, n_jobs=-1)\n",
        "print('Scores:', scores)"
      ]
    },
    {
      "cell_type": "code",
      "execution_count": null,
      "metadata": {
        "colab": {
          "base_uri": "https://localhost:8080/",
          "height": 373
        },
        "id": "B34Toh5oVRgp",
        "outputId": "1969235a-c94e-476e-aced-5b012908f20d"
      },
      "outputs": [
        {
          "ename": "KeyboardInterrupt",
          "evalue": "ignored",
          "output_type": "error",
          "traceback": [
            "\u001b[0;31m---------------------------------------------------------------------------\u001b[0m",
            "\u001b[0;31mKeyboardInterrupt\u001b[0m                         Traceback (most recent call last)",
            "\u001b[0;32m<ipython-input-18-a514e190891a>\u001b[0m in \u001b[0;36m<cell line: 22>\u001b[0;34m()\u001b[0m\n\u001b[1;32m     20\u001b[0m \u001b[0;31m# evaluate pipeline\u001b[0m\u001b[0;34m\u001b[0m\u001b[0;34m\u001b[0m\u001b[0m\n\u001b[1;32m     21\u001b[0m \u001b[0mcv\u001b[0m \u001b[0;34m=\u001b[0m \u001b[0mRepeatedStratifiedKFold\u001b[0m\u001b[0;34m(\u001b[0m\u001b[0mn_splits\u001b[0m\u001b[0;34m=\u001b[0m\u001b[0;36m10\u001b[0m\u001b[0;34m,\u001b[0m \u001b[0mn_repeats\u001b[0m\u001b[0;34m=\u001b[0m\u001b[0;36m3\u001b[0m\u001b[0;34m,\u001b[0m \u001b[0mrandom_state\u001b[0m\u001b[0;34m=\u001b[0m\u001b[0;36m42\u001b[0m\u001b[0;34m)\u001b[0m\u001b[0;34m\u001b[0m\u001b[0;34m\u001b[0m\u001b[0m\n\u001b[0;32m---> 22\u001b[0;31m \u001b[0mscores\u001b[0m \u001b[0;34m=\u001b[0m \u001b[0mcross_validate\u001b[0m\u001b[0;34m(\u001b[0m\u001b[0mmodel\u001b[0m\u001b[0;34m,\u001b[0m \u001b[0mX\u001b[0m\u001b[0;34m,\u001b[0m \u001b[0my\u001b[0m\u001b[0;34m,\u001b[0m \u001b[0mscoring\u001b[0m\u001b[0;34m=\u001b[0m \u001b[0mscoring\u001b[0m\u001b[0;34m,\u001b[0m \u001b[0mcv\u001b[0m\u001b[0;34m=\u001b[0m\u001b[0mcv\u001b[0m\u001b[0;34m,\u001b[0m \u001b[0mn_jobs\u001b[0m\u001b[0;34m=\u001b[0m\u001b[0;34m-\u001b[0m\u001b[0;36m1\u001b[0m\u001b[0;34m)\u001b[0m\u001b[0;34m\u001b[0m\u001b[0;34m\u001b[0m\u001b[0m\n\u001b[0m\u001b[1;32m     23\u001b[0m \u001b[0mprint\u001b[0m\u001b[0;34m(\u001b[0m\u001b[0;34m'Scores:'\u001b[0m\u001b[0;34m,\u001b[0m \u001b[0mscores\u001b[0m\u001b[0;34m)\u001b[0m\u001b[0;34m\u001b[0m\u001b[0;34m\u001b[0m\u001b[0m\n",
            "\u001b[0;32m/usr/local/lib/python3.10/dist-packages/sklearn/model_selection/_validation.py\u001b[0m in \u001b[0;36mcross_validate\u001b[0;34m(estimator, X, y, groups, scoring, cv, n_jobs, verbose, fit_params, pre_dispatch, return_train_score, return_estimator, error_score)\u001b[0m\n\u001b[1;32m    264\u001b[0m     \u001b[0;31m# independent, and that it is pickle-able.\u001b[0m\u001b[0;34m\u001b[0m\u001b[0;34m\u001b[0m\u001b[0m\n\u001b[1;32m    265\u001b[0m     \u001b[0mparallel\u001b[0m \u001b[0;34m=\u001b[0m \u001b[0mParallel\u001b[0m\u001b[0;34m(\u001b[0m\u001b[0mn_jobs\u001b[0m\u001b[0;34m=\u001b[0m\u001b[0mn_jobs\u001b[0m\u001b[0;34m,\u001b[0m \u001b[0mverbose\u001b[0m\u001b[0;34m=\u001b[0m\u001b[0mverbose\u001b[0m\u001b[0;34m,\u001b[0m \u001b[0mpre_dispatch\u001b[0m\u001b[0;34m=\u001b[0m\u001b[0mpre_dispatch\u001b[0m\u001b[0;34m)\u001b[0m\u001b[0;34m\u001b[0m\u001b[0;34m\u001b[0m\u001b[0m\n\u001b[0;32m--> 266\u001b[0;31m     results = parallel(\n\u001b[0m\u001b[1;32m    267\u001b[0m         delayed(_fit_and_score)(\n\u001b[1;32m    268\u001b[0m             \u001b[0mclone\u001b[0m\u001b[0;34m(\u001b[0m\u001b[0mestimator\u001b[0m\u001b[0;34m)\u001b[0m\u001b[0;34m,\u001b[0m\u001b[0;34m\u001b[0m\u001b[0;34m\u001b[0m\u001b[0m\n",
            "\u001b[0;32m/usr/local/lib/python3.10/dist-packages/sklearn/utils/parallel.py\u001b[0m in \u001b[0;36m__call__\u001b[0;34m(self, iterable)\u001b[0m\n\u001b[1;32m     61\u001b[0m             \u001b[0;32mfor\u001b[0m \u001b[0mdelayed_func\u001b[0m\u001b[0;34m,\u001b[0m \u001b[0margs\u001b[0m\u001b[0;34m,\u001b[0m \u001b[0mkwargs\u001b[0m \u001b[0;32min\u001b[0m \u001b[0miterable\u001b[0m\u001b[0;34m\u001b[0m\u001b[0;34m\u001b[0m\u001b[0m\n\u001b[1;32m     62\u001b[0m         )\n\u001b[0;32m---> 63\u001b[0;31m         \u001b[0;32mreturn\u001b[0m \u001b[0msuper\u001b[0m\u001b[0;34m(\u001b[0m\u001b[0;34m)\u001b[0m\u001b[0;34m.\u001b[0m\u001b[0m__call__\u001b[0m\u001b[0;34m(\u001b[0m\u001b[0miterable_with_config\u001b[0m\u001b[0;34m)\u001b[0m\u001b[0;34m\u001b[0m\u001b[0;34m\u001b[0m\u001b[0m\n\u001b[0m\u001b[1;32m     64\u001b[0m \u001b[0;34m\u001b[0m\u001b[0m\n\u001b[1;32m     65\u001b[0m \u001b[0;34m\u001b[0m\u001b[0m\n",
            "\u001b[0;32m/usr/local/lib/python3.10/dist-packages/joblib/parallel.py\u001b[0m in \u001b[0;36m__call__\u001b[0;34m(self, iterable)\u001b[0m\n\u001b[1;32m   1942\u001b[0m         \u001b[0mnext\u001b[0m\u001b[0;34m(\u001b[0m\u001b[0moutput\u001b[0m\u001b[0;34m)\u001b[0m\u001b[0;34m\u001b[0m\u001b[0;34m\u001b[0m\u001b[0m\n\u001b[1;32m   1943\u001b[0m \u001b[0;34m\u001b[0m\u001b[0m\n\u001b[0;32m-> 1944\u001b[0;31m         \u001b[0;32mreturn\u001b[0m \u001b[0moutput\u001b[0m \u001b[0;32mif\u001b[0m \u001b[0mself\u001b[0m\u001b[0;34m.\u001b[0m\u001b[0mreturn_generator\u001b[0m \u001b[0;32melse\u001b[0m \u001b[0mlist\u001b[0m\u001b[0;34m(\u001b[0m\u001b[0moutput\u001b[0m\u001b[0;34m)\u001b[0m\u001b[0;34m\u001b[0m\u001b[0;34m\u001b[0m\u001b[0m\n\u001b[0m\u001b[1;32m   1945\u001b[0m \u001b[0;34m\u001b[0m\u001b[0m\n\u001b[1;32m   1946\u001b[0m     \u001b[0;32mdef\u001b[0m \u001b[0m__repr__\u001b[0m\u001b[0;34m(\u001b[0m\u001b[0mself\u001b[0m\u001b[0;34m)\u001b[0m\u001b[0;34m:\u001b[0m\u001b[0;34m\u001b[0m\u001b[0;34m\u001b[0m\u001b[0m\n",
            "\u001b[0;32m/usr/local/lib/python3.10/dist-packages/joblib/parallel.py\u001b[0m in \u001b[0;36m_get_outputs\u001b[0;34m(self, iterator, pre_dispatch)\u001b[0m\n\u001b[1;32m   1585\u001b[0m \u001b[0;34m\u001b[0m\u001b[0m\n\u001b[1;32m   1586\u001b[0m             \u001b[0;32mwith\u001b[0m \u001b[0mself\u001b[0m\u001b[0;34m.\u001b[0m\u001b[0m_backend\u001b[0m\u001b[0;34m.\u001b[0m\u001b[0mretrieval_context\u001b[0m\u001b[0;34m(\u001b[0m\u001b[0;34m)\u001b[0m\u001b[0;34m:\u001b[0m\u001b[0;34m\u001b[0m\u001b[0;34m\u001b[0m\u001b[0m\n\u001b[0;32m-> 1587\u001b[0;31m                 \u001b[0;32myield\u001b[0m \u001b[0;32mfrom\u001b[0m \u001b[0mself\u001b[0m\u001b[0;34m.\u001b[0m\u001b[0m_retrieve\u001b[0m\u001b[0;34m(\u001b[0m\u001b[0;34m)\u001b[0m\u001b[0;34m\u001b[0m\u001b[0;34m\u001b[0m\u001b[0m\n\u001b[0m\u001b[1;32m   1588\u001b[0m \u001b[0;34m\u001b[0m\u001b[0m\n\u001b[1;32m   1589\u001b[0m         \u001b[0;32mexcept\u001b[0m \u001b[0mGeneratorExit\u001b[0m\u001b[0;34m:\u001b[0m\u001b[0;34m\u001b[0m\u001b[0;34m\u001b[0m\u001b[0m\n",
            "\u001b[0;32m/usr/local/lib/python3.10/dist-packages/joblib/parallel.py\u001b[0m in \u001b[0;36m_retrieve\u001b[0;34m(self)\u001b[0m\n\u001b[1;32m   1697\u001b[0m                 (self._jobs[0].get_status(\n\u001b[1;32m   1698\u001b[0m                     timeout=self.timeout) == TASK_PENDING)):\n\u001b[0;32m-> 1699\u001b[0;31m                 \u001b[0mtime\u001b[0m\u001b[0;34m.\u001b[0m\u001b[0msleep\u001b[0m\u001b[0;34m(\u001b[0m\u001b[0;36m0.01\u001b[0m\u001b[0;34m)\u001b[0m\u001b[0;34m\u001b[0m\u001b[0;34m\u001b[0m\u001b[0m\n\u001b[0m\u001b[1;32m   1700\u001b[0m                 \u001b[0;32mcontinue\u001b[0m\u001b[0;34m\u001b[0m\u001b[0;34m\u001b[0m\u001b[0m\n\u001b[1;32m   1701\u001b[0m \u001b[0;34m\u001b[0m\u001b[0m\n",
            "\u001b[0;31mKeyboardInterrupt\u001b[0m: "
          ]
        }
      ],
      "source": [
        "# SVC evaluated on re-balanced dataset\n",
        "from numpy import mean\n",
        "from sklearn.datasets import make_classification\n",
        "from sklearn.model_selection import cross_validate\n",
        "from sklearn.model_selection import RepeatedStratifiedKFold\n",
        "from sklearn.svm import SVC, LinearSVC\n",
        "from sklearn.metrics import accuracy_score, f1_score, precision_score, recall_score\n",
        "from sklearn.metrics import make_scorer\n",
        "\n",
        "# define scoring metrics\n",
        "scoring = {'accuracy': make_scorer(accuracy_score),\n",
        "            'precision': make_scorer(precision_score),\n",
        "           'recall': make_scorer(recall_score),\n",
        "           'f1': make_scorer(f1_score)}\n",
        "\n",
        "scoring = ['precision', 'recall', 'f1']\n",
        "\n",
        "# define model\n",
        "model = SVC(random_state = 42)\n",
        "# evaluate pipeline\n",
        "cv = RepeatedStratifiedKFold(n_splits=10, n_repeats=3, random_state=42)\n",
        "scores = cross_validate(model, X, y, scoring= scoring, cv=cv, n_jobs=-1)\n",
        "print('Scores:', scores)"
      ]
    },
    {
      "cell_type": "code",
      "execution_count": null,
      "metadata": {
        "colab": {
          "base_uri": "https://localhost:8080/"
        },
        "id": "0qUf0STvVdex",
        "outputId": "f2025cf1-9061-4ec2-e51d-7d6ade0c13e4"
      },
      "outputs": [
        {
          "name": "stdout",
          "output_type": "stream",
          "text": [
            "Scores: {'fit_time': array([3.68170357, 2.98074913, 3.26308155, 3.04008532, 4.82865644,\n",
            "       4.92765164, 3.24638677, 2.90235925, 3.02387142, 3.37687683,\n",
            "       4.7091682 , 3.49832797, 3.16260552, 3.19177651, 4.00162101,\n",
            "       5.04437923, 3.28160286, 3.1807971 , 3.24634051, 2.95530057,\n",
            "       4.95452952, 3.88807559, 3.17767072, 2.92164993, 3.99757648,\n",
            "       4.27970362, 3.10581827, 3.09029055, 2.94304895, 2.79681516]), 'score_time': array([0.14690185, 0.21880245, 0.14619517, 0.20266533, 0.27179909,\n",
            "       0.22814965, 0.14678621, 0.17042565, 0.14832258, 0.39097261,\n",
            "       0.16014433, 0.23251796, 0.14384866, 0.23276186, 0.30009484,\n",
            "       0.21610045, 0.14729166, 0.14055014, 0.14985847, 0.24514246,\n",
            "       0.14717317, 0.15538168, 0.13972712, 0.13350177, 0.29192948,\n",
            "       0.33177233, 0.14573956, 0.28861475, 0.14467192, 0.07843447]), 'test_precision': array([0.84428571, 0.83898305, 0.85131195, 0.87408492, 0.85632184,\n",
            "       0.85507246, 0.8637037 , 0.83264177, 0.84240688, 0.82632293,\n",
            "       0.85383502, 0.85651537, 0.84985836, 0.83074753, 0.84770115,\n",
            "       0.85530086, 0.84062059, 0.84431978, 0.84692418, 0.84615385,\n",
            "       0.84335664, 0.83707865, 0.85611511, 0.84441301, 0.84428571,\n",
            "       0.85302594, 0.85195936, 0.84776119, 0.81830791, 0.86271676]), 'test_recall': array([0.83711048, 0.84135977, 0.82719547, 0.84441301, 0.84299859,\n",
            "       0.83451202, 0.82577904, 0.85269122, 0.83286119, 0.86260623,\n",
            "       0.83569405, 0.8286119 , 0.84985836, 0.8330976 , 0.83451202,\n",
            "       0.84441301, 0.84419263, 0.85269122, 0.83852691, 0.82577904,\n",
            "       0.85410765, 0.84419263, 0.8427762 , 0.84441301, 0.83592645,\n",
            "       0.83734088, 0.83144476, 0.80453258, 0.83569405, 0.84560907]), 'test_f1': array([0.84068279, 0.84016973, 0.83908046, 0.85899281, 0.84960798,\n",
            "       0.84466714, 0.84431571, 0.84254724, 0.83760684, 0.84407484,\n",
            "       0.84466714, 0.84233261, 0.84985836, 0.8319209 , 0.84105488,\n",
            "       0.84982206, 0.84240283, 0.84848485, 0.84270463, 0.83584229,\n",
            "       0.8486981 , 0.84062059, 0.84939329, 0.84441301, 0.84008529,\n",
            "       0.84511064, 0.84157706, 0.8255814 , 0.8269096 , 0.85407725])}\n"
          ]
        }
      ],
      "source": [
        "# Linear SVC evaluated on re-balanced dataset\n",
        "from numpy import mean\n",
        "from sklearn.datasets import make_classification\n",
        "from sklearn.model_selection import cross_validate\n",
        "from sklearn.model_selection import RepeatedStratifiedKFold\n",
        "from sklearn.svm import SVC, LinearSVC\n",
        "from sklearn.metrics import accuracy_score, f1_score, precision_score, recall_score\n",
        "from sklearn.metrics import make_scorer\n",
        "\n",
        "# define scoring metrics\n",
        "scoring = {'accuracy': make_scorer(accuracy_score),\n",
        "            'precision': make_scorer(precision_score),\n",
        "           'recall': make_scorer(recall_score),\n",
        "           'f1': make_scorer(f1_score)}\n",
        "\n",
        "scoring = ['precision', 'recall', 'f1']\n",
        "\n",
        "# define model\n",
        "model = LinearSVC(random_state = 42)\n",
        "# evaluate pipeline\n",
        "cv = RepeatedStratifiedKFold(n_splits=10, n_repeats=3, random_state=42)\n",
        "scores = cross_validate(model, X, y, scoring= scoring, cv=cv, n_jobs=-1)\n",
        "print('Scores:', scores)"
      ]
    },
    {
      "cell_type": "code",
      "execution_count": null,
      "metadata": {
        "colab": {
          "base_uri": "https://localhost:8080/"
        },
        "id": "dh8xCZurV9j-",
        "outputId": "92b8a7fd-7d54-4588-ae0a-cf91c219b6b5"
      },
      "outputs": [
        {
          "name": "stdout",
          "output_type": "stream",
          "text": [
            "Scores: {'fit_time': array([1.90377927, 1.69835687, 2.21995378, 2.54127884, 1.43840003,\n",
            "       1.27885723, 1.58075571, 1.25373244, 2.39076686, 1.57651138,\n",
            "       1.4587183 , 1.27614236, 1.47626019, 1.62739706, 1.4425962 ,\n",
            "       1.35010147, 1.53193069, 1.29402971, 2.90488243, 2.28199911,\n",
            "       1.45495057, 1.29860806, 1.51204419, 1.27572131, 1.94700575,\n",
            "       1.31153154, 2.43555093, 2.51347232, 2.30270052, 1.55818701]), 'score_time': array([2.19197989, 2.23005962, 3.09159493, 2.54169703, 1.7143805 ,\n",
            "       1.9211812 , 1.76042557, 2.57338357, 1.72916102, 1.77308607,\n",
            "       1.75972342, 1.78268862, 3.12050223, 3.27741957, 1.79502654,\n",
            "       1.75151968, 1.68102837, 1.69592357, 2.08898902, 1.94950938,\n",
            "       1.733603  , 1.91593194, 1.98640156, 3.36626458, 1.71963501,\n",
            "       2.03476787, 2.95035601, 2.66509461, 1.6667974 , 1.44937921]), 'test_precision': array([0.858473  , 0.85818182, 0.89607843, 0.86751361, 0.91056911,\n",
            "       0.87549407, 0.88122605, 0.88846881, 0.9022869 , 0.87429644,\n",
            "       0.87329435, 0.88490566, 0.87108656, 0.86858316, 0.89272031,\n",
            "       0.88492063, 0.88321168, 0.8875969 , 0.87781955, 0.88909427,\n",
            "       0.87047619, 0.88549618, 0.89174312, 0.88910891, 0.86666667,\n",
            "       0.89224953, 0.88737864, 0.89378758, 0.87814313, 0.87747036]), 'test_recall': array([0.6529745 , 0.66855524, 0.64730878, 0.67609618, 0.63366337,\n",
            "       0.62659123, 0.65155807, 0.66572238, 0.61473088, 0.66005666,\n",
            "       0.63456091, 0.66430595, 0.66997167, 0.59830269, 0.65912306,\n",
            "       0.63083451, 0.68555241, 0.64872521, 0.66147309, 0.68130312,\n",
            "       0.64730878, 0.6572238 , 0.68838527, 0.63507779, 0.64356436,\n",
            "       0.66760962, 0.64730878, 0.63172805, 0.64305949, 0.62889518]), 'test_f1': array([0.74175382, 0.75159236, 0.75164474, 0.75993641, 0.74728941,\n",
            "       0.73042045, 0.74918567, 0.7611336 , 0.73125527, 0.75221953,\n",
            "       0.73502871, 0.75889968, 0.75740592, 0.70854271, 0.75834011,\n",
            "       0.73658134, 0.77192982, 0.74959083, 0.75444265, 0.77145148,\n",
            "       0.74248578, 0.75447154, 0.77697842, 0.74092409, 0.73863636,\n",
            "       0.76375405, 0.74856675, 0.74024896, 0.74243663, 0.73267327])}\n"
          ]
        }
      ],
      "source": [
        "# knn evaluated on re-balanced dataset\n",
        "from numpy import mean\n",
        "from sklearn.datasets import make_classification\n",
        "from sklearn.model_selection import cross_validate\n",
        "from sklearn.model_selection import RepeatedStratifiedKFold\n",
        "from sklearn.neighbors import KNeighborsClassifier\n",
        "from sklearn.metrics import accuracy_score, f1_score, precision_score, recall_score\n",
        "from sklearn.metrics import make_scorer\n",
        "\n",
        "# define scoring metrics\n",
        "scoring = {'accuracy': make_scorer(accuracy_score),\n",
        "            'precision': make_scorer(precision_score),\n",
        "           'recall': make_scorer(recall_score),\n",
        "           'f1': make_scorer(f1_score)}\n",
        "\n",
        "scoring = ['precision', 'recall', 'f1']\n",
        "\n",
        "# define model\n",
        "model = KNeighborsClassifier()\n",
        "# evaluate pipeline\n",
        "cv = RepeatedStratifiedKFold(n_splits=10, n_repeats=3, random_state=42)\n",
        "scores = cross_validate(model, X, y, scoring= scoring, cv=cv, n_jobs=-1)\n",
        "print('Scores:', scores)"
      ]
    },
    {
      "cell_type": "code",
      "execution_count": null,
      "metadata": {
        "colab": {
          "base_uri": "https://localhost:8080/"
        },
        "id": "6n7Uh265WGjq",
        "outputId": "93335199-032e-4980-88ca-751439a5524e"
      },
      "outputs": [
        {
          "name": "stdout",
          "output_type": "stream",
          "text": [
            "Scores: {'fit_time': array([105.54068613, 105.26689839, 105.28089356, 105.40180492,\n",
            "       107.84946942, 107.71821141, 102.57548738, 102.79224849,\n",
            "       106.83076787, 107.35504198, 104.58415866, 105.6507802 ,\n",
            "       103.20806146, 105.20248342, 106.34847355, 103.18119478,\n",
            "       105.83648562, 106.2560823 , 107.30567312, 105.7116766 ,\n",
            "       103.38895845, 103.26471281, 106.01803613, 107.75825095,\n",
            "       105.27446461, 105.69495106, 104.4839046 , 106.68334341,\n",
            "       107.99886918, 105.17520499]), 'score_time': array([0.27323294, 0.23670197, 0.24615431, 0.43016434, 0.24394727,\n",
            "       0.23455215, 0.25787735, 0.22631526, 0.23271585, 0.24132729,\n",
            "       0.24486184, 0.25572777, 0.24344397, 0.54232764, 0.2398169 ,\n",
            "       0.24237156, 0.23909616, 0.49709153, 0.24343395, 0.27040052,\n",
            "       0.24137092, 0.25354671, 0.4819603 , 0.23724103, 0.25838161,\n",
            "       0.24816608, 0.24177098, 0.23844528, 0.24246931, 0.13913107]), 'test_precision': array([0.75147929, 0.76453488, 0.74053296, 0.77548006, 0.76126126,\n",
            "       0.7605225 , 0.76617647, 0.76      , 0.74709302, 0.75699558,\n",
            "       0.74777448, 0.76011994, 0.73221757, 0.74425727, 0.76642336,\n",
            "       0.75877193, 0.73157163, 0.73925501, 0.73571429, 0.7446198 ,\n",
            "       0.74449339, 0.75247525, 0.73245614, 0.74486804, 0.74455733,\n",
            "       0.76382661, 0.7660485 , 0.73088235, 0.7465374 , 0.76822157]), 'test_recall': array([0.71954674, 0.74504249, 0.74787535, 0.74257426, 0.71711457,\n",
            "       0.74115983, 0.73796034, 0.7266289 , 0.72804533, 0.72804533,\n",
            "       0.71388102, 0.71813031, 0.74362606, 0.6874116 , 0.74257426,\n",
            "       0.73408769, 0.74504249, 0.73087819, 0.72946176, 0.73512748,\n",
            "       0.71813031, 0.75354108, 0.70963173, 0.718529  , 0.72560113,\n",
            "       0.72277228, 0.76062323, 0.70396601, 0.76345609, 0.74645892]), 'test_f1': array([0.73516643, 0.75466284, 0.74418605, 0.75867052, 0.73852877,\n",
            "       0.75071633, 0.75180375, 0.7429399 , 0.7374462 , 0.74223827,\n",
            "       0.73043478, 0.73852877, 0.73787772, 0.71470588, 0.75431034,\n",
            "       0.74622574, 0.73824561, 0.73504274, 0.73257468, 0.73984319,\n",
            "       0.73107426, 0.75300778, 0.72086331, 0.73146148, 0.73495702,\n",
            "       0.74273256, 0.76332623, 0.71717172, 0.75490196, 0.75718391])}\n"
          ]
        }
      ],
      "source": [
        "# adaboost evaluated on re-balanced dataset\n",
        "from numpy import mean\n",
        "from sklearn.datasets import make_classification\n",
        "from sklearn.model_selection import cross_validate\n",
        "from sklearn.model_selection import RepeatedStratifiedKFold\n",
        "from sklearn.ensemble import AdaBoostClassifier\n",
        "from sklearn.metrics import accuracy_score, f1_score, precision_score, recall_score\n",
        "from sklearn.metrics import make_scorer\n",
        "\n",
        "# define scoring metrics\n",
        "scoring = {'accuracy': make_scorer(accuracy_score),\n",
        "            'precision': make_scorer(precision_score),\n",
        "           'recall': make_scorer(recall_score),\n",
        "           'f1': make_scorer(f1_score)}\n",
        "\n",
        "scoring = ['precision', 'recall', 'f1']\n",
        "\n",
        "# define model\n",
        "model = AdaBoostClassifier(random_state = 42)\n",
        "# evaluate pipeline\n",
        "cv = RepeatedStratifiedKFold(n_splits=10, n_repeats=3, random_state=42)\n",
        "scores = cross_validate(model, X, y, scoring= scoring, cv=cv, n_jobs=-1)\n",
        "print('Scores:', scores)"
      ]
    },
    {
      "cell_type": "code",
      "execution_count": null,
      "metadata": {
        "colab": {
          "base_uri": "https://localhost:8080/"
        },
        "id": "FaTVfkRCWOIf",
        "outputId": "688de47a-70c2-4472-aee5-d00cffb42678"
      },
      "outputs": [
        {
          "name": "stdout",
          "output_type": "stream",
          "text": [
            "Scores: {'fit_time': array([2.05913067, 1.79651356, 2.23692966, 2.42080569, 2.77512312,\n",
            "       2.3045547 , 2.03726268, 2.74677372, 2.61077023, 2.10115886,\n",
            "       3.38741684, 2.66523027, 2.48915768, 2.51042366, 2.07530499,\n",
            "       3.26309395, 3.52758765, 2.69896102, 1.73158145, 2.11934471,\n",
            "       2.23065782, 2.86521673, 2.3513391 , 2.88002491, 1.96823955,\n",
            "       2.66263008, 2.48644543, 4.75810289, 3.45556307, 1.71263027]), 'score_time': array([0.13396573, 0.15426564, 0.15399528, 0.39406157, 0.12667036,\n",
            "       0.14266992, 0.13220263, 0.15387702, 0.13262224, 0.45516539,\n",
            "       0.13976431, 0.13375735, 0.12969947, 0.14765835, 0.16593647,\n",
            "       0.30101156, 0.25630355, 0.13130713, 0.27455211, 0.12893558,\n",
            "       0.2300086 , 0.30243778, 0.31342554, 0.13252163, 0.13108206,\n",
            "       0.31021261, 0.30378819, 0.27954435, 0.23528433, 0.07753778]), 'test_precision': array([0.89648799, 0.88764045, 0.80713342, 0.91369606, 0.87106918,\n",
            "       0.74944072, 0.8175853 , 0.85692542, 0.95987654, 0.71022129,\n",
            "       0.79293544, 0.89144737, 0.82510013, 0.76173709, 0.69502075,\n",
            "       0.89236111, 0.91038697, 0.81552163, 0.77968176, 0.58719461,\n",
            "       0.68649194, 0.72180451, 0.90526316, 0.84730539, 0.6127067 ,\n",
            "       0.74390244, 0.91275168, 0.8043758 , 0.85560676, 0.900369  ]), 'test_recall': array([0.68696884, 0.78328612, 0.86543909, 0.68882603, 0.78359264,\n",
            "       0.9476662 , 0.88243626, 0.79745042, 0.44050992, 0.95467422,\n",
            "       0.92209632, 0.76770538, 0.87535411, 0.91796322, 0.9476662 ,\n",
            "       0.72701556, 0.63314448, 0.90793201, 0.90226629, 0.98725212,\n",
            "       0.96458924, 0.95184136, 0.60906516, 0.80056577, 0.99575672,\n",
            "       0.94908062, 0.77053824, 0.88526912, 0.78895184, 0.69121813]), 'test_f1': array([0.77786688, 0.83220467, 0.83526999, 0.78548387, 0.82501862,\n",
            "       0.83697689, 0.84877384, 0.82611886, 0.6038835 , 0.81450151,\n",
            "       0.85265226, 0.82496195, 0.84948454, 0.83258499, 0.80191502,\n",
            "       0.80124708, 0.74686717, 0.85924933, 0.83650689, 0.73639725,\n",
            "       0.80212014, 0.82101405, 0.72819644, 0.82327273, 0.75862069,\n",
            "       0.83405842, 0.83563748, 0.84288604, 0.82092852, 0.78205128])}\n"
          ]
        }
      ],
      "source": [
        "# passiveaggressiveclassifier evaluated on re-balanced dataset\n",
        "from numpy import mean\n",
        "from sklearn.datasets import make_classification\n",
        "from sklearn.model_selection import cross_validate\n",
        "from sklearn.model_selection import RepeatedStratifiedKFold\n",
        "from sklearn.linear_model import PassiveAggressiveClassifier\n",
        "from sklearn.metrics import accuracy_score, f1_score, precision_score, recall_score\n",
        "from sklearn.metrics import make_scorer\n",
        "\n",
        "# define scoring metrics\n",
        "scoring = {'accuracy': make_scorer(accuracy_score),\n",
        "            'precision': make_scorer(precision_score),\n",
        "           'recall': make_scorer(recall_score),\n",
        "           'f1': make_scorer(f1_score)}\n",
        "\n",
        "scoring = ['precision', 'recall', 'f1']\n",
        "\n",
        "# define model\n",
        "model = PassiveAggressiveClassifier(random_state = 42)\n",
        "# evaluate pipeline\n",
        "cv = RepeatedStratifiedKFold(n_splits=10, n_repeats=3, random_state=42)\n",
        "scores = cross_validate(model, X, y, scoring= scoring, cv=cv, n_jobs=-1)\n",
        "print('Scores:', scores)"
      ]
    },
    {
      "cell_type": "code",
      "execution_count": null,
      "metadata": {
        "colab": {
          "base_uri": "https://localhost:8080/"
        },
        "id": "UctmRM4GP0Xu",
        "outputId": "b97a71ba-e1eb-49a6-de56-0dc699ddc201"
      },
      "outputs": [
        {
          "name": "stdout",
          "output_type": "stream",
          "text": [
            "Scores: {'fit_time': array([63.70453596, 63.70869827, 65.23361254, 65.20233679, 65.29234147,\n",
            "       65.78260112, 62.26571584, 64.12142968, 66.20328879, 64.8923583 ,\n",
            "       64.10616159, 63.49430943, 64.45932937, 64.25569963, 62.1320343 ,\n",
            "       65.06257319, 68.02834988, 72.78442812, 64.29279375, 62.47790003,\n",
            "       62.01369572, 64.57836485, 64.28973007, 64.65200686, 62.36717892,\n",
            "       64.76543045, 64.52865148, 64.56748366, 60.67115164, 60.2023778 ]), 'score_time': array([0.57360125, 0.86824274, 0.55736923, 0.84713078, 0.61063862,\n",
            "       0.58011007, 0.62876177, 1.08489347, 0.63977623, 0.59210658,\n",
            "       1.11570072, 1.17290044, 0.5574615 , 0.92915058, 1.30681229,\n",
            "       0.63448429, 1.2960825 , 0.87908816, 0.62956095, 0.60090709,\n",
            "       1.04053402, 0.59243059, 0.64625096, 0.59601712, 0.98766637,\n",
            "       0.59822941, 0.63554668, 0.67316747, 1.23250937, 0.30660796]), 'test_precision': array([0.89918699, 0.87405159, 0.87347561, 0.90609555, 0.87538462,\n",
            "       0.86297376, 0.88601824, 0.85882353, 0.90311419, 0.8248974 ,\n",
            "       0.85839416, 0.88942308, 0.87296898, 0.84795322, 0.85323741,\n",
            "       0.88871224, 0.88977636, 0.85365854, 0.85212299, 0.84393064,\n",
            "       0.84313725, 0.83426966, 0.89250814, 0.87175573, 0.83546099,\n",
            "       0.85840708, 0.89490446, 0.86895476, 0.85714286, 0.89099526]), 'test_recall': array([0.78328612, 0.81586402, 0.81161473, 0.77793494, 0.80480905,\n",
            "       0.83734088, 0.82577904, 0.82719547, 0.73937677, 0.85410765,\n",
            "       0.83286119, 0.78611898, 0.83711048, 0.82036775, 0.8387553 ,\n",
            "       0.79066478, 0.78895184, 0.8427762 , 0.82436261, 0.82719547,\n",
            "       0.85269122, 0.84135977, 0.77620397, 0.80763791, 0.8330976 ,\n",
            "       0.82319661, 0.79603399, 0.78895184, 0.80736544, 0.79886686]), 'test_f1': array([0.83724451, 0.84395604, 0.84140969, 0.83713851, 0.83861459,\n",
            "       0.84996411, 0.85483871, 0.84271284, 0.81308411, 0.83924843,\n",
            "       0.84543494, 0.83458647, 0.85466377, 0.83393242, 0.84593438,\n",
            "       0.83682635, 0.83633634, 0.84818247, 0.83801296, 0.83547926,\n",
            "       0.84788732, 0.83779972, 0.83030303, 0.83847283, 0.83427762,\n",
            "       0.84043321, 0.84257871, 0.82702301, 0.83150985, 0.84241972])}\n"
          ]
        }
      ],
      "source": [
        "# voting classifier evaluated on re-balanced dataset\n",
        "\n",
        "from sklearn.model_selection import cross_validate\n",
        "from sklearn.model_selection import RepeatedStratifiedKFold\n",
        "from sklearn.ensemble import VotingClassifier\n",
        "from sklearn.svm import LinearSVC\n",
        "from sklearn.ensemble import RandomForestClassifier\n",
        "from sklearn.linear_model import LogisticRegression\n",
        "from sklearn.metrics import accuracy_score, f1_score, precision_score, recall_score\n",
        "from sklearn.metrics import make_scorer\n",
        "\n",
        "# define scoring metrics\n",
        "scoring = ['precision', 'recall', 'f1']\n",
        "\n",
        "# prepare candidate classifiers\n",
        "rf_model = RandomForestClassifier(random_state = 42)\n",
        "lr_model = LogisticRegression(random_state = 42)\n",
        "svc_model = LinearSVC(random_state = 42)\n",
        "pac_model = PassiveAggressiveClassifier(random_state = 42)\n",
        "\n",
        "# define model\n",
        "model =  VotingClassifier(estimators=[('rf', rf_model), ('lr', lr_model), ('svc', svc_model), ('pac', pac_model)], voting='hard')\n",
        "# evaluate pipeline\n",
        "cv = RepeatedStratifiedKFold(n_splits=10, n_repeats=3, random_state=42)\n",
        "scores = cross_validate(model, X, y, scoring= scoring, cv=cv, n_jobs=-1)\n",
        "print('Scores:', scores)"
      ]
    },
    {
      "cell_type": "code",
      "execution_count": null,
      "metadata": {
        "colab": {
          "base_uri": "https://localhost:8080/"
        },
        "id": "V5TrOe5iq9sU",
        "outputId": "f9da60ec-7cbc-471b-baa7-6dd2c9d11380"
      },
      "outputs": [
        {
          "name": "stdout",
          "output_type": "stream",
          "text": [
            "Scores: {'fit_time': array([37.03542924, 36.34947205, 41.10257602, 41.43582749, 35.80289102,\n",
            "       37.45578885, 36.35295081, 35.79368353, 37.57451892, 37.60090017,\n",
            "       41.27088189, 43.05542207, 36.14631987, 35.57429242, 36.96601129,\n",
            "       37.31169534, 35.59765935, 35.61085033, 39.84781003, 38.41193986,\n",
            "       36.75185132, 31.15179014, 37.34583354, 35.28114963, 36.51735759,\n",
            "       37.68074512, 35.76828122, 35.42355347, 39.06646919, 39.03307867]), 'score_time': array([0.15719104, 0.17889023, 0.15678287, 0.14106226, 0.31544709,\n",
            "       0.29294157, 0.15537834, 0.14274669, 0.1642189 , 0.14178038,\n",
            "       0.33967948, 0.27077961, 0.17163825, 0.12361741, 0.15373945,\n",
            "       0.15031886, 0.15936923, 0.22706175, 0.1588335 , 0.15083432,\n",
            "       0.2854991 , 0.1556344 , 0.18381977, 0.15876627, 0.3356111 ,\n",
            "       0.15835166, 0.17633963, 0.15282369, 0.20818758, 0.07890368]), 'test_precision': array([0.89371257, 0.90072993, 0.90117994, 0.8751773 , 0.89064748,\n",
            "       0.91004498, 0.88209607, 0.88809182, 0.90427099, 0.89290883,\n",
            "       0.9018759 , 0.87430939, 0.90718563, 0.86134454, 0.89497041,\n",
            "       0.90704648, 0.88620199, 0.91887906, 0.87083333, 0.88662791,\n",
            "       0.88794326, 0.87252125, 0.89230769, 0.89940828, 0.88856729,\n",
            "       0.89248895, 0.91363636, 0.90361446, 0.87692308, 0.87447699]), 'test_recall': array([0.84560907, 0.87393768, 0.86543909, 0.87270156, 0.87553041,\n",
            "       0.85855728, 0.85835694, 0.87677054, 0.86968839, 0.87393768,\n",
            "       0.88526912, 0.89660057, 0.85835694, 0.8698727 , 0.85572843,\n",
            "       0.85572843, 0.88243626, 0.88243626, 0.88810198, 0.86402266,\n",
            "       0.88668555, 0.87252125, 0.90368272, 0.85997171, 0.86845827,\n",
            "       0.85714286, 0.85410765, 0.84985836, 0.88810198, 0.88810198]), 'test_f1': array([0.86899563, 0.88713156, 0.88294798, 0.87393768, 0.88302425,\n",
            "       0.88355167, 0.87006461, 0.88239487, 0.8866426 , 0.8833214 ,\n",
            "       0.89349535, 0.88531469, 0.88209607, 0.86558761, 0.87490962,\n",
            "       0.88064047, 0.88431512, 0.90028902, 0.87938289, 0.87517934,\n",
            "       0.88731396, 0.87252125, 0.89795918, 0.87924801, 0.87839771,\n",
            "       0.87445887, 0.88286969, 0.87591241, 0.88247713, 0.88123682])}\n"
          ]
        }
      ],
      "source": [
        "# neural network evaluated on re-balanced dataset\n",
        "from numpy import mean\n",
        "from sklearn.datasets import make_classification\n",
        "from sklearn.model_selection import cross_validate\n",
        "from sklearn.model_selection import RepeatedStratifiedKFold\n",
        "from sklearn.neural_network import MLPClassifier\n",
        "from sklearn.metrics import accuracy_score, f1_score, precision_score, recall_score\n",
        "from sklearn.metrics import make_scorer\n",
        "\n",
        "# define scoring metrics\n",
        "scoring = {'accuracy': make_scorer(accuracy_score),\n",
        "            'precision': make_scorer(precision_score),\n",
        "           'recall': make_scorer(recall_score),\n",
        "           'f1': make_scorer(f1_score)}\n",
        "\n",
        "scoring = ['precision', 'recall', 'f1']\n",
        "\n",
        "# define model\n",
        "model = MLPClassifier(hidden_layer_sizes=(20,10),random_state=42)\n",
        "# evaluate pipeline\n",
        "cv = RepeatedStratifiedKFold(n_splits=10, n_repeats=3, random_state=42)\n",
        "scores = cross_validate(model, X, y, scoring= scoring, cv=cv, n_jobs=-1)\n",
        "print('Scores:', scores)"
      ]
    },
    {
      "cell_type": "code",
      "source": [
        "# classification report on CV with VotingClassifier\n",
        "import numpy as np\n",
        "from sklearn.model_selection import cross_validate, cross_val_predict\n",
        "from sklearn.model_selection import RepeatedStratifiedKFold\n",
        "from sklearn.ensemble import VotingClassifier\n",
        "from sklearn.svm import LinearSVC\n",
        "from sklearn.ensemble import RandomForestClassifier\n",
        "from sklearn.neural_network import MLPClassifier\n",
        "from sklearn.semi_supervised import SelfTrainingClassifier\n",
        "from sklearn.metrics import accuracy_score, f1_score, precision_score, recall_score, classification_report, make_scorer\n",
        "\n",
        "# define model\n",
        "model = MLPClassifier(hidden_layer_sizes=(20,10),random_state=42)\n",
        "\n",
        "classification_report_list = []\n",
        "# evaluate pipeline\n",
        "cv = RepeatedStratifiedKFold(n_splits=10, n_repeats=3, random_state=42)\n",
        "for train_index, test_index in cv.split(X, y):\n",
        "    x_train, x_test = np.array(X)[train_index], np.array(X)[test_index]\n",
        "    y_train, y_test = y[train_index], y[test_index]\n",
        "    model.fit(x_train, y_train)\n",
        "    y_pred = model.predict(x_test)\n",
        "    print(\"*** K-Fold Split Results ***\")\n",
        "    classification_report_results = classification_report(y_test, y_pred, output_dict=True)\n",
        "    print(classification_report_results)\n",
        "    classification_report_list.append(classification_report_results)"
      ],
      "metadata": {
        "colab": {
          "base_uri": "https://localhost:8080/"
        },
        "id": "DOVzkR27iyfX",
        "outputId": "6185c497-6ce1-4668-818b-88f55051df8a"
      },
      "execution_count": 28,
      "outputs": [
        {
          "output_type": "stream",
          "name": "stderr",
          "text": [
            "/usr/local/lib/python3.10/dist-packages/sklearn/neural_network/_multilayer_perceptron.py:686: ConvergenceWarning: Stochastic Optimizer: Maximum iterations (200) reached and the optimization hasn't converged yet.\n",
            "  warnings.warn(\n"
          ]
        },
        {
          "output_type": "stream",
          "name": "stdout",
          "text": [
            "*** K-Fold Split Results ***\n",
            "{'0': {'precision': 0.8596491228070176, 'recall': 0.900990099009901, 'f1-score': 0.8798342541436465, 'support': 707}, '1': {'precision': 0.8958333333333334, 'recall': 0.8526912181303116, 'f1-score': 0.8737300435413642, 'support': 706}, 'accuracy': 0.8768577494692145, 'macro avg': {'precision': 0.8777412280701755, 'recall': 0.8768406585701063, 'f1-score': 0.8767821488425054, 'support': 1413}, 'weighted avg': {'precision': 0.8777284240324804, 'recall': 0.8768577494692145, 'f1-score': 0.8767843088604114, 'support': 1413}}\n"
          ]
        },
        {
          "output_type": "stream",
          "name": "stderr",
          "text": [
            "/usr/local/lib/python3.10/dist-packages/sklearn/neural_network/_multilayer_perceptron.py:686: ConvergenceWarning: Stochastic Optimizer: Maximum iterations (200) reached and the optimization hasn't converged yet.\n",
            "  warnings.warn(\n"
          ]
        },
        {
          "output_type": "stream",
          "name": "stdout",
          "text": [
            "*** K-Fold Split Results ***\n",
            "{'0': {'precision': 0.891213389121339, 'recall': 0.9038189533239038, 'f1-score': 0.8974719101123596, 'support': 707}, '1': {'precision': 0.9022988505747126, 'recall': 0.8895184135977338, 'f1-score': 0.8958630527817403, 'support': 706}, 'accuracy': 0.8966737438075018, 'macro avg': {'precision': 0.8967561198480258, 'recall': 0.8966686834608188, 'f1-score': 0.8966674814470499, 'support': 1413}, 'weighted avg': {'precision': 0.8967521971794294, 'recall': 0.8966737438075018, 'f1-score': 0.8966680507525455, 'support': 1413}}\n"
          ]
        },
        {
          "output_type": "stream",
          "name": "stderr",
          "text": [
            "/usr/local/lib/python3.10/dist-packages/sklearn/neural_network/_multilayer_perceptron.py:686: ConvergenceWarning: Stochastic Optimizer: Maximum iterations (200) reached and the optimization hasn't converged yet.\n",
            "  warnings.warn(\n"
          ]
        },
        {
          "output_type": "stream",
          "name": "stdout",
          "text": [
            "*** K-Fold Split Results ***\n",
            "{'0': {'precision': 0.8847795163584637, 'recall': 0.8797736916548797, 'f1-score': 0.8822695035460992, 'support': 707}, '1': {'precision': 0.8802816901408451, 'recall': 0.8852691218130312, 'f1-score': 0.882768361581921, 'support': 706}, 'accuracy': 0.8825194621372965, 'macro avg': {'precision': 0.8825306032496545, 'recall': 0.8825214067339555, 'f1-score': 0.8825189325640102, 'support': 1413}, 'weighted avg': {'precision': 0.8825321948371341, 'recall': 0.8825194621372965, 'f1-score': 0.8825187560395813, 'support': 1413}}\n"
          ]
        },
        {
          "output_type": "stream",
          "name": "stderr",
          "text": [
            "/usr/local/lib/python3.10/dist-packages/sklearn/neural_network/_multilayer_perceptron.py:686: ConvergenceWarning: Stochastic Optimizer: Maximum iterations (200) reached and the optimization hasn't converged yet.\n",
            "  warnings.warn(\n"
          ]
        },
        {
          "output_type": "stream",
          "name": "stdout",
          "text": [
            "*** K-Fold Split Results ***\n",
            "{'0': {'precision': 0.8748299319727891, 'recall': 0.9107648725212465, 'f1-score': 0.8924358084663429, 'support': 706}, '1': {'precision': 0.9070796460176991, 'recall': 0.8698727015558698, 'f1-score': 0.8880866425992779, 'support': 707}, 'accuracy': 0.8903043170559094, 'macro avg': {'precision': 0.890954788995244, 'recall': 0.8903187870385582, 'f1-score': 0.8902612255328104, 'support': 1413}, 'weighted avg': {'precision': 0.8909662007836534, 'recall': 0.8903043170559094, 'f1-score': 0.8902596865498426, 'support': 1413}}\n"
          ]
        },
        {
          "output_type": "stream",
          "name": "stderr",
          "text": [
            "/usr/local/lib/python3.10/dist-packages/sklearn/neural_network/_multilayer_perceptron.py:686: ConvergenceWarning: Stochastic Optimizer: Maximum iterations (200) reached and the optimization hasn't converged yet.\n",
            "  warnings.warn(\n"
          ]
        },
        {
          "output_type": "stream",
          "name": "stdout",
          "text": [
            "*** K-Fold Split Results ***\n",
            "{'0': {'precision': 0.8761904761904762, 'recall': 0.9121813031161473, 'f1-score': 0.8938237335183901, 'support': 706}, '1': {'precision': 0.9085545722713865, 'recall': 0.8712871287128713, 'f1-score': 0.8895306859205776, 'support': 707}, 'accuracy': 0.89171974522293, 'macro avg': {'precision': 0.8923725242309313, 'recall': 0.8917342159145093, 'f1-score': 0.8916772097194838, 'support': 1413}, 'weighted avg': {'precision': 0.8923839764942296, 'recall': 0.89171974522293, 'f1-score': 0.8916756905943608, 'support': 1413}}\n"
          ]
        },
        {
          "output_type": "stream",
          "name": "stderr",
          "text": [
            "/usr/local/lib/python3.10/dist-packages/sklearn/neural_network/_multilayer_perceptron.py:686: ConvergenceWarning: Stochastic Optimizer: Maximum iterations (200) reached and the optimization hasn't converged yet.\n",
            "  warnings.warn(\n"
          ]
        },
        {
          "output_type": "stream",
          "name": "stdout",
          "text": [
            "*** K-Fold Split Results ***\n",
            "{'0': {'precision': 0.8605898123324397, 'recall': 0.9093484419263456, 'f1-score': 0.884297520661157, 'support': 706}, '1': {'precision': 0.904047976011994, 'recall': 0.8528995756718529, 'f1-score': 0.8777292576419216, 'support': 707}, 'accuracy': 0.881104033970276, 'macro avg': {'precision': 0.8823188941722169, 'recall': 0.8811240087990992, 'f1-score': 0.8810133891515393, 'support': 1413}, 'weighted avg': {'precision': 0.8823342721494566, 'recall': 0.881104033970276, 'f1-score': 0.8810110649254178, 'support': 1413}}\n"
          ]
        },
        {
          "output_type": "stream",
          "name": "stderr",
          "text": [
            "/usr/local/lib/python3.10/dist-packages/sklearn/neural_network/_multilayer_perceptron.py:686: ConvergenceWarning: Stochastic Optimizer: Maximum iterations (200) reached and the optimization hasn't converged yet.\n",
            "  warnings.warn(\n"
          ]
        },
        {
          "output_type": "stream",
          "name": "stdout",
          "text": [
            "*** K-Fold Split Results ***\n",
            "{'0': {'precision': 0.8743169398907104, 'recall': 0.9065155807365439, 'f1-score': 0.890125173852573, 'support': 706}, '1': {'precision': 0.9029411764705882, 'recall': 0.8696883852691218, 'f1-score': 0.886002886002886, 'support': 706}, 'accuracy': 0.8881019830028328, 'macro avg': {'precision': 0.8886290581806493, 'recall': 0.8881019830028329, 'f1-score': 0.8880640299277295, 'support': 1412}, 'weighted avg': {'precision': 0.8886290581806493, 'recall': 0.8881019830028328, 'f1-score': 0.8880640299277295, 'support': 1412}}\n",
            "*** K-Fold Split Results ***\n",
            "{'0': {'precision': 0.8954802259887006, 'recall': 0.8980169971671388, 'f1-score': 0.8967468175388967, 'support': 706}, '1': {'precision': 0.8977272727272727, 'recall': 0.8951841359773371, 'f1-score': 0.8964539007092198, 'support': 706}, 'accuracy': 0.896600566572238, 'macro avg': {'precision': 0.8966037493579866, 'recall': 0.896600566572238, 'f1-score': 0.8966003591240583, 'support': 1412}, 'weighted avg': {'precision': 0.8966037493579867, 'recall': 0.896600566572238, 'f1-score': 0.8966003591240582, 'support': 1412}}\n"
          ]
        },
        {
          "output_type": "stream",
          "name": "stderr",
          "text": [
            "/usr/local/lib/python3.10/dist-packages/sklearn/neural_network/_multilayer_perceptron.py:686: ConvergenceWarning: Stochastic Optimizer: Maximum iterations (200) reached and the optimization hasn't converged yet.\n",
            "  warnings.warn(\n"
          ]
        },
        {
          "output_type": "stream",
          "name": "stdout",
          "text": [
            "*** K-Fold Split Results ***\n",
            "{'0': {'precision': 0.8623978201634878, 'recall': 0.896600566572238, 'f1-score': 0.8791666666666667, 'support': 706}, '1': {'precision': 0.8923303834808259, 'recall': 0.8569405099150141, 'f1-score': 0.8742774566473989, 'support': 706}, 'accuracy': 0.876770538243626, 'macro avg': {'precision': 0.8773641018221568, 'recall': 0.876770538243626, 'f1-score': 0.8767220616570328, 'support': 1412}, 'weighted avg': {'precision': 0.8773641018221568, 'recall': 0.876770538243626, 'f1-score': 0.8767220616570328, 'support': 1412}}\n",
            "*** K-Fold Split Results ***\n",
            "{'0': {'precision': 0.882768361581921, 'recall': 0.8852691218130312, 'f1-score': 0.884016973125884, 'support': 706}, '1': {'precision': 0.8849431818181818, 'recall': 0.8824362606232294, 'f1-score': 0.8836879432624114, 'support': 706}, 'accuracy': 0.8838526912181303, 'macro avg': {'precision': 0.8838557717000514, 'recall': 0.8838526912181304, 'f1-score': 0.8838524581941477, 'support': 1412}, 'weighted avg': {'precision': 0.8838557717000514, 'recall': 0.8838526912181303, 'f1-score': 0.8838524581941477, 'support': 1412}}\n"
          ]
        },
        {
          "output_type": "stream",
          "name": "stderr",
          "text": [
            "/usr/local/lib/python3.10/dist-packages/sklearn/neural_network/_multilayer_perceptron.py:686: ConvergenceWarning: Stochastic Optimizer: Maximum iterations (200) reached and the optimization hasn't converged yet.\n",
            "  warnings.warn(\n"
          ]
        },
        {
          "output_type": "stream",
          "name": "stdout",
          "text": [
            "*** K-Fold Split Results ***\n",
            "{'0': {'precision': 0.8798342541436464, 'recall': 0.900990099009901, 'f1-score': 0.8902865129280224, 'support': 707}, '1': {'precision': 0.8984034833091437, 'recall': 0.876770538243626, 'f1-score': 0.8874551971326164, 'support': 706}, 'accuracy': 0.8888888888888888, 'macro avg': {'precision': 0.889118868726395, 'recall': 0.8888803186267635, 'f1-score': 0.8888708550303195, 'support': 1413}, 'weighted avg': {'precision': 0.8891122978738948, 'recall': 0.8888888888888888, 'f1-score': 0.8888718569113512, 'support': 1413}}\n",
            "*** K-Fold Split Results ***\n",
            "{'0': {'precision': 0.8862690707350902, 'recall': 0.9038189533239038, 'f1-score': 0.8949579831932774, 'support': 707}, '1': {'precision': 0.9017341040462428, 'recall': 0.8838526912181303, 'f1-score': 0.8927038626609443, 'support': 706}, 'accuracy': 0.8938428874734607, 'macro avg': {'precision': 0.8940015873906665, 'recall': 0.893835822271017, 'f1-score': 0.8938309229271109, 'support': 1413}, 'weighted avg': {'precision': 0.8939961149797285, 'recall': 0.8938428874734607, 'f1-score': 0.8938317205635341, 'support': 1413}}\n"
          ]
        },
        {
          "output_type": "stream",
          "name": "stderr",
          "text": [
            "/usr/local/lib/python3.10/dist-packages/sklearn/neural_network/_multilayer_perceptron.py:686: ConvergenceWarning: Stochastic Optimizer: Maximum iterations (200) reached and the optimization hasn't converged yet.\n",
            "  warnings.warn(\n"
          ]
        },
        {
          "output_type": "stream",
          "name": "stdout",
          "text": [
            "*** K-Fold Split Results ***\n",
            "{'0': {'precision': 0.8672086720867209, 'recall': 0.9052333804809052, 'f1-score': 0.8858131487889273, 'support': 707}, '1': {'precision': 0.9007407407407407, 'recall': 0.8611898016997167, 'f1-score': 0.8805213613323678, 'support': 706}, 'accuracy': 0.8832271762208068, 'macro avg': {'precision': 0.8839747064137309, 'recall': 0.8832115910903109, 'f1-score': 0.8831672550606475, 'support': 1413}, 'weighted avg': {'precision': 0.8839628408551131, 'recall': 0.8832271762208068, 'f1-score': 0.8831691275969026, 'support': 1413}}\n"
          ]
        },
        {
          "output_type": "stream",
          "name": "stderr",
          "text": [
            "/usr/local/lib/python3.10/dist-packages/sklearn/neural_network/_multilayer_perceptron.py:686: ConvergenceWarning: Stochastic Optimizer: Maximum iterations (200) reached and the optimization hasn't converged yet.\n",
            "  warnings.warn(\n"
          ]
        },
        {
          "output_type": "stream",
          "name": "stdout",
          "text": [
            "*** K-Fold Split Results ***\n",
            "{'0': {'precision': 0.8623595505617978, 'recall': 0.8696883852691218, 'f1-score': 0.8660084626234134, 'support': 706}, '1': {'precision': 0.8687589158345221, 'recall': 0.8613861386138614, 'f1-score': 0.8650568181818183, 'support': 707}, 'accuracy': 0.8655343241330502, 'macro avg': {'precision': 0.86555923319816, 'recall': 0.8655372619414916, 'f1-score': 0.8655326404026158, 'support': 1413}, 'weighted avg': {'precision': 0.8655614976586244, 'recall': 0.8655343241330502, 'f1-score': 0.8655323036565289, 'support': 1413}}\n"
          ]
        },
        {
          "output_type": "stream",
          "name": "stderr",
          "text": [
            "/usr/local/lib/python3.10/dist-packages/sklearn/neural_network/_multilayer_perceptron.py:686: ConvergenceWarning: Stochastic Optimizer: Maximum iterations (200) reached and the optimization hasn't converged yet.\n",
            "  warnings.warn(\n"
          ]
        },
        {
          "output_type": "stream",
          "name": "stdout",
          "text": [
            "*** K-Fold Split Results ***\n",
            "{'0': {'precision': 0.8655126498002663, 'recall': 0.9206798866855525, 'f1-score': 0.8922443376801649, 'support': 706}, '1': {'precision': 0.9154078549848943, 'recall': 0.8571428571428571, 'f1-score': 0.8853177501826152, 'support': 707}, 'accuracy': 0.8888888888888888, 'macro avg': {'precision': 0.8904602523925803, 'recall': 0.8889113719142048, 'f1-score': 0.88878104393139, 'support': 1413}, 'weighted avg': {'precision': 0.8904779081622847, 'recall': 0.8888888888888888, 'f1-score': 0.8887785929096287, 'support': 1413}}\n"
          ]
        },
        {
          "output_type": "stream",
          "name": "stderr",
          "text": [
            "/usr/local/lib/python3.10/dist-packages/sklearn/neural_network/_multilayer_perceptron.py:686: ConvergenceWarning: Stochastic Optimizer: Maximum iterations (200) reached and the optimization hasn't converged yet.\n",
            "  warnings.warn(\n"
          ]
        },
        {
          "output_type": "stream",
          "name": "stdout",
          "text": [
            "*** K-Fold Split Results ***\n",
            "{'0': {'precision': 0.8578878748370273, 'recall': 0.9320113314447592, 'f1-score': 0.8934147997284454, 'support': 706}, '1': {'precision': 0.9256965944272446, 'recall': 0.8458274398868458, 'f1-score': 0.8839615668883961, 'support': 707}, 'accuracy': 0.8888888888888888, 'macro avg': {'precision': 0.891792234632136, 'recall': 0.8889193856658025, 'f1-score': 0.8886881833084208, 'support': 1413}, 'weighted avg': {'precision': 0.8918162292250553, 'recall': 0.8888888888888888, 'f1-score': 0.888684838215413, 'support': 1413}}\n"
          ]
        },
        {
          "output_type": "stream",
          "name": "stderr",
          "text": [
            "/usr/local/lib/python3.10/dist-packages/sklearn/neural_network/_multilayer_perceptron.py:686: ConvergenceWarning: Stochastic Optimizer: Maximum iterations (200) reached and the optimization hasn't converged yet.\n",
            "  warnings.warn(\n"
          ]
        },
        {
          "output_type": "stream",
          "name": "stdout",
          "text": [
            "*** K-Fold Split Results ***\n",
            "{'0': {'precision': 0.8727272727272727, 'recall': 0.8838526912181303, 'f1-score': 0.8782547501759324, 'support': 706}, '1': {'precision': 0.8823529411764706, 'recall': 0.8711048158640227, 'f1-score': 0.8766928011404134, 'support': 706}, 'accuracy': 0.8774787535410765, 'macro avg': {'precision': 0.8775401069518716, 'recall': 0.8774787535410764, 'f1-score': 0.8774737756581729, 'support': 1412}, 'weighted avg': {'precision': 0.8775401069518716, 'recall': 0.8774787535410765, 'f1-score': 0.8774737756581729, 'support': 1412}}\n"
          ]
        },
        {
          "output_type": "stream",
          "name": "stderr",
          "text": [
            "/usr/local/lib/python3.10/dist-packages/sklearn/neural_network/_multilayer_perceptron.py:686: ConvergenceWarning: Stochastic Optimizer: Maximum iterations (200) reached and the optimization hasn't converged yet.\n",
            "  warnings.warn(\n"
          ]
        },
        {
          "output_type": "stream",
          "name": "stdout",
          "text": [
            "*** K-Fold Split Results ***\n",
            "{'0': {'precision': 0.905367231638418, 'recall': 0.9079320113314447, 'f1-score': 0.9066478076379068, 'support': 706}, '1': {'precision': 0.9076704545454546, 'recall': 0.9050991501416431, 'f1-score': 0.9063829787234043, 'support': 706}, 'accuracy': 0.9065155807365439, 'macro avg': {'precision': 0.9065188430919363, 'recall': 0.9065155807365439, 'f1-score': 0.9065153931806555, 'support': 1412}, 'weighted avg': {'precision': 0.9065188430919364, 'recall': 0.9065155807365439, 'f1-score': 0.9065153931806557, 'support': 1412}}\n"
          ]
        },
        {
          "output_type": "stream",
          "name": "stderr",
          "text": [
            "/usr/local/lib/python3.10/dist-packages/sklearn/neural_network/_multilayer_perceptron.py:686: ConvergenceWarning: Stochastic Optimizer: Maximum iterations (200) reached and the optimization hasn't converged yet.\n",
            "  warnings.warn(\n"
          ]
        },
        {
          "output_type": "stream",
          "name": "stdout",
          "text": [
            "*** K-Fold Split Results ***\n",
            "{'0': {'precision': 0.875177304964539, 'recall': 0.8739376770538244, 'f1-score': 0.8745570517363571, 'support': 706}, '1': {'precision': 0.8741159830268741, 'recall': 0.8753541076487252, 'f1-score': 0.8747346072186836, 'support': 706}, 'accuracy': 0.8746458923512748, 'macro avg': {'precision': 0.8746466439957066, 'recall': 0.8746458923512748, 'f1-score': 0.8746458294775203, 'support': 1412}, 'weighted avg': {'precision': 0.8746466439957067, 'recall': 0.8746458923512748, 'f1-score': 0.8746458294775202, 'support': 1412}}\n"
          ]
        },
        {
          "output_type": "stream",
          "name": "stderr",
          "text": [
            "/usr/local/lib/python3.10/dist-packages/sklearn/neural_network/_multilayer_perceptron.py:686: ConvergenceWarning: Stochastic Optimizer: Maximum iterations (200) reached and the optimization hasn't converged yet.\n",
            "  warnings.warn(\n"
          ]
        },
        {
          "output_type": "stream",
          "name": "stdout",
          "text": [
            "*** K-Fold Split Results ***\n",
            "{'0': {'precision': 0.8772663877266388, 'recall': 0.8909348441926346, 'f1-score': 0.8840477863668306, 'support': 706}, '1': {'precision': 0.8892086330935252, 'recall': 0.8753541076487252, 'f1-score': 0.8822269807280514, 'support': 706}, 'accuracy': 0.8831444759206799, 'macro avg': {'precision': 0.883237510410082, 'recall': 0.8831444759206799, 'f1-score': 0.883137383547441, 'support': 1412}, 'weighted avg': {'precision': 0.8832375104100819, 'recall': 0.8831444759206799, 'f1-score': 0.883137383547441, 'support': 1412}}\n"
          ]
        },
        {
          "output_type": "stream",
          "name": "stderr",
          "text": [
            "/usr/local/lib/python3.10/dist-packages/sklearn/neural_network/_multilayer_perceptron.py:686: ConvergenceWarning: Stochastic Optimizer: Maximum iterations (200) reached and the optimization hasn't converged yet.\n",
            "  warnings.warn(\n"
          ]
        },
        {
          "output_type": "stream",
          "name": "stdout",
          "text": [
            "*** K-Fold Split Results ***\n",
            "{'0': {'precision': 0.8849431818181818, 'recall': 0.8811881188118812, 'f1-score': 0.8830616583982991, 'support': 707}, '1': {'precision': 0.8815232722143864, 'recall': 0.8852691218130312, 'f1-score': 0.8833922261484098, 'support': 706}, 'accuracy': 0.8832271762208068, 'macro avg': {'precision': 0.8832332270162842, 'recall': 0.8832286203124562, 'f1-score': 0.8832269422733545, 'support': 1413}, 'weighted avg': {'precision': 0.8832344371753796, 'recall': 0.8832271762208068, 'f1-score': 0.8832268252996284, 'support': 1413}}\n"
          ]
        },
        {
          "output_type": "stream",
          "name": "stderr",
          "text": [
            "/usr/local/lib/python3.10/dist-packages/sklearn/neural_network/_multilayer_perceptron.py:686: ConvergenceWarning: Stochastic Optimizer: Maximum iterations (200) reached and the optimization hasn't converged yet.\n",
            "  warnings.warn(\n"
          ]
        },
        {
          "output_type": "stream",
          "name": "stdout",
          "text": [
            "*** K-Fold Split Results ***\n",
            "{'0': {'precision': 0.8855072463768116, 'recall': 0.8642149929278642, 'f1-score': 0.8747315676449533, 'support': 707}, '1': {'precision': 0.8672199170124482, 'recall': 0.8881019830028328, 'f1-score': 0.8775367389783066, 'support': 706}, 'accuracy': 0.8761500353857041, 'macro avg': {'precision': 0.8763635816946298, 'recall': 0.8761584879653486, 'f1-score': 0.87613415331163, 'support': 1413}, 'weighted avg': {'precision': 0.8763700527949003, 'recall': 0.8761500353857041, 'f1-score': 0.8761331606820003, 'support': 1413}}\n"
          ]
        },
        {
          "output_type": "stream",
          "name": "stderr",
          "text": [
            "/usr/local/lib/python3.10/dist-packages/sklearn/neural_network/_multilayer_perceptron.py:686: ConvergenceWarning: Stochastic Optimizer: Maximum iterations (200) reached and the optimization hasn't converged yet.\n",
            "  warnings.warn(\n"
          ]
        },
        {
          "output_type": "stream",
          "name": "stdout",
          "text": [
            "*** K-Fold Split Results ***\n",
            "{'0': {'precision': 0.8923959827833573, 'recall': 0.8797736916548797, 'f1-score': 0.886039886039886, 'support': 707}, '1': {'precision': 0.8812849162011173, 'recall': 0.8937677053824362, 'f1-score': 0.8874824191279886, 'support': 706}, 'accuracy': 0.886765746638358, 'macro avg': {'precision': 0.8868404494922373, 'recall': 0.886770698518658, 'f1-score': 0.8867611525839374, 'support': 1413}, 'weighted avg': {'precision': 0.8868443812213889, 'recall': 0.886765746638358, 'f1-score': 0.8867606421334461, 'support': 1413}}\n"
          ]
        },
        {
          "output_type": "stream",
          "name": "stderr",
          "text": [
            "/usr/local/lib/python3.10/dist-packages/sklearn/neural_network/_multilayer_perceptron.py:686: ConvergenceWarning: Stochastic Optimizer: Maximum iterations (200) reached and the optimization hasn't converged yet.\n",
            "  warnings.warn(\n"
          ]
        },
        {
          "output_type": "stream",
          "name": "stdout",
          "text": [
            "*** K-Fold Split Results ***\n",
            "{'0': {'precision': 0.8667582417582418, 'recall': 0.8937677053824362, 'f1-score': 0.8800557880055788, 'support': 706}, '1': {'precision': 0.8905109489051095, 'recall': 0.8628005657708628, 'f1-score': 0.8764367816091955, 'support': 707}, 'accuracy': 0.8782731776362349, 'macro avg': {'precision': 0.8786345953316756, 'recall': 0.8782841355766495, 'f1-score': 0.8782462848073871, 'support': 1413}, 'weighted avg': {'precision': 0.8786430003943603, 'recall': 0.8782731776362349, 'f1-score': 0.8782450041964895, 'support': 1413}}\n"
          ]
        },
        {
          "output_type": "stream",
          "name": "stderr",
          "text": [
            "/usr/local/lib/python3.10/dist-packages/sklearn/neural_network/_multilayer_perceptron.py:686: ConvergenceWarning: Stochastic Optimizer: Maximum iterations (200) reached and the optimization hasn't converged yet.\n",
            "  warnings.warn(\n"
          ]
        },
        {
          "output_type": "stream",
          "name": "stdout",
          "text": [
            "*** K-Fold Split Results ***\n",
            "{'0': {'precision': 0.8788300835654597, 'recall': 0.8937677053824362, 'f1-score': 0.8862359550561798, 'support': 706}, '1': {'precision': 0.8920863309352518, 'recall': 0.8769448373408769, 'f1-score': 0.884450784593438, 'support': 707}, 'accuracy': 0.8853503184713376, 'macro avg': {'precision': 0.8854582072503557, 'recall': 0.8853562713616565, 'f1-score': 0.8853433698248089, 'support': 1413}, 'weighted avg': {'precision': 0.8854628980668346, 'recall': 0.8853503184713376, 'f1-score': 0.8853427381296699, 'support': 1413}}\n"
          ]
        },
        {
          "output_type": "stream",
          "name": "stderr",
          "text": [
            "/usr/local/lib/python3.10/dist-packages/sklearn/neural_network/_multilayer_perceptron.py:686: ConvergenceWarning: Stochastic Optimizer: Maximum iterations (200) reached and the optimization hasn't converged yet.\n",
            "  warnings.warn(\n"
          ]
        },
        {
          "output_type": "stream",
          "name": "stdout",
          "text": [
            "*** K-Fold Split Results ***\n",
            "{'0': {'precision': 0.8854024556616644, 'recall': 0.9192634560906515, 'f1-score': 0.9020152883947186, 'support': 706}, '1': {'precision': 0.9161764705882353, 'recall': 0.8811881188118812, 'f1-score': 0.8983417447728912, 'support': 707}, 'accuracy': 0.9002123142250531, 'macro avg': {'precision': 0.9007894631249498, 'recall': 0.9002257874512664, 'f1-score': 0.9001785165838049, 'support': 1413}, 'weighted avg': {'precision': 0.9008003527268348, 'recall': 0.9002123142250531, 'f1-score': 0.9001772166745261, 'support': 1413}}\n"
          ]
        },
        {
          "output_type": "stream",
          "name": "stderr",
          "text": [
            "/usr/local/lib/python3.10/dist-packages/sklearn/neural_network/_multilayer_perceptron.py:686: ConvergenceWarning: Stochastic Optimizer: Maximum iterations (200) reached and the optimization hasn't converged yet.\n",
            "  warnings.warn(\n"
          ]
        },
        {
          "output_type": "stream",
          "name": "stdout",
          "text": [
            "*** K-Fold Split Results ***\n",
            "{'0': {'precision': 0.8638743455497382, 'recall': 0.9348441926345609, 'f1-score': 0.8979591836734694, 'support': 706}, '1': {'precision': 0.9290123456790124, 'recall': 0.8526912181303116, 'f1-score': 0.8892171344165435, 'support': 706}, 'accuracy': 0.8937677053824362, 'macro avg': {'precision': 0.8964433456143752, 'recall': 0.8937677053824362, 'f1-score': 0.8935881590450064, 'support': 1412}, 'weighted avg': {'precision': 0.8964433456143752, 'recall': 0.8937677053824362, 'f1-score': 0.8935881590450063, 'support': 1412}}\n"
          ]
        },
        {
          "output_type": "stream",
          "name": "stderr",
          "text": [
            "/usr/local/lib/python3.10/dist-packages/sklearn/neural_network/_multilayer_perceptron.py:686: ConvergenceWarning: Stochastic Optimizer: Maximum iterations (200) reached and the optimization hasn't converged yet.\n",
            "  warnings.warn(\n"
          ]
        },
        {
          "output_type": "stream",
          "name": "stdout",
          "text": [
            "*** K-Fold Split Results ***\n",
            "{'0': {'precision': 0.8527027027027027, 'recall': 0.8937677053824362, 'f1-score': 0.8727524204702627, 'support': 706}, '1': {'precision': 0.8883928571428571, 'recall': 0.8456090651558074, 'f1-score': 0.8664731494920174, 'support': 706}, 'accuracy': 0.8696883852691218, 'macro avg': {'precision': 0.8705477799227799, 'recall': 0.8696883852691217, 'f1-score': 0.86961278498114, 'support': 1412}, 'weighted avg': {'precision': 0.87054777992278, 'recall': 0.8696883852691218, 'f1-score': 0.86961278498114, 'support': 1412}}\n"
          ]
        },
        {
          "output_type": "stream",
          "name": "stderr",
          "text": [
            "/usr/local/lib/python3.10/dist-packages/sklearn/neural_network/_multilayer_perceptron.py:686: ConvergenceWarning: Stochastic Optimizer: Maximum iterations (200) reached and the optimization hasn't converged yet.\n",
            "  warnings.warn(\n"
          ]
        },
        {
          "output_type": "stream",
          "name": "stdout",
          "text": [
            "*** K-Fold Split Results ***\n",
            "{'0': {'precision': 0.8821022727272727, 'recall': 0.8796033994334278, 'f1-score': 0.8808510638297872, 'support': 706}, '1': {'precision': 0.8799435028248588, 'recall': 0.8824362606232294, 'f1-score': 0.8811881188118812, 'support': 706}, 'accuracy': 0.8810198300283286, 'macro avg': {'precision': 0.8810228877760657, 'recall': 0.8810198300283286, 'f1-score': 0.8810195913208342, 'support': 1412}, 'weighted avg': {'precision': 0.8810228877760657, 'recall': 0.8810198300283286, 'f1-score': 0.8810195913208342, 'support': 1412}}\n",
            "*** K-Fold Split Results ***\n",
            "{'0': {'precision': 0.9035087719298246, 'recall': 0.8753541076487252, 'f1-score': 0.8892086330935253, 'support': 706}, '1': {'precision': 0.8791208791208791, 'recall': 0.9065155807365439, 'f1-score': 0.8926080892608089, 'support': 706}, 'accuracy': 0.8909348441926346, 'macro avg': {'precision': 0.8913148255253518, 'recall': 0.8909348441926346, 'f1-score': 0.8909083611771671, 'support': 1412}, 'weighted avg': {'precision': 0.8913148255253518, 'recall': 0.8909348441926346, 'f1-score': 0.890908361177167, 'support': 1412}}\n"
          ]
        },
        {
          "output_type": "stream",
          "name": "stderr",
          "text": [
            "/usr/local/lib/python3.10/dist-packages/sklearn/neural_network/_multilayer_perceptron.py:686: ConvergenceWarning: Stochastic Optimizer: Maximum iterations (200) reached and the optimization hasn't converged yet.\n",
            "  warnings.warn(\n"
          ]
        }
      ]
    },
    {
      "cell_type": "code",
      "source": [
        "# calculate average metrics for submission\n",
        "import numpy\n",
        "final_dict = {}\n",
        "final_dict['0-precision'] = []\n",
        "final_dict['0-recall'] = []\n",
        "final_dict['0-f1'] = []\n",
        "final_dict['1-precision'] = []\n",
        "final_dict['1-recall'] = []\n",
        "final_dict['1-f1'] = []\n",
        "final_dict['accuracy'] = []\n",
        "\n",
        "for dictionary in classification_report_list:\n",
        "    for key, inner_dict in dictionary.items():\n",
        "        if key == '0':\n",
        "            for inner_key in inner_dict.keys():\n",
        "                if inner_key == \"precision\":\n",
        "                    final_dict['0-precision'].append(inner_dict['precision'])\n",
        "                if inner_key == \"recall\":\n",
        "                    final_dict['0-recall'].append(inner_dict['recall'])\n",
        "                if inner_key == \"f1-score\":\n",
        "                    final_dict['0-f1'].append(inner_dict['f1-score'])\n",
        "        if key == '1':\n",
        "            for inner_key in inner_dict.keys():\n",
        "                if inner_key == \"precision\":\n",
        "                    final_dict['1-precision'].append(inner_dict['precision'])\n",
        "                if inner_key == \"recall\":\n",
        "                    final_dict['1-recall'].append(inner_dict['recall'])\n",
        "                if inner_key == \"f1-score\":\n",
        "                    final_dict['1-f1'].append(inner_dict['f1-score'])\n",
        "        if key == \"accuracy\":\n",
        "            final_dict['accuracy'].append(dictionary['accuracy'])\n",
        "\n",
        "\n",
        "for key in final_dict.keys():\n",
        "    final_dict[key] = numpy.average(final_dict[key])\n",
        "\n",
        "print(\"******** FINAL DICT ********\")\n",
        "print(final_dict)"
      ],
      "metadata": {
        "colab": {
          "base_uri": "https://localhost:8080/"
        },
        "id": "McgO7S9hqqy-",
        "outputId": "77bc31cb-3501-4c07-9a19-5067ea59309f"
      },
      "execution_count": 29,
      "outputs": [
        {
          "output_type": "stream",
          "name": "stdout",
          "text": [
            "******** FINAL DICT ********\n",
            "{'0-precision': 0.8769283716834008, '0-recall': 0.896930132106695, '0-f1': 0.886644414903265, '1-precision': 0.8948466409552037, '1-recall': 0.8738064518714114, '1-f1': 0.8840103780696502, 'accuracy': 0.8853650040397846}\n"
          ]
        }
      ]
    },
    {
      "cell_type": "code",
      "execution_count": null,
      "metadata": {
        "id": "UzLwALk3ugXd",
        "colab": {
          "base_uri": "https://localhost:8080/",
          "height": 36
        },
        "outputId": "03510626-9c95-45c6-f9a1-96ad6479901d"
      },
      "outputs": [
        {
          "output_type": "execute_result",
          "data": {
            "text/plain": [
              "\"\\nwith open(pkl_filename, 'rb') as file:\\n\\tpickle_model = pickle.load(file)\\n\""
            ],
            "application/vnd.google.colaboratory.intrinsic+json": {
              "type": "string"
            }
          },
          "metadata": {},
          "execution_count": 13
        }
      ],
      "source": [
        "# save model\n",
        "import pickle\n",
        "pkl_filename = 'voting_classifier_with_chatgpt_data.pkl'\n",
        "with open(pkl_filename, 'wb') as file:\n",
        "  pickle.dump(model, file)\n",
        "\n",
        "# load model\n",
        "\"\"\"\n",
        "with open(pkl_filename, 'rb') as file:\n",
        "\tpickle_model = pickle.load(file)\n",
        "\"\"\""
      ]
    },
    {
      "cell_type": "code",
      "execution_count": null,
      "metadata": {
        "colab": {
          "base_uri": "https://localhost:8080/"
        },
        "id": "Oy66ottuxH-9",
        "outputId": "9ada7258-883d-4cb9-846a-ac40dbab5bb7"
      },
      "outputs": [
        {
          "output_type": "stream",
          "name": "stdout",
          "text": [
            "Scores: {'fit_time': array([95.37238693, 95.50000882, 97.50235391, 96.26758766, 97.5069046 ,\n",
            "       96.19780254, 93.60567284, 97.41898942, 94.76310158, 93.97464061,\n",
            "       96.18827391, 96.91014314, 93.54418635, 98.11220121, 91.29829431,\n",
            "       96.99753666, 96.32576132, 97.28917718, 94.84302592, 94.31824183,\n",
            "       93.49002314, 95.34722614, 95.93378043, 97.63210559, 94.01193237,\n",
            "       96.9354105 , 92.94612122, 94.87039518, 95.49468207, 87.69752765]), 'score_time': array([0.47466207, 0.58083487, 0.4802072 , 0.56627655, 0.47927761,\n",
            "       0.46369314, 0.86930561, 0.49369335, 0.42710376, 0.48831272,\n",
            "       0.5130496 , 0.47988319, 0.92850089, 0.49995518, 0.45764518,\n",
            "       0.49163747, 0.47573304, 0.47123551, 0.94216728, 0.4735868 ,\n",
            "       0.50030947, 0.47378182, 0.48729491, 0.47416019, 0.94242287,\n",
            "       0.47420144, 0.47327065, 0.91763139, 0.47723413, 0.44091487]), 'test_precision': array([0.86901408, 0.89316239, 0.89714286, 0.89511494, 0.87535014,\n",
            "       0.89705882, 0.89048991, 0.87136929, 0.89035088, 0.87052342,\n",
            "       0.88983051, 0.88795518, 0.89358601, 0.87290503, 0.88142857,\n",
            "       0.90294118, 0.87190083, 0.89204545, 0.87707182, 0.8790436 ,\n",
            "       0.88809182, 0.86849315, 0.87933426, 0.89017341, 0.86363636,\n",
            "       0.88243626, 0.89912281, 0.88098694, 0.88011283, 0.89219858]), 'test_recall': array([0.87393768, 0.88810198, 0.88951841, 0.88118812, 0.88401697,\n",
            "       0.86280057, 0.87535411, 0.89235127, 0.86260623, 0.89518414,\n",
            "       0.89235127, 0.898017  , 0.86827195, 0.88401697, 0.87270156,\n",
            "       0.86845827, 0.89660057, 0.88951841, 0.89943343, 0.88526912,\n",
            "       0.87677054, 0.898017  , 0.898017  , 0.87128713, 0.88684583,\n",
            "       0.88118812, 0.87110482, 0.85977337, 0.88385269, 0.89093484]), 'test_f1': array([0.87146893, 0.890625  , 0.89331437, 0.88809694, 0.87966221,\n",
            "       0.87959625, 0.88285714, 0.88173548, 0.87625899, 0.88268156,\n",
            "       0.89108911, 0.89295775, 0.88074713, 0.87842586, 0.87704335,\n",
            "       0.8853641 , 0.88407821, 0.89078014, 0.88811189, 0.88214538,\n",
            "       0.88239487, 0.88300836, 0.88857744, 0.88062902, 0.87508723,\n",
            "       0.88181175, 0.88489209, 0.8702509 , 0.8819788 , 0.89156627])}\n"
          ]
        }
      ],
      "source": [
        "# voting classifier evaluated on re-balanced dataset\n",
        "\n",
        "from sklearn.model_selection import cross_validate\n",
        "from sklearn.model_selection import RepeatedStratifiedKFold\n",
        "from sklearn.ensemble import VotingClassifier\n",
        "from sklearn.svm import LinearSVC\n",
        "from sklearn.ensemble import RandomForestClassifier\n",
        "from sklearn.neural_network import MLPClassifier\n",
        "from sklearn.metrics import accuracy_score, f1_score, precision_score, recall_score\n",
        "from sklearn.metrics import make_scorer\n",
        "\n",
        "# define scoring metrics\n",
        "scoring = ['precision', 'recall', 'f1']\n",
        "\n",
        "# prepare candidate classifiers\n",
        "rf_model = RandomForestClassifier(random_state = 42)\n",
        "nn_model = MLPClassifier(hidden_layer_sizes=(20,10),random_state=42)\n",
        "svc_model = LinearSVC(random_state = 42)\n",
        "\n",
        "# define model\n",
        "model =  VotingClassifier(estimators=[('rf', rf_model), ('nn', nn_model), ('svc', svc_model)], voting='hard')\n",
        "# evaluate pipeline\n",
        "cv = RepeatedStratifiedKFold(n_splits=10, n_repeats=3, random_state=42)\n",
        "scores = cross_validate(model, X, y, scoring= scoring, cv=cv, n_jobs=-1)\n",
        "print('Scores:', scores)"
      ]
    },
    {
      "cell_type": "code",
      "source": [
        "# classification report on CV with VotingClassifier\n",
        "import numpy as np\n",
        "from sklearn.model_selection import cross_validate, cross_val_predict\n",
        "from sklearn.model_selection import RepeatedStratifiedKFold\n",
        "from sklearn.ensemble import VotingClassifier\n",
        "from sklearn.svm import LinearSVC\n",
        "from sklearn.ensemble import RandomForestClassifier\n",
        "from sklearn.neural_network import MLPClassifier\n",
        "from sklearn.semi_supervised import SelfTrainingClassifier\n",
        "from sklearn.metrics import accuracy_score, f1_score, precision_score, recall_score, classification_report, make_scorer\n",
        "\n",
        "# prepare candidate classifiers\n",
        "rf_model = RandomForestClassifier(random_state = 42)\n",
        "nn_model = MLPClassifier(hidden_layer_sizes=(20,10),random_state=42)\n",
        "svc_model = LinearSVC(random_state = 42)\n",
        "\n",
        "# define model\n",
        "model =  VotingClassifier(estimators=[('rf', rf_model), ('nn', nn_model), ('svc', svc_model)], voting='hard')\n",
        "\n",
        "classification_report_list = []\n",
        "# evaluate pipeline\n",
        "cv = RepeatedStratifiedKFold(n_splits=10, n_repeats=3, random_state=42)\n",
        "for train_index, test_index in cv.split(X, y):\n",
        "    x_train, x_test = np.array(X)[train_index], np.array(X)[test_index]\n",
        "    y_train, y_test = y[train_index], y[test_index]\n",
        "    model.fit(x_train, y_train)\n",
        "    y_pred = model.predict(x_test)\n",
        "    print(\"*** K-Fold Split Results ***\")\n",
        "    classification_report_results = classification_report(y_test, y_pred, output_dict=True)\n",
        "    print(classification_report_results)\n",
        "    classification_report_list.append(classification_report_results)"
      ],
      "metadata": {
        "colab": {
          "base_uri": "https://localhost:8080/"
        },
        "id": "id3BXAHGi6fF",
        "outputId": "6857b550-0ff3-46a7-a767-ad1d95aa9da2"
      },
      "execution_count": 30,
      "outputs": [
        {
          "output_type": "stream",
          "name": "stderr",
          "text": [
            "/usr/local/lib/python3.10/dist-packages/sklearn/neural_network/_multilayer_perceptron.py:686: ConvergenceWarning: Stochastic Optimizer: Maximum iterations (200) reached and the optimization hasn't converged yet.\n",
            "  warnings.warn(\n"
          ]
        },
        {
          "output_type": "stream",
          "name": "stdout",
          "text": [
            "*** K-Fold Split Results ***\n",
            "{'0': {'precision': 0.8685314685314686, 'recall': 0.8783592644978784, 'f1-score': 0.8734177215189873, 'support': 707}, '1': {'precision': 0.8767908309455588, 'recall': 0.8668555240793201, 'f1-score': 0.8717948717948717, 'support': 706}, 'accuracy': 0.8726114649681529, 'macro avg': {'precision': 0.8726611497385137, 'recall': 0.8726073942885992, 'f1-score': 0.8726062966569295, 'support': 1413}, 'weighted avg': {'precision': 0.872658227104963, 'recall': 0.8726114649681529, 'f1-score': 0.8726068709137321, 'support': 1413}}\n"
          ]
        },
        {
          "output_type": "stream",
          "name": "stderr",
          "text": [
            "/usr/local/lib/python3.10/dist-packages/sklearn/neural_network/_multilayer_perceptron.py:686: ConvergenceWarning: Stochastic Optimizer: Maximum iterations (200) reached and the optimization hasn't converged yet.\n",
            "  warnings.warn(\n"
          ]
        },
        {
          "output_type": "stream",
          "name": "stdout",
          "text": [
            "*** K-Fold Split Results ***\n",
            "{'0': {'precision': 0.8982558139534884, 'recall': 0.8741159830268741, 'f1-score': 0.8860215053763442, 'support': 707}, '1': {'precision': 0.8772413793103448, 'recall': 0.9008498583569405, 'f1-score': 0.888888888888889, 'support': 706}, 'accuracy': 0.8874734607218684, 'macro avg': {'precision': 0.8877485966319166, 'recall': 0.8874829206919073, 'f1-score': 0.8874551971326166, 'support': 1413}, 'weighted avg': {'precision': 0.8877560327375936, 'recall': 0.8874734607218684, 'f1-score': 0.8874541824887693, 'support': 1413}}\n"
          ]
        },
        {
          "output_type": "stream",
          "name": "stderr",
          "text": [
            "/usr/local/lib/python3.10/dist-packages/sklearn/neural_network/_multilayer_perceptron.py:686: ConvergenceWarning: Stochastic Optimizer: Maximum iterations (200) reached and the optimization hasn't converged yet.\n",
            "  warnings.warn(\n"
          ]
        },
        {
          "output_type": "stream",
          "name": "stdout",
          "text": [
            "*** K-Fold Split Results ***\n",
            "{'0': {'precision': 0.8839541547277937, 'recall': 0.8727015558698727, 'f1-score': 0.8782918149466192, 'support': 707}, '1': {'precision': 0.8741258741258742, 'recall': 0.8852691218130312, 'f1-score': 0.8796622097114708, 'support': 706}, 'accuracy': 0.8789808917197452, 'macro avg': {'precision': 0.879040014426834, 'recall': 0.8789853388414519, 'f1-score': 0.878977012329045, 'support': 1413}, 'weighted avg': {'precision': 0.8790434922331333, 'recall': 0.8789808917197452, 'f1-score': 0.8789765274052076, 'support': 1413}}\n"
          ]
        },
        {
          "output_type": "stream",
          "name": "stderr",
          "text": [
            "/usr/local/lib/python3.10/dist-packages/sklearn/neural_network/_multilayer_perceptron.py:686: ConvergenceWarning: Stochastic Optimizer: Maximum iterations (200) reached and the optimization hasn't converged yet.\n",
            "  warnings.warn(\n"
          ]
        },
        {
          "output_type": "stream",
          "name": "stdout",
          "text": [
            "*** K-Fold Split Results ***\n",
            "{'0': {'precision': 0.8832630098452883, 'recall': 0.8895184135977338, 'f1-score': 0.886379675370501, 'support': 706}, '1': {'precision': 0.8888888888888888, 'recall': 0.8826025459688827, 'f1-score': 0.8857345635202271, 'support': 707}, 'accuracy': 0.8860580325548478, 'macro avg': {'precision': 0.8860759493670886, 'recall': 0.8860604797833083, 'f1-score': 0.886057119445364, 'support': 1413}, 'weighted avg': {'precision': 0.8860779401240042, 'recall': 0.8860580325548478, 'f1-score': 0.8860568911679931, 'support': 1413}}\n"
          ]
        },
        {
          "output_type": "stream",
          "name": "stderr",
          "text": [
            "/usr/local/lib/python3.10/dist-packages/sklearn/neural_network/_multilayer_perceptron.py:686: ConvergenceWarning: Stochastic Optimizer: Maximum iterations (200) reached and the optimization hasn't converged yet.\n",
            "  warnings.warn(\n"
          ]
        },
        {
          "output_type": "stream",
          "name": "stdout",
          "text": [
            "*** K-Fold Split Results ***\n",
            "{'0': {'precision': 0.8874824191279888, 'recall': 0.8937677053824362, 'f1-score': 0.8906139731827805, 'support': 706}, '1': {'precision': 0.8931623931623932, 'recall': 0.8868458274398868, 'f1-score': 0.8899929027679205, 'support': 707}, 'accuracy': 0.8903043170559094, 'macro avg': {'precision': 0.890322406145191, 'recall': 0.8903067664111615, 'f1-score': 0.8903034379753505, 'support': 1413}, 'weighted avg': {'precision': 0.890324416044, 'recall': 0.8903043170559094, 'f1-score': 0.8903032182052109, 'support': 1413}}\n"
          ]
        },
        {
          "output_type": "stream",
          "name": "stderr",
          "text": [
            "/usr/local/lib/python3.10/dist-packages/sklearn/neural_network/_multilayer_perceptron.py:686: ConvergenceWarning: Stochastic Optimizer: Maximum iterations (200) reached and the optimization hasn't converged yet.\n",
            "  warnings.warn(\n"
          ]
        },
        {
          "output_type": "stream",
          "name": "stdout",
          "text": [
            "*** K-Fold Split Results ***\n",
            "{'0': {'precision': 0.8725490196078431, 'recall': 0.8824362606232294, 'f1-score': 0.8774647887323943, 'support': 706}, '1': {'precision': 0.8812589413447782, 'recall': 0.8712871287128713, 'f1-score': 0.8762446657183499, 'support': 707}, 'accuracy': 0.8768577494692145, 'macro avg': {'precision': 0.8769039804763107, 'recall': 0.8768616946680503, 'f1-score': 0.8768547272253722, 'support': 1413}, 'weighted avg': {'precision': 0.8769070625434504, 'recall': 0.8768577494692145, 'f1-score': 0.8768542954762518, 'support': 1413}}\n"
          ]
        },
        {
          "output_type": "stream",
          "name": "stderr",
          "text": [
            "/usr/local/lib/python3.10/dist-packages/sklearn/neural_network/_multilayer_perceptron.py:686: ConvergenceWarning: Stochastic Optimizer: Maximum iterations (200) reached and the optimization hasn't converged yet.\n",
            "  warnings.warn(\n"
          ]
        },
        {
          "output_type": "stream",
          "name": "stdout",
          "text": [
            "*** K-Fold Split Results ***\n",
            "{'0': {'precision': 0.8712328767123287, 'recall': 0.9008498583569405, 'f1-score': 0.8857938718662953, 'support': 706}, '1': {'precision': 0.8973607038123167, 'recall': 0.8668555240793201, 'f1-score': 0.8818443804034581, 'support': 706}, 'accuracy': 0.8838526912181303, 'macro avg': {'precision': 0.8842967902623227, 'recall': 0.8838526912181304, 'f1-score': 0.8838191261348767, 'support': 1412}, 'weighted avg': {'precision': 0.8842967902623228, 'recall': 0.8838526912181303, 'f1-score': 0.8838191261348768, 'support': 1412}}\n",
            "*** K-Fold Split Results ***\n",
            "{'0': {'precision': 0.902046783625731, 'recall': 0.8739376770538244, 'f1-score': 0.8877697841726618, 'support': 706}, '1': {'precision': 0.8777472527472527, 'recall': 0.9050991501416431, 'f1-score': 0.891213389121339, 'support': 706}, 'accuracy': 0.8895184135977338, 'macro avg': {'precision': 0.8898970181864918, 'recall': 0.8895184135977338, 'f1-score': 0.8894915866470003, 'support': 1412}, 'weighted avg': {'precision': 0.8898970181864918, 'recall': 0.8895184135977338, 'f1-score': 0.8894915866470003, 'support': 1412}}\n"
          ]
        },
        {
          "output_type": "stream",
          "name": "stderr",
          "text": [
            "/usr/local/lib/python3.10/dist-packages/sklearn/neural_network/_multilayer_perceptron.py:686: ConvergenceWarning: Stochastic Optimizer: Maximum iterations (200) reached and the optimization hasn't converged yet.\n",
            "  warnings.warn(\n"
          ]
        },
        {
          "output_type": "stream",
          "name": "stdout",
          "text": [
            "*** K-Fold Split Results ***\n",
            "{'0': {'precision': 0.8591160220994475, 'recall': 0.8810198300283286, 'f1-score': 0.8699300699300699, 'support': 706}, '1': {'precision': 0.877906976744186, 'recall': 0.8555240793201133, 'f1-score': 0.866571018651363, 'support': 706}, 'accuracy': 0.8682719546742209, 'macro avg': {'precision': 0.8685114994218168, 'recall': 0.868271954674221, 'f1-score': 0.8682505442907165, 'support': 1412}, 'weighted avg': {'precision': 0.8685114994218168, 'recall': 0.8682719546742209, 'f1-score': 0.8682505442907166, 'support': 1412}}\n",
            "*** K-Fold Split Results ***\n",
            "{'0': {'precision': 0.8832853025936599, 'recall': 0.8682719546742209, 'f1-score': 0.8757142857142857, 'support': 706}, '1': {'precision': 0.8704735376044568, 'recall': 0.8852691218130312, 'f1-score': 0.877808988764045, 'support': 706}, 'accuracy': 0.876770538243626, 'macro avg': {'precision': 0.8768794200990584, 'recall': 0.876770538243626, 'f1-score': 0.8767616372391653, 'support': 1412}, 'weighted avg': {'precision': 0.8768794200990584, 'recall': 0.876770538243626, 'f1-score': 0.8767616372391653, 'support': 1412}}\n"
          ]
        },
        {
          "output_type": "stream",
          "name": "stderr",
          "text": [
            "/usr/local/lib/python3.10/dist-packages/sklearn/neural_network/_multilayer_perceptron.py:686: ConvergenceWarning: Stochastic Optimizer: Maximum iterations (200) reached and the optimization hasn't converged yet.\n",
            "  warnings.warn(\n"
          ]
        },
        {
          "output_type": "stream",
          "name": "stdout",
          "text": [
            "*** K-Fold Split Results ***\n",
            "{'0': {'precision': 0.8758815232722144, 'recall': 0.8783592644978784, 'f1-score': 0.8771186440677966, 'support': 707}, '1': {'precision': 0.8778409090909091, 'recall': 0.8753541076487252, 'f1-score': 0.876595744680851, 'support': 706}, 'accuracy': 0.8768577494692145, 'macro avg': {'precision': 0.8768612161815617, 'recall': 0.8768566860733018, 'f1-score': 0.8768571943743237, 'support': 1413}, 'weighted avg': {'precision': 0.8768605228390923, 'recall': 0.8768577494692145, 'f1-score': 0.8768573794059541, 'support': 1413}}\n",
            "*** K-Fold Split Results ***\n",
            "{'0': {'precision': 0.8803894297635605, 'recall': 0.8953323903818954, 'f1-score': 0.8877980364656382, 'support': 707}, '1': {'precision': 0.8933717579250721, 'recall': 0.8781869688385269, 'f1-score': 0.8857142857142858, 'support': 706}, 'accuracy': 0.886765746638358, 'macro avg': {'precision': 0.8868805938443163, 'recall': 0.8867596796102111, 'f1-score': 0.8867561610899619, 'support': 1413}, 'weighted avg': {'precision': 0.8868759999560779, 'recall': 0.886765746638358, 'f1-score': 0.8867568984398385, 'support': 1413}}\n"
          ]
        },
        {
          "output_type": "stream",
          "name": "stderr",
          "text": [
            "/usr/local/lib/python3.10/dist-packages/sklearn/neural_network/_multilayer_perceptron.py:686: ConvergenceWarning: Stochastic Optimizer: Maximum iterations (200) reached and the optimization hasn't converged yet.\n",
            "  warnings.warn(\n"
          ]
        },
        {
          "output_type": "stream",
          "name": "stdout",
          "text": [
            "*** K-Fold Split Results ***\n",
            "{'0': {'precision': 0.8931623931623932, 'recall': 0.8868458274398868, 'f1-score': 0.8899929027679205, 'support': 707}, '1': {'precision': 0.8874824191279888, 'recall': 0.8937677053824362, 'f1-score': 0.8906139731827805, 'support': 706}, 'accuracy': 0.8903043170559094, 'macro avg': {'precision': 0.890322406145191, 'recall': 0.8903067664111615, 'f1-score': 0.8903034379753505, 'support': 1413}, 'weighted avg': {'precision': 0.890324416044, 'recall': 0.8903043170559094, 'f1-score': 0.8903032182052109, 'support': 1413}}\n"
          ]
        },
        {
          "output_type": "stream",
          "name": "stderr",
          "text": [
            "/usr/local/lib/python3.10/dist-packages/sklearn/neural_network/_multilayer_perceptron.py:686: ConvergenceWarning: Stochastic Optimizer: Maximum iterations (200) reached and the optimization hasn't converged yet.\n",
            "  warnings.warn(\n"
          ]
        },
        {
          "output_type": "stream",
          "name": "stdout",
          "text": [
            "*** K-Fold Split Results ***\n",
            "{'0': {'precision': 0.8589928057553957, 'recall': 0.8456090651558074, 'f1-score': 0.8522483940042827, 'support': 706}, '1': {'precision': 0.8481894150417827, 'recall': 0.8613861386138614, 'f1-score': 0.8547368421052632, 'support': 707}, 'accuracy': 0.8535031847133758, 'macro avg': {'precision': 0.8535911103985891, 'recall': 0.8534976018848344, 'f1-score': 0.853492618054773, 'support': 1413}, 'weighted avg': {'precision': 0.8535872875427103, 'recall': 0.8535031847133758, 'f1-score': 0.8534934986096565, 'support': 1413}}\n"
          ]
        },
        {
          "output_type": "stream",
          "name": "stderr",
          "text": [
            "/usr/local/lib/python3.10/dist-packages/sklearn/neural_network/_multilayer_perceptron.py:686: ConvergenceWarning: Stochastic Optimizer: Maximum iterations (200) reached and the optimization hasn't converged yet.\n",
            "  warnings.warn(\n"
          ]
        },
        {
          "output_type": "stream",
          "name": "stdout",
          "text": [
            "*** K-Fold Split Results ***\n",
            "{'0': {'precision': 0.8717598908594816, 'recall': 0.9050991501416431, 'f1-score': 0.8881167477414872, 'support': 706}, '1': {'precision': 0.9014705882352941, 'recall': 0.867043847241867, 'f1-score': 0.8839221341023792, 'support': 707}, 'accuracy': 0.8860580325548478, 'macro avg': {'precision': 0.8866152395473879, 'recall': 0.886071498691755, 'f1-score': 0.8860194409219332, 'support': 1413}, 'weighted avg': {'precision': 0.8866257528868697, 'recall': 0.8860580325548478, 'f1-score': 0.8860179566283596, 'support': 1413}}\n"
          ]
        },
        {
          "output_type": "stream",
          "name": "stderr",
          "text": [
            "/usr/local/lib/python3.10/dist-packages/sklearn/neural_network/_multilayer_perceptron.py:686: ConvergenceWarning: Stochastic Optimizer: Maximum iterations (200) reached and the optimization hasn't converged yet.\n",
            "  warnings.warn(\n"
          ]
        },
        {
          "output_type": "stream",
          "name": "stdout",
          "text": [
            "*** K-Fold Split Results ***\n",
            "{'0': {'precision': 0.8762035763411279, 'recall': 0.9022662889518414, 'f1-score': 0.8890439637124913, 'support': 706}, '1': {'precision': 0.8994169096209913, 'recall': 0.8727015558698727, 'f1-score': 0.8858578607322326, 'support': 707}, 'accuracy': 0.8874734607218684, 'macro avg': {'precision': 0.8878102429810596, 'recall': 0.887483922410857, 'f1-score': 0.8874509122223619, 'support': 1413}, 'weighted avg': {'precision': 0.8878184571825032, 'recall': 0.8874734607218684, 'f1-score': 0.8874497847973866, 'support': 1413}}\n"
          ]
        },
        {
          "output_type": "stream",
          "name": "stderr",
          "text": [
            "/usr/local/lib/python3.10/dist-packages/sklearn/neural_network/_multilayer_perceptron.py:686: ConvergenceWarning: Stochastic Optimizer: Maximum iterations (200) reached and the optimization hasn't converged yet.\n",
            "  warnings.warn(\n"
          ]
        },
        {
          "output_type": "stream",
          "name": "stdout",
          "text": [
            "*** K-Fold Split Results ***\n",
            "{'0': {'precision': 0.8927536231884058, 'recall': 0.8725212464589235, 'f1-score': 0.8825214899713467, 'support': 706}, '1': {'precision': 0.8753462603878116, 'recall': 0.8951841359773371, 'f1-score': 0.8851540616246499, 'support': 706}, 'accuracy': 0.8838526912181303, 'macro avg': {'precision': 0.8840499417881087, 'recall': 0.8838526912181304, 'f1-score': 0.8838377757979983, 'support': 1412}, 'weighted avg': {'precision': 0.8840499417881086, 'recall': 0.8838526912181303, 'f1-score': 0.8838377757979984, 'support': 1412}}\n"
          ]
        },
        {
          "output_type": "stream",
          "name": "stderr",
          "text": [
            "/usr/local/lib/python3.10/dist-packages/sklearn/neural_network/_multilayer_perceptron.py:686: ConvergenceWarning: Stochastic Optimizer: Maximum iterations (200) reached and the optimization hasn't converged yet.\n",
            "  warnings.warn(\n"
          ]
        },
        {
          "output_type": "stream",
          "name": "stdout",
          "text": [
            "*** K-Fold Split Results ***\n",
            "{'0': {'precision': 0.8927038626609443, 'recall': 0.8838526912181303, 'f1-score': 0.8882562277580072, 'support': 706}, '1': {'precision': 0.884992987377279, 'recall': 0.8937677053824362, 'f1-score': 0.8893587033121916, 'support': 706}, 'accuracy': 0.8888101983002833, 'macro avg': {'precision': 0.8888484250191117, 'recall': 0.8888101983002832, 'f1-score': 0.8888074655350994, 'support': 1412}, 'weighted avg': {'precision': 0.8888484250191117, 'recall': 0.8888101983002833, 'f1-score': 0.8888074655350995, 'support': 1412}}\n"
          ]
        },
        {
          "output_type": "stream",
          "name": "stderr",
          "text": [
            "/usr/local/lib/python3.10/dist-packages/sklearn/neural_network/_multilayer_perceptron.py:686: ConvergenceWarning: Stochastic Optimizer: Maximum iterations (200) reached and the optimization hasn't converged yet.\n",
            "  warnings.warn(\n"
          ]
        },
        {
          "output_type": "stream",
          "name": "stdout",
          "text": [
            "*** K-Fold Split Results ***\n",
            "{'0': {'precision': 0.8997050147492626, 'recall': 0.8640226628895185, 'f1-score': 0.8815028901734104, 'support': 706}, '1': {'precision': 0.8692098092643051, 'recall': 0.9036827195467422, 'f1-score': 0.8861111111111111, 'support': 706}, 'accuracy': 0.8838526912181303, 'macro avg': {'precision': 0.8844574120067838, 'recall': 0.8838526912181304, 'f1-score': 0.8838070006422607, 'support': 1412}, 'weighted avg': {'precision': 0.8844574120067837, 'recall': 0.8838526912181303, 'f1-score': 0.8838070006422608, 'support': 1412}}\n"
          ]
        },
        {
          "output_type": "stream",
          "name": "stderr",
          "text": [
            "/usr/local/lib/python3.10/dist-packages/sklearn/neural_network/_multilayer_perceptron.py:686: ConvergenceWarning: Stochastic Optimizer: Maximum iterations (200) reached and the optimization hasn't converged yet.\n",
            "  warnings.warn(\n"
          ]
        },
        {
          "output_type": "stream",
          "name": "stdout",
          "text": [
            "*** K-Fold Split Results ***\n",
            "{'0': {'precision': 0.8884120171673819, 'recall': 0.8796033994334278, 'f1-score': 0.8839857651245551, 'support': 706}, '1': {'precision': 0.8807854137447405, 'recall': 0.8895184135977338, 'f1-score': 0.8851303735024666, 'support': 706}, 'accuracy': 0.8845609065155807, 'macro avg': {'precision': 0.8845987154560613, 'recall': 0.8845609065155808, 'f1-score': 0.8845580693135109, 'support': 1412}, 'weighted avg': {'precision': 0.8845987154560613, 'recall': 0.8845609065155807, 'f1-score': 0.884558069313511, 'support': 1412}}\n"
          ]
        },
        {
          "output_type": "stream",
          "name": "stderr",
          "text": [
            "/usr/local/lib/python3.10/dist-packages/sklearn/neural_network/_multilayer_perceptron.py:686: ConvergenceWarning: Stochastic Optimizer: Maximum iterations (200) reached and the optimization hasn't converged yet.\n",
            "  warnings.warn(\n"
          ]
        },
        {
          "output_type": "stream",
          "name": "stdout",
          "text": [
            "*** K-Fold Split Results ***\n",
            "{'0': {'precision': 0.8794326241134752, 'recall': 0.8769448373408769, 'f1-score': 0.8781869688385269, 'support': 707}, '1': {'precision': 0.8771186440677966, 'recall': 0.8796033994334278, 'f1-score': 0.8783592644978784, 'support': 706}, 'accuracy': 0.8782731776362349, 'macro avg': {'precision': 0.8782756340906359, 'recall': 0.8782741183871523, 'f1-score': 0.8782731166682026, 'support': 1413}, 'weighted avg': {'precision': 0.8782764529087697, 'recall': 0.8782731776362349, 'f1-score': 0.8782730557001702, 'support': 1413}}\n"
          ]
        },
        {
          "output_type": "stream",
          "name": "stderr",
          "text": [
            "/usr/local/lib/python3.10/dist-packages/sklearn/neural_network/_multilayer_perceptron.py:686: ConvergenceWarning: Stochastic Optimizer: Maximum iterations (200) reached and the optimization hasn't converged yet.\n",
            "  warnings.warn(\n"
          ]
        },
        {
          "output_type": "stream",
          "name": "stdout",
          "text": [
            "*** K-Fold Split Results ***\n",
            "{'0': {'precision': 0.8883994126284875, 'recall': 0.8557284299858557, 'f1-score': 0.8717579250720461, 'support': 707}, '1': {'precision': 0.860655737704918, 'recall': 0.8923512747875354, 'f1-score': 0.8762169680111265, 'support': 706}, 'accuracy': 0.8740268931351733, 'macro avg': {'precision': 0.8745275751667028, 'recall': 0.8740398523866956, 'f1-score': 0.8739874465415862, 'support': 1413}, 'weighted avg': {'precision': 0.8745373924614387, 'recall': 0.8740268931351733, 'f1-score': 0.8739858686778429, 'support': 1413}}\n"
          ]
        },
        {
          "output_type": "stream",
          "name": "stderr",
          "text": [
            "/usr/local/lib/python3.10/dist-packages/sklearn/neural_network/_multilayer_perceptron.py:686: ConvergenceWarning: Stochastic Optimizer: Maximum iterations (200) reached and the optimization hasn't converged yet.\n",
            "  warnings.warn(\n"
          ]
        },
        {
          "output_type": "stream",
          "name": "stdout",
          "text": [
            "*** K-Fold Split Results ***\n",
            "{'0': {'precision': 0.8949640287769784, 'recall': 0.8797736916548797, 'f1-score': 0.8873038516405136, 'support': 707}, '1': {'precision': 0.8816155988857939, 'recall': 0.896600566572238, 'f1-score': 0.8890449438202248, 'support': 706}, 'accuracy': 0.8881811748053786, 'macro avg': {'precision': 0.8882898138313862, 'recall': 0.8881871291135588, 'f1-score': 0.8881743977303692, 'support': 1413}, 'weighted avg': {'precision': 0.8882945372672996, 'recall': 0.8881811748053786, 'f1-score': 0.8881737816326412, 'support': 1413}}\n"
          ]
        },
        {
          "output_type": "stream",
          "name": "stderr",
          "text": [
            "/usr/local/lib/python3.10/dist-packages/sklearn/neural_network/_multilayer_perceptron.py:686: ConvergenceWarning: Stochastic Optimizer: Maximum iterations (200) reached and the optimization hasn't converged yet.\n",
            "  warnings.warn(\n"
          ]
        },
        {
          "output_type": "stream",
          "name": "stdout",
          "text": [
            "*** K-Fold Split Results ***\n",
            "{'0': {'precision': 0.8675034867503487, 'recall': 0.8810198300283286, 'f1-score': 0.8742094167252284, 'support': 706}, '1': {'precision': 0.8793103448275862, 'recall': 0.8656294200848657, 'f1-score': 0.872416250890948, 'support': 707}, 'accuracy': 0.8733191790516631, 'macro avg': {'precision': 0.8734069157889675, 'recall': 0.8733246250565971, 'f1-score': 0.8733128338080882, 'support': 1413}, 'weighted avg': {'precision': 0.8734110937288392, 'recall': 0.8733191790516631, 'f1-score': 0.8733121992837307, 'support': 1413}}\n"
          ]
        },
        {
          "output_type": "stream",
          "name": "stderr",
          "text": [
            "/usr/local/lib/python3.10/dist-packages/sklearn/neural_network/_multilayer_perceptron.py:686: ConvergenceWarning: Stochastic Optimizer: Maximum iterations (200) reached and the optimization hasn't converged yet.\n",
            "  warnings.warn(\n"
          ]
        },
        {
          "output_type": "stream",
          "name": "stdout",
          "text": [
            "*** K-Fold Split Results ***\n",
            "{'0': {'precision': 0.8884120171673819, 'recall': 0.8796033994334278, 'f1-score': 0.8839857651245551, 'support': 706}, '1': {'precision': 0.8809523809523809, 'recall': 0.8896746817538896, 'f1-score': 0.8852920478536241, 'support': 707}, 'accuracy': 0.8846426043878273, 'macro avg': {'precision': 0.8846821990598814, 'recall': 0.8846390405936587, 'f1-score': 0.8846389064890896, 'support': 1413}, 'weighted avg': {'precision': 0.8846795594150778, 'recall': 0.8846426043878273, 'f1-score': 0.8846393687264317, 'support': 1413}}\n"
          ]
        },
        {
          "output_type": "stream",
          "name": "stderr",
          "text": [
            "/usr/local/lib/python3.10/dist-packages/sklearn/neural_network/_multilayer_perceptron.py:686: ConvergenceWarning: Stochastic Optimizer: Maximum iterations (200) reached and the optimization hasn't converged yet.\n",
            "  warnings.warn(\n"
          ]
        },
        {
          "output_type": "stream",
          "name": "stdout",
          "text": [
            "*** K-Fold Split Results ***\n",
            "{'0': {'precision': 0.8821879382889201, 'recall': 0.8909348441926346, 'f1-score': 0.886539816772375, 'support': 706}, '1': {'precision': 0.89, 'recall': 0.8811881188118812, 'f1-score': 0.8855721393034827, 'support': 707}, 'accuracy': 0.8860580325548478, 'macro avg': {'precision': 0.88609396914446, 'recall': 0.8860614815022578, 'f1-score': 0.8860559780379289, 'support': 1413}, 'weighted avg': {'precision': 0.8860967334975071, 'recall': 0.8860580325548478, 'f1-score': 0.8860556356184424, 'support': 1413}}\n"
          ]
        },
        {
          "output_type": "stream",
          "name": "stderr",
          "text": [
            "/usr/local/lib/python3.10/dist-packages/sklearn/neural_network/_multilayer_perceptron.py:686: ConvergenceWarning: Stochastic Optimizer: Maximum iterations (200) reached and the optimization hasn't converged yet.\n",
            "  warnings.warn(\n"
          ]
        },
        {
          "output_type": "stream",
          "name": "stdout",
          "text": [
            "*** K-Fold Split Results ***\n",
            "{'0': {'precision': 0.88, 'recall': 0.9036827195467422, 'f1-score': 0.8916841369671559, 'support': 706}, '1': {'precision': 0.901018922852984, 'recall': 0.876770538243626, 'f1-score': 0.8887293610911702, 'support': 706}, 'accuracy': 0.8902266288951841, 'macro avg': {'precision': 0.890509461426492, 'recall': 0.8902266288951841, 'f1-score': 0.890206749029163, 'support': 1412}, 'weighted avg': {'precision': 0.890509461426492, 'recall': 0.8902266288951841, 'f1-score': 0.8902067490291631, 'support': 1412}}\n"
          ]
        },
        {
          "output_type": "stream",
          "name": "stderr",
          "text": [
            "/usr/local/lib/python3.10/dist-packages/sklearn/neural_network/_multilayer_perceptron.py:686: ConvergenceWarning: Stochastic Optimizer: Maximum iterations (200) reached and the optimization hasn't converged yet.\n",
            "  warnings.warn(\n"
          ]
        },
        {
          "output_type": "stream",
          "name": "stdout",
          "text": [
            "*** K-Fold Split Results ***\n",
            "{'0': {'precision': 0.8649025069637883, 'recall': 0.8796033994334278, 'f1-score': 0.872191011235955, 'support': 706}, '1': {'precision': 0.877521613832853, 'recall': 0.8626062322946175, 'f1-score': 0.87, 'support': 706}, 'accuracy': 0.8711048158640227, 'macro avg': {'precision': 0.8712120603983207, 'recall': 0.8711048158640227, 'f1-score': 0.8710955056179774, 'support': 1412}, 'weighted avg': {'precision': 0.8712120603983207, 'recall': 0.8711048158640227, 'f1-score': 0.8710955056179777, 'support': 1412}}\n"
          ]
        },
        {
          "output_type": "stream",
          "name": "stderr",
          "text": [
            "/usr/local/lib/python3.10/dist-packages/sklearn/neural_network/_multilayer_perceptron.py:686: ConvergenceWarning: Stochastic Optimizer: Maximum iterations (200) reached and the optimization hasn't converged yet.\n",
            "  warnings.warn(\n"
          ]
        },
        {
          "output_type": "stream",
          "name": "stdout",
          "text": [
            "*** K-Fold Split Results ***\n",
            "{'0': {'precision': 0.8832853025936599, 'recall': 0.8682719546742209, 'f1-score': 0.8757142857142857, 'support': 706}, '1': {'precision': 0.8704735376044568, 'recall': 0.8852691218130312, 'f1-score': 0.877808988764045, 'support': 706}, 'accuracy': 0.876770538243626, 'macro avg': {'precision': 0.8768794200990584, 'recall': 0.876770538243626, 'f1-score': 0.8767616372391653, 'support': 1412}, 'weighted avg': {'precision': 0.8768794200990584, 'recall': 0.876770538243626, 'f1-score': 0.8767616372391653, 'support': 1412}}\n"
          ]
        },
        {
          "output_type": "stream",
          "name": "stderr",
          "text": [
            "/usr/local/lib/python3.10/dist-packages/sklearn/neural_network/_multilayer_perceptron.py:686: ConvergenceWarning: Stochastic Optimizer: Maximum iterations (200) reached and the optimization hasn't converged yet.\n",
            "  warnings.warn(\n"
          ]
        },
        {
          "output_type": "stream",
          "name": "stdout",
          "text": [
            "*** K-Fold Split Results ***\n",
            "{'0': {'precision': 0.8945827232796486, 'recall': 0.8654390934844193, 'f1-score': 0.8797696184305256, 'support': 706}, '1': {'precision': 0.869684499314129, 'recall': 0.8980169971671388, 'f1-score': 0.883623693379791, 'support': 706}, 'accuracy': 0.8817280453257791, 'macro avg': {'precision': 0.8821336112968887, 'recall': 0.881728045325779, 'f1-score': 0.8816966559051582, 'support': 1412}, 'weighted avg': {'precision': 0.8821336112968888, 'recall': 0.8817280453257791, 'f1-score': 0.8816966559051582, 'support': 1412}}\n"
          ]
        }
      ]
    },
    {
      "cell_type": "code",
      "source": [
        "# calculate average metrics for submission\n",
        "import numpy\n",
        "final_dict = {}\n",
        "final_dict['0-precision'] = []\n",
        "final_dict['0-recall'] = []\n",
        "final_dict['0-f1'] = []\n",
        "final_dict['1-precision'] = []\n",
        "final_dict['1-recall'] = []\n",
        "final_dict['1-f1'] = []\n",
        "final_dict['accuracy'] = []\n",
        "\n",
        "for dictionary in classification_report_list:\n",
        "    for key, inner_dict in dictionary.items():\n",
        "        if key == '0':\n",
        "            for inner_key in inner_dict.keys():\n",
        "                if inner_key == \"precision\":\n",
        "                    final_dict['0-precision'].append(inner_dict['precision'])\n",
        "                if inner_key == \"recall\":\n",
        "                    final_dict['0-recall'].append(inner_dict['recall'])\n",
        "                if inner_key == \"f1-score\":\n",
        "                    final_dict['0-f1'].append(inner_dict['f1-score'])\n",
        "        if key == '1':\n",
        "            for inner_key in inner_dict.keys():\n",
        "                if inner_key == \"precision\":\n",
        "                    final_dict['1-precision'].append(inner_dict['precision'])\n",
        "                if inner_key == \"recall\":\n",
        "                    final_dict['1-recall'].append(inner_dict['recall'])\n",
        "                if inner_key == \"f1-score\":\n",
        "                    final_dict['1-f1'].append(inner_dict['f1-score'])\n",
        "        if key == \"accuracy\":\n",
        "            final_dict['accuracy'].append(dictionary['accuracy'])\n",
        "\n",
        "\n",
        "for key in final_dict.keys():\n",
        "    final_dict[key] = numpy.average(final_dict[key])\n",
        "\n",
        "print(\"******** FINAL DICT ********\")\n",
        "print(final_dict)"
      ],
      "metadata": {
        "colab": {
          "base_uri": "https://localhost:8080/"
        },
        "id": "7CpvyBZNsFm7",
        "outputId": "685a6b4a-7b08-4309-9e59-254f1e08de16"
      },
      "execution_count": 31,
      "outputs": [
        {
          "output_type": "stream",
          "name": "stdout",
          "text": [
            "******** FINAL DICT ********\n",
            "{'0-precision': 0.882111701610263, '0-recall': 0.8803164229818369, '0-f1': 0.8811108449706349, '1-precision': 0.8807138176181707, '1-recall': 0.8821587176928943, '1-f1': 0.8813338209007479, 'accuracy': 0.8812356527509628}\n"
          ]
        }
      ]
    },
    {
      "cell_type": "code",
      "source": [
        "data = pd.read_csv('FIRE2023_IRSE_training_Code_Comment_Seed_Data.csv')\n",
        "data.head(5)"
      ],
      "metadata": {
        "colab": {
          "base_uri": "https://localhost:8080/",
          "height": 206
        },
        "id": "GYawv5u32X4H",
        "outputId": "4895cf98-9025-4f62-9761-27c08869b7f7"
      },
      "execution_count": 6,
      "outputs": [
        {
          "output_type": "execute_result",
          "data": {
            "text/plain": [
              "       Comments                           Surrounding Code Context       Class\n",
              "0  /*test 529*/  -10.   int res = 0;\\n-9.   CURL *curl = NULL;\\...  Not Useful\n",
              "1  /*test 525*/  -2.     fprintf(stderr, \"Usage: lib529 [url] [...  Not Useful\n",
              "2      /*done*/  -10.   multi_add_handle(m, curl);\\n-9.   for(;...  Not Useful\n",
              "3  /*test 529*/  -10.   int res = 0;\\n-9.   CURL *curl = NULL;\\...  Not Useful\n",
              "4  /*test 525*/  -2.     fprintf(stderr, \"Usage: lib529 [url] [...  Not Useful"
            ],
            "text/html": [
              "\n",
              "\n",
              "  <div id=\"df-b1898dd3-b5f1-4d51-8713-a6d97ec8fd2b\">\n",
              "    <div class=\"colab-df-container\">\n",
              "      <div>\n",
              "<style scoped>\n",
              "    .dataframe tbody tr th:only-of-type {\n",
              "        vertical-align: middle;\n",
              "    }\n",
              "\n",
              "    .dataframe tbody tr th {\n",
              "        vertical-align: top;\n",
              "    }\n",
              "\n",
              "    .dataframe thead th {\n",
              "        text-align: right;\n",
              "    }\n",
              "</style>\n",
              "<table border=\"1\" class=\"dataframe\">\n",
              "  <thead>\n",
              "    <tr style=\"text-align: right;\">\n",
              "      <th></th>\n",
              "      <th>Comments</th>\n",
              "      <th>Surrounding Code Context</th>\n",
              "      <th>Class</th>\n",
              "    </tr>\n",
              "  </thead>\n",
              "  <tbody>\n",
              "    <tr>\n",
              "      <th>0</th>\n",
              "      <td>/*test 529*/</td>\n",
              "      <td>-10.   int res = 0;\\n-9.   CURL *curl = NULL;\\...</td>\n",
              "      <td>Not Useful</td>\n",
              "    </tr>\n",
              "    <tr>\n",
              "      <th>1</th>\n",
              "      <td>/*test 525*/</td>\n",
              "      <td>-2.     fprintf(stderr, \"Usage: lib529 [url] [...</td>\n",
              "      <td>Not Useful</td>\n",
              "    </tr>\n",
              "    <tr>\n",
              "      <th>2</th>\n",
              "      <td>/*done*/</td>\n",
              "      <td>-10.   multi_add_handle(m, curl);\\n-9.   for(;...</td>\n",
              "      <td>Not Useful</td>\n",
              "    </tr>\n",
              "    <tr>\n",
              "      <th>3</th>\n",
              "      <td>/*test 529*/</td>\n",
              "      <td>-10.   int res = 0;\\n-9.   CURL *curl = NULL;\\...</td>\n",
              "      <td>Not Useful</td>\n",
              "    </tr>\n",
              "    <tr>\n",
              "      <th>4</th>\n",
              "      <td>/*test 525*/</td>\n",
              "      <td>-2.     fprintf(stderr, \"Usage: lib529 [url] [...</td>\n",
              "      <td>Not Useful</td>\n",
              "    </tr>\n",
              "  </tbody>\n",
              "</table>\n",
              "</div>\n",
              "      <button class=\"colab-df-convert\" onclick=\"convertToInteractive('df-b1898dd3-b5f1-4d51-8713-a6d97ec8fd2b')\"\n",
              "              title=\"Convert this dataframe to an interactive table.\"\n",
              "              style=\"display:none;\">\n",
              "\n",
              "  <svg xmlns=\"http://www.w3.org/2000/svg\" height=\"24px\"viewBox=\"0 0 24 24\"\n",
              "       width=\"24px\">\n",
              "    <path d=\"M0 0h24v24H0V0z\" fill=\"none\"/>\n",
              "    <path d=\"M18.56 5.44l.94 2.06.94-2.06 2.06-.94-2.06-.94-.94-2.06-.94 2.06-2.06.94zm-11 1L8.5 8.5l.94-2.06 2.06-.94-2.06-.94L8.5 2.5l-.94 2.06-2.06.94zm10 10l.94 2.06.94-2.06 2.06-.94-2.06-.94-.94-2.06-.94 2.06-2.06.94z\"/><path d=\"M17.41 7.96l-1.37-1.37c-.4-.4-.92-.59-1.43-.59-.52 0-1.04.2-1.43.59L10.3 9.45l-7.72 7.72c-.78.78-.78 2.05 0 2.83L4 21.41c.39.39.9.59 1.41.59.51 0 1.02-.2 1.41-.59l7.78-7.78 2.81-2.81c.8-.78.8-2.07 0-2.86zM5.41 20L4 18.59l7.72-7.72 1.47 1.35L5.41 20z\"/>\n",
              "  </svg>\n",
              "      </button>\n",
              "\n",
              "\n",
              "\n",
              "    <div id=\"df-229c179e-3482-44d7-b92f-dc62c31faccb\">\n",
              "      <button class=\"colab-df-quickchart\" onclick=\"quickchart('df-229c179e-3482-44d7-b92f-dc62c31faccb')\"\n",
              "              title=\"Suggest charts.\"\n",
              "              style=\"display:none;\">\n",
              "\n",
              "<svg xmlns=\"http://www.w3.org/2000/svg\" height=\"24px\"viewBox=\"0 0 24 24\"\n",
              "     width=\"24px\">\n",
              "    <g>\n",
              "        <path d=\"M19 3H5c-1.1 0-2 .9-2 2v14c0 1.1.9 2 2 2h14c1.1 0 2-.9 2-2V5c0-1.1-.9-2-2-2zM9 17H7v-7h2v7zm4 0h-2V7h2v10zm4 0h-2v-4h2v4z\"/>\n",
              "    </g>\n",
              "</svg>\n",
              "      </button>\n",
              "    </div>\n",
              "\n",
              "<style>\n",
              "  .colab-df-quickchart {\n",
              "    background-color: #E8F0FE;\n",
              "    border: none;\n",
              "    border-radius: 50%;\n",
              "    cursor: pointer;\n",
              "    display: none;\n",
              "    fill: #1967D2;\n",
              "    height: 32px;\n",
              "    padding: 0 0 0 0;\n",
              "    width: 32px;\n",
              "  }\n",
              "\n",
              "  .colab-df-quickchart:hover {\n",
              "    background-color: #E2EBFA;\n",
              "    box-shadow: 0px 1px 2px rgba(60, 64, 67, 0.3), 0px 1px 3px 1px rgba(60, 64, 67, 0.15);\n",
              "    fill: #174EA6;\n",
              "  }\n",
              "\n",
              "  [theme=dark] .colab-df-quickchart {\n",
              "    background-color: #3B4455;\n",
              "    fill: #D2E3FC;\n",
              "  }\n",
              "\n",
              "  [theme=dark] .colab-df-quickchart:hover {\n",
              "    background-color: #434B5C;\n",
              "    box-shadow: 0px 1px 3px 1px rgba(0, 0, 0, 0.15);\n",
              "    filter: drop-shadow(0px 1px 2px rgba(0, 0, 0, 0.3));\n",
              "    fill: #FFFFFF;\n",
              "  }\n",
              "</style>\n",
              "\n",
              "    <script>\n",
              "      async function quickchart(key) {\n",
              "        const containerElement = document.querySelector('#' + key);\n",
              "        const charts = await google.colab.kernel.invokeFunction(\n",
              "            'suggestCharts', [key], {});\n",
              "      }\n",
              "    </script>\n",
              "\n",
              "      <script>\n",
              "\n",
              "function displayQuickchartButton(domScope) {\n",
              "  let quickchartButtonEl =\n",
              "    domScope.querySelector('#df-229c179e-3482-44d7-b92f-dc62c31faccb button.colab-df-quickchart');\n",
              "  quickchartButtonEl.style.display =\n",
              "    google.colab.kernel.accessAllowed ? 'block' : 'none';\n",
              "}\n",
              "\n",
              "        displayQuickchartButton(document);\n",
              "      </script>\n",
              "      <style>\n",
              "    .colab-df-container {\n",
              "      display:flex;\n",
              "      flex-wrap:wrap;\n",
              "      gap: 12px;\n",
              "    }\n",
              "\n",
              "    .colab-df-convert {\n",
              "      background-color: #E8F0FE;\n",
              "      border: none;\n",
              "      border-radius: 50%;\n",
              "      cursor: pointer;\n",
              "      display: none;\n",
              "      fill: #1967D2;\n",
              "      height: 32px;\n",
              "      padding: 0 0 0 0;\n",
              "      width: 32px;\n",
              "    }\n",
              "\n",
              "    .colab-df-convert:hover {\n",
              "      background-color: #E2EBFA;\n",
              "      box-shadow: 0px 1px 2px rgba(60, 64, 67, 0.3), 0px 1px 3px 1px rgba(60, 64, 67, 0.15);\n",
              "      fill: #174EA6;\n",
              "    }\n",
              "\n",
              "    [theme=dark] .colab-df-convert {\n",
              "      background-color: #3B4455;\n",
              "      fill: #D2E3FC;\n",
              "    }\n",
              "\n",
              "    [theme=dark] .colab-df-convert:hover {\n",
              "      background-color: #434B5C;\n",
              "      box-shadow: 0px 1px 3px 1px rgba(0, 0, 0, 0.15);\n",
              "      filter: drop-shadow(0px 1px 2px rgba(0, 0, 0, 0.3));\n",
              "      fill: #FFFFFF;\n",
              "    }\n",
              "  </style>\n",
              "\n",
              "      <script>\n",
              "        const buttonEl =\n",
              "          document.querySelector('#df-b1898dd3-b5f1-4d51-8713-a6d97ec8fd2b button.colab-df-convert');\n",
              "        buttonEl.style.display =\n",
              "          google.colab.kernel.accessAllowed ? 'block' : 'none';\n",
              "\n",
              "        async function convertToInteractive(key) {\n",
              "          const element = document.querySelector('#df-b1898dd3-b5f1-4d51-8713-a6d97ec8fd2b');\n",
              "          const dataTable =\n",
              "            await google.colab.kernel.invokeFunction('convertToInteractive',\n",
              "                                                     [key], {});\n",
              "          if (!dataTable) return;\n",
              "\n",
              "          const docLinkHtml = 'Like what you see? Visit the ' +\n",
              "            '<a target=\"_blank\" href=https://colab.research.google.com/notebooks/data_table.ipynb>data table notebook</a>'\n",
              "            + ' to learn more about interactive tables.';\n",
              "          element.innerHTML = '';\n",
              "          dataTable['output_type'] = 'display_data';\n",
              "          await google.colab.output.renderOutput(dataTable, element);\n",
              "          const docLink = document.createElement('div');\n",
              "          docLink.innerHTML = docLinkHtml;\n",
              "          element.appendChild(docLink);\n",
              "        }\n",
              "      </script>\n",
              "    </div>\n",
              "  </div>\n"
            ]
          },
          "metadata": {},
          "execution_count": 6
        }
      ]
    },
    {
      "cell_type": "code",
      "source": [
        "# experiment 2: Try self-training with ChatGPT generated data\n",
        "chatgpt_data = pd.read_csv('/content/chatgpt_generated_data.csv')\n",
        "chatgpt_data.head(5)"
      ],
      "metadata": {
        "id": "uRq9cNJdB9MG",
        "colab": {
          "base_uri": "https://localhost:8080/",
          "height": 206
        },
        "outputId": "79b1d6c7-4ad9-4aff-b198-0266291c1ccd"
      },
      "execution_count": 7,
      "outputs": [
        {
          "output_type": "execute_result",
          "data": {
            "text/plain": [
              "                           Line of Code  \\\n",
              "0  int randomNumber = rand() % 100 + 1;   \n",
              "1     int length = strlen(inputString);   \n",
              "2        for (int i = 0; i < 10; i++) {   \n",
              "3                     printf(%d \", i);\"   \n",
              "4         char name[20] = \"John Smith\";   \n",
              "\n",
              "                                             Comment    Class  \n",
              "0      \"Generate a random number between 1 and 100.\"   Useful  \n",
              "1              \"Get the length of the input string.\"   Useful  \n",
              "2                                \"Loop from 0 to 9.\"   Useful  \n",
              "3                    \"Print the current value of i.\"   Useful  \n",
              "4   \"Declare and initialize a character array to ...   Useful  "
            ],
            "text/html": [
              "\n",
              "\n",
              "  <div id=\"df-dc9310fb-4e5d-46f1-a5bb-02cf22ba1fb7\">\n",
              "    <div class=\"colab-df-container\">\n",
              "      <div>\n",
              "<style scoped>\n",
              "    .dataframe tbody tr th:only-of-type {\n",
              "        vertical-align: middle;\n",
              "    }\n",
              "\n",
              "    .dataframe tbody tr th {\n",
              "        vertical-align: top;\n",
              "    }\n",
              "\n",
              "    .dataframe thead th {\n",
              "        text-align: right;\n",
              "    }\n",
              "</style>\n",
              "<table border=\"1\" class=\"dataframe\">\n",
              "  <thead>\n",
              "    <tr style=\"text-align: right;\">\n",
              "      <th></th>\n",
              "      <th>Line of Code</th>\n",
              "      <th>Comment</th>\n",
              "      <th>Class</th>\n",
              "    </tr>\n",
              "  </thead>\n",
              "  <tbody>\n",
              "    <tr>\n",
              "      <th>0</th>\n",
              "      <td>int randomNumber = rand() % 100 + 1;</td>\n",
              "      <td>\"Generate a random number between 1 and 100.\"</td>\n",
              "      <td>Useful</td>\n",
              "    </tr>\n",
              "    <tr>\n",
              "      <th>1</th>\n",
              "      <td>int length = strlen(inputString);</td>\n",
              "      <td>\"Get the length of the input string.\"</td>\n",
              "      <td>Useful</td>\n",
              "    </tr>\n",
              "    <tr>\n",
              "      <th>2</th>\n",
              "      <td>for (int i = 0; i &lt; 10; i++) {</td>\n",
              "      <td>\"Loop from 0 to 9.\"</td>\n",
              "      <td>Useful</td>\n",
              "    </tr>\n",
              "    <tr>\n",
              "      <th>3</th>\n",
              "      <td>printf(%d \", i);\"</td>\n",
              "      <td>\"Print the current value of i.\"</td>\n",
              "      <td>Useful</td>\n",
              "    </tr>\n",
              "    <tr>\n",
              "      <th>4</th>\n",
              "      <td>char name[20] = \"John Smith\";</td>\n",
              "      <td>\"Declare and initialize a character array to ...</td>\n",
              "      <td>Useful</td>\n",
              "    </tr>\n",
              "  </tbody>\n",
              "</table>\n",
              "</div>\n",
              "      <button class=\"colab-df-convert\" onclick=\"convertToInteractive('df-dc9310fb-4e5d-46f1-a5bb-02cf22ba1fb7')\"\n",
              "              title=\"Convert this dataframe to an interactive table.\"\n",
              "              style=\"display:none;\">\n",
              "\n",
              "  <svg xmlns=\"http://www.w3.org/2000/svg\" height=\"24px\"viewBox=\"0 0 24 24\"\n",
              "       width=\"24px\">\n",
              "    <path d=\"M0 0h24v24H0V0z\" fill=\"none\"/>\n",
              "    <path d=\"M18.56 5.44l.94 2.06.94-2.06 2.06-.94-2.06-.94-.94-2.06-.94 2.06-2.06.94zm-11 1L8.5 8.5l.94-2.06 2.06-.94-2.06-.94L8.5 2.5l-.94 2.06-2.06.94zm10 10l.94 2.06.94-2.06 2.06-.94-2.06-.94-.94-2.06-.94 2.06-2.06.94z\"/><path d=\"M17.41 7.96l-1.37-1.37c-.4-.4-.92-.59-1.43-.59-.52 0-1.04.2-1.43.59L10.3 9.45l-7.72 7.72c-.78.78-.78 2.05 0 2.83L4 21.41c.39.39.9.59 1.41.59.51 0 1.02-.2 1.41-.59l7.78-7.78 2.81-2.81c.8-.78.8-2.07 0-2.86zM5.41 20L4 18.59l7.72-7.72 1.47 1.35L5.41 20z\"/>\n",
              "  </svg>\n",
              "      </button>\n",
              "\n",
              "\n",
              "\n",
              "    <div id=\"df-5b4ad9ca-516e-4e8a-82f6-fd7b336c9c08\">\n",
              "      <button class=\"colab-df-quickchart\" onclick=\"quickchart('df-5b4ad9ca-516e-4e8a-82f6-fd7b336c9c08')\"\n",
              "              title=\"Suggest charts.\"\n",
              "              style=\"display:none;\">\n",
              "\n",
              "<svg xmlns=\"http://www.w3.org/2000/svg\" height=\"24px\"viewBox=\"0 0 24 24\"\n",
              "     width=\"24px\">\n",
              "    <g>\n",
              "        <path d=\"M19 3H5c-1.1 0-2 .9-2 2v14c0 1.1.9 2 2 2h14c1.1 0 2-.9 2-2V5c0-1.1-.9-2-2-2zM9 17H7v-7h2v7zm4 0h-2V7h2v10zm4 0h-2v-4h2v4z\"/>\n",
              "    </g>\n",
              "</svg>\n",
              "      </button>\n",
              "    </div>\n",
              "\n",
              "<style>\n",
              "  .colab-df-quickchart {\n",
              "    background-color: #E8F0FE;\n",
              "    border: none;\n",
              "    border-radius: 50%;\n",
              "    cursor: pointer;\n",
              "    display: none;\n",
              "    fill: #1967D2;\n",
              "    height: 32px;\n",
              "    padding: 0 0 0 0;\n",
              "    width: 32px;\n",
              "  }\n",
              "\n",
              "  .colab-df-quickchart:hover {\n",
              "    background-color: #E2EBFA;\n",
              "    box-shadow: 0px 1px 2px rgba(60, 64, 67, 0.3), 0px 1px 3px 1px rgba(60, 64, 67, 0.15);\n",
              "    fill: #174EA6;\n",
              "  }\n",
              "\n",
              "  [theme=dark] .colab-df-quickchart {\n",
              "    background-color: #3B4455;\n",
              "    fill: #D2E3FC;\n",
              "  }\n",
              "\n",
              "  [theme=dark] .colab-df-quickchart:hover {\n",
              "    background-color: #434B5C;\n",
              "    box-shadow: 0px 1px 3px 1px rgba(0, 0, 0, 0.15);\n",
              "    filter: drop-shadow(0px 1px 2px rgba(0, 0, 0, 0.3));\n",
              "    fill: #FFFFFF;\n",
              "  }\n",
              "</style>\n",
              "\n",
              "    <script>\n",
              "      async function quickchart(key) {\n",
              "        const containerElement = document.querySelector('#' + key);\n",
              "        const charts = await google.colab.kernel.invokeFunction(\n",
              "            'suggestCharts', [key], {});\n",
              "      }\n",
              "    </script>\n",
              "\n",
              "      <script>\n",
              "\n",
              "function displayQuickchartButton(domScope) {\n",
              "  let quickchartButtonEl =\n",
              "    domScope.querySelector('#df-5b4ad9ca-516e-4e8a-82f6-fd7b336c9c08 button.colab-df-quickchart');\n",
              "  quickchartButtonEl.style.display =\n",
              "    google.colab.kernel.accessAllowed ? 'block' : 'none';\n",
              "}\n",
              "\n",
              "        displayQuickchartButton(document);\n",
              "      </script>\n",
              "      <style>\n",
              "    .colab-df-container {\n",
              "      display:flex;\n",
              "      flex-wrap:wrap;\n",
              "      gap: 12px;\n",
              "    }\n",
              "\n",
              "    .colab-df-convert {\n",
              "      background-color: #E8F0FE;\n",
              "      border: none;\n",
              "      border-radius: 50%;\n",
              "      cursor: pointer;\n",
              "      display: none;\n",
              "      fill: #1967D2;\n",
              "      height: 32px;\n",
              "      padding: 0 0 0 0;\n",
              "      width: 32px;\n",
              "    }\n",
              "\n",
              "    .colab-df-convert:hover {\n",
              "      background-color: #E2EBFA;\n",
              "      box-shadow: 0px 1px 2px rgba(60, 64, 67, 0.3), 0px 1px 3px 1px rgba(60, 64, 67, 0.15);\n",
              "      fill: #174EA6;\n",
              "    }\n",
              "\n",
              "    [theme=dark] .colab-df-convert {\n",
              "      background-color: #3B4455;\n",
              "      fill: #D2E3FC;\n",
              "    }\n",
              "\n",
              "    [theme=dark] .colab-df-convert:hover {\n",
              "      background-color: #434B5C;\n",
              "      box-shadow: 0px 1px 3px 1px rgba(0, 0, 0, 0.15);\n",
              "      filter: drop-shadow(0px 1px 2px rgba(0, 0, 0, 0.3));\n",
              "      fill: #FFFFFF;\n",
              "    }\n",
              "  </style>\n",
              "\n",
              "      <script>\n",
              "        const buttonEl =\n",
              "          document.querySelector('#df-dc9310fb-4e5d-46f1-a5bb-02cf22ba1fb7 button.colab-df-convert');\n",
              "        buttonEl.style.display =\n",
              "          google.colab.kernel.accessAllowed ? 'block' : 'none';\n",
              "\n",
              "        async function convertToInteractive(key) {\n",
              "          const element = document.querySelector('#df-dc9310fb-4e5d-46f1-a5bb-02cf22ba1fb7');\n",
              "          const dataTable =\n",
              "            await google.colab.kernel.invokeFunction('convertToInteractive',\n",
              "                                                     [key], {});\n",
              "          if (!dataTable) return;\n",
              "\n",
              "          const docLinkHtml = 'Like what you see? Visit the ' +\n",
              "            '<a target=\"_blank\" href=https://colab.research.google.com/notebooks/data_table.ipynb>data table notebook</a>'\n",
              "            + ' to learn more about interactive tables.';\n",
              "          element.innerHTML = '';\n",
              "          dataTable['output_type'] = 'display_data';\n",
              "          await google.colab.output.renderOutput(dataTable, element);\n",
              "          const docLink = document.createElement('div');\n",
              "          docLink.innerHTML = docLinkHtml;\n",
              "          element.appendChild(docLink);\n",
              "        }\n",
              "      </script>\n",
              "    </div>\n",
              "  </div>\n"
            ]
          },
          "metadata": {},
          "execution_count": 7
        }
      ]
    },
    {
      "cell_type": "code",
      "source": [
        "# clean dataset by removing extra quotation marks that ChatGPT adds when it generates content\n",
        "chatgpt_data[\"Line of Code\"] = chatgpt_data[\"Line of Code\"].str.lstrip('\"')\n",
        "chatgpt_data[\"Line of Code\"] = chatgpt_data[\"Line of Code\"].str.rstrip('\"')\n",
        "# rename columns to match original data columns\n",
        "chatgpt_data = chatgpt_data.rename(columns={'Comment': 'Comments', 'Line of Code': 'Surrounding Code Context', 'Class': 'Class'})\n",
        "# change column order to match original dataset\n",
        "chatgpt_data = chatgpt_data[['Comments', 'Surrounding Code Context', 'Class']]\n",
        "chatgpt_data['Comments'] = chatgpt_data['Comments'].map(lambda x: x.strip().lstrip('\"').rstrip('\"'))\n",
        "chatgpt_data['Surrounding Code Context'] = chatgpt_data['Surrounding Code Context'].map(lambda x: x.strip())\n",
        "chatgpt_data['Class'] = chatgpt_data['Class'].map(lambda x: x.strip())\n",
        "chatgpt_data.head(5)"
      ],
      "metadata": {
        "colab": {
          "base_uri": "https://localhost:8080/",
          "height": 206
        },
        "id": "YQsDFr5ntXba",
        "outputId": "13042402-2bb6-4c9c-fc74-c6f6edf51804"
      },
      "execution_count": 8,
      "outputs": [
        {
          "output_type": "execute_result",
          "data": {
            "text/plain": [
              "                                            Comments  \\\n",
              "0        Generate a random number between 1 and 100.   \n",
              "1                Get the length of the input string.   \n",
              "2                                  Loop from 0 to 9.   \n",
              "3                      Print the current value of i.   \n",
              "4  Declare and initialize a character array to st...   \n",
              "\n",
              "               Surrounding Code Context   Class  \n",
              "0  int randomNumber = rand() % 100 + 1;  Useful  \n",
              "1     int length = strlen(inputString);  Useful  \n",
              "2        for (int i = 0; i < 10; i++) {  Useful  \n",
              "3                      printf(%d \", i);  Useful  \n",
              "4         char name[20] = \"John Smith\";  Useful  "
            ],
            "text/html": [
              "\n",
              "\n",
              "  <div id=\"df-d112f7ae-297c-4dc9-8091-dcb6ab812e55\">\n",
              "    <div class=\"colab-df-container\">\n",
              "      <div>\n",
              "<style scoped>\n",
              "    .dataframe tbody tr th:only-of-type {\n",
              "        vertical-align: middle;\n",
              "    }\n",
              "\n",
              "    .dataframe tbody tr th {\n",
              "        vertical-align: top;\n",
              "    }\n",
              "\n",
              "    .dataframe thead th {\n",
              "        text-align: right;\n",
              "    }\n",
              "</style>\n",
              "<table border=\"1\" class=\"dataframe\">\n",
              "  <thead>\n",
              "    <tr style=\"text-align: right;\">\n",
              "      <th></th>\n",
              "      <th>Comments</th>\n",
              "      <th>Surrounding Code Context</th>\n",
              "      <th>Class</th>\n",
              "    </tr>\n",
              "  </thead>\n",
              "  <tbody>\n",
              "    <tr>\n",
              "      <th>0</th>\n",
              "      <td>Generate a random number between 1 and 100.</td>\n",
              "      <td>int randomNumber = rand() % 100 + 1;</td>\n",
              "      <td>Useful</td>\n",
              "    </tr>\n",
              "    <tr>\n",
              "      <th>1</th>\n",
              "      <td>Get the length of the input string.</td>\n",
              "      <td>int length = strlen(inputString);</td>\n",
              "      <td>Useful</td>\n",
              "    </tr>\n",
              "    <tr>\n",
              "      <th>2</th>\n",
              "      <td>Loop from 0 to 9.</td>\n",
              "      <td>for (int i = 0; i &lt; 10; i++) {</td>\n",
              "      <td>Useful</td>\n",
              "    </tr>\n",
              "    <tr>\n",
              "      <th>3</th>\n",
              "      <td>Print the current value of i.</td>\n",
              "      <td>printf(%d \", i);</td>\n",
              "      <td>Useful</td>\n",
              "    </tr>\n",
              "    <tr>\n",
              "      <th>4</th>\n",
              "      <td>Declare and initialize a character array to st...</td>\n",
              "      <td>char name[20] = \"John Smith\";</td>\n",
              "      <td>Useful</td>\n",
              "    </tr>\n",
              "  </tbody>\n",
              "</table>\n",
              "</div>\n",
              "      <button class=\"colab-df-convert\" onclick=\"convertToInteractive('df-d112f7ae-297c-4dc9-8091-dcb6ab812e55')\"\n",
              "              title=\"Convert this dataframe to an interactive table.\"\n",
              "              style=\"display:none;\">\n",
              "\n",
              "  <svg xmlns=\"http://www.w3.org/2000/svg\" height=\"24px\"viewBox=\"0 0 24 24\"\n",
              "       width=\"24px\">\n",
              "    <path d=\"M0 0h24v24H0V0z\" fill=\"none\"/>\n",
              "    <path d=\"M18.56 5.44l.94 2.06.94-2.06 2.06-.94-2.06-.94-.94-2.06-.94 2.06-2.06.94zm-11 1L8.5 8.5l.94-2.06 2.06-.94-2.06-.94L8.5 2.5l-.94 2.06-2.06.94zm10 10l.94 2.06.94-2.06 2.06-.94-2.06-.94-.94-2.06-.94 2.06-2.06.94z\"/><path d=\"M17.41 7.96l-1.37-1.37c-.4-.4-.92-.59-1.43-.59-.52 0-1.04.2-1.43.59L10.3 9.45l-7.72 7.72c-.78.78-.78 2.05 0 2.83L4 21.41c.39.39.9.59 1.41.59.51 0 1.02-.2 1.41-.59l7.78-7.78 2.81-2.81c.8-.78.8-2.07 0-2.86zM5.41 20L4 18.59l7.72-7.72 1.47 1.35L5.41 20z\"/>\n",
              "  </svg>\n",
              "      </button>\n",
              "\n",
              "\n",
              "\n",
              "    <div id=\"df-b83771f9-3fe7-4f4f-94a3-a6d8e0c3b2ff\">\n",
              "      <button class=\"colab-df-quickchart\" onclick=\"quickchart('df-b83771f9-3fe7-4f4f-94a3-a6d8e0c3b2ff')\"\n",
              "              title=\"Suggest charts.\"\n",
              "              style=\"display:none;\">\n",
              "\n",
              "<svg xmlns=\"http://www.w3.org/2000/svg\" height=\"24px\"viewBox=\"0 0 24 24\"\n",
              "     width=\"24px\">\n",
              "    <g>\n",
              "        <path d=\"M19 3H5c-1.1 0-2 .9-2 2v14c0 1.1.9 2 2 2h14c1.1 0 2-.9 2-2V5c0-1.1-.9-2-2-2zM9 17H7v-7h2v7zm4 0h-2V7h2v10zm4 0h-2v-4h2v4z\"/>\n",
              "    </g>\n",
              "</svg>\n",
              "      </button>\n",
              "    </div>\n",
              "\n",
              "<style>\n",
              "  .colab-df-quickchart {\n",
              "    background-color: #E8F0FE;\n",
              "    border: none;\n",
              "    border-radius: 50%;\n",
              "    cursor: pointer;\n",
              "    display: none;\n",
              "    fill: #1967D2;\n",
              "    height: 32px;\n",
              "    padding: 0 0 0 0;\n",
              "    width: 32px;\n",
              "  }\n",
              "\n",
              "  .colab-df-quickchart:hover {\n",
              "    background-color: #E2EBFA;\n",
              "    box-shadow: 0px 1px 2px rgba(60, 64, 67, 0.3), 0px 1px 3px 1px rgba(60, 64, 67, 0.15);\n",
              "    fill: #174EA6;\n",
              "  }\n",
              "\n",
              "  [theme=dark] .colab-df-quickchart {\n",
              "    background-color: #3B4455;\n",
              "    fill: #D2E3FC;\n",
              "  }\n",
              "\n",
              "  [theme=dark] .colab-df-quickchart:hover {\n",
              "    background-color: #434B5C;\n",
              "    box-shadow: 0px 1px 3px 1px rgba(0, 0, 0, 0.15);\n",
              "    filter: drop-shadow(0px 1px 2px rgba(0, 0, 0, 0.3));\n",
              "    fill: #FFFFFF;\n",
              "  }\n",
              "</style>\n",
              "\n",
              "    <script>\n",
              "      async function quickchart(key) {\n",
              "        const containerElement = document.querySelector('#' + key);\n",
              "        const charts = await google.colab.kernel.invokeFunction(\n",
              "            'suggestCharts', [key], {});\n",
              "      }\n",
              "    </script>\n",
              "\n",
              "      <script>\n",
              "\n",
              "function displayQuickchartButton(domScope) {\n",
              "  let quickchartButtonEl =\n",
              "    domScope.querySelector('#df-b83771f9-3fe7-4f4f-94a3-a6d8e0c3b2ff button.colab-df-quickchart');\n",
              "  quickchartButtonEl.style.display =\n",
              "    google.colab.kernel.accessAllowed ? 'block' : 'none';\n",
              "}\n",
              "\n",
              "        displayQuickchartButton(document);\n",
              "      </script>\n",
              "      <style>\n",
              "    .colab-df-container {\n",
              "      display:flex;\n",
              "      flex-wrap:wrap;\n",
              "      gap: 12px;\n",
              "    }\n",
              "\n",
              "    .colab-df-convert {\n",
              "      background-color: #E8F0FE;\n",
              "      border: none;\n",
              "      border-radius: 50%;\n",
              "      cursor: pointer;\n",
              "      display: none;\n",
              "      fill: #1967D2;\n",
              "      height: 32px;\n",
              "      padding: 0 0 0 0;\n",
              "      width: 32px;\n",
              "    }\n",
              "\n",
              "    .colab-df-convert:hover {\n",
              "      background-color: #E2EBFA;\n",
              "      box-shadow: 0px 1px 2px rgba(60, 64, 67, 0.3), 0px 1px 3px 1px rgba(60, 64, 67, 0.15);\n",
              "      fill: #174EA6;\n",
              "    }\n",
              "\n",
              "    [theme=dark] .colab-df-convert {\n",
              "      background-color: #3B4455;\n",
              "      fill: #D2E3FC;\n",
              "    }\n",
              "\n",
              "    [theme=dark] .colab-df-convert:hover {\n",
              "      background-color: #434B5C;\n",
              "      box-shadow: 0px 1px 3px 1px rgba(0, 0, 0, 0.15);\n",
              "      filter: drop-shadow(0px 1px 2px rgba(0, 0, 0, 0.3));\n",
              "      fill: #FFFFFF;\n",
              "    }\n",
              "  </style>\n",
              "\n",
              "      <script>\n",
              "        const buttonEl =\n",
              "          document.querySelector('#df-d112f7ae-297c-4dc9-8091-dcb6ab812e55 button.colab-df-convert');\n",
              "        buttonEl.style.display =\n",
              "          google.colab.kernel.accessAllowed ? 'block' : 'none';\n",
              "\n",
              "        async function convertToInteractive(key) {\n",
              "          const element = document.querySelector('#df-d112f7ae-297c-4dc9-8091-dcb6ab812e55');\n",
              "          const dataTable =\n",
              "            await google.colab.kernel.invokeFunction('convertToInteractive',\n",
              "                                                     [key], {});\n",
              "          if (!dataTable) return;\n",
              "\n",
              "          const docLinkHtml = 'Like what you see? Visit the ' +\n",
              "            '<a target=\"_blank\" href=https://colab.research.google.com/notebooks/data_table.ipynb>data table notebook</a>'\n",
              "            + ' to learn more about interactive tables.';\n",
              "          element.innerHTML = '';\n",
              "          dataTable['output_type'] = 'display_data';\n",
              "          await google.colab.output.renderOutput(dataTable, element);\n",
              "          const docLink = document.createElement('div');\n",
              "          docLink.innerHTML = docLinkHtml;\n",
              "          element.appendChild(docLink);\n",
              "        }\n",
              "      </script>\n",
              "    </div>\n",
              "  </div>\n"
            ]
          },
          "metadata": {},
          "execution_count": 8
        }
      ]
    },
    {
      "cell_type": "code",
      "source": [
        "# now merge new dataset with the old\n",
        "full_data = data.append(chatgpt_data)\n",
        "print(full_data.shape)\n",
        "full_data.head(5)"
      ],
      "metadata": {
        "colab": {
          "base_uri": "https://localhost:8080/",
          "height": 280
        },
        "id": "w4CnQ-IcBqd2",
        "outputId": "5dfe63c4-e19f-443c-af94-0ae9cf687c35"
      },
      "execution_count": 9,
      "outputs": [
        {
          "output_type": "stream",
          "name": "stdout",
          "text": [
            "(11872, 3)\n"
          ]
        },
        {
          "output_type": "stream",
          "name": "stderr",
          "text": [
            "<ipython-input-9-a160ff6290b5>:2: FutureWarning: The frame.append method is deprecated and will be removed from pandas in a future version. Use pandas.concat instead.\n",
            "  full_data = data.append(chatgpt_data)\n"
          ]
        },
        {
          "output_type": "execute_result",
          "data": {
            "text/plain": [
              "       Comments                           Surrounding Code Context       Class\n",
              "0  /*test 529*/  -10.   int res = 0;\\n-9.   CURL *curl = NULL;\\...  Not Useful\n",
              "1  /*test 525*/  -2.     fprintf(stderr, \"Usage: lib529 [url] [...  Not Useful\n",
              "2      /*done*/  -10.   multi_add_handle(m, curl);\\n-9.   for(;...  Not Useful\n",
              "3  /*test 529*/  -10.   int res = 0;\\n-9.   CURL *curl = NULL;\\...  Not Useful\n",
              "4  /*test 525*/  -2.     fprintf(stderr, \"Usage: lib529 [url] [...  Not Useful"
            ],
            "text/html": [
              "\n",
              "\n",
              "  <div id=\"df-3b0ec7d2-0bf6-43b6-b2a8-1a4bca078771\">\n",
              "    <div class=\"colab-df-container\">\n",
              "      <div>\n",
              "<style scoped>\n",
              "    .dataframe tbody tr th:only-of-type {\n",
              "        vertical-align: middle;\n",
              "    }\n",
              "\n",
              "    .dataframe tbody tr th {\n",
              "        vertical-align: top;\n",
              "    }\n",
              "\n",
              "    .dataframe thead th {\n",
              "        text-align: right;\n",
              "    }\n",
              "</style>\n",
              "<table border=\"1\" class=\"dataframe\">\n",
              "  <thead>\n",
              "    <tr style=\"text-align: right;\">\n",
              "      <th></th>\n",
              "      <th>Comments</th>\n",
              "      <th>Surrounding Code Context</th>\n",
              "      <th>Class</th>\n",
              "    </tr>\n",
              "  </thead>\n",
              "  <tbody>\n",
              "    <tr>\n",
              "      <th>0</th>\n",
              "      <td>/*test 529*/</td>\n",
              "      <td>-10.   int res = 0;\\n-9.   CURL *curl = NULL;\\...</td>\n",
              "      <td>Not Useful</td>\n",
              "    </tr>\n",
              "    <tr>\n",
              "      <th>1</th>\n",
              "      <td>/*test 525*/</td>\n",
              "      <td>-2.     fprintf(stderr, \"Usage: lib529 [url] [...</td>\n",
              "      <td>Not Useful</td>\n",
              "    </tr>\n",
              "    <tr>\n",
              "      <th>2</th>\n",
              "      <td>/*done*/</td>\n",
              "      <td>-10.   multi_add_handle(m, curl);\\n-9.   for(;...</td>\n",
              "      <td>Not Useful</td>\n",
              "    </tr>\n",
              "    <tr>\n",
              "      <th>3</th>\n",
              "      <td>/*test 529*/</td>\n",
              "      <td>-10.   int res = 0;\\n-9.   CURL *curl = NULL;\\...</td>\n",
              "      <td>Not Useful</td>\n",
              "    </tr>\n",
              "    <tr>\n",
              "      <th>4</th>\n",
              "      <td>/*test 525*/</td>\n",
              "      <td>-2.     fprintf(stderr, \"Usage: lib529 [url] [...</td>\n",
              "      <td>Not Useful</td>\n",
              "    </tr>\n",
              "  </tbody>\n",
              "</table>\n",
              "</div>\n",
              "      <button class=\"colab-df-convert\" onclick=\"convertToInteractive('df-3b0ec7d2-0bf6-43b6-b2a8-1a4bca078771')\"\n",
              "              title=\"Convert this dataframe to an interactive table.\"\n",
              "              style=\"display:none;\">\n",
              "\n",
              "  <svg xmlns=\"http://www.w3.org/2000/svg\" height=\"24px\"viewBox=\"0 0 24 24\"\n",
              "       width=\"24px\">\n",
              "    <path d=\"M0 0h24v24H0V0z\" fill=\"none\"/>\n",
              "    <path d=\"M18.56 5.44l.94 2.06.94-2.06 2.06-.94-2.06-.94-.94-2.06-.94 2.06-2.06.94zm-11 1L8.5 8.5l.94-2.06 2.06-.94-2.06-.94L8.5 2.5l-.94 2.06-2.06.94zm10 10l.94 2.06.94-2.06 2.06-.94-2.06-.94-.94-2.06-.94 2.06-2.06.94z\"/><path d=\"M17.41 7.96l-1.37-1.37c-.4-.4-.92-.59-1.43-.59-.52 0-1.04.2-1.43.59L10.3 9.45l-7.72 7.72c-.78.78-.78 2.05 0 2.83L4 21.41c.39.39.9.59 1.41.59.51 0 1.02-.2 1.41-.59l7.78-7.78 2.81-2.81c.8-.78.8-2.07 0-2.86zM5.41 20L4 18.59l7.72-7.72 1.47 1.35L5.41 20z\"/>\n",
              "  </svg>\n",
              "      </button>\n",
              "\n",
              "\n",
              "\n",
              "    <div id=\"df-fc1f2489-1a1e-44bf-b908-c9b4783a47a6\">\n",
              "      <button class=\"colab-df-quickchart\" onclick=\"quickchart('df-fc1f2489-1a1e-44bf-b908-c9b4783a47a6')\"\n",
              "              title=\"Suggest charts.\"\n",
              "              style=\"display:none;\">\n",
              "\n",
              "<svg xmlns=\"http://www.w3.org/2000/svg\" height=\"24px\"viewBox=\"0 0 24 24\"\n",
              "     width=\"24px\">\n",
              "    <g>\n",
              "        <path d=\"M19 3H5c-1.1 0-2 .9-2 2v14c0 1.1.9 2 2 2h14c1.1 0 2-.9 2-2V5c0-1.1-.9-2-2-2zM9 17H7v-7h2v7zm4 0h-2V7h2v10zm4 0h-2v-4h2v4z\"/>\n",
              "    </g>\n",
              "</svg>\n",
              "      </button>\n",
              "    </div>\n",
              "\n",
              "<style>\n",
              "  .colab-df-quickchart {\n",
              "    background-color: #E8F0FE;\n",
              "    border: none;\n",
              "    border-radius: 50%;\n",
              "    cursor: pointer;\n",
              "    display: none;\n",
              "    fill: #1967D2;\n",
              "    height: 32px;\n",
              "    padding: 0 0 0 0;\n",
              "    width: 32px;\n",
              "  }\n",
              "\n",
              "  .colab-df-quickchart:hover {\n",
              "    background-color: #E2EBFA;\n",
              "    box-shadow: 0px 1px 2px rgba(60, 64, 67, 0.3), 0px 1px 3px 1px rgba(60, 64, 67, 0.15);\n",
              "    fill: #174EA6;\n",
              "  }\n",
              "\n",
              "  [theme=dark] .colab-df-quickchart {\n",
              "    background-color: #3B4455;\n",
              "    fill: #D2E3FC;\n",
              "  }\n",
              "\n",
              "  [theme=dark] .colab-df-quickchart:hover {\n",
              "    background-color: #434B5C;\n",
              "    box-shadow: 0px 1px 3px 1px rgba(0, 0, 0, 0.15);\n",
              "    filter: drop-shadow(0px 1px 2px rgba(0, 0, 0, 0.3));\n",
              "    fill: #FFFFFF;\n",
              "  }\n",
              "</style>\n",
              "\n",
              "    <script>\n",
              "      async function quickchart(key) {\n",
              "        const containerElement = document.querySelector('#' + key);\n",
              "        const charts = await google.colab.kernel.invokeFunction(\n",
              "            'suggestCharts', [key], {});\n",
              "      }\n",
              "    </script>\n",
              "\n",
              "      <script>\n",
              "\n",
              "function displayQuickchartButton(domScope) {\n",
              "  let quickchartButtonEl =\n",
              "    domScope.querySelector('#df-fc1f2489-1a1e-44bf-b908-c9b4783a47a6 button.colab-df-quickchart');\n",
              "  quickchartButtonEl.style.display =\n",
              "    google.colab.kernel.accessAllowed ? 'block' : 'none';\n",
              "}\n",
              "\n",
              "        displayQuickchartButton(document);\n",
              "      </script>\n",
              "      <style>\n",
              "    .colab-df-container {\n",
              "      display:flex;\n",
              "      flex-wrap:wrap;\n",
              "      gap: 12px;\n",
              "    }\n",
              "\n",
              "    .colab-df-convert {\n",
              "      background-color: #E8F0FE;\n",
              "      border: none;\n",
              "      border-radius: 50%;\n",
              "      cursor: pointer;\n",
              "      display: none;\n",
              "      fill: #1967D2;\n",
              "      height: 32px;\n",
              "      padding: 0 0 0 0;\n",
              "      width: 32px;\n",
              "    }\n",
              "\n",
              "    .colab-df-convert:hover {\n",
              "      background-color: #E2EBFA;\n",
              "      box-shadow: 0px 1px 2px rgba(60, 64, 67, 0.3), 0px 1px 3px 1px rgba(60, 64, 67, 0.15);\n",
              "      fill: #174EA6;\n",
              "    }\n",
              "\n",
              "    [theme=dark] .colab-df-convert {\n",
              "      background-color: #3B4455;\n",
              "      fill: #D2E3FC;\n",
              "    }\n",
              "\n",
              "    [theme=dark] .colab-df-convert:hover {\n",
              "      background-color: #434B5C;\n",
              "      box-shadow: 0px 1px 3px 1px rgba(0, 0, 0, 0.15);\n",
              "      filter: drop-shadow(0px 1px 2px rgba(0, 0, 0, 0.3));\n",
              "      fill: #FFFFFF;\n",
              "    }\n",
              "  </style>\n",
              "\n",
              "      <script>\n",
              "        const buttonEl =\n",
              "          document.querySelector('#df-3b0ec7d2-0bf6-43b6-b2a8-1a4bca078771 button.colab-df-convert');\n",
              "        buttonEl.style.display =\n",
              "          google.colab.kernel.accessAllowed ? 'block' : 'none';\n",
              "\n",
              "        async function convertToInteractive(key) {\n",
              "          const element = document.querySelector('#df-3b0ec7d2-0bf6-43b6-b2a8-1a4bca078771');\n",
              "          const dataTable =\n",
              "            await google.colab.kernel.invokeFunction('convertToInteractive',\n",
              "                                                     [key], {});\n",
              "          if (!dataTable) return;\n",
              "\n",
              "          const docLinkHtml = 'Like what you see? Visit the ' +\n",
              "            '<a target=\"_blank\" href=https://colab.research.google.com/notebooks/data_table.ipynb>data table notebook</a>'\n",
              "            + ' to learn more about interactive tables.';\n",
              "          element.innerHTML = '';\n",
              "          dataTable['output_type'] = 'display_data';\n",
              "          await google.colab.output.renderOutput(dataTable, element);\n",
              "          const docLink = document.createElement('div');\n",
              "          docLink.innerHTML = docLinkHtml;\n",
              "          element.appendChild(docLink);\n",
              "        }\n",
              "      </script>\n",
              "    </div>\n",
              "  </div>\n"
            ]
          },
          "metadata": {},
          "execution_count": 9
        }
      ]
    },
    {
      "cell_type": "code",
      "source": [
        "# now re-apply data transformation on entire dataset and prepare for training\n",
        "full_data.loc[:,[\"Class\"]] = pd.get_dummies(full_data.Class,drop_first=True).values\n",
        "\n",
        "full_data[\"Input\"] = full_data[\"Comments\"] + \" \" + full_data[\"Surrounding Code Context\"]"
      ],
      "metadata": {
        "id": "zMrJ6yf5yYhI",
        "colab": {
          "base_uri": "https://localhost:8080/"
        },
        "outputId": "beecaf81-86d6-483d-a2d2-cd9d3d8b6c82"
      },
      "execution_count": 10,
      "outputs": [
        {
          "output_type": "stream",
          "name": "stderr",
          "text": [
            "<ipython-input-10-f5789c578e43>:2: DeprecationWarning: In a future version, `df.iloc[:, i] = newvals` will attempt to set the values inplace instead of always setting a new array. To retain the old behavior, use either `df[df.columns[i]] = newvals` or, if columns are non-unique, `df.isetitem(i, newvals)`\n",
            "  full_data.loc[:,[\"Class\"]] = pd.get_dummies(full_data.Class,drop_first=True).values\n"
          ]
        }
      ]
    },
    {
      "cell_type": "code",
      "source": [
        "!pip install sentence-transformers"
      ],
      "metadata": {
        "colab": {
          "base_uri": "https://localhost:8080/"
        },
        "id": "9zldDVqOzdo2",
        "outputId": "e8267c09-a852-4538-91d6-6980b0ff003a"
      },
      "execution_count": 11,
      "outputs": [
        {
          "output_type": "stream",
          "name": "stdout",
          "text": [
            "Collecting sentence-transformers\n",
            "  Downloading sentence-transformers-2.2.2.tar.gz (85 kB)\n",
            "\u001b[2K     \u001b[90m━━━━━━━━━━━━━━━━━━━━━━━━━━━━━━━━━━━━━━━━\u001b[0m \u001b[32m86.0/86.0 kB\u001b[0m \u001b[31m1.9 MB/s\u001b[0m eta \u001b[36m0:00:00\u001b[0m\n",
            "\u001b[?25h  Preparing metadata (setup.py) ... \u001b[?25l\u001b[?25hdone\n",
            "Collecting transformers<5.0.0,>=4.6.0 (from sentence-transformers)\n",
            "  Downloading transformers-4.31.0-py3-none-any.whl (7.4 MB)\n",
            "\u001b[2K     \u001b[90m━━━━━━━━━━━━━━━━━━━━━━━━━━━━━━━━━━━━━━━━\u001b[0m \u001b[32m7.4/7.4 MB\u001b[0m \u001b[31m79.3 MB/s\u001b[0m eta \u001b[36m0:00:00\u001b[0m\n",
            "\u001b[?25hRequirement already satisfied: tqdm in /usr/local/lib/python3.10/dist-packages (from sentence-transformers) (4.65.0)\n",
            "Requirement already satisfied: torch>=1.6.0 in /usr/local/lib/python3.10/dist-packages (from sentence-transformers) (2.0.1+cu118)\n",
            "Requirement already satisfied: torchvision in /usr/local/lib/python3.10/dist-packages (from sentence-transformers) (0.15.2+cu118)\n",
            "Requirement already satisfied: numpy in /usr/local/lib/python3.10/dist-packages (from sentence-transformers) (1.22.4)\n",
            "Requirement already satisfied: scikit-learn in /usr/local/lib/python3.10/dist-packages (from sentence-transformers) (1.2.2)\n",
            "Requirement already satisfied: scipy in /usr/local/lib/python3.10/dist-packages (from sentence-transformers) (1.10.1)\n",
            "Requirement already satisfied: nltk in /usr/local/lib/python3.10/dist-packages (from sentence-transformers) (3.8.1)\n",
            "Collecting sentencepiece (from sentence-transformers)\n",
            "  Downloading sentencepiece-0.1.99-cp310-cp310-manylinux_2_17_x86_64.manylinux2014_x86_64.whl (1.3 MB)\n",
            "\u001b[2K     \u001b[90m━━━━━━━━━━━━━━━━━━━━━━━━━━━━━━━━━━━━━━━━\u001b[0m \u001b[32m1.3/1.3 MB\u001b[0m \u001b[31m78.1 MB/s\u001b[0m eta \u001b[36m0:00:00\u001b[0m\n",
            "\u001b[?25hCollecting huggingface-hub>=0.4.0 (from sentence-transformers)\n",
            "  Downloading huggingface_hub-0.16.4-py3-none-any.whl (268 kB)\n",
            "\u001b[2K     \u001b[90m━━━━━━━━━━━━━━━━━━━━━━━━━━━━━━━━━━━━━━\u001b[0m \u001b[32m268.8/268.8 kB\u001b[0m \u001b[31m35.1 MB/s\u001b[0m eta \u001b[36m0:00:00\u001b[0m\n",
            "\u001b[?25hRequirement already satisfied: filelock in /usr/local/lib/python3.10/dist-packages (from huggingface-hub>=0.4.0->sentence-transformers) (3.12.2)\n",
            "Requirement already satisfied: fsspec in /usr/local/lib/python3.10/dist-packages (from huggingface-hub>=0.4.0->sentence-transformers) (2023.6.0)\n",
            "Requirement already satisfied: requests in /usr/local/lib/python3.10/dist-packages (from huggingface-hub>=0.4.0->sentence-transformers) (2.27.1)\n",
            "Requirement already satisfied: pyyaml>=5.1 in /usr/local/lib/python3.10/dist-packages (from huggingface-hub>=0.4.0->sentence-transformers) (6.0.1)\n",
            "Requirement already satisfied: typing-extensions>=3.7.4.3 in /usr/local/lib/python3.10/dist-packages (from huggingface-hub>=0.4.0->sentence-transformers) (4.7.1)\n",
            "Requirement already satisfied: packaging>=20.9 in /usr/local/lib/python3.10/dist-packages (from huggingface-hub>=0.4.0->sentence-transformers) (23.1)\n",
            "Requirement already satisfied: sympy in /usr/local/lib/python3.10/dist-packages (from torch>=1.6.0->sentence-transformers) (1.11.1)\n",
            "Requirement already satisfied: networkx in /usr/local/lib/python3.10/dist-packages (from torch>=1.6.0->sentence-transformers) (3.1)\n",
            "Requirement already satisfied: jinja2 in /usr/local/lib/python3.10/dist-packages (from torch>=1.6.0->sentence-transformers) (3.1.2)\n",
            "Requirement already satisfied: triton==2.0.0 in /usr/local/lib/python3.10/dist-packages (from torch>=1.6.0->sentence-transformers) (2.0.0)\n",
            "Requirement already satisfied: cmake in /usr/local/lib/python3.10/dist-packages (from triton==2.0.0->torch>=1.6.0->sentence-transformers) (3.25.2)\n",
            "Requirement already satisfied: lit in /usr/local/lib/python3.10/dist-packages (from triton==2.0.0->torch>=1.6.0->sentence-transformers) (16.0.6)\n",
            "Requirement already satisfied: regex!=2019.12.17 in /usr/local/lib/python3.10/dist-packages (from transformers<5.0.0,>=4.6.0->sentence-transformers) (2022.10.31)\n",
            "Collecting tokenizers!=0.11.3,<0.14,>=0.11.1 (from transformers<5.0.0,>=4.6.0->sentence-transformers)\n",
            "  Downloading tokenizers-0.13.3-cp310-cp310-manylinux_2_17_x86_64.manylinux2014_x86_64.whl (7.8 MB)\n",
            "\u001b[2K     \u001b[90m━━━━━━━━━━━━━━━━━━━━━━━━━━━━━━━━━━━━━━━━\u001b[0m \u001b[32m7.8/7.8 MB\u001b[0m \u001b[31m119.6 MB/s\u001b[0m eta \u001b[36m0:00:00\u001b[0m\n",
            "\u001b[?25hCollecting safetensors>=0.3.1 (from transformers<5.0.0,>=4.6.0->sentence-transformers)\n",
            "  Downloading safetensors-0.3.1-cp310-cp310-manylinux_2_17_x86_64.manylinux2014_x86_64.whl (1.3 MB)\n",
            "\u001b[2K     \u001b[90m━━━━━━━━━━━━━━━━━━━━━━━━━━━━━━━━━━━━━━━━\u001b[0m \u001b[32m1.3/1.3 MB\u001b[0m \u001b[31m89.6 MB/s\u001b[0m eta \u001b[36m0:00:00\u001b[0m\n",
            "\u001b[?25hRequirement already satisfied: click in /usr/local/lib/python3.10/dist-packages (from nltk->sentence-transformers) (8.1.6)\n",
            "Requirement already satisfied: joblib in /usr/local/lib/python3.10/dist-packages (from nltk->sentence-transformers) (1.3.1)\n",
            "Requirement already satisfied: threadpoolctl>=2.0.0 in /usr/local/lib/python3.10/dist-packages (from scikit-learn->sentence-transformers) (3.2.0)\n",
            "Requirement already satisfied: pillow!=8.3.*,>=5.3.0 in /usr/local/lib/python3.10/dist-packages (from torchvision->sentence-transformers) (9.4.0)\n",
            "Requirement already satisfied: MarkupSafe>=2.0 in /usr/local/lib/python3.10/dist-packages (from jinja2->torch>=1.6.0->sentence-transformers) (2.1.3)\n",
            "Requirement already satisfied: urllib3<1.27,>=1.21.1 in /usr/local/lib/python3.10/dist-packages (from requests->huggingface-hub>=0.4.0->sentence-transformers) (1.26.16)\n",
            "Requirement already satisfied: certifi>=2017.4.17 in /usr/local/lib/python3.10/dist-packages (from requests->huggingface-hub>=0.4.0->sentence-transformers) (2023.7.22)\n",
            "Requirement already satisfied: charset-normalizer~=2.0.0 in /usr/local/lib/python3.10/dist-packages (from requests->huggingface-hub>=0.4.0->sentence-transformers) (2.0.12)\n",
            "Requirement already satisfied: idna<4,>=2.5 in /usr/local/lib/python3.10/dist-packages (from requests->huggingface-hub>=0.4.0->sentence-transformers) (3.4)\n",
            "Requirement already satisfied: mpmath>=0.19 in /usr/local/lib/python3.10/dist-packages (from sympy->torch>=1.6.0->sentence-transformers) (1.3.0)\n",
            "Building wheels for collected packages: sentence-transformers\n",
            "  Building wheel for sentence-transformers (setup.py) ... \u001b[?25l\u001b[?25hdone\n",
            "  Created wheel for sentence-transformers: filename=sentence_transformers-2.2.2-py3-none-any.whl size=125925 sha256=b2332fa2142c554a5d1192276a36999369e228263f634d109e3d6acc5141d993\n",
            "  Stored in directory: /root/.cache/pip/wheels/62/f2/10/1e606fd5f02395388f74e7462910fe851042f97238cbbd902f\n",
            "Successfully built sentence-transformers\n",
            "Installing collected packages: tokenizers, sentencepiece, safetensors, huggingface-hub, transformers, sentence-transformers\n",
            "Successfully installed huggingface-hub-0.16.4 safetensors-0.3.1 sentence-transformers-2.2.2 sentencepiece-0.1.99 tokenizers-0.13.3 transformers-4.31.0\n"
          ]
        }
      ]
    },
    {
      "cell_type": "code",
      "source": [
        "from sentence_transformers import SentenceTransformer, util\n",
        "\n",
        "model = SentenceTransformer(\"flax-sentence-embeddings/st-codesearch-distilroberta-base\")\n",
        "\n",
        "# Encode our code into the vector space\n",
        "code_emb = model.encode(full_data[\"Input\"].astype(str).values.tolist(), convert_to_tensor=True)"
      ],
      "metadata": {
        "colab": {
          "base_uri": "https://localhost:8080/",
          "height": 465,
          "referenced_widgets": [
            "4a7e15b88ab641a1af995da5b9978a09",
            "ed065e71c4a44e2ca09c092c898a1ad6",
            "13c6444a2b1445e1ac1b18c60cd4a7b1",
            "573fe242d7e944a3b2257431167738d1",
            "943f2381e6be428fab770e3178bac3ce",
            "c3df858d423142088b1798be83b02926",
            "65088803f5d44b70a0e4364a0585491d",
            "6e1a2cdfd5964b259a960c1e7458e7e4",
            "4c25826700bc42eca62f8e25e399b701",
            "7fd356655ede42ccac9517906dc20e75",
            "eb1466eabe87427e86055e22b48640c6",
            "a66f3b292de94c3690ea05fb69af0827",
            "b00133a044664a37b3423825f1a28663",
            "0a4d1211760c42eab4accb3317d6e369",
            "80782a6889b84efba4cb5b9f0c61bb7f",
            "79f15f663bb947debed59bb82380561c",
            "a11a6d5dce9649df9921feeb44c0c0c9",
            "54ac803e66e04630b748bcf07db8a73c",
            "8ca7f778b1b74901acb49ab4f725abfb",
            "ed3fba98198c4c969020fcaca089858b",
            "2afa2a80d79c4e14a959b8e87cc34dee",
            "bb8bbdfb06b5442a82f5d4ffe85932d6",
            "cebed52b1d394a4982e23d3e56697dce",
            "b5fcf89e9ca44743be426ae5c9d69758",
            "491e0db03839410b908b62af6474c046",
            "8431a1ac7d9443378d1f4db85b544b6a",
            "747a16eee1cc4549be0d83789c35d068",
            "565f42c4a6f346c2984eff7c5dc0a326",
            "a0584c87ef7d4403b769371428470a72",
            "80921737f33d4af38ceb915593a164ec",
            "947e7dbfee49492f80dc6c52e5cfe950",
            "f6a17f4a0a3e4675a6c9dc8b2ed98c7a",
            "e496811bc8c9457b8eb75f5258c9e866",
            "20b400d04c2d408a9526035a438e4f38",
            "76578d3cfb1842fbbc8a4888c469c30a",
            "319afbd8bf7b49a8968b17f537987ca6",
            "306a09d4e6104820873d3dba7707808d",
            "ffa7ccb408db4c0587018765c970729c",
            "2d622af998a242dd87ee65de7bef8206",
            "0677ef1b4a724979b2d15e56765e5c66",
            "64733779041348088877a2ff854822d9",
            "735f99b30fa84e648aebee972f8ddb5f",
            "bf2ef74ee09f42029da768cee89ddb81",
            "037d3dd1bceb4464a4d664a5c4dd4142",
            "b2e78a1c6a5a45bf971690e2829cf399",
            "2e8f57f024754beeb8c4f0ba1b49c72a",
            "26c9e08c77704ff0bf1b32067df703ba",
            "2e7650a90d4c4ea3904f0f1dc27ef471",
            "e10e63339c4e4c0eb39c3ce2883eda61",
            "ec79192da9fb415f90f33c6443116be0",
            "9090265fc6b04a26adf972dd9e2e6479",
            "4a35c7be946b4cfa9c382e59a4868b34",
            "ecdc96759dfa465e9a42e864a86797a9",
            "c2ae7b91cb2040f39427b09c4ce76b63",
            "9fd70d70136f4524aec3eff60aee249c",
            "1f3adc6235a849f38a36c09795370f4e",
            "023b04973a534b3894cc92f2e3102b33",
            "e9307136b35c411d8e49df873b09b1b7",
            "a3a3339ac1424d2aa009b284afdf0fd0",
            "d4d02e8b879648018166dbdcab8e07e9",
            "2cae33ac8af740daa8c8c6e57a1528be",
            "a6d12e2c361d4a3391e5c89f8589616f",
            "4079813db62e4335822ab8cd411d2dc7",
            "ebd31d5153fe44b4a131101e69b87798",
            "2887bec5d6a14006a4f11bbc5fbd468d",
            "93aed4d45617496f95419e0aa8d50b1c",
            "0aa80c2af6f34125ad7bfd73c3cc7d20",
            "b9925871a4a041f6bfab760da4b1c332",
            "366b806854c14cbd8b75ff8ee78f0654",
            "627994803fb24f9b9173f9defe5251f8",
            "4ca006baee104ea582278f5654b0cc8e",
            "b44aed75998d42fdb762876ae3b07191",
            "fd1b1184e41c4a2b9ef7947195a5754c",
            "ca778fde3a8b4bcfb4f4c24b68b28139",
            "706e2356c1b74b47b5b7e334939ea653",
            "17f760bf0c154c639c20ca27b7192271",
            "169e2acdb21846bcadde48e69e4a779b",
            "dcf98cf77d994a018485e9f2277952cd",
            "98772431a0b840d2ac1df56d189eb96d",
            "59c3d257e53943e1a84fda67c562e3ec",
            "b3227c7c1a3a46949e8ea842880aeb9e",
            "5cf9c096020d4c2ba69b98ee4a56c2e1",
            "25274406a2144e2b957f7b0134085af6",
            "7112d11edbf941358aaf9b5f77db4998",
            "975eac7d99e341e295e61769b6323818",
            "fec35d1d943a49b9a769d1df38909743",
            "530d5e2f6fcd4a7c85823ad694f438c0",
            "1da20bb2aac348ddb369c94e19be69a4",
            "cc0cdf583e2c419f9594bb4b6e6f7f63",
            "8fd0b4dba0de439fb8f40ac583f47153",
            "ee925785f1484987af1590300fad531e",
            "ce1f0a59c37d499d8bc44f44a1a5c057",
            "7c7fc1d6dfb648ad8828ef6497626842",
            "8a4262dff74a416cadd4b9667380ee5e",
            "4268241c2c3f4a1fabad65e703e5b3da",
            "f7a5779f9fb940df9ba874003790d279",
            "529aefb8a0ec415d94885cc6a3fb0b6c",
            "64e73ba6325643f7b7b61f26874b0860",
            "73b493c577344dd6b727ce4e75340c78",
            "a50ef919b34142179d66eb68327cf5f4",
            "2865ddba884848b4a78a69163cdab0a0",
            "6e52947adf9547ebbc68d596161abed9",
            "645b0badf9674ddaaeca859ec10b0626",
            "3ddf9757fb5741abb1ff3df99ec63919",
            "28b28ca4ceaf4141b08eca321082dd91",
            "22a0b39d294a413da61aab76c31ee62a",
            "4c04c3ce660640dc93e619d011748f03",
            "34d1b82e440a44228a280335cbc570ce",
            "8f381af94797420e99bba638d3438ae2",
            "e56d666413ad4529995770ca6d6e141c",
            "40b753727e42415aa164c4276b50a6e7",
            "0826305e7c2f4e2f88a1be87fecd25c2",
            "8dee35d81fbf45a0ad667471ef814493",
            "27dbef856e994180a7607f45a52db71a",
            "cdca4570d0234c35b238cfce87555b2e",
            "1831ffa61c0e4264a34f08a3c292b633",
            "ebc9030301614e9b8b138491cb71b6c0",
            "a64105fa87064fabb88e951848c84166",
            "aa96975d4d514659a2c6f0dc6cc8a50b",
            "f1831475bbf644758f5ec35b9c6e4b0f",
            "2b41b801f0644d91a128cb6a70433856",
            "ffb70e20caa04d40a332b6a5c0339a2b",
            "da8fc3831fc8449a8dc363123b00887a",
            "2782b24665794d14a2cc30e094da671c",
            "37430d8970b04017b7e03fa70fa09b2b",
            "0a9db9310563403c95354a8b8e08eff9",
            "f5b032410fff4a8c8edeb35b02b27470",
            "80bdec6afc23434b8b7403aa3b1b4d96",
            "0bbd14d43513484eb9b2347de1d1f335",
            "43ee06debf4e40519707ea499bc1e428",
            "af07cd6abd8b46ceb15cc6df1d0c32f3",
            "831f83324321400496143f48bc8e487b",
            "b44238e0192c489695eb29d32d2efe67",
            "0dec07aeb6fb47ccaac81fec4cc93a44",
            "50d2ece5e99f4240ab262b06dd281b69",
            "ecb0550e64034232882055aea0b6c652",
            "5e9a59d9134c413183cc9d55ac73ec32",
            "4e62b32f0c704413ab0c9e9352078795",
            "4e1e7dc306c940c69d273554d25581e8",
            "7703acd5e6824a58b8c2a3a3f577ec1f",
            "f734389daba245f3ba2329ad3cd92d71",
            "0727a83e9be8426e818652a8726c40fe",
            "020ab07fa0b54301af59ef86bdd6c092",
            "2678ba77dd3d43839145033774420be4",
            "4dfd95b32c4f4c86b9bf6bff0bd0b2d4",
            "b30299406a864d1b827d46134a915a58",
            "4ff064784fb648b6bf5b40d673229839",
            "f6e3639c69474dccb43d1cb4ea30ab59",
            "48243d202ded47ed9edd19a95b875d8d",
            "c30255b93e6742d38d8b3661d4dfa9c3",
            "5fc752b4b9624149b9c5e9133a1713cb",
            "5d1b67d9b0954b10868d8e3237f9e3ab",
            "e5f86e8aa5a446818b5770f2a3beadcc",
            "78eb42d085324ad9a6c53ff957b67859"
          ]
        },
        "id": "0wa8re_lzeF_",
        "outputId": "4b63f8a2-f14b-4b1b-8086-b1e61ad4d582"
      },
      "execution_count": 12,
      "outputs": [
        {
          "output_type": "display_data",
          "data": {
            "text/plain": [
              "Downloading (…)b7135/.gitattributes:   0%|          | 0.00/690 [00:00<?, ?B/s]"
            ],
            "application/vnd.jupyter.widget-view+json": {
              "version_major": 2,
              "version_minor": 0,
              "model_id": "4a7e15b88ab641a1af995da5b9978a09"
            }
          },
          "metadata": {}
        },
        {
          "output_type": "display_data",
          "data": {
            "text/plain": [
              "Downloading (…)_Pooling/config.json:   0%|          | 0.00/190 [00:00<?, ?B/s]"
            ],
            "application/vnd.jupyter.widget-view+json": {
              "version_major": 2,
              "version_minor": 0,
              "model_id": "a66f3b292de94c3690ea05fb69af0827"
            }
          },
          "metadata": {}
        },
        {
          "output_type": "display_data",
          "data": {
            "text/plain": [
              "Downloading (…)2e371b7135/README.md:   0%|          | 0.00/3.71k [00:00<?, ?B/s]"
            ],
            "application/vnd.jupyter.widget-view+json": {
              "version_major": 2,
              "version_minor": 0,
              "model_id": "cebed52b1d394a4982e23d3e56697dce"
            }
          },
          "metadata": {}
        },
        {
          "output_type": "display_data",
          "data": {
            "text/plain": [
              "Downloading (…)371b7135/config.json:   0%|          | 0.00/647 [00:00<?, ?B/s]"
            ],
            "application/vnd.jupyter.widget-view+json": {
              "version_major": 2,
              "version_minor": 0,
              "model_id": "20b400d04c2d408a9526035a438e4f38"
            }
          },
          "metadata": {}
        },
        {
          "output_type": "display_data",
          "data": {
            "text/plain": [
              "Downloading (…)ce_transformers.json:   0%|          | 0.00/116 [00:00<?, ?B/s]"
            ],
            "application/vnd.jupyter.widget-view+json": {
              "version_major": 2,
              "version_minor": 0,
              "model_id": "b2e78a1c6a5a45bf971690e2829cf399"
            }
          },
          "metadata": {}
        },
        {
          "output_type": "display_data",
          "data": {
            "text/plain": [
              "Downloading (…)e371b7135/merges.txt:   0%|          | 0.00/456k [00:00<?, ?B/s]"
            ],
            "application/vnd.jupyter.widget-view+json": {
              "version_major": 2,
              "version_minor": 0,
              "model_id": "1f3adc6235a849f38a36c09795370f4e"
            }
          },
          "metadata": {}
        },
        {
          "output_type": "display_data",
          "data": {
            "text/plain": [
              "Downloading pytorch_model.bin:   0%|          | 0.00/329M [00:00<?, ?B/s]"
            ],
            "application/vnd.jupyter.widget-view+json": {
              "version_major": 2,
              "version_minor": 0,
              "model_id": "0aa80c2af6f34125ad7bfd73c3cc7d20"
            }
          },
          "metadata": {}
        },
        {
          "output_type": "display_data",
          "data": {
            "text/plain": [
              "Downloading (…)nce_bert_config.json:   0%|          | 0.00/53.0 [00:00<?, ?B/s]"
            ],
            "application/vnd.jupyter.widget-view+json": {
              "version_major": 2,
              "version_minor": 0,
              "model_id": "dcf98cf77d994a018485e9f2277952cd"
            }
          },
          "metadata": {}
        },
        {
          "output_type": "display_data",
          "data": {
            "text/plain": [
              "Downloading (…)cial_tokens_map.json:   0%|          | 0.00/239 [00:00<?, ?B/s]"
            ],
            "application/vnd.jupyter.widget-view+json": {
              "version_major": 2,
              "version_minor": 0,
              "model_id": "cc0cdf583e2c419f9594bb4b6e6f7f63"
            }
          },
          "metadata": {}
        },
        {
          "output_type": "display_data",
          "data": {
            "text/plain": [
              "Downloading (…)b7135/tokenizer.json:   0%|          | 0.00/1.36M [00:00<?, ?B/s]"
            ],
            "application/vnd.jupyter.widget-view+json": {
              "version_major": 2,
              "version_minor": 0,
              "model_id": "a50ef919b34142179d66eb68327cf5f4"
            }
          },
          "metadata": {}
        },
        {
          "output_type": "display_data",
          "data": {
            "text/plain": [
              "Downloading (…)okenizer_config.json:   0%|          | 0.00/294 [00:00<?, ?B/s]"
            ],
            "application/vnd.jupyter.widget-view+json": {
              "version_major": 2,
              "version_minor": 0,
              "model_id": "40b753727e42415aa164c4276b50a6e7"
            }
          },
          "metadata": {}
        },
        {
          "output_type": "display_data",
          "data": {
            "text/plain": [
              "Downloading (…)7135/train_script.py:   0%|          | 0.00/3.84k [00:00<?, ?B/s]"
            ],
            "application/vnd.jupyter.widget-view+json": {
              "version_major": 2,
              "version_minor": 0,
              "model_id": "ffb70e20caa04d40a332b6a5c0339a2b"
            }
          },
          "metadata": {}
        },
        {
          "output_type": "display_data",
          "data": {
            "text/plain": [
              "Downloading (…)e371b7135/vocab.json:   0%|          | 0.00/798k [00:00<?, ?B/s]"
            ],
            "application/vnd.jupyter.widget-view+json": {
              "version_major": 2,
              "version_minor": 0,
              "model_id": "b44238e0192c489695eb29d32d2efe67"
            }
          },
          "metadata": {}
        },
        {
          "output_type": "display_data",
          "data": {
            "text/plain": [
              "Downloading (…)71b7135/modules.json:   0%|          | 0.00/349 [00:00<?, ?B/s]"
            ],
            "application/vnd.jupyter.widget-view+json": {
              "version_major": 2,
              "version_minor": 0,
              "model_id": "2678ba77dd3d43839145033774420be4"
            }
          },
          "metadata": {}
        }
      ]
    },
    {
      "cell_type": "code",
      "source": [
        "# use SMOTE to balance dataset\n",
        "# and generate enough \"Not Useful\" comment data\n",
        "!pip install imbalanced-learn"
      ],
      "metadata": {
        "colab": {
          "base_uri": "https://localhost:8080/"
        },
        "id": "g-DEsb00ziJ0",
        "outputId": "2afbef62-c520-40d6-c7c3-9e862e3960bc"
      },
      "execution_count": 13,
      "outputs": [
        {
          "output_type": "stream",
          "name": "stdout",
          "text": [
            "Requirement already satisfied: imbalanced-learn in /usr/local/lib/python3.10/dist-packages (0.10.1)\n",
            "Requirement already satisfied: numpy>=1.17.3 in /usr/local/lib/python3.10/dist-packages (from imbalanced-learn) (1.22.4)\n",
            "Requirement already satisfied: scipy>=1.3.2 in /usr/local/lib/python3.10/dist-packages (from imbalanced-learn) (1.10.1)\n",
            "Requirement already satisfied: scikit-learn>=1.0.2 in /usr/local/lib/python3.10/dist-packages (from imbalanced-learn) (1.2.2)\n",
            "Requirement already satisfied: joblib>=1.1.1 in /usr/local/lib/python3.10/dist-packages (from imbalanced-learn) (1.3.1)\n",
            "Requirement already satisfied: threadpoolctl>=2.0.0 in /usr/local/lib/python3.10/dist-packages (from imbalanced-learn) (3.2.0)\n"
          ]
        }
      ]
    },
    {
      "cell_type": "code",
      "source": [
        "from collections import Counter\n",
        "from imblearn.over_sampling import SMOTE\n",
        "oversample = SMOTE()\n",
        "Y = full_data['Class']\n",
        "Y=Y.astype('int')\n",
        "X = code_emb.tolist()\n",
        "counter = Counter(Y)\n",
        "print(counter)\n",
        "X, y = oversample.fit_resample(X, Y)\n",
        "# summarize the new class distribution\n",
        "counter = Counter(y)\n",
        "print(counter)"
      ],
      "metadata": {
        "colab": {
          "base_uri": "https://localhost:8080/"
        },
        "id": "KWHmXe0MztY_",
        "outputId": "3e4939ee-ee3f-4c63-a7d3-06568271a5b8"
      },
      "execution_count": 14,
      "outputs": [
        {
          "output_type": "stream",
          "name": "stdout",
          "text": [
            "Counter({1: 7474, 0: 4398})\n",
            "Counter({0: 7474, 1: 7474})\n"
          ]
        }
      ]
    },
    {
      "cell_type": "code",
      "source": [
        "# evaluate self-training semi-supervised classifier\n",
        "from sklearn.model_selection import cross_validate\n",
        "from sklearn.model_selection import RepeatedStratifiedKFold\n",
        "from sklearn.ensemble import VotingClassifier\n",
        "from sklearn.svm import LinearSVC\n",
        "from sklearn.ensemble import RandomForestClassifier\n",
        "from sklearn.neural_network import MLPClassifier\n",
        "from sklearn.semi_supervised import SelfTrainingClassifier\n",
        "from sklearn.metrics import accuracy_score, f1_score, precision_score, recall_score\n",
        "\n",
        "# define scoring metrics\n",
        "scoring = ['precision', 'recall', 'f1']\n",
        "\n",
        "# prepare candidate classifiers\n",
        "rf_model = RandomForestClassifier(random_state = 42)\n",
        "nn_model = MLPClassifier(hidden_layer_sizes=(20,10),random_state=42)\n",
        "svc_model = LinearSVC(random_state = 42)\n",
        "\n",
        "# define model\n",
        "model =  VotingClassifier(estimators=[('rf', rf_model), ('nn', nn_model), ('svc', svc_model)], voting='hard')\n",
        "# evaluate pipeline\n",
        "cv = RepeatedStratifiedKFold(n_splits=10, n_repeats=3, random_state=42)\n",
        "scores = cross_validate(model, X, y, scoring= scoring, cv=cv, n_jobs=-1)\n",
        "print('Scores:', scores)"
      ],
      "metadata": {
        "colab": {
          "base_uri": "https://localhost:8080/"
        },
        "id": "BVWy9gSH4q-P",
        "outputId": "050515ad-ef64-441e-e7b0-a78d20b83821"
      },
      "execution_count": null,
      "outputs": [
        {
          "output_type": "stream",
          "name": "stdout",
          "text": [
            "Scores: {'fit_time': array([99.46883821, 99.51684141, 99.5052731 , 98.60438585, 98.41646934,\n",
            "       97.5736649 , 97.89818382, 90.47905087, 96.11927915, 98.26053476,\n",
            "       92.04900098, 96.87496996, 97.44736481, 95.9308064 , 96.14342713,\n",
            "       97.1648159 , 95.61653733, 97.25824046, 97.35290837, 97.55585647,\n",
            "       97.11324239, 97.9244473 , 98.03323007, 97.49427748, 98.34804225,\n",
            "       95.1361742 , 97.29412103, 96.6040659 , 96.56746435, 93.81726193]), 'score_time': array([0.44869399, 0.60086679, 0.44434237, 0.45239806, 0.45886683,\n",
            "       0.46888185, 0.4571569 , 0.47311926, 0.47701955, 0.46648669,\n",
            "       0.47689533, 0.70804715, 0.77470469, 0.68178606, 0.94308352,\n",
            "       0.44502759, 0.47321129, 0.44069719, 0.51102781, 0.44551921,\n",
            "       0.49328041, 0.44459343, 0.46812367, 0.44668841, 0.46539521,\n",
            "       0.91634154, 0.87873936, 0.45649147, 0.90287638, 0.24239707]), 'test_precision': array([0.87919463, 0.88681758, 0.87765957, 0.89617486, 0.91083676,\n",
            "       0.8804205 , 0.88582677, 0.89697802, 0.89564069, 0.87449933,\n",
            "       0.88764045, 0.90612245, 0.88995873, 0.8938172 , 0.89959294,\n",
            "       0.88934426, 0.88251001, 0.8962766 , 0.89438503, 0.88995873,\n",
            "       0.892     , 0.89707928, 0.9052774 , 0.89189189, 0.90296496,\n",
            "       0.86486486, 0.8738502 , 0.89711934, 0.87401575, 0.87768817]), 'test_recall': array([0.8768407 , 0.89156627, 0.88353414, 0.87817938, 0.88770053,\n",
            "       0.89572193, 0.90240642, 0.87299465, 0.90763052, 0.8768407 ,\n",
            "       0.84605087, 0.89156627, 0.86613119, 0.89022758, 0.88636364,\n",
            "       0.87032086, 0.88368984, 0.90106952, 0.89558233, 0.86613119,\n",
            "       0.89558233, 0.86345382, 0.89558233, 0.88353414, 0.89572193,\n",
            "       0.89839572, 0.88903743, 0.87433155, 0.89156627, 0.87416332]), 'test_f1': array([0.87801609, 0.88918558, 0.88058706, 0.88708587, 0.89911984,\n",
            "       0.8880053 , 0.89403974, 0.88482385, 0.90159574, 0.87566845,\n",
            "       0.86634681, 0.89878543, 0.87788331, 0.89201878, 0.89292929,\n",
            "       0.87972973, 0.88309953, 0.89866667, 0.89498328, 0.87788331,\n",
            "       0.89378758, 0.87994543, 0.90040377, 0.88769334, 0.89932886,\n",
            "       0.88131148, 0.8813784 , 0.88557888, 0.88270378, 0.8759222 ])}\n"
          ]
        }
      ]
    },
    {
      "cell_type": "code",
      "source": [
        "# classification report on CV with VotingClassifier\n",
        "import numpy as np\n",
        "from sklearn.model_selection import cross_validate, cross_val_predict\n",
        "from sklearn.model_selection import RepeatedStratifiedKFold\n",
        "from sklearn.ensemble import VotingClassifier\n",
        "from sklearn.svm import LinearSVC\n",
        "from sklearn.ensemble import RandomForestClassifier\n",
        "from sklearn.neural_network import MLPClassifier\n",
        "from sklearn.semi_supervised import SelfTrainingClassifier\n",
        "from sklearn.metrics import accuracy_score, f1_score, precision_score, recall_score, classification_report, make_scorer\n",
        "\n",
        "# prepare candidate classifiers\n",
        "rf_model = RandomForestClassifier(random_state = 42)\n",
        "nn_model = MLPClassifier(hidden_layer_sizes=(20,10),random_state=42)\n",
        "svc_model = LinearSVC(random_state = 42)\n",
        "\n",
        "# define model\n",
        "model =  VotingClassifier(estimators=[('rf', rf_model), ('nn', nn_model), ('svc', svc_model)], voting='hard')\n",
        "\n",
        "classification_report_list = []\n",
        "# evaluate pipeline\n",
        "cv = RepeatedStratifiedKFold(n_splits=10, n_repeats=3, random_state=42)\n",
        "for train_index, test_index in cv.split(X, y):\n",
        "    x_train, x_test = np.array(X)[train_index], np.array(X)[test_index]\n",
        "    y_train, y_test = y[train_index], y[test_index]\n",
        "    model.fit(x_train, y_train)\n",
        "    y_pred = model.predict(x_test)\n",
        "    print(\"*** K-Fold Split Results ***\")\n",
        "    classification_report_results = classification_report(y_test, y_pred, output_dict=True)\n",
        "    print(classification_report_results)\n",
        "    classification_report_list.append(classification_report_results)"
      ],
      "metadata": {
        "colab": {
          "base_uri": "https://localhost:8080/"
        },
        "id": "vKg3_54NlMqN",
        "outputId": "74c029cd-33e6-4def-909d-34b8a15b43ae"
      },
      "execution_count": 31,
      "outputs": [
        {
          "output_type": "stream",
          "name": "stderr",
          "text": [
            "/usr/local/lib/python3.10/dist-packages/sklearn/neural_network/_multilayer_perceptron.py:686: ConvergenceWarning: Stochastic Optimizer: Maximum iterations (200) reached and the optimization hasn't converged yet.\n",
            "  warnings.warn(\n"
          ]
        },
        {
          "output_type": "stream",
          "name": "stdout",
          "text": [
            "*** K-Fold Split Results ***\n",
            "{'0': {'precision': 0.8810160427807486, 'recall': 0.8810160427807486, 'f1-score': 0.8810160427807486, 'support': 748}, '1': {'precision': 0.8808567603748326, 'recall': 0.8808567603748326, 'f1-score': 0.8808567603748326, 'support': 747}, 'accuracy': 0.8809364548494983, 'macro avg': {'precision': 0.8809364015777906, 'recall': 0.8809364015777906, 'f1-score': 0.8809364015777906, 'support': 1495}, 'weighted avg': {'precision': 0.8809364548494983, 'recall': 0.8809364548494983, 'f1-score': 0.8809364548494983, 'support': 1495}}\n"
          ]
        },
        {
          "output_type": "stream",
          "name": "stderr",
          "text": [
            "/usr/local/lib/python3.10/dist-packages/sklearn/neural_network/_multilayer_perceptron.py:686: ConvergenceWarning: Stochastic Optimizer: Maximum iterations (200) reached and the optimization hasn't converged yet.\n",
            "  warnings.warn(\n"
          ]
        },
        {
          "output_type": "stream",
          "name": "stdout",
          "text": [
            "*** K-Fold Split Results ***\n",
            "{'0': {'precision': 0.9016172506738545, 'recall': 0.8943850267379679, 'f1-score': 0.897986577181208, 'support': 748}, '1': {'precision': 0.8950863213811421, 'recall': 0.9022757697456493, 'f1-score': 0.8986666666666667, 'support': 747}, 'accuracy': 0.8983277591973244, 'macro avg': {'precision': 0.8983517860274983, 'recall': 0.8983303982418086, 'f1-score': 0.8983266219239374, 'support': 1495}, 'weighted avg': {'precision': 0.8983539702847867, 'recall': 0.8983277591973244, 'f1-score': 0.89832639446926, 'support': 1495}}\n"
          ]
        },
        {
          "output_type": "stream",
          "name": "stderr",
          "text": [
            "/usr/local/lib/python3.10/dist-packages/sklearn/neural_network/_multilayer_perceptron.py:686: ConvergenceWarning: Stochastic Optimizer: Maximum iterations (200) reached and the optimization hasn't converged yet.\n",
            "  warnings.warn(\n"
          ]
        },
        {
          "output_type": "stream",
          "name": "stdout",
          "text": [
            "*** K-Fold Split Results ***\n",
            "{'0': {'precision': 0.8875661375661376, 'recall': 0.8970588235294118, 'f1-score': 0.8922872340425532, 'support': 748}, '1': {'precision': 0.8958051420838972, 'recall': 0.8862115127175368, 'f1-score': 0.8909825033647375, 'support': 747}, 'accuracy': 0.8916387959866221, 'macro avg': {'precision': 0.8916856398250174, 'recall': 0.8916351681234743, 'f1-score': 0.8916348687036453, 'support': 1495}, 'weighted avg': {'precision': 0.8916828843051117, 'recall': 0.8916387959866221, 'f1-score': 0.8916353050684206, 'support': 1495}}\n"
          ]
        },
        {
          "output_type": "stream",
          "name": "stderr",
          "text": [
            "/usr/local/lib/python3.10/dist-packages/sklearn/neural_network/_multilayer_perceptron.py:686: ConvergenceWarning: Stochastic Optimizer: Maximum iterations (200) reached and the optimization hasn't converged yet.\n",
            "  warnings.warn(\n"
          ]
        },
        {
          "output_type": "stream",
          "name": "stdout",
          "text": [
            "*** K-Fold Split Results ***\n",
            "{'0': {'precision': 0.877444589308996, 'recall': 0.8997326203208557, 'f1-score': 0.8884488448844884, 'support': 748}, '1': {'precision': 0.896978021978022, 'recall': 0.8741633199464525, 'f1-score': 0.8854237288135594, 'support': 747}, 'accuracy': 0.8869565217391304, 'macro avg': {'precision': 0.887211305643509, 'recall': 0.886947970133654, 'f1-score': 0.8869362868490238, 'support': 1495}, 'weighted avg': {'precision': 0.8872047727228839, 'recall': 0.8869565217391304, 'f1-score': 0.8869372985935292, 'support': 1495}}\n"
          ]
        },
        {
          "output_type": "stream",
          "name": "stderr",
          "text": [
            "/usr/local/lib/python3.10/dist-packages/sklearn/neural_network/_multilayer_perceptron.py:686: ConvergenceWarning: Stochastic Optimizer: Maximum iterations (200) reached and the optimization hasn't converged yet.\n",
            "  warnings.warn(\n"
          ]
        },
        {
          "output_type": "stream",
          "name": "stdout",
          "text": [
            "*** K-Fold Split Results ***\n",
            "{'0': {'precision': 0.8869908015768725, 'recall': 0.9036144578313253, 'f1-score': 0.8952254641909814, 'support': 747}, '1': {'precision': 0.9019073569482289, 'recall': 0.8850267379679144, 'f1-score': 0.8933873144399459, 'support': 748}, 'accuracy': 0.894314381270903, 'macro avg': {'precision': 0.8944490792625507, 'recall': 0.8943205978996198, 'f1-score': 0.8943063893154637, 'support': 1495}, 'weighted avg': {'precision': 0.8944540680770563, 'recall': 0.894314381270903, 'f1-score': 0.8943057745496606, 'support': 1495}}\n",
            "*** K-Fold Split Results ***\n",
            "{'0': {'precision': 0.8853333333333333, 'recall': 0.8888888888888888, 'f1-score': 0.8871075484301937, 'support': 747}, '1': {'precision': 0.8885906040268456, 'recall': 0.8850267379679144, 'f1-score': 0.8868050904219692, 'support': 748}, 'accuracy': 0.8869565217391304, 'macro avg': {'precision': 0.8869619686800895, 'recall': 0.8869578134284016, 'f1-score': 0.8869563194260814, 'support': 1495}, 'weighted avg': {'precision': 0.8869630580682814, 'recall': 0.8869565217391304, 'f1-score': 0.886956218269557, 'support': 1495}}\n"
          ]
        },
        {
          "output_type": "stream",
          "name": "stderr",
          "text": [
            "/usr/local/lib/python3.10/dist-packages/sklearn/neural_network/_multilayer_perceptron.py:686: ConvergenceWarning: Stochastic Optimizer: Maximum iterations (200) reached and the optimization hasn't converged yet.\n",
            "  warnings.warn(\n"
          ]
        },
        {
          "output_type": "stream",
          "name": "stdout",
          "text": [
            "*** K-Fold Split Results ***\n",
            "{'0': {'precision': 0.899171270718232, 'recall': 0.8714859437751004, 'f1-score': 0.885112168592794, 'support': 747}, '1': {'precision': 0.8754863813229572, 'recall': 0.9024064171122995, 'f1-score': 0.8887425938117183, 'support': 748}, 'accuracy': 0.8869565217391304, 'macro avg': {'precision': 0.8873288260205946, 'recall': 0.8869461804437, 'f1-score': 0.8869273812022561, 'support': 1495}, 'weighted avg': {'precision': 0.8873209046529039, 'recall': 0.8869565217391304, 'f1-score': 0.8869285953912925, 'support': 1495}}\n"
          ]
        },
        {
          "output_type": "stream",
          "name": "stderr",
          "text": [
            "/usr/local/lib/python3.10/dist-packages/sklearn/neural_network/_multilayer_perceptron.py:686: ConvergenceWarning: Stochastic Optimizer: Maximum iterations (200) reached and the optimization hasn't converged yet.\n",
            "  warnings.warn(\n"
          ]
        },
        {
          "output_type": "stream",
          "name": "stdout",
          "text": [
            "*** K-Fold Split Results ***\n",
            "{'0': {'precision': 0.8644501278772379, 'recall': 0.9049531459170014, 'f1-score': 0.8842380640941792, 'support': 747}, '1': {'precision': 0.9004207573632539, 'recall': 0.8582887700534759, 'f1-score': 0.8788501026694044, 'support': 748}, 'accuracy': 0.8816053511705686, 'macro avg': {'precision': 0.8824354426202459, 'recall': 0.8816209579852387, 'f1-score': 0.8815440833817918, 'support': 1495}, 'weighted avg': {'precision': 0.8824474729311108, 'recall': 0.8816053511705686, 'f1-score': 0.8815422813880042, 'support': 1495}}\n"
          ]
        },
        {
          "output_type": "stream",
          "name": "stderr",
          "text": [
            "/usr/local/lib/python3.10/dist-packages/sklearn/neural_network/_multilayer_perceptron.py:686: ConvergenceWarning: Stochastic Optimizer: Maximum iterations (200) reached and the optimization hasn't converged yet.\n",
            "  warnings.warn(\n"
          ]
        },
        {
          "output_type": "stream",
          "name": "stdout",
          "text": [
            "*** K-Fold Split Results ***\n",
            "{'0': {'precision': 0.9035812672176309, 'recall': 0.8781793842034806, 'f1-score': 0.8906992532247114, 'support': 747}, '1': {'precision': 0.8815104166666666, 'recall': 0.9062918340026773, 'f1-score': 0.8937293729372936, 'support': 747}, 'accuracy': 0.892235609103079, 'macro avg': {'precision': 0.8925458419421488, 'recall': 0.892235609103079, 'f1-score': 0.8922143130810025, 'support': 1494}, 'weighted avg': {'precision': 0.8925458419421487, 'recall': 0.892235609103079, 'f1-score': 0.8922143130810024, 'support': 1494}}\n",
            "*** K-Fold Split Results ***\n",
            "{'0': {'precision': 0.8709677419354839, 'recall': 0.8674698795180723, 'f1-score': 0.869215291750503, 'support': 747}, '1': {'precision': 0.868, 'recall': 0.8714859437751004, 'f1-score': 0.8697394789579158, 'support': 747}, 'accuracy': 0.8694779116465864, 'macro avg': {'precision': 0.8694838709677419, 'recall': 0.8694779116465863, 'f1-score': 0.8694773853542095, 'support': 1494}, 'weighted avg': {'precision': 0.869483870967742, 'recall': 0.8694779116465864, 'f1-score': 0.8694773853542095, 'support': 1494}}\n"
          ]
        },
        {
          "output_type": "stream",
          "name": "stderr",
          "text": [
            "/usr/local/lib/python3.10/dist-packages/sklearn/neural_network/_multilayer_perceptron.py:686: ConvergenceWarning: Stochastic Optimizer: Maximum iterations (200) reached and the optimization hasn't converged yet.\n",
            "  warnings.warn(\n"
          ]
        },
        {
          "output_type": "stream",
          "name": "stdout",
          "text": [
            "*** K-Fold Split Results ***\n",
            "{'0': {'precision': 0.8461538461538461, 'recall': 0.8823529411764706, 'f1-score': 0.8638743455497382, 'support': 748}, '1': {'precision': 0.8769230769230769, 'recall': 0.8393574297188755, 'f1-score': 0.8577291381668947, 'support': 747}, 'accuracy': 0.8608695652173913, 'macro avg': {'precision': 0.8615384615384616, 'recall': 0.860855185447673, 'f1-score': 0.8608017418583165, 'support': 1495}, 'weighted avg': {'precision': 0.8615281708258297, 'recall': 0.8608695652173913, 'f1-score': 0.8608037971116217, 'support': 1495}}\n"
          ]
        },
        {
          "output_type": "stream",
          "name": "stderr",
          "text": [
            "/usr/local/lib/python3.10/dist-packages/sklearn/neural_network/_multilayer_perceptron.py:686: ConvergenceWarning: Stochastic Optimizer: Maximum iterations (200) reached and the optimization hasn't converged yet.\n",
            "  warnings.warn(\n"
          ]
        },
        {
          "output_type": "stream",
          "name": "stdout",
          "text": [
            "*** K-Fold Split Results ***\n",
            "{'0': {'precision': 0.8983516483516484, 'recall': 0.8743315508021391, 'f1-score': 0.8861788617886179, 'support': 748}, '1': {'precision': 0.877444589308996, 'recall': 0.9009370816599732, 'f1-score': 0.8890356671070013, 'support': 747}, 'accuracy': 0.8876254180602007, 'macro avg': {'precision': 0.8878981188303222, 'recall': 0.8876343162310562, 'f1-score': 0.8876072644478097, 'support': 1495}, 'weighted avg': {'precision': 0.8879051111577613, 'recall': 0.8876254180602007, 'f1-score': 0.8876063089945259, 'support': 1495}}\n"
          ]
        },
        {
          "output_type": "stream",
          "name": "stderr",
          "text": [
            "/usr/local/lib/python3.10/dist-packages/sklearn/neural_network/_multilayer_perceptron.py:686: ConvergenceWarning: Stochastic Optimizer: Maximum iterations (200) reached and the optimization hasn't converged yet.\n",
            "  warnings.warn(\n"
          ]
        },
        {
          "output_type": "stream",
          "name": "stdout",
          "text": [
            "*** K-Fold Split Results ***\n",
            "{'0': {'precision': 0.8766233766233766, 'recall': 0.9024064171122995, 'f1-score': 0.8893280632411067, 'support': 748}, '1': {'precision': 0.8993103448275862, 'recall': 0.8728246318607764, 'f1-score': 0.8858695652173914, 'support': 747}, 'accuracy': 0.8876254180602007, 'macro avg': {'precision': 0.8879668607254814, 'recall': 0.887615524486538, 'f1-score': 0.887598814229249, 'support': 1495}, 'weighted avg': {'precision': 0.8879592731106976, 'recall': 0.8876254180602007, 'f1-score': 0.8875999709175512, 'support': 1495}}\n"
          ]
        },
        {
          "output_type": "stream",
          "name": "stderr",
          "text": [
            "/usr/local/lib/python3.10/dist-packages/sklearn/neural_network/_multilayer_perceptron.py:686: ConvergenceWarning: Stochastic Optimizer: Maximum iterations (200) reached and the optimization hasn't converged yet.\n",
            "  warnings.warn(\n"
          ]
        },
        {
          "output_type": "stream",
          "name": "stdout",
          "text": [
            "*** K-Fold Split Results ***\n",
            "{'0': {'precision': 0.8911290322580645, 'recall': 0.8863636363636364, 'f1-score': 0.8887399463806971, 'support': 748}, '1': {'precision': 0.8868175765645806, 'recall': 0.891566265060241, 'f1-score': 0.8891855807743657, 'support': 747}, 'accuracy': 0.8889632107023412, 'macro avg': {'precision': 0.8889733044113226, 'recall': 0.8889649507119386, 'f1-score': 0.8889627635775315, 'support': 1495}, 'weighted avg': {'precision': 0.8889747463697485, 'recall': 0.8889632107023412, 'f1-score': 0.8889626145359283, 'support': 1495}}\n"
          ]
        },
        {
          "output_type": "stream",
          "name": "stderr",
          "text": [
            "/usr/local/lib/python3.10/dist-packages/sklearn/neural_network/_multilayer_perceptron.py:686: ConvergenceWarning: Stochastic Optimizer: Maximum iterations (200) reached and the optimization hasn't converged yet.\n",
            "  warnings.warn(\n"
          ]
        },
        {
          "output_type": "stream",
          "name": "stdout",
          "text": [
            "*** K-Fold Split Results ***\n",
            "{'0': {'precision': 0.8730569948186528, 'recall': 0.9022757697456493, 'f1-score': 0.8874259381171823, 'support': 747}, '1': {'precision': 0.8990318118948825, 'recall': 0.8689839572192514, 'f1-score': 0.8837525492862, 'support': 748}, 'accuracy': 0.88561872909699, 'macro avg': {'precision': 0.8860444033567676, 'recall': 0.8856298634824503, 'f1-score': 0.8855892437016911, 'support': 1495}, 'weighted avg': {'precision': 0.886053090586559, 'recall': 0.88561872909699, 'f1-score': 0.8855880151435537, 'support': 1495}}\n"
          ]
        },
        {
          "output_type": "stream",
          "name": "stderr",
          "text": [
            "/usr/local/lib/python3.10/dist-packages/sklearn/neural_network/_multilayer_perceptron.py:686: ConvergenceWarning: Stochastic Optimizer: Maximum iterations (200) reached and the optimization hasn't converged yet.\n",
            "  warnings.warn(\n"
          ]
        },
        {
          "output_type": "stream",
          "name": "stdout",
          "text": [
            "*** K-Fold Split Results ***\n",
            "{'0': {'precision': 0.8815612382234186, 'recall': 0.8768406961178046, 'f1-score': 0.8791946308724832, 'support': 747}, '1': {'precision': 0.8776595744680851, 'recall': 0.8823529411764706, 'f1-score': 0.88, 'support': 748}, 'accuracy': 0.8795986622073578, 'macro avg': {'precision': 0.8796104063457518, 'recall': 0.8795968186471376, 'f1-score': 0.8795973154362415, 'support': 1495}, 'weighted avg': {'precision': 0.8796091014414857, 'recall': 0.8795986622073578, 'f1-score': 0.8795975847904648, 'support': 1495}}\n"
          ]
        },
        {
          "output_type": "stream",
          "name": "stderr",
          "text": [
            "/usr/local/lib/python3.10/dist-packages/sklearn/neural_network/_multilayer_perceptron.py:686: ConvergenceWarning: Stochastic Optimizer: Maximum iterations (200) reached and the optimization hasn't converged yet.\n",
            "  warnings.warn(\n"
          ]
        },
        {
          "output_type": "stream",
          "name": "stdout",
          "text": [
            "*** K-Fold Split Results ***\n",
            "{'0': {'precision': 0.8870967741935484, 'recall': 0.8835341365461847, 'f1-score': 0.8853118712273641, 'support': 747}, '1': {'precision': 0.8841544607190412, 'recall': 0.8877005347593583, 'f1-score': 0.885923949299533, 'support': 748}, 'accuracy': 0.88561872909699, 'macro avg': {'precision': 0.8856256174562949, 'recall': 0.8856173356527715, 'f1-score': 0.8856179102634485, 'support': 1495}, 'weighted avg': {'precision': 0.8856246334049656, 'recall': 0.88561872909699, 'f1-score': 0.885618114971834, 'support': 1495}}\n"
          ]
        },
        {
          "output_type": "stream",
          "name": "stderr",
          "text": [
            "/usr/local/lib/python3.10/dist-packages/sklearn/neural_network/_multilayer_perceptron.py:686: ConvergenceWarning: Stochastic Optimizer: Maximum iterations (200) reached and the optimization hasn't converged yet.\n",
            "  warnings.warn(\n"
          ]
        },
        {
          "output_type": "stream",
          "name": "stdout",
          "text": [
            "*** K-Fold Split Results ***\n",
            "{'0': {'precision': 0.8936742934051144, 'recall': 0.8888888888888888, 'f1-score': 0.891275167785235, 'support': 747}, '1': {'precision': 0.8896276595744681, 'recall': 0.8943850267379679, 'f1-score': 0.8920000000000001, 'support': 748}, 'accuracy': 0.8916387959866221, 'macro avg': {'precision': 0.8916509764897913, 'recall': 0.8916369578134284, 'f1-score': 0.8916375838926176, 'support': 1495}, 'weighted avg': {'precision': 0.8916496231005502, 'recall': 0.8916387959866221, 'f1-score': 0.8916378263114184, 'support': 1495}}\n"
          ]
        },
        {
          "output_type": "stream",
          "name": "stderr",
          "text": [
            "/usr/local/lib/python3.10/dist-packages/sklearn/neural_network/_multilayer_perceptron.py:686: ConvergenceWarning: Stochastic Optimizer: Maximum iterations (200) reached and the optimization hasn't converged yet.\n",
            "  warnings.warn(\n"
          ]
        },
        {
          "output_type": "stream",
          "name": "stdout",
          "text": [
            "*** K-Fold Split Results ***\n",
            "{'0': {'precision': 0.8925619834710744, 'recall': 0.8674698795180723, 'f1-score': 0.879837067209776, 'support': 747}, '1': {'precision': 0.87109375, 'recall': 0.8955823293172691, 'f1-score': 0.8831683168316832, 'support': 747}, 'accuracy': 0.8815261044176707, 'macro avg': {'precision': 0.8818278667355373, 'recall': 0.8815261044176708, 'f1-score': 0.8815026920207296, 'support': 1494}, 'weighted avg': {'precision': 0.8818278667355373, 'recall': 0.8815261044176707, 'f1-score': 0.8815026920207294, 'support': 1494}}\n"
          ]
        },
        {
          "output_type": "stream",
          "name": "stderr",
          "text": [
            "/usr/local/lib/python3.10/dist-packages/sklearn/neural_network/_multilayer_perceptron.py:686: ConvergenceWarning: Stochastic Optimizer: Maximum iterations (200) reached and the optimization hasn't converged yet.\n",
            "  warnings.warn(\n"
          ]
        },
        {
          "output_type": "stream",
          "name": "stdout",
          "text": [
            "*** K-Fold Split Results ***\n",
            "{'0': {'precision': 0.8823529411764706, 'recall': 0.9036144578313253, 'f1-score': 0.8928571428571428, 'support': 747}, '1': {'precision': 0.9012345679012346, 'recall': 0.8795180722891566, 'f1-score': 0.8902439024390244, 'support': 747}, 'accuracy': 0.891566265060241, 'macro avg': {'precision': 0.8917937545388526, 'recall': 0.891566265060241, 'f1-score': 0.8915505226480835, 'support': 1494}, 'weighted avg': {'precision': 0.8917937545388525, 'recall': 0.891566265060241, 'f1-score': 0.8915505226480837, 'support': 1494}}\n",
            "*** K-Fold Split Results ***\n",
            "{'0': {'precision': 0.8911022576361222, 'recall': 0.8970588235294118, 'f1-score': 0.894070619586942, 'support': 748}, '1': {'precision': 0.8962264150943396, 'recall': 0.8902275769745649, 'f1-score': 0.893216924110141, 'support': 747}, 'accuracy': 0.8936454849498328, 'macro avg': {'precision': 0.8936643363652309, 'recall': 0.8936432002519883, 'f1-score': 0.8936437718485415, 'support': 1495}, 'weighted avg': {'precision': 0.8936626226001947, 'recall': 0.8936454849498328, 'f1-score': 0.8936440573654233, 'support': 1495}}\n"
          ]
        },
        {
          "output_type": "stream",
          "name": "stderr",
          "text": [
            "/usr/local/lib/python3.10/dist-packages/sklearn/neural_network/_multilayer_perceptron.py:686: ConvergenceWarning: Stochastic Optimizer: Maximum iterations (200) reached and the optimization hasn't converged yet.\n",
            "  warnings.warn(\n"
          ]
        },
        {
          "output_type": "stream",
          "name": "stdout",
          "text": [
            "*** K-Fold Split Results ***\n",
            "{'0': {'precision': 0.8640522875816994, 'recall': 0.8836898395721925, 'f1-score': 0.8737607402511566, 'support': 748}, '1': {'precision': 0.8808219178082192, 'recall': 0.8607764390896921, 'f1-score': 0.8706838185511171, 'support': 747}, 'accuracy': 0.8722408026755852, 'macro avg': {'precision': 0.8724371026949593, 'recall': 0.8722331393309424, 'f1-score': 0.8722222794011368, 'support': 1495}, 'weighted avg': {'precision': 0.8724314941229772, 'recall': 0.8722408026755852, 'f1-score': 0.8722233084719395, 'support': 1495}}\n"
          ]
        },
        {
          "output_type": "stream",
          "name": "stderr",
          "text": [
            "/usr/local/lib/python3.10/dist-packages/sklearn/neural_network/_multilayer_perceptron.py:686: ConvergenceWarning: Stochastic Optimizer: Maximum iterations (200) reached and the optimization hasn't converged yet.\n",
            "  warnings.warn(\n"
          ]
        },
        {
          "output_type": "stream",
          "name": "stdout",
          "text": [
            "*** K-Fold Split Results ***\n",
            "{'0': {'precision': 0.8997326203208557, 'recall': 0.8997326203208557, 'f1-score': 0.8997326203208557, 'support': 748}, '1': {'precision': 0.8995983935742972, 'recall': 0.8995983935742972, 'f1-score': 0.8995983935742972, 'support': 747}, 'accuracy': 0.8996655518394648, 'macro avg': {'precision': 0.8996655069475764, 'recall': 0.8996655069475764, 'f1-score': 0.8996655069475764, 'support': 1495}, 'weighted avg': {'precision': 0.8996655518394648, 'recall': 0.8996655518394648, 'f1-score': 0.8996655518394648, 'support': 1495}}\n"
          ]
        },
        {
          "output_type": "stream",
          "name": "stderr",
          "text": [
            "/usr/local/lib/python3.10/dist-packages/sklearn/neural_network/_multilayer_perceptron.py:686: ConvergenceWarning: Stochastic Optimizer: Maximum iterations (200) reached and the optimization hasn't converged yet.\n",
            "  warnings.warn(\n"
          ]
        },
        {
          "output_type": "stream",
          "name": "stdout",
          "text": [
            "*** K-Fold Split Results ***\n",
            "{'0': {'precision': 0.8884514435695539, 'recall': 0.9050802139037433, 'f1-score': 0.8966887417218543, 'support': 748}, '1': {'precision': 0.903137789904502, 'recall': 0.8862115127175368, 'f1-score': 0.8945945945945946, 'support': 747}, 'accuracy': 0.8956521739130435, 'macro avg': {'precision': 0.8957946167370279, 'recall': 0.8956458633106401, 'f1-score': 0.8956416681582244, 'support': 1495}, 'weighted avg': {'precision': 0.8957897049155112, 'recall': 0.8956521739130435, 'f1-score': 0.895642368541879, 'support': 1495}}\n"
          ]
        },
        {
          "output_type": "stream",
          "name": "stderr",
          "text": [
            "/usr/local/lib/python3.10/dist-packages/sklearn/neural_network/_multilayer_perceptron.py:686: ConvergenceWarning: Stochastic Optimizer: Maximum iterations (200) reached and the optimization hasn't converged yet.\n",
            "  warnings.warn(\n"
          ]
        },
        {
          "output_type": "stream",
          "name": "stdout",
          "text": [
            "*** K-Fold Split Results ***\n",
            "{'0': {'precision': 0.892998678996037, 'recall': 0.9049531459170014, 'f1-score': 0.898936170212766, 'support': 747}, '1': {'precision': 0.9037940379403794, 'recall': 0.8917112299465241, 'f1-score': 0.8977119784656796, 'support': 748}, 'accuracy': 0.8983277591973244, 'macro avg': {'precision': 0.8983963584682082, 'recall': 0.8983321879317627, 'f1-score': 0.8983240743392228, 'support': 1495}, 'weighted avg': {'precision': 0.8983999689561494, 'recall': 0.8983277591973244, 'f1-score': 0.8983236649105447, 'support': 1495}}\n",
            "*** K-Fold Split Results ***\n",
            "{'0': {'precision': 0.8838797814207651, 'recall': 0.8661311914323963, 'f1-score': 0.8749154834347533, 'support': 747}, '1': {'precision': 0.8689384010484927, 'recall': 0.8863636363636364, 'f1-score': 0.8775645268034413, 'support': 748}, 'accuracy': 0.8762541806020067, 'macro avg': {'precision': 0.876409091234629, 'recall': 0.8762474138980163, 'f1-score': 0.8762400051190973, 'support': 1495}, 'weighted avg': {'precision': 0.8764040941174475, 'recall': 0.8762541806020067, 'f1-score': 0.8762408910867793, 'support': 1495}}\n"
          ]
        },
        {
          "output_type": "stream",
          "name": "stderr",
          "text": [
            "/usr/local/lib/python3.10/dist-packages/sklearn/neural_network/_multilayer_perceptron.py:686: ConvergenceWarning: Stochastic Optimizer: Maximum iterations (200) reached and the optimization hasn't converged yet.\n",
            "  warnings.warn(\n"
          ]
        },
        {
          "output_type": "stream",
          "name": "stdout",
          "text": [
            "*** K-Fold Split Results ***\n",
            "{'0': {'precision': 0.8955431754874652, 'recall': 0.8607764390896921, 'f1-score': 0.8778156996587031, 'support': 747}, '1': {'precision': 0.8661518661518661, 'recall': 0.8997326203208557, 'f1-score': 0.882622950819672, 'support': 748}, 'accuracy': 0.8802675585284281, 'macro avg': {'precision': 0.8808475208196657, 'recall': 0.880254529705274, 'f1-score': 0.8802193252391876, 'support': 1495}, 'weighted avg': {'precision': 0.8808376909503226, 'recall': 0.8802675585284281, 'f1-score': 0.8802209330154955, 'support': 1495}}\n"
          ]
        },
        {
          "output_type": "stream",
          "name": "stderr",
          "text": [
            "/usr/local/lib/python3.10/dist-packages/sklearn/neural_network/_multilayer_perceptron.py:686: ConvergenceWarning: Stochastic Optimizer: Maximum iterations (200) reached and the optimization hasn't converged yet.\n",
            "  warnings.warn(\n"
          ]
        },
        {
          "output_type": "stream",
          "name": "stdout",
          "text": [
            "*** K-Fold Split Results ***\n",
            "{'0': {'precision': 0.8727034120734908, 'recall': 0.8902275769745649, 'f1-score': 0.881378396288933, 'support': 747}, '1': {'precision': 0.888130968622101, 'recall': 0.8703208556149733, 'f1-score': 0.8791357191087104, 'support': 748}, 'accuracy': 0.8802675585284281, 'macro avg': {'precision': 0.8804171903477959, 'recall': 0.8802742162947691, 'f1-score': 0.8802570576988217, 'support': 1495}, 'weighted avg': {'precision': 0.8804223500657051, 'recall': 0.8802675585284281, 'f1-score': 0.8802563076395641, 'support': 1495}}\n"
          ]
        },
        {
          "output_type": "stream",
          "name": "stderr",
          "text": [
            "/usr/local/lib/python3.10/dist-packages/sklearn/neural_network/_multilayer_perceptron.py:686: ConvergenceWarning: Stochastic Optimizer: Maximum iterations (200) reached and the optimization hasn't converged yet.\n",
            "  warnings.warn(\n"
          ]
        },
        {
          "output_type": "stream",
          "name": "stdout",
          "text": [
            "*** K-Fold Split Results ***\n",
            "{'0': {'precision': 0.889958734525447, 'recall': 0.8661311914323963, 'f1-score': 0.8778833107191316, 'support': 747}, '1': {'precision': 0.8696219035202086, 'recall': 0.892904953145917, 'f1-score': 0.8811096433289299, 'support': 747}, 'accuracy': 0.8795180722891566, 'macro avg': {'precision': 0.8797903190228278, 'recall': 0.8795180722891567, 'f1-score': 0.8794964770240308, 'support': 1494}, 'weighted avg': {'precision': 0.8797903190228278, 'recall': 0.8795180722891566, 'f1-score': 0.8794964770240308, 'support': 1494}}\n",
            "*** K-Fold Split Results ***\n",
            "{'0': {'precision': 0.8771466314398944, 'recall': 0.8888888888888888, 'f1-score': 0.8829787234042553, 'support': 747}, '1': {'precision': 0.8873812754409769, 'recall': 0.8755020080321285, 'f1-score': 0.8814016172506739, 'support': 747}, 'accuracy': 0.8821954484605087, 'macro avg': {'precision': 0.8822639534404356, 'recall': 0.8821954484605087, 'f1-score': 0.8821901703274646, 'support': 1494}, 'weighted avg': {'precision': 0.8822639534404357, 'recall': 0.8821954484605087, 'f1-score': 0.8821901703274646, 'support': 1494}}\n"
          ]
        }
      ]
    },
    {
      "cell_type": "code",
      "source": [
        "# neural network evaluated on re-balanced dataset\n",
        "from numpy import mean\n",
        "from sklearn.datasets import make_classification\n",
        "from sklearn.model_selection import cross_validate\n",
        "from sklearn.model_selection import RepeatedStratifiedKFold\n",
        "from sklearn.neural_network import MLPClassifier\n",
        "from sklearn.metrics import accuracy_score, f1_score, precision_score, recall_score\n",
        "from sklearn.metrics import make_scorer\n",
        "\n",
        "# define scoring metrics\n",
        "scoring = {'accuracy': make_scorer(accuracy_score),\n",
        "            'precision': make_scorer(precision_score),\n",
        "           'recall': make_scorer(recall_score),\n",
        "           'f1': make_scorer(f1_score)}\n",
        "\n",
        "scoring = ['precision', 'recall', 'f1']\n",
        "\n",
        "# define model\n",
        "model = MLPClassifier(hidden_layer_sizes=(20,10),random_state=42)\n",
        "# evaluate pipeline\n",
        "cv = RepeatedStratifiedKFold(n_splits=10, n_repeats=3, random_state=42)\n",
        "scores = cross_validate(model, X, y, scoring= scoring, cv=cv, n_jobs=-1)\n",
        "print('Scores:', scores)"
      ],
      "metadata": {
        "colab": {
          "base_uri": "https://localhost:8080/",
          "height": 233
        },
        "id": "a9ygfFoRO26g",
        "outputId": "4df00bb4-01f6-4889-d2b1-490e29b0d4f5"
      },
      "execution_count": 2,
      "outputs": [
        {
          "output_type": "error",
          "ename": "NameError",
          "evalue": "ignored",
          "traceback": [
            "\u001b[0;31m---------------------------------------------------------------------------\u001b[0m",
            "\u001b[0;31mNameError\u001b[0m                                 Traceback (most recent call last)",
            "\u001b[0;32m<ipython-input-2-7208b855322d>\u001b[0m in \u001b[0;36m<cell line: 22>\u001b[0;34m()\u001b[0m\n\u001b[1;32m     20\u001b[0m \u001b[0;31m# evaluate pipeline\u001b[0m\u001b[0;34m\u001b[0m\u001b[0;34m\u001b[0m\u001b[0m\n\u001b[1;32m     21\u001b[0m \u001b[0mcv\u001b[0m \u001b[0;34m=\u001b[0m \u001b[0mRepeatedStratifiedKFold\u001b[0m\u001b[0;34m(\u001b[0m\u001b[0mn_splits\u001b[0m\u001b[0;34m=\u001b[0m\u001b[0;36m10\u001b[0m\u001b[0;34m,\u001b[0m \u001b[0mn_repeats\u001b[0m\u001b[0;34m=\u001b[0m\u001b[0;36m3\u001b[0m\u001b[0;34m,\u001b[0m \u001b[0mrandom_state\u001b[0m\u001b[0;34m=\u001b[0m\u001b[0;36m42\u001b[0m\u001b[0;34m)\u001b[0m\u001b[0;34m\u001b[0m\u001b[0;34m\u001b[0m\u001b[0m\n\u001b[0;32m---> 22\u001b[0;31m \u001b[0mscores\u001b[0m \u001b[0;34m=\u001b[0m \u001b[0mcross_validate\u001b[0m\u001b[0;34m(\u001b[0m\u001b[0mmodel\u001b[0m\u001b[0;34m,\u001b[0m \u001b[0mX\u001b[0m\u001b[0;34m,\u001b[0m \u001b[0my\u001b[0m\u001b[0;34m,\u001b[0m \u001b[0mscoring\u001b[0m\u001b[0;34m=\u001b[0m \u001b[0mscoring\u001b[0m\u001b[0;34m,\u001b[0m \u001b[0mcv\u001b[0m\u001b[0;34m=\u001b[0m\u001b[0mcv\u001b[0m\u001b[0;34m,\u001b[0m \u001b[0mn_jobs\u001b[0m\u001b[0;34m=\u001b[0m\u001b[0;34m-\u001b[0m\u001b[0;36m1\u001b[0m\u001b[0;34m)\u001b[0m\u001b[0;34m\u001b[0m\u001b[0;34m\u001b[0m\u001b[0m\n\u001b[0m\u001b[1;32m     23\u001b[0m \u001b[0mprint\u001b[0m\u001b[0;34m(\u001b[0m\u001b[0;34m'Scores:'\u001b[0m\u001b[0;34m,\u001b[0m \u001b[0mscores\u001b[0m\u001b[0;34m)\u001b[0m\u001b[0;34m\u001b[0m\u001b[0;34m\u001b[0m\u001b[0m\n",
            "\u001b[0;31mNameError\u001b[0m: name 'X' is not defined"
          ]
        }
      ]
    },
    {
      "cell_type": "code",
      "source": [
        "# classification report on CV with VotingClassifier\n",
        "import numpy as np\n",
        "from sklearn.model_selection import cross_validate, cross_val_predict\n",
        "from sklearn.model_selection import RepeatedStratifiedKFold\n",
        "from sklearn.ensemble import VotingClassifier\n",
        "from sklearn.svm import LinearSVC\n",
        "from sklearn.ensemble import RandomForestClassifier\n",
        "from sklearn.neural_network import MLPClassifier\n",
        "from sklearn.semi_supervised import SelfTrainingClassifier\n",
        "from sklearn.metrics import accuracy_score, f1_score, precision_score, recall_score, classification_report, make_scorer\n",
        "\n",
        "# define model\n",
        "model = MLPClassifier(hidden_layer_sizes=(20,10),random_state=42)\n",
        "\n",
        "classification_report_list = []\n",
        "# evaluate pipeline\n",
        "cv = RepeatedStratifiedKFold(n_splits=10, n_repeats=3, random_state=42)\n",
        "for train_index, test_index in cv.split(X, y):\n",
        "    x_train, x_test = np.array(X)[train_index], np.array(X)[test_index]\n",
        "    y_train, y_test = y[train_index], y[test_index]\n",
        "    model.fit(x_train, y_train)\n",
        "    y_pred = model.predict(x_test)\n",
        "    print(\"*** K-Fold Split Results ***\")\n",
        "    classification_report_results = classification_report(y_test, y_pred, output_dict=True)\n",
        "    print(classification_report_results)\n",
        "    classification_report_list.append(classification_report_results)"
      ],
      "metadata": {
        "colab": {
          "base_uri": "https://localhost:8080/"
        },
        "id": "vWEpTHj_YoTn",
        "outputId": "ad62e313-12b9-4003-d593-3d08178d522e"
      },
      "execution_count": 15,
      "outputs": [
        {
          "output_type": "stream",
          "name": "stderr",
          "text": [
            "/usr/local/lib/python3.10/dist-packages/sklearn/neural_network/_multilayer_perceptron.py:686: ConvergenceWarning: Stochastic Optimizer: Maximum iterations (200) reached and the optimization hasn't converged yet.\n",
            "  warnings.warn(\n"
          ]
        },
        {
          "output_type": "stream",
          "name": "stdout",
          "text": [
            "*** K-Fold Split Results ***\n",
            "{'0': {'precision': 0.8605263157894737, 'recall': 0.8743315508021391, 'f1-score': 0.8673740053050398, 'support': 748}, '1': {'precision': 0.8721088435374149, 'recall': 0.85809906291834, 'f1-score': 0.8650472334682862, 'support': 747}, 'accuracy': 0.8662207357859532, 'macro avg': {'precision': 0.8663175796634444, 'recall': 0.8662153068602396, 'f1-score': 0.866210619386663, 'support': 1495}, 'weighted avg': {'precision': 0.8663137059083447, 'recall': 0.8662207357859532, 'f1-score': 0.8662113975712238, 'support': 1495}}\n"
          ]
        },
        {
          "output_type": "stream",
          "name": "stderr",
          "text": [
            "/usr/local/lib/python3.10/dist-packages/sklearn/neural_network/_multilayer_perceptron.py:686: ConvergenceWarning: Stochastic Optimizer: Maximum iterations (200) reached and the optimization hasn't converged yet.\n",
            "  warnings.warn(\n"
          ]
        },
        {
          "output_type": "stream",
          "name": "stdout",
          "text": [
            "*** K-Fold Split Results ***\n",
            "{'0': {'precision': 0.8585732165206508, 'recall': 0.9171122994652406, 'f1-score': 0.8868778280542986, 'support': 748}, '1': {'precision': 0.9109195402298851, 'recall': 0.8487282463186078, 'f1-score': 0.8787248787248788, 'support': 747}, 'accuracy': 0.882943143812709, 'macro avg': {'precision': 0.8847463783752679, 'recall': 0.8829202728919242, 'f1-score': 0.8828013533895886, 'support': 1495}, 'weighted avg': {'precision': 0.8847288712435926, 'recall': 0.882943143812709, 'f1-score': 0.8828040801284949, 'support': 1495}}\n"
          ]
        },
        {
          "output_type": "stream",
          "name": "stderr",
          "text": [
            "/usr/local/lib/python3.10/dist-packages/sklearn/neural_network/_multilayer_perceptron.py:686: ConvergenceWarning: Stochastic Optimizer: Maximum iterations (200) reached and the optimization hasn't converged yet.\n",
            "  warnings.warn(\n"
          ]
        },
        {
          "output_type": "stream",
          "name": "stdout",
          "text": [
            "*** K-Fold Split Results ***\n",
            "{'0': {'precision': 0.8635204081632653, 'recall': 0.9050802139037433, 'f1-score': 0.8838120104438641, 'support': 748}, '1': {'precision': 0.90014064697609, 'recall': 0.856760374832664, 'f1-score': 0.8779149519890261, 'support': 747}, 'accuracy': 0.8809364548494983, 'macro avg': {'precision': 0.8818305275696776, 'recall': 0.8809202943682036, 'f1-score': 0.8808634812164451, 'support': 1495}, 'weighted avg': {'precision': 0.8818182799981683, 'recall': 0.8809364548494983, 'f1-score': 0.8808654534767978, 'support': 1495}}\n"
          ]
        },
        {
          "output_type": "stream",
          "name": "stderr",
          "text": [
            "/usr/local/lib/python3.10/dist-packages/sklearn/neural_network/_multilayer_perceptron.py:686: ConvergenceWarning: Stochastic Optimizer: Maximum iterations (200) reached and the optimization hasn't converged yet.\n",
            "  warnings.warn(\n"
          ]
        },
        {
          "output_type": "stream",
          "name": "stdout",
          "text": [
            "*** K-Fold Split Results ***\n",
            "{'0': {'precision': 0.866751269035533, 'recall': 0.9131016042780749, 'f1-score': 0.8893229166666666, 'support': 748}, '1': {'precision': 0.9080622347949081, 'recall': 0.8594377510040161, 'f1-score': 0.8830811554332876, 'support': 747}, 'accuracy': 0.8862876254180602, 'macro avg': {'precision': 0.8874067519152206, 'recall': 0.8862696776410455, 'f1-score': 0.8862020360499772, 'support': 1495}, 'weighted avg': {'precision': 0.8873929355387123, 'recall': 0.8862876254180602, 'f1-score': 0.8862041235955401, 'support': 1495}}\n",
            "*** K-Fold Split Results ***\n",
            "{'0': {'precision': 0.8785166240409207, 'recall': 0.9196787148594378, 'f1-score': 0.8986265533028123, 'support': 747}, '1': {'precision': 0.9158485273492286, 'recall': 0.8729946524064172, 'f1-score': 0.893908281998631, 'support': 748}, 'accuracy': 0.8963210702341137, 'macro avg': {'precision': 0.8971825756950746, 'recall': 0.8963366836329274, 'f1-score': 0.8962674176507217, 'support': 1495}, 'weighted avg': {'precision': 0.8971950612814654, 'recall': 0.8963210702341137, 'f1-score': 0.8962658396335632, 'support': 1495}}\n",
            "*** K-Fold Split Results ***\n",
            "{'0': {'precision': 0.8967391304347826, 'recall': 0.8835341365461847, 'f1-score': 0.890087660148348, 'support': 747}, '1': {'precision': 0.8853754940711462, 'recall': 0.8983957219251337, 'f1-score': 0.8918380889183809, 'support': 748}, 'accuracy': 0.8909698996655518, 'macro avg': {'precision': 0.8910573122529644, 'recall': 0.8909649292356592, 'f1-score': 0.8909628745333644, 'support': 1495}, 'weighted avg': {'precision': 0.8910535117056856, 'recall': 0.8909698996655518, 'f1-score': 0.8909634599610466, 'support': 1495}}\n"
          ]
        },
        {
          "output_type": "stream",
          "name": "stderr",
          "text": [
            "/usr/local/lib/python3.10/dist-packages/sklearn/neural_network/_multilayer_perceptron.py:686: ConvergenceWarning: Stochastic Optimizer: Maximum iterations (200) reached and the optimization hasn't converged yet.\n",
            "  warnings.warn(\n"
          ]
        },
        {
          "output_type": "stream",
          "name": "stdout",
          "text": [
            "*** K-Fold Split Results ***\n",
            "{'0': {'precision': 0.891644908616188, 'recall': 0.9143239625167336, 'f1-score': 0.9028420356906808, 'support': 747}, '1': {'precision': 0.9122085048010974, 'recall': 0.8890374331550802, 'f1-score': 0.9004739336492891, 'support': 748}, 'accuracy': 0.9016722408026756, 'macro avg': {'precision': 0.9019267067086427, 'recall': 0.9016806978359069, 'f1-score': 0.9016579846699849, 'support': 1495}, 'weighted avg': {'precision': 0.9019335841655607, 'recall': 0.9016722408026756, 'f1-score': 0.9016571926626132, 'support': 1495}}\n"
          ]
        },
        {
          "output_type": "stream",
          "name": "stderr",
          "text": [
            "/usr/local/lib/python3.10/dist-packages/sklearn/neural_network/_multilayer_perceptron.py:686: ConvergenceWarning: Stochastic Optimizer: Maximum iterations (200) reached and the optimization hasn't converged yet.\n",
            "  warnings.warn(\n"
          ]
        },
        {
          "output_type": "stream",
          "name": "stdout",
          "text": [
            "*** K-Fold Split Results ***\n",
            "{'0': {'precision': 0.8642131979695431, 'recall': 0.9116465863453815, 'f1-score': 0.8872964169381107, 'support': 747}, '1': {'precision': 0.9066478076379066, 'recall': 0.856951871657754, 'f1-score': 0.8810996563573882, 'support': 748}, 'accuracy': 0.8842809364548495, 'macro avg': {'precision': 0.8854305028037248, 'recall': 0.8842992290015678, 'f1-score': 0.8841980366477494, 'support': 1495}, 'weighted avg': {'precision': 0.8854446949808714, 'recall': 0.8842809364548495, 'f1-score': 0.8841959641525718, 'support': 1495}}\n"
          ]
        },
        {
          "output_type": "stream",
          "name": "stderr",
          "text": [
            "/usr/local/lib/python3.10/dist-packages/sklearn/neural_network/_multilayer_perceptron.py:686: ConvergenceWarning: Stochastic Optimizer: Maximum iterations (200) reached and the optimization hasn't converged yet.\n",
            "  warnings.warn(\n"
          ]
        },
        {
          "output_type": "stream",
          "name": "stdout",
          "text": [
            "*** K-Fold Split Results ***\n",
            "{'0': {'precision': 0.8897742363877822, 'recall': 0.8969210174029452, 'f1-score': 0.8933333333333333, 'support': 747}, '1': {'precision': 0.8960863697705803, 'recall': 0.8888888888888888, 'f1-score': 0.8924731182795699, 'support': 747}, 'accuracy': 0.892904953145917, 'macro avg': {'precision': 0.8929303030791813, 'recall': 0.892904953145917, 'f1-score': 0.8929032258064515, 'support': 1494}, 'weighted avg': {'precision': 0.8929303030791812, 'recall': 0.892904953145917, 'f1-score': 0.8929032258064517, 'support': 1494}}\n"
          ]
        },
        {
          "output_type": "stream",
          "name": "stderr",
          "text": [
            "/usr/local/lib/python3.10/dist-packages/sklearn/neural_network/_multilayer_perceptron.py:686: ConvergenceWarning: Stochastic Optimizer: Maximum iterations (200) reached and the optimization hasn't converged yet.\n",
            "  warnings.warn(\n"
          ]
        },
        {
          "output_type": "stream",
          "name": "stdout",
          "text": [
            "*** K-Fold Split Results ***\n",
            "{'0': {'precision': 0.8586251621271076, 'recall': 0.8862115127175368, 'f1-score': 0.8722002635046113, 'support': 747}, '1': {'precision': 0.8824343015214384, 'recall': 0.8540829986613119, 'f1-score': 0.8680272108843536, 'support': 747}, 'accuracy': 0.8701472556894244, 'macro avg': {'precision': 0.8705297318242731, 'recall': 0.8701472556894243, 'f1-score': 0.8701137371944825, 'support': 1494}, 'weighted avg': {'precision': 0.8705297318242731, 'recall': 0.8701472556894244, 'f1-score': 0.8701137371944826, 'support': 1494}}\n"
          ]
        },
        {
          "output_type": "stream",
          "name": "stderr",
          "text": [
            "/usr/local/lib/python3.10/dist-packages/sklearn/neural_network/_multilayer_perceptron.py:686: ConvergenceWarning: Stochastic Optimizer: Maximum iterations (200) reached and the optimization hasn't converged yet.\n",
            "  warnings.warn(\n"
          ]
        },
        {
          "output_type": "stream",
          "name": "stdout",
          "text": [
            "*** K-Fold Split Results ***\n",
            "{'0': {'precision': 0.8580402010050251, 'recall': 0.9131016042780749, 'f1-score': 0.8847150259067358, 'support': 748}, '1': {'precision': 0.9070100143061517, 'recall': 0.8487282463186078, 'f1-score': 0.8769017980636238, 'support': 747}, 'accuracy': 0.8809364548494983, 'macro avg': {'precision': 0.8825251076555884, 'recall': 0.8809149252983413, 'f1-score': 0.8808084119851798, 'support': 1495}, 'weighted avg': {'precision': 0.8825087297916081, 'recall': 0.8809364548494983, 'f1-score': 0.8808110251048599, 'support': 1495}}\n"
          ]
        },
        {
          "output_type": "stream",
          "name": "stderr",
          "text": [
            "/usr/local/lib/python3.10/dist-packages/sklearn/neural_network/_multilayer_perceptron.py:686: ConvergenceWarning: Stochastic Optimizer: Maximum iterations (200) reached and the optimization hasn't converged yet.\n",
            "  warnings.warn(\n"
          ]
        },
        {
          "output_type": "stream",
          "name": "stdout",
          "text": [
            "*** K-Fold Split Results ***\n",
            "{'0': {'precision': 0.903485254691689, 'recall': 0.9010695187165776, 'f1-score': 0.9022757697456493, 'support': 748}, '1': {'precision': 0.9012016021361816, 'recall': 0.9036144578313253, 'f1-score': 0.9024064171122995, 'support': 747}, 'accuracy': 0.9023411371237459, 'macro avg': {'precision': 0.9023434284139353, 'recall': 0.9023419882739514, 'f1-score': 0.9023410934289744, 'support': 1495}, 'weighted avg': {'precision': 0.9023441921773319, 'recall': 0.9023411371237459, 'f1-score': 0.9023410497342029, 'support': 1495}}\n"
          ]
        },
        {
          "output_type": "stream",
          "name": "stderr",
          "text": [
            "/usr/local/lib/python3.10/dist-packages/sklearn/neural_network/_multilayer_perceptron.py:686: ConvergenceWarning: Stochastic Optimizer: Maximum iterations (200) reached and the optimization hasn't converged yet.\n",
            "  warnings.warn(\n"
          ]
        },
        {
          "output_type": "stream",
          "name": "stdout",
          "text": [
            "*** K-Fold Split Results ***\n",
            "{'0': {'precision': 0.8713745271122321, 'recall': 0.9237967914438503, 'f1-score': 0.8968202465931214, 'support': 748}, '1': {'precision': 0.9188034188034188, 'recall': 0.8634538152610441, 'f1-score': 0.8902691511387163, 'support': 747}, 'accuracy': 0.8936454849498328, 'macro avg': {'precision': 0.8950889729578254, 'recall': 0.8936253033524473, 'f1-score': 0.8935446988659188, 'support': 1495}, 'weighted avg': {'precision': 0.8950731104522431, 'recall': 0.8936454849498328, 'f1-score': 0.8935468898677431, 'support': 1495}}\n"
          ]
        },
        {
          "output_type": "stream",
          "name": "stderr",
          "text": [
            "/usr/local/lib/python3.10/dist-packages/sklearn/neural_network/_multilayer_perceptron.py:686: ConvergenceWarning: Stochastic Optimizer: Maximum iterations (200) reached and the optimization hasn't converged yet.\n",
            "  warnings.warn(\n"
          ]
        },
        {
          "output_type": "stream",
          "name": "stdout",
          "text": [
            "*** K-Fold Split Results ***\n",
            "{'0': {'precision': 0.8549618320610687, 'recall': 0.8983957219251337, 'f1-score': 0.876140808344198, 'support': 748}, '1': {'precision': 0.8928067700987306, 'recall': 0.8473895582329317, 'f1-score': 0.8695054945054944, 'support': 747}, 'accuracy': 0.8729096989966555, 'macro avg': {'precision': 0.8738843010798996, 'recall': 0.8728926400790327, 'f1-score': 0.8728231514248462, 'support': 1495}, 'weighted avg': {'precision': 0.8738716439099873, 'recall': 0.8729096989966555, 'f1-score': 0.8728253705933542, 'support': 1495}}\n"
          ]
        },
        {
          "output_type": "stream",
          "name": "stderr",
          "text": [
            "/usr/local/lib/python3.10/dist-packages/sklearn/neural_network/_multilayer_perceptron.py:686: ConvergenceWarning: Stochastic Optimizer: Maximum iterations (200) reached and the optimization hasn't converged yet.\n",
            "  warnings.warn(\n"
          ]
        },
        {
          "output_type": "stream",
          "name": "stdout",
          "text": [
            "*** K-Fold Split Results ***\n",
            "{'0': {'precision': 0.8580246913580247, 'recall': 0.9303882195448461, 'f1-score': 0.892742453436095, 'support': 747}, '1': {'precision': 0.9240875912408759, 'recall': 0.8462566844919787, 'f1-score': 0.8834612700628054, 'support': 748}, 'accuracy': 0.8882943143812709, 'macro avg': {'precision': 0.8910561412994503, 'recall': 0.8883224520184123, 'f1-score': 0.8881018617494503, 'support': 1495}, 'weighted avg': {'precision': 0.8910782359147957, 'recall': 0.8882943143812709, 'f1-score': 0.8880987576747434, 'support': 1495}}\n"
          ]
        },
        {
          "output_type": "stream",
          "name": "stderr",
          "text": [
            "/usr/local/lib/python3.10/dist-packages/sklearn/neural_network/_multilayer_perceptron.py:686: ConvergenceWarning: Stochastic Optimizer: Maximum iterations (200) reached and the optimization hasn't converged yet.\n",
            "  warnings.warn(\n"
          ]
        },
        {
          "output_type": "stream",
          "name": "stdout",
          "text": [
            "*** K-Fold Split Results ***\n",
            "{'0': {'precision': 0.8810457516339869, 'recall': 0.9022757697456493, 'f1-score': 0.8915343915343915, 'support': 747}, '1': {'precision': 0.9, 'recall': 0.8783422459893048, 'f1-score': 0.8890392422192152, 'support': 748}, 'accuracy': 0.8903010033444816, 'macro avg': {'precision': 0.8905228758169934, 'recall': 0.890309007867477, 'f1-score': 0.8902868168768033, 'support': 1495}, 'weighted avg': {'precision': 0.8905292150304939, 'recall': 0.8903010033444816, 'f1-score': 0.8902859823787047, 'support': 1495}}\n"
          ]
        },
        {
          "output_type": "stream",
          "name": "stderr",
          "text": [
            "/usr/local/lib/python3.10/dist-packages/sklearn/neural_network/_multilayer_perceptron.py:686: ConvergenceWarning: Stochastic Optimizer: Maximum iterations (200) reached and the optimization hasn't converged yet.\n",
            "  warnings.warn(\n"
          ]
        },
        {
          "output_type": "stream",
          "name": "stdout",
          "text": [
            "*** K-Fold Split Results ***\n",
            "{'0': {'precision': 0.8779527559055118, 'recall': 0.8955823293172691, 'f1-score': 0.8866799204771372, 'support': 747}, '1': {'precision': 0.8935879945429741, 'recall': 0.8756684491978609, 'f1-score': 0.8845374746792707, 'support': 748}, 'accuracy': 0.88561872909699, 'macro avg': {'precision': 0.885770375224243, 'recall': 0.885625389257565, 'f1-score': 0.8856086975782039, 'support': 1495}, 'weighted avg': {'precision': 0.8857756044010449, 'recall': 0.88561872909699, 'f1-score': 0.8856079810411477, 'support': 1495}}\n"
          ]
        },
        {
          "output_type": "stream",
          "name": "stderr",
          "text": [
            "/usr/local/lib/python3.10/dist-packages/sklearn/neural_network/_multilayer_perceptron.py:686: ConvergenceWarning: Stochastic Optimizer: Maximum iterations (200) reached and the optimization hasn't converged yet.\n",
            "  warnings.warn(\n"
          ]
        },
        {
          "output_type": "stream",
          "name": "stdout",
          "text": [
            "*** K-Fold Split Results ***\n",
            "{'0': {'precision': 0.8921052631578947, 'recall': 0.9076305220883534, 'f1-score': 0.8998009289980092, 'support': 747}, '1': {'precision': 0.9061224489795918, 'recall': 0.8903743315508021, 'f1-score': 0.8981793661496965, 'support': 748}, 'accuracy': 0.8989966555183947, 'macro avg': {'precision': 0.8991138560687433, 'recall': 0.8990024268195778, 'f1-score': 0.8989901475738529, 'support': 1495}, 'weighted avg': {'precision': 0.8991185440907572, 'recall': 0.8989966555183947, 'f1-score': 0.8989896052451409, 'support': 1495}}\n",
            "*** K-Fold Split Results ***\n",
            "{'0': {'precision': 0.9001331557922769, 'recall': 0.9049531459170014, 'f1-score': 0.9025367156208279, 'support': 747}, '1': {'precision': 0.9044414535666218, 'recall': 0.8995983935742972, 'f1-score': 0.9020134228187918, 'support': 747}, 'accuracy': 0.9022757697456493, 'macro avg': {'precision': 0.9022873046794493, 'recall': 0.9022757697456493, 'f1-score': 0.9022750692198098, 'support': 1494}, 'weighted avg': {'precision': 0.9022873046794494, 'recall': 0.9022757697456493, 'f1-score': 0.9022750692198099, 'support': 1494}}\n"
          ]
        },
        {
          "output_type": "stream",
          "name": "stderr",
          "text": [
            "/usr/local/lib/python3.10/dist-packages/sklearn/neural_network/_multilayer_perceptron.py:686: ConvergenceWarning: Stochastic Optimizer: Maximum iterations (200) reached and the optimization hasn't converged yet.\n",
            "  warnings.warn(\n"
          ]
        },
        {
          "output_type": "stream",
          "name": "stdout",
          "text": [
            "*** K-Fold Split Results ***\n",
            "{'0': {'precision': 0.8756613756613757, 'recall': 0.8862115127175368, 'f1-score': 0.8809048569527611, 'support': 747}, '1': {'precision': 0.8848238482384824, 'recall': 0.8741633199464525, 'f1-score': 0.8794612794612795, 'support': 747}, 'accuracy': 0.8801874163319946, 'macro avg': {'precision': 0.880242611949929, 'recall': 0.8801874163319947, 'f1-score': 0.8801830682070203, 'support': 1494}, 'weighted avg': {'precision': 0.8802426119499291, 'recall': 0.8801874163319946, 'f1-score': 0.8801830682070204, 'support': 1494}}\n"
          ]
        },
        {
          "output_type": "stream",
          "name": "stderr",
          "text": [
            "/usr/local/lib/python3.10/dist-packages/sklearn/neural_network/_multilayer_perceptron.py:686: ConvergenceWarning: Stochastic Optimizer: Maximum iterations (200) reached and the optimization hasn't converged yet.\n",
            "  warnings.warn(\n"
          ]
        },
        {
          "output_type": "stream",
          "name": "stdout",
          "text": [
            "*** K-Fold Split Results ***\n",
            "{'0': {'precision': 0.8975741239892183, 'recall': 0.8903743315508021, 'f1-score': 0.8939597315436242, 'support': 748}, '1': {'precision': 0.8911022576361222, 'recall': 0.8982597054886211, 'f1-score': 0.8946666666666666, 'support': 747}, 'accuracy': 0.894314381270903, 'macro avg': {'precision': 0.8943381908126702, 'recall': 0.8943170185197116, 'f1-score': 0.8943131991051454, 'support': 1495}, 'weighted avg': {'precision': 0.8943403553164674, 'recall': 0.894314381270903, 'f1-score': 0.894312962671994, 'support': 1495}}\n"
          ]
        },
        {
          "output_type": "stream",
          "name": "stderr",
          "text": [
            "/usr/local/lib/python3.10/dist-packages/sklearn/neural_network/_multilayer_perceptron.py:686: ConvergenceWarning: Stochastic Optimizer: Maximum iterations (200) reached and the optimization hasn't converged yet.\n",
            "  warnings.warn(\n"
          ]
        },
        {
          "output_type": "stream",
          "name": "stdout",
          "text": [
            "*** K-Fold Split Results ***\n",
            "{'0': {'precision': 0.8573264781491002, 'recall': 0.8917112299465241, 'f1-score': 0.8741808650065531, 'support': 748}, '1': {'precision': 0.8870292887029289, 'recall': 0.8514056224899599, 'f1-score': 0.8688524590163934, 'support': 747}, 'accuracy': 0.8715719063545151, 'macro avg': {'precision': 0.8721778834260145, 'recall': 0.871558426218242, 'f1-score': 0.8715166620114733, 'support': 1495}, 'weighted avg': {'precision': 0.8721679493756622, 'recall': 0.8715719063545151, 'f1-score': 0.8715184440870551, 'support': 1495}}\n"
          ]
        },
        {
          "output_type": "stream",
          "name": "stderr",
          "text": [
            "/usr/local/lib/python3.10/dist-packages/sklearn/neural_network/_multilayer_perceptron.py:686: ConvergenceWarning: Stochastic Optimizer: Maximum iterations (200) reached and the optimization hasn't converged yet.\n",
            "  warnings.warn(\n"
          ]
        },
        {
          "output_type": "stream",
          "name": "stdout",
          "text": [
            "*** K-Fold Split Results ***\n",
            "{'0': {'precision': 0.8609431680773881, 'recall': 0.9518716577540107, 'f1-score': 0.9041269841269841, 'support': 748}, '1': {'precision': 0.9461077844311377, 'recall': 0.8460508701472557, 'f1-score': 0.8932862190812721, 'support': 747}, 'accuracy': 0.8989966555183947, 'macro avg': {'precision': 0.9035254762542629, 'recall': 0.8989612639506332, 'f1-score': 0.8987066016041281, 'support': 1495}, 'weighted avg': {'precision': 0.9034969931049809, 'recall': 0.8989966555183947, 'f1-score': 0.8987102272780565, 'support': 1495}}\n"
          ]
        },
        {
          "output_type": "stream",
          "name": "stderr",
          "text": [
            "/usr/local/lib/python3.10/dist-packages/sklearn/neural_network/_multilayer_perceptron.py:686: ConvergenceWarning: Stochastic Optimizer: Maximum iterations (200) reached and the optimization hasn't converged yet.\n",
            "  warnings.warn(\n"
          ]
        },
        {
          "output_type": "stream",
          "name": "stdout",
          "text": [
            "*** K-Fold Split Results ***\n",
            "{'0': {'precision': 0.8604353393085787, 'recall': 0.8983957219251337, 'f1-score': 0.8790058862001308, 'support': 748}, '1': {'precision': 0.8935574229691877, 'recall': 0.8540829986613119, 'f1-score': 0.8733744010951404, 'support': 747}, 'accuracy': 0.8762541806020067, 'macro avg': {'precision': 0.8769963811388832, 'recall': 0.8762393602932228, 'f1-score': 0.8761901436476356, 'support': 1495}, 'weighted avg': {'precision': 0.87698530351893, 'recall': 0.8762541806020067, 'f1-score': 0.8761920270874701, 'support': 1495}}\n"
          ]
        },
        {
          "output_type": "stream",
          "name": "stderr",
          "text": [
            "/usr/local/lib/python3.10/dist-packages/sklearn/neural_network/_multilayer_perceptron.py:686: ConvergenceWarning: Stochastic Optimizer: Maximum iterations (200) reached and the optimization hasn't converged yet.\n",
            "  warnings.warn(\n"
          ]
        },
        {
          "output_type": "stream",
          "name": "stdout",
          "text": [
            "*** K-Fold Split Results ***\n",
            "{'0': {'precision': 0.8695652173913043, 'recall': 0.9103078982597055, 'f1-score': 0.8894702419882274, 'support': 747}, '1': {'precision': 0.906030855539972, 'recall': 0.8636363636363636, 'f1-score': 0.8843258042436687, 'support': 748}, 'accuracy': 0.8869565217391304, 'macro avg': {'precision': 0.8877980364656382, 'recall': 0.8869721309480345, 'f1-score': 0.886898023115948, 'support': 1495}, 'weighted avg': {'precision': 0.8878102323312397, 'recall': 0.8869565217391304, 'f1-score': 0.8868963025682075, 'support': 1495}}\n",
            "*** K-Fold Split Results ***\n",
            "{'0': {'precision': 0.8753213367609255, 'recall': 0.9116465863453815, 'f1-score': 0.8931147540983606, 'support': 747}, '1': {'precision': 0.9079497907949791, 'recall': 0.8703208556149733, 'f1-score': 0.8887372013651879, 'support': 748}, 'accuracy': 0.8909698996655518, 'macro avg': {'precision': 0.8916355637779523, 'recall': 0.8909837209801774, 'f1-score': 0.8909259777317742, 'support': 1495}, 'weighted avg': {'precision': 0.8916464763043851, 'recall': 0.8909698996655518, 'f1-score': 0.890924513667315, 'support': 1495}}\n"
          ]
        },
        {
          "output_type": "stream",
          "name": "stderr",
          "text": [
            "/usr/local/lib/python3.10/dist-packages/sklearn/neural_network/_multilayer_perceptron.py:686: ConvergenceWarning: Stochastic Optimizer: Maximum iterations (200) reached and the optimization hasn't converged yet.\n",
            "  warnings.warn(\n"
          ]
        },
        {
          "output_type": "stream",
          "name": "stdout",
          "text": [
            "*** K-Fold Split Results ***\n",
            "{'0': {'precision': 0.8802153432032301, 'recall': 0.8755020080321285, 'f1-score': 0.8778523489932886, 'support': 747}, '1': {'precision': 0.8763297872340425, 'recall': 0.8810160427807486, 'f1-score': 0.8786666666666667, 'support': 748}, 'accuracy': 0.8782608695652174, 'macro avg': {'precision': 0.8782725652186363, 'recall': 0.8782590254064386, 'f1-score': 0.8782595078299776, 'support': 1495}, 'weighted avg': {'precision': 0.8782712657015898, 'recall': 0.8782608695652174, 'f1-score': 0.8782597801770256, 'support': 1495}}\n"
          ]
        },
        {
          "output_type": "stream",
          "name": "stderr",
          "text": [
            "/usr/local/lib/python3.10/dist-packages/sklearn/neural_network/_multilayer_perceptron.py:686: ConvergenceWarning: Stochastic Optimizer: Maximum iterations (200) reached and the optimization hasn't converged yet.\n",
            "  warnings.warn(\n"
          ]
        },
        {
          "output_type": "stream",
          "name": "stdout",
          "text": [
            "*** K-Fold Split Results ***\n",
            "{'0': {'precision': 0.8718274111675127, 'recall': 0.9196787148594378, 'f1-score': 0.895114006514658, 'support': 747}, '1': {'precision': 0.9151343705799151, 'recall': 0.8649732620320856, 'f1-score': 0.8893470790378007, 'support': 748}, 'accuracy': 0.8923076923076924, 'macro avg': {'precision': 0.893480890873714, 'recall': 0.8923259884457617, 'f1-score': 0.8922305427762294, 'support': 1495}, 'weighted avg': {'precision': 0.8934953748066278, 'recall': 0.8923076923076924, 'f1-score': 0.8922286140379428, 'support': 1495}}\n"
          ]
        },
        {
          "output_type": "stream",
          "name": "stderr",
          "text": [
            "/usr/local/lib/python3.10/dist-packages/sklearn/neural_network/_multilayer_perceptron.py:686: ConvergenceWarning: Stochastic Optimizer: Maximum iterations (200) reached and the optimization hasn't converged yet.\n",
            "  warnings.warn(\n"
          ]
        },
        {
          "output_type": "stream",
          "name": "stdout",
          "text": [
            "*** K-Fold Split Results ***\n",
            "{'0': {'precision': 0.9044943820224719, 'recall': 0.8621151271753681, 'f1-score': 0.8827964359150102, 'support': 747}, '1': {'precision': 0.8682864450127877, 'recall': 0.9089692101740294, 'f1-score': 0.8881621975147156, 'support': 747}, 'accuracy': 0.8855421686746988, 'macro avg': {'precision': 0.8863904135176298, 'recall': 0.8855421686746987, 'f1-score': 0.8854793167148629, 'support': 1494}, 'weighted avg': {'precision': 0.8863904135176298, 'recall': 0.8855421686746988, 'f1-score': 0.885479316714863, 'support': 1494}}\n",
            "*** K-Fold Split Results ***\n",
            "{'0': {'precision': 0.8727034120734908, 'recall': 0.8902275769745649, 'f1-score': 0.881378396288933, 'support': 747}, '1': {'precision': 0.8879781420765027, 'recall': 0.8701472556894244, 'f1-score': 0.8789722785665991, 'support': 747}, 'accuracy': 0.8801874163319946, 'macro avg': {'precision': 0.8803407770749967, 'recall': 0.8801874163319947, 'f1-score': 0.8801753374277661, 'support': 1494}, 'weighted avg': {'precision': 0.8803407770749968, 'recall': 0.8801874163319946, 'f1-score': 0.8801753374277661, 'support': 1494}}\n"
          ]
        },
        {
          "output_type": "stream",
          "name": "stderr",
          "text": [
            "/usr/local/lib/python3.10/dist-packages/sklearn/neural_network/_multilayer_perceptron.py:686: ConvergenceWarning: Stochastic Optimizer: Maximum iterations (200) reached and the optimization hasn't converged yet.\n",
            "  warnings.warn(\n"
          ]
        }
      ]
    },
    {
      "cell_type": "code",
      "source": [
        "# random forest evaluated on re-balanced dataset\n",
        "from numpy import mean\n",
        "from sklearn.datasets import make_classification\n",
        "from sklearn.model_selection import cross_validate\n",
        "from sklearn.model_selection import RepeatedStratifiedKFold\n",
        "from sklearn.ensemble import RandomForestClassifier\n",
        "from sklearn.metrics import accuracy_score, f1_score, precision_score, recall_score\n",
        "from sklearn.metrics import make_scorer\n",
        "\n",
        "# define scoring metrics\n",
        "scoring = {'accuracy': make_scorer(accuracy_score),\n",
        "            'precision': make_scorer(precision_score),\n",
        "           'recall': make_scorer(recall_score),\n",
        "           'f1': make_scorer(f1_score)}\n",
        "\n",
        "scoring = ['precision', 'recall', 'f1']\n",
        "\n",
        "# define model\n",
        "model = RandomForestClassifier(random_state = 42)\n",
        "# evaluate pipeline\n",
        "cv = RepeatedStratifiedKFold(n_splits=10, n_repeats=3, random_state=42)\n",
        "scores = cross_validate(model, X, y, scoring= scoring, cv=cv, n_jobs=-1)\n",
        "print('Scores:', scores)"
      ],
      "metadata": {
        "colab": {
          "base_uri": "https://localhost:8080/"
        },
        "id": "bDm0p2sARYwB",
        "outputId": "b9326032-2e9d-489e-c7ca-cf68723c1d5c"
      },
      "execution_count": null,
      "outputs": [
        {
          "output_type": "stream",
          "name": "stdout",
          "text": [
            "Scores: {'fit_time': array([59.39355874, 58.6364913 , 58.01466608, 57.32071447, 57.73810697,\n",
            "       57.02665353, 59.24876976, 57.70379138, 57.560642  , 57.00001836,\n",
            "       57.38927221, 56.82229185, 57.22845459, 57.17982721, 57.54526782,\n",
            "       57.52511811, 56.85505939, 57.11272669, 57.21608591, 57.08910751,\n",
            "       55.17989779, 57.41469836, 56.02990794, 56.87291074, 56.16347885,\n",
            "       57.03550529, 56.86514759, 57.47136974, 57.48581266, 56.93324327]), 'score_time': array([0.16521811, 0.17102075, 0.15123606, 0.15870738, 0.15656495,\n",
            "       0.15671682, 0.30239344, 0.27232099, 0.15584278, 0.49145484,\n",
            "       0.16600251, 0.18694639, 0.17182064, 0.32569861, 0.1517427 ,\n",
            "       0.18317437, 0.15178394, 0.26011467, 0.24669695, 0.30730534,\n",
            "       0.28095293, 0.15952778, 0.31818795, 0.16268229, 0.29642057,\n",
            "       0.15351939, 0.22768283, 0.15335703, 0.16799593, 0.09529448]), 'test_precision': array([0.84876141, 0.8496732 , 0.82496782, 0.83942559, 0.88059701,\n",
            "       0.84326425, 0.83228247, 0.85278515, 0.8425096 , 0.8283485 ,\n",
            "       0.83619551, 0.85862516, 0.83207071, 0.83994878, 0.83937824,\n",
            "       0.85582011, 0.84046693, 0.83606557, 0.8458498 , 0.84010485,\n",
            "       0.86774629, 0.85026738, 0.84765625, 0.85751979, 0.84203655,\n",
            "       0.83126551, 0.84217335, 0.85542169, 0.84061697, 0.83333333]), 'test_recall': array([0.87148594, 0.87014726, 0.85809906, 0.86077644, 0.86764706,\n",
            "       0.87032086, 0.88235294, 0.85962567, 0.88085676, 0.85274431,\n",
            "       0.84738956, 0.88621151, 0.88219545, 0.87817938, 0.86631016,\n",
            "       0.86497326, 0.86631016, 0.88636364, 0.85943775, 0.85809906,\n",
            "       0.86077644, 0.85140562, 0.87148594, 0.87014726, 0.86229947,\n",
            "       0.89572193, 0.87032086, 0.85427807, 0.87550201, 0.85006693]), 'test_f1': array([0.85997358, 0.85978836, 0.84120735, 0.84996695, 0.87407407,\n",
            "       0.85657895, 0.85658663, 0.85619174, 0.86125654, 0.84036939,\n",
            "       0.84175532, 0.87220026, 0.85640026, 0.85863874, 0.85263158,\n",
            "       0.86037234, 0.85319289, 0.86048021, 0.85258964, 0.84900662,\n",
            "       0.86424731, 0.85083612, 0.85940594, 0.86378738, 0.85204756,\n",
            "       0.86229086, 0.85601578, 0.8548495 , 0.85770492, 0.84161696])}\n"
          ]
        }
      ]
    },
    {
      "cell_type": "code",
      "source": [
        "# classification report on CV with VotingClassifier\n",
        "import numpy as np\n",
        "from sklearn.model_selection import cross_validate, cross_val_predict\n",
        "from sklearn.model_selection import RepeatedStratifiedKFold\n",
        "from sklearn.ensemble import VotingClassifier\n",
        "from sklearn.svm import LinearSVC\n",
        "from sklearn.ensemble import RandomForestClassifier\n",
        "from sklearn.neural_network import MLPClassifier\n",
        "from sklearn.semi_supervised import SelfTrainingClassifier\n",
        "from sklearn.metrics import accuracy_score, f1_score, precision_score, recall_score, classification_report, make_scorer\n",
        "\n",
        "# define model\n",
        "model = RandomForestClassifier(random_state = 42)\n",
        "\n",
        "classification_report_list = []\n",
        "# evaluate pipeline\n",
        "cv = RepeatedStratifiedKFold(n_splits=10, n_repeats=3, random_state=42)\n",
        "for train_index, test_index in cv.split(X, y):\n",
        "    x_train, x_test = np.array(X)[train_index], np.array(X)[test_index]\n",
        "    y_train, y_test = y[train_index], y[test_index]\n",
        "    model.fit(x_train, y_train)\n",
        "    y_pred = model.predict(x_test)\n",
        "    print(\"*** K-Fold Split Results ***\")\n",
        "    classification_report_results = classification_report(y_test, y_pred, output_dict=True)\n",
        "    print(classification_report_results)\n",
        "    classification_report_list.append(classification_report_results)"
      ],
      "metadata": {
        "colab": {
          "base_uri": "https://localhost:8080/"
        },
        "id": "fJUyGNkwdo8C",
        "outputId": "18253ef4-1928-4a00-bba3-b567926357fd"
      },
      "execution_count": 16,
      "outputs": [
        {
          "output_type": "stream",
          "name": "stdout",
          "text": [
            "*** K-Fold Split Results ***\n",
            "{'0': {'precision': 0.8691860465116279, 'recall': 0.7994652406417112, 'f1-score': 0.8328690807799444, 'support': 748}, '1': {'precision': 0.8141263940520446, 'recall': 0.8795180722891566, 'f1-score': 0.8455598455598454, 'support': 747}, 'accuracy': 0.8394648829431438, 'macro avg': {'precision': 0.8416562202818363, 'recall': 0.8394916564654339, 'f1-score': 0.8392144631698949, 'support': 1495}, 'weighted avg': {'precision': 0.841674634881321, 'recall': 0.8394648829431438, 'f1-score': 0.8392102187669584, 'support': 1495}}\n",
            "*** K-Fold Split Results ***\n",
            "{'0': {'precision': 0.8753462603878116, 'recall': 0.8449197860962567, 'f1-score': 0.8598639455782314, 'support': 748}, '1': {'precision': 0.8499353169469599, 'recall': 0.8795180722891566, 'f1-score': 0.8644736842105263, 'support': 747}, 'accuracy': 0.8622073578595317, 'macro avg': {'precision': 0.8626407886673857, 'recall': 0.8622189291927067, 'f1-score': 0.8621688148943789, 'support': 1495}, 'weighted avg': {'precision': 0.8626492873106769, 'recall': 0.8622073578595317, 'f1-score': 0.8621672731757727, 'support': 1495}}\n",
            "*** K-Fold Split Results ***\n",
            "{'0': {'precision': 0.8547717842323651, 'recall': 0.8262032085561497, 'f1-score': 0.840244731475187, 'support': 748}, '1': {'precision': 0.8316062176165803, 'recall': 0.8594377510040161, 'f1-score': 0.8452929558920343, 'support': 747}, 'accuracy': 0.842809364548495, 'macro avg': {'precision': 0.8431890009244727, 'recall': 0.8428204797800829, 'f1-score': 0.8427688436836107, 'support': 1495}, 'weighted avg': {'precision': 0.8431967486056151, 'recall': 0.842809364548495, 'f1-score': 0.8427671553142404, 'support': 1495}}\n",
            "*** K-Fold Split Results ***\n",
            "{'0': {'precision': 0.8602739726027397, 'recall': 0.839572192513369, 'f1-score': 0.8497970230040596, 'support': 748}, '1': {'precision': 0.8431372549019608, 'recall': 0.8634538152610441, 'f1-score': 0.8531746031746033, 'support': 747}, 'accuracy': 0.8515050167224081, 'macro avg': {'precision': 0.8517056137523502, 'recall': 0.8515130038872065, 'f1-score': 0.8514858130893315, 'support': 1495}, 'weighted avg': {'precision': 0.8517113450960628, 'recall': 0.8515050167224081, 'f1-score': 0.8514846834638563, 'support': 1495}}\n",
            "*** K-Fold Split Results ***\n",
            "{'0': {'precision': 0.8552278820375335, 'recall': 0.8540829986613119, 'f1-score': 0.854655056932351, 'support': 747}, '1': {'precision': 0.8544726301735648, 'recall': 0.8556149732620321, 'f1-score': 0.8550434201736807, 'support': 748}, 'accuracy': 0.8548494983277592, 'macro avg': {'precision': 0.8548502561055491, 'recall': 0.8548489859616719, 'f1-score': 0.8548492385530159, 'support': 1495}, 'weighted avg': {'precision': 0.8548500035129526, 'recall': 0.8548494983277592, 'f1-score': 0.8548493684403876, 'support': 1495}}\n",
            "*** K-Fold Split Results ***\n",
            "{'0': {'precision': 0.8729050279329609, 'recall': 0.8366800535475234, 'f1-score': 0.8544087491455912, 'support': 747}, '1': {'precision': 0.8433889602053916, 'recall': 0.8783422459893048, 'f1-score': 0.8605108055009822, 'support': 748}, 'accuracy': 0.8575250836120402, 'macro avg': {'precision': 0.8581469940691762, 'recall': 0.857511149768414, 'f1-score': 0.8574597773232867, 'support': 1495}, 'weighted avg': {'precision': 0.8581371224746185, 'recall': 0.8575250836120402, 'f1-score': 0.8574618181448104, 'support': 1495}}\n",
            "*** K-Fold Split Results ***\n",
            "{'0': {'precision': 0.8714090287277702, 'recall': 0.8527443105756358, 'f1-score': 0.861975642760487, 'support': 747}, '1': {'precision': 0.856020942408377, 'recall': 0.8743315508021391, 'f1-score': 0.8650793650793651, 'support': 748}, 'accuracy': 0.8635451505016722, 'macro avg': {'precision': 0.8637149855680736, 'recall': 0.8635379306888875, 'f1-score': 0.863527503919926, 'support': 1495}, 'weighted avg': {'precision': 0.8637098390509098, 'recall': 0.8635451505016722, 'f1-score': 0.8635285419541464, 'support': 1495}}\n",
            "*** K-Fold Split Results ***\n",
            "{'0': {'precision': 0.8529411764705882, 'recall': 0.8540829986613119, 'f1-score': 0.8535117056856186, 'support': 747}, '1': {'precision': 0.8540829986613119, 'recall': 0.8529411764705882, 'f1-score': 0.8535117056856186, 'support': 748}, 'accuracy': 0.8535117056856187, 'macro avg': {'precision': 0.8535120875659501, 'recall': 0.8535120875659501, 'f1-score': 0.8535117056856186, 'support': 1495}, 'weighted avg': {'precision': 0.8535124694462813, 'recall': 0.8535117056856187, 'f1-score': 0.8535117056856186, 'support': 1495}}\n",
            "*** K-Fold Split Results ***\n",
            "{'0': {'precision': 0.8794520547945206, 'recall': 0.8594377510040161, 'f1-score': 0.8693297224102912, 'support': 747}, '1': {'precision': 0.862565445026178, 'recall': 0.8821954484605087, 'f1-score': 0.872270019854401, 'support': 747}, 'accuracy': 0.8708165997322623, 'macro avg': {'precision': 0.8710087499103494, 'recall': 0.8708165997322623, 'f1-score': 0.8707998711323461, 'support': 1494}, 'weighted avg': {'precision': 0.8710087499103494, 'recall': 0.8708165997322623, 'f1-score': 0.870799871132346, 'support': 1494}}\n",
            "*** K-Fold Split Results ***\n",
            "{'0': {'precision': 0.8390177353342428, 'recall': 0.8232931726907631, 'f1-score': 0.831081081081081, 'support': 747}, '1': {'precision': 0.8265440210249672, 'recall': 0.8420348058902276, 'f1-score': 0.8342175066312998, 'support': 747}, 'accuracy': 0.8326639892904953, 'macro avg': {'precision': 0.832780878179605, 'recall': 0.8326639892904953, 'f1-score': 0.8326492938561905, 'support': 1494}, 'weighted avg': {'precision': 0.832780878179605, 'recall': 0.8326639892904953, 'f1-score': 0.8326492938561904, 'support': 1494}}\n",
            "*** K-Fold Split Results ***\n",
            "{'0': {'precision': 0.8432432432432433, 'recall': 0.8342245989304813, 'f1-score': 0.8387096774193549, 'support': 748}, '1': {'precision': 0.8357615894039735, 'recall': 0.8447121820615796, 'f1-score': 0.8402130492676431, 'support': 747}, 'accuracy': 0.8394648829431438, 'macro avg': {'precision': 0.8395024163236084, 'recall': 0.8394683904960305, 'f1-score': 0.839461363343499, 'support': 1495}, 'weighted avg': {'precision': 0.8395049185489727, 'recall': 0.8394648829431438, 'f1-score': 0.8394608605435497, 'support': 1495}}\n",
            "*** K-Fold Split Results ***\n",
            "{'0': {'precision': 0.8774104683195593, 'recall': 0.8516042780748663, 'f1-score': 0.864314789687924, 'support': 748}, '1': {'precision': 0.8556566970091027, 'recall': 0.8808567603748326, 'f1-score': 0.8680738786279683, 'support': 747}, 'accuracy': 0.8662207357859532, 'macro avg': {'precision': 0.866533582664331, 'recall': 0.8662305192248494, 'f1-score': 0.8661943341579461, 'support': 1495}, 'weighted avg': {'precision': 0.8665408581731305, 'recall': 0.8662207357859532, 'f1-score': 0.8661930769375649, 'support': 1495}}\n",
            "*** K-Fold Split Results ***\n",
            "{'0': {'precision': 0.8668515950069348, 'recall': 0.8355614973262032, 'f1-score': 0.8509189925119128, 'support': 748}, '1': {'precision': 0.8410852713178295, 'recall': 0.8714859437751004, 'f1-score': 0.8560157790927022, 'support': 747}, 'accuracy': 0.8535117056856187, 'macro avg': {'precision': 0.8539684331623821, 'recall': 0.8535237205506518, 'f1-score': 0.8534673858023075, 'support': 1495}, 'weighted avg': {'precision': 0.8539770506619437, 'recall': 0.8535117056856187, 'f1-score': 0.853465681191411, 'support': 1495}}\n",
            "*** K-Fold Split Results ***\n",
            "{'0': {'precision': 0.8668555240793201, 'recall': 0.8181818181818182, 'f1-score': 0.8418156808803301, 'support': 748}, '1': {'precision': 0.8276299112801014, 'recall': 0.8741633199464525, 'f1-score': 0.8502604166666667, 'support': 747}, 'accuracy': 0.8461538461538461, 'macro avg': {'precision': 0.8472427176797108, 'recall': 0.8461725690641353, 'f1-score': 0.8460380487734984, 'support': 1495}, 'weighted avg': {'precision': 0.8472558366137574, 'recall': 0.8461538461538461, 'f1-score': 0.8460352244471485, 'support': 1495}}\n",
            "*** K-Fold Split Results ***\n",
            "{'0': {'precision': 0.8674033149171271, 'recall': 0.8406961178045516, 'f1-score': 0.8538409245411285, 'support': 747}, '1': {'precision': 0.8456549935149157, 'recall': 0.8716577540106952, 'f1-score': 0.8584595128373931, 'support': 748}, 'accuracy': 0.8561872909698997, 'macro avg': {'precision': 0.8565291542160214, 'recall': 0.8561769359076234, 'f1-score': 0.8561502186892608, 'support': 1495}, 'weighted avg': {'precision': 0.8565218805299338, 'recall': 0.8561872909698997, 'f1-score': 0.8561517633676207, 'support': 1495}}\n",
            "*** K-Fold Split Results ***\n",
            "{'0': {'precision': 0.8692098092643051, 'recall': 0.8540829986613119, 'f1-score': 0.861580013504389, 'support': 747}, '1': {'precision': 0.8567674113009198, 'recall': 0.8716577540106952, 'f1-score': 0.8641484426772696, 'support': 748}, 'accuracy': 0.862876254180602, 'macro avg': {'precision': 0.8629886102826125, 'recall': 0.8628703763360035, 'f1-score': 0.8628642280908293, 'support': 1495}, 'weighted avg': {'precision': 0.862984448945501, 'recall': 0.862876254180602, 'f1-score': 0.8628650870972417, 'support': 1495}}\n",
            "*** K-Fold Split Results ***\n",
            "{'0': {'precision': 0.8587257617728532, 'recall': 0.8299866131191432, 'f1-score': 0.8441116405718176, 'support': 747}, '1': {'precision': 0.8357050452781372, 'recall': 0.8636363636363636, 'f1-score': 0.8494411571334648, 'support': 748}, 'accuracy': 0.8468227424749164, 'macro avg': {'precision': 0.8472154035254952, 'recall': 0.8468114883777534, 'f1-score': 0.8467763988526412, 'support': 1495}, 'weighted avg': {'precision': 0.8472077042892093, 'recall': 0.8468227424749164, 'f1-score': 0.8467781812996518, 'support': 1495}}\n",
            "*** K-Fold Split Results ***\n",
            "{'0': {'precision': 0.884450784593438, 'recall': 0.8299866131191432, 'f1-score': 0.8563535911602209, 'support': 747}, '1': {'precision': 0.8400503778337531, 'recall': 0.8917112299465241, 'f1-score': 0.8651102464332036, 'support': 748}, 'accuracy': 0.8608695652173913, 'macro avg': {'precision': 0.8622505812135955, 'recall': 0.8608489215328337, 'f1-score': 0.8607319187967122, 'support': 1495}, 'weighted avg': {'precision': 0.8622357315792278, 'recall': 0.8608695652173913, 'f1-score': 0.8607348474439607, 'support': 1495}}\n",
            "*** K-Fold Split Results ***\n",
            "{'0': {'precision': 0.8655692729766804, 'recall': 0.8447121820615796, 'f1-score': 0.8550135501355013, 'support': 747}, '1': {'precision': 0.8483660130718954, 'recall': 0.8688085676037484, 'f1-score': 0.8584656084656085, 'support': 747}, 'accuracy': 0.856760374832664, 'macro avg': {'precision': 0.8569676430242879, 'recall': 0.856760374832664, 'f1-score': 0.8567395793005549, 'support': 1494}, 'weighted avg': {'precision': 0.856967643024288, 'recall': 0.856760374832664, 'f1-score': 0.8567395793005549, 'support': 1494}}\n",
            "*** K-Fold Split Results ***\n",
            "{'0': {'precision': 0.8547945205479452, 'recall': 0.8353413654618473, 'f1-score': 0.8449559918754231, 'support': 747}, '1': {'precision': 0.8390052356020943, 'recall': 0.85809906291834, 'f1-score': 0.8484447385837194, 'support': 747}, 'accuracy': 0.8467202141900937, 'macro avg': {'precision': 0.8468998780750198, 'recall': 0.8467202141900937, 'f1-score': 0.8467003652295713, 'support': 1494}, 'weighted avg': {'precision': 0.8468998780750198, 'recall': 0.8467202141900937, 'f1-score': 0.8467003652295714, 'support': 1494}}\n",
            "*** K-Fold Split Results ***\n",
            "{'0': {'precision': 0.8674863387978142, 'recall': 0.8489304812834224, 'f1-score': 0.8581081081081081, 'support': 748}, '1': {'precision': 0.8519003931847968, 'recall': 0.8701472556894244, 'f1-score': 0.8609271523178808, 'support': 747}, 'accuracy': 0.8595317725752508, 'macro avg': {'precision': 0.8596933659913055, 'recall': 0.8595388684864234, 'f1-score': 0.8595176302129944, 'support': 1495}, 'weighted avg': {'precision': 0.859698578682146, 'recall': 0.8595317725752508, 'f1-score': 0.8595166873888439, 'support': 1495}}\n",
            "*** K-Fold Split Results ***\n",
            "{'0': {'precision': 0.8528610354223434, 'recall': 0.8368983957219251, 'f1-score': 0.8448043184885291, 'support': 748}, '1': {'precision': 0.8396846254927727, 'recall': 0.8554216867469879, 'f1-score': 0.8474801061007957, 'support': 747}, 'accuracy': 0.8461538461538461, 'macro avg': {'precision': 0.846272830457558, 'recall': 0.8461600412344565, 'f1-score': 0.8461422122946625, 'support': 1495}, 'weighted avg': {'precision': 0.8462772372836215, 'recall': 0.8461538461538461, 'f1-score': 0.8461413173824175, 'support': 1495}}\n",
            "*** K-Fold Split Results ***\n",
            "{'0': {'precision': 0.8642659279778393, 'recall': 0.8342245989304813, 'f1-score': 0.8489795918367347, 'support': 748}, '1': {'precision': 0.8395860284605433, 'recall': 0.8688085676037484, 'f1-score': 0.8539473684210527, 'support': 747}, 'accuracy': 0.8515050167224081, 'macro avg': {'precision': 0.8519259782191912, 'recall': 0.8515165832671148, 'f1-score': 0.8514634801288936, 'support': 1495}, 'weighted avg': {'precision': 0.8519342323661871, 'recall': 0.8515050167224081, 'f1-score': 0.851461818665153, 'support': 1495}}\n",
            "*** K-Fold Split Results ***\n",
            "{'0': {'precision': 0.8620218579234973, 'recall': 0.8435828877005348, 'f1-score': 0.8527027027027028, 'support': 748}, '1': {'precision': 0.8466579292267365, 'recall': 0.8647925033467202, 'f1-score': 0.8556291390728477, 'support': 747}, 'accuracy': 0.854180602006689, 'macro avg': {'precision': 0.854339893575117, 'recall': 0.8541876955236275, 'f1-score': 0.8541659208877752, 'support': 1495}, 'weighted avg': {'precision': 0.8543450320128081, 'recall': 0.854180602006689, 'f1-score': 0.8541649421465144, 'support': 1495}}\n",
            "*** K-Fold Split Results ***\n",
            "{'0': {'precision': 0.8597222222222223, 'recall': 0.8286479250334672, 'f1-score': 0.8438991138377642, 'support': 747}, '1': {'precision': 0.8348387096774194, 'recall': 0.8649732620320856, 'f1-score': 0.849638870650033, 'support': 748}, 'accuracy': 0.8468227424749164, 'macro avg': {'precision': 0.8472804659498208, 'recall': 0.8468105935327763, 'f1-score': 0.8467689922438986, 'support': 1495}, 'weighted avg': {'precision': 0.8472721437048226, 'recall': 0.8468227424749164, 'f1-score': 0.8467709118950062, 'support': 1495}}\n",
            "*** K-Fold Split Results ***\n",
            "{'0': {'precision': 0.886039886039886, 'recall': 0.8326639892904953, 'f1-score': 0.8585231193926846, 'support': 747}, '1': {'precision': 0.8423707440100883, 'recall': 0.893048128342246, 'f1-score': 0.8669695003244646, 'support': 748}, 'accuracy': 0.862876254180602, 'macro avg': {'precision': 0.8642053150249871, 'recall': 0.8628560588163707, 'f1-score': 0.8627463098585746, 'support': 1495}, 'weighted avg': {'precision': 0.8641907099607632, 'recall': 0.862876254180602, 'f1-score': 0.8627491347351404, 'support': 1495}}\n",
            "*** K-Fold Split Results ***\n",
            "{'0': {'precision': 0.8625, 'recall': 0.8313253012048193, 'f1-score': 0.8466257668711658, 'support': 747}, '1': {'precision': 0.8374193548387097, 'recall': 0.8676470588235294, 'f1-score': 0.8522652659225213, 'support': 748}, 'accuracy': 0.8494983277591973, 'macro avg': {'precision': 0.8499596774193549, 'recall': 0.8494861800141744, 'f1-score': 0.8494455163968435, 'support': 1495}, 'weighted avg': {'precision': 0.8499512892437157, 'recall': 0.8494983277591973, 'f1-score': 0.8494474025169277, 'support': 1495}}\n",
            "*** K-Fold Split Results ***\n",
            "{'0': {'precision': 0.8602739726027397, 'recall': 0.8406961178045516, 'f1-score': 0.8503723764387271, 'support': 747}, '1': {'precision': 0.8444444444444444, 'recall': 0.8636363636363636, 'f1-score': 0.853932584269663, 'support': 748}, 'accuracy': 0.8521739130434782, 'macro avg': {'precision': 0.852359208523592, 'recall': 0.8521662407204575, 'f1-score': 0.8521524803541951, 'support': 1495}, 'weighted avg': {'precision': 0.8523539143670174, 'recall': 0.8521739130434782, 'f1-score': 0.8521536710591552, 'support': 1495}}\n",
            "*** K-Fold Split Results ***\n",
            "{'0': {'precision': 0.8770949720670391, 'recall': 0.8406961178045516, 'f1-score': 0.8585099111414901, 'support': 747}, '1': {'precision': 0.8470437017994858, 'recall': 0.8821954484605087, 'f1-score': 0.8642622950819673, 'support': 747}, 'accuracy': 0.8614457831325302, 'macro avg': {'precision': 0.8620693369332625, 'recall': 0.8614457831325302, 'f1-score': 0.8613861031117287, 'support': 1494}, 'weighted avg': {'precision': 0.8620693369332625, 'recall': 0.8614457831325302, 'f1-score': 0.8613861031117287, 'support': 1494}}\n",
            "*** K-Fold Split Results ***\n",
            "{'0': {'precision': 0.8590971272229823, 'recall': 0.8406961178045516, 'f1-score': 0.8497970230040595, 'support': 747}, '1': {'precision': 0.8440366972477065, 'recall': 0.8621151271753681, 'f1-score': 0.8529801324503312, 'support': 747}, 'accuracy': 0.8514056224899599, 'macro avg': {'precision': 0.8515669122353444, 'recall': 0.8514056224899598, 'f1-score': 0.8513885777271953, 'support': 1494}, 'weighted avg': {'precision': 0.8515669122353443, 'recall': 0.8514056224899599, 'f1-score': 0.8513885777271953, 'support': 1494}}\n"
          ]
        }
      ]
    }
  ],
  "metadata": {
    "accelerator": "GPU",
    "colab": {
      "provenance": [],
      "gpuType": "T4"
    },
    "kernelspec": {
      "display_name": "Python 3",
      "name": "python3"
    },
    "language_info": {
      "name": "python"
    },
    "widgets": {
      "application/vnd.jupyter.widget-state+json": {
        "4a7e15b88ab641a1af995da5b9978a09": {
          "model_module": "@jupyter-widgets/controls",
          "model_name": "HBoxModel",
          "model_module_version": "1.5.0",
          "state": {
            "_dom_classes": [],
            "_model_module": "@jupyter-widgets/controls",
            "_model_module_version": "1.5.0",
            "_model_name": "HBoxModel",
            "_view_count": null,
            "_view_module": "@jupyter-widgets/controls",
            "_view_module_version": "1.5.0",
            "_view_name": "HBoxView",
            "box_style": "",
            "children": [
              "IPY_MODEL_ed065e71c4a44e2ca09c092c898a1ad6",
              "IPY_MODEL_13c6444a2b1445e1ac1b18c60cd4a7b1",
              "IPY_MODEL_573fe242d7e944a3b2257431167738d1"
            ],
            "layout": "IPY_MODEL_943f2381e6be428fab770e3178bac3ce"
          }
        },
        "ed065e71c4a44e2ca09c092c898a1ad6": {
          "model_module": "@jupyter-widgets/controls",
          "model_name": "HTMLModel",
          "model_module_version": "1.5.0",
          "state": {
            "_dom_classes": [],
            "_model_module": "@jupyter-widgets/controls",
            "_model_module_version": "1.5.0",
            "_model_name": "HTMLModel",
            "_view_count": null,
            "_view_module": "@jupyter-widgets/controls",
            "_view_module_version": "1.5.0",
            "_view_name": "HTMLView",
            "description": "",
            "description_tooltip": null,
            "layout": "IPY_MODEL_c3df858d423142088b1798be83b02926",
            "placeholder": "​",
            "style": "IPY_MODEL_65088803f5d44b70a0e4364a0585491d",
            "value": "Downloading (…)b7135/.gitattributes: 100%"
          }
        },
        "13c6444a2b1445e1ac1b18c60cd4a7b1": {
          "model_module": "@jupyter-widgets/controls",
          "model_name": "FloatProgressModel",
          "model_module_version": "1.5.0",
          "state": {
            "_dom_classes": [],
            "_model_module": "@jupyter-widgets/controls",
            "_model_module_version": "1.5.0",
            "_model_name": "FloatProgressModel",
            "_view_count": null,
            "_view_module": "@jupyter-widgets/controls",
            "_view_module_version": "1.5.0",
            "_view_name": "ProgressView",
            "bar_style": "success",
            "description": "",
            "description_tooltip": null,
            "layout": "IPY_MODEL_6e1a2cdfd5964b259a960c1e7458e7e4",
            "max": 690,
            "min": 0,
            "orientation": "horizontal",
            "style": "IPY_MODEL_4c25826700bc42eca62f8e25e399b701",
            "value": 690
          }
        },
        "573fe242d7e944a3b2257431167738d1": {
          "model_module": "@jupyter-widgets/controls",
          "model_name": "HTMLModel",
          "model_module_version": "1.5.0",
          "state": {
            "_dom_classes": [],
            "_model_module": "@jupyter-widgets/controls",
            "_model_module_version": "1.5.0",
            "_model_name": "HTMLModel",
            "_view_count": null,
            "_view_module": "@jupyter-widgets/controls",
            "_view_module_version": "1.5.0",
            "_view_name": "HTMLView",
            "description": "",
            "description_tooltip": null,
            "layout": "IPY_MODEL_7fd356655ede42ccac9517906dc20e75",
            "placeholder": "​",
            "style": "IPY_MODEL_eb1466eabe87427e86055e22b48640c6",
            "value": " 690/690 [00:00&lt;00:00, 26.4kB/s]"
          }
        },
        "943f2381e6be428fab770e3178bac3ce": {
          "model_module": "@jupyter-widgets/base",
          "model_name": "LayoutModel",
          "model_module_version": "1.2.0",
          "state": {
            "_model_module": "@jupyter-widgets/base",
            "_model_module_version": "1.2.0",
            "_model_name": "LayoutModel",
            "_view_count": null,
            "_view_module": "@jupyter-widgets/base",
            "_view_module_version": "1.2.0",
            "_view_name": "LayoutView",
            "align_content": null,
            "align_items": null,
            "align_self": null,
            "border": null,
            "bottom": null,
            "display": null,
            "flex": null,
            "flex_flow": null,
            "grid_area": null,
            "grid_auto_columns": null,
            "grid_auto_flow": null,
            "grid_auto_rows": null,
            "grid_column": null,
            "grid_gap": null,
            "grid_row": null,
            "grid_template_areas": null,
            "grid_template_columns": null,
            "grid_template_rows": null,
            "height": null,
            "justify_content": null,
            "justify_items": null,
            "left": null,
            "margin": null,
            "max_height": null,
            "max_width": null,
            "min_height": null,
            "min_width": null,
            "object_fit": null,
            "object_position": null,
            "order": null,
            "overflow": null,
            "overflow_x": null,
            "overflow_y": null,
            "padding": null,
            "right": null,
            "top": null,
            "visibility": null,
            "width": null
          }
        },
        "c3df858d423142088b1798be83b02926": {
          "model_module": "@jupyter-widgets/base",
          "model_name": "LayoutModel",
          "model_module_version": "1.2.0",
          "state": {
            "_model_module": "@jupyter-widgets/base",
            "_model_module_version": "1.2.0",
            "_model_name": "LayoutModel",
            "_view_count": null,
            "_view_module": "@jupyter-widgets/base",
            "_view_module_version": "1.2.0",
            "_view_name": "LayoutView",
            "align_content": null,
            "align_items": null,
            "align_self": null,
            "border": null,
            "bottom": null,
            "display": null,
            "flex": null,
            "flex_flow": null,
            "grid_area": null,
            "grid_auto_columns": null,
            "grid_auto_flow": null,
            "grid_auto_rows": null,
            "grid_column": null,
            "grid_gap": null,
            "grid_row": null,
            "grid_template_areas": null,
            "grid_template_columns": null,
            "grid_template_rows": null,
            "height": null,
            "justify_content": null,
            "justify_items": null,
            "left": null,
            "margin": null,
            "max_height": null,
            "max_width": null,
            "min_height": null,
            "min_width": null,
            "object_fit": null,
            "object_position": null,
            "order": null,
            "overflow": null,
            "overflow_x": null,
            "overflow_y": null,
            "padding": null,
            "right": null,
            "top": null,
            "visibility": null,
            "width": null
          }
        },
        "65088803f5d44b70a0e4364a0585491d": {
          "model_module": "@jupyter-widgets/controls",
          "model_name": "DescriptionStyleModel",
          "model_module_version": "1.5.0",
          "state": {
            "_model_module": "@jupyter-widgets/controls",
            "_model_module_version": "1.5.0",
            "_model_name": "DescriptionStyleModel",
            "_view_count": null,
            "_view_module": "@jupyter-widgets/base",
            "_view_module_version": "1.2.0",
            "_view_name": "StyleView",
            "description_width": ""
          }
        },
        "6e1a2cdfd5964b259a960c1e7458e7e4": {
          "model_module": "@jupyter-widgets/base",
          "model_name": "LayoutModel",
          "model_module_version": "1.2.0",
          "state": {
            "_model_module": "@jupyter-widgets/base",
            "_model_module_version": "1.2.0",
            "_model_name": "LayoutModel",
            "_view_count": null,
            "_view_module": "@jupyter-widgets/base",
            "_view_module_version": "1.2.0",
            "_view_name": "LayoutView",
            "align_content": null,
            "align_items": null,
            "align_self": null,
            "border": null,
            "bottom": null,
            "display": null,
            "flex": null,
            "flex_flow": null,
            "grid_area": null,
            "grid_auto_columns": null,
            "grid_auto_flow": null,
            "grid_auto_rows": null,
            "grid_column": null,
            "grid_gap": null,
            "grid_row": null,
            "grid_template_areas": null,
            "grid_template_columns": null,
            "grid_template_rows": null,
            "height": null,
            "justify_content": null,
            "justify_items": null,
            "left": null,
            "margin": null,
            "max_height": null,
            "max_width": null,
            "min_height": null,
            "min_width": null,
            "object_fit": null,
            "object_position": null,
            "order": null,
            "overflow": null,
            "overflow_x": null,
            "overflow_y": null,
            "padding": null,
            "right": null,
            "top": null,
            "visibility": null,
            "width": null
          }
        },
        "4c25826700bc42eca62f8e25e399b701": {
          "model_module": "@jupyter-widgets/controls",
          "model_name": "ProgressStyleModel",
          "model_module_version": "1.5.0",
          "state": {
            "_model_module": "@jupyter-widgets/controls",
            "_model_module_version": "1.5.0",
            "_model_name": "ProgressStyleModel",
            "_view_count": null,
            "_view_module": "@jupyter-widgets/base",
            "_view_module_version": "1.2.0",
            "_view_name": "StyleView",
            "bar_color": null,
            "description_width": ""
          }
        },
        "7fd356655ede42ccac9517906dc20e75": {
          "model_module": "@jupyter-widgets/base",
          "model_name": "LayoutModel",
          "model_module_version": "1.2.0",
          "state": {
            "_model_module": "@jupyter-widgets/base",
            "_model_module_version": "1.2.0",
            "_model_name": "LayoutModel",
            "_view_count": null,
            "_view_module": "@jupyter-widgets/base",
            "_view_module_version": "1.2.0",
            "_view_name": "LayoutView",
            "align_content": null,
            "align_items": null,
            "align_self": null,
            "border": null,
            "bottom": null,
            "display": null,
            "flex": null,
            "flex_flow": null,
            "grid_area": null,
            "grid_auto_columns": null,
            "grid_auto_flow": null,
            "grid_auto_rows": null,
            "grid_column": null,
            "grid_gap": null,
            "grid_row": null,
            "grid_template_areas": null,
            "grid_template_columns": null,
            "grid_template_rows": null,
            "height": null,
            "justify_content": null,
            "justify_items": null,
            "left": null,
            "margin": null,
            "max_height": null,
            "max_width": null,
            "min_height": null,
            "min_width": null,
            "object_fit": null,
            "object_position": null,
            "order": null,
            "overflow": null,
            "overflow_x": null,
            "overflow_y": null,
            "padding": null,
            "right": null,
            "top": null,
            "visibility": null,
            "width": null
          }
        },
        "eb1466eabe87427e86055e22b48640c6": {
          "model_module": "@jupyter-widgets/controls",
          "model_name": "DescriptionStyleModel",
          "model_module_version": "1.5.0",
          "state": {
            "_model_module": "@jupyter-widgets/controls",
            "_model_module_version": "1.5.0",
            "_model_name": "DescriptionStyleModel",
            "_view_count": null,
            "_view_module": "@jupyter-widgets/base",
            "_view_module_version": "1.2.0",
            "_view_name": "StyleView",
            "description_width": ""
          }
        },
        "a66f3b292de94c3690ea05fb69af0827": {
          "model_module": "@jupyter-widgets/controls",
          "model_name": "HBoxModel",
          "model_module_version": "1.5.0",
          "state": {
            "_dom_classes": [],
            "_model_module": "@jupyter-widgets/controls",
            "_model_module_version": "1.5.0",
            "_model_name": "HBoxModel",
            "_view_count": null,
            "_view_module": "@jupyter-widgets/controls",
            "_view_module_version": "1.5.0",
            "_view_name": "HBoxView",
            "box_style": "",
            "children": [
              "IPY_MODEL_b00133a044664a37b3423825f1a28663",
              "IPY_MODEL_0a4d1211760c42eab4accb3317d6e369",
              "IPY_MODEL_80782a6889b84efba4cb5b9f0c61bb7f"
            ],
            "layout": "IPY_MODEL_79f15f663bb947debed59bb82380561c"
          }
        },
        "b00133a044664a37b3423825f1a28663": {
          "model_module": "@jupyter-widgets/controls",
          "model_name": "HTMLModel",
          "model_module_version": "1.5.0",
          "state": {
            "_dom_classes": [],
            "_model_module": "@jupyter-widgets/controls",
            "_model_module_version": "1.5.0",
            "_model_name": "HTMLModel",
            "_view_count": null,
            "_view_module": "@jupyter-widgets/controls",
            "_view_module_version": "1.5.0",
            "_view_name": "HTMLView",
            "description": "",
            "description_tooltip": null,
            "layout": "IPY_MODEL_a11a6d5dce9649df9921feeb44c0c0c9",
            "placeholder": "​",
            "style": "IPY_MODEL_54ac803e66e04630b748bcf07db8a73c",
            "value": "Downloading (…)_Pooling/config.json: 100%"
          }
        },
        "0a4d1211760c42eab4accb3317d6e369": {
          "model_module": "@jupyter-widgets/controls",
          "model_name": "FloatProgressModel",
          "model_module_version": "1.5.0",
          "state": {
            "_dom_classes": [],
            "_model_module": "@jupyter-widgets/controls",
            "_model_module_version": "1.5.0",
            "_model_name": "FloatProgressModel",
            "_view_count": null,
            "_view_module": "@jupyter-widgets/controls",
            "_view_module_version": "1.5.0",
            "_view_name": "ProgressView",
            "bar_style": "success",
            "description": "",
            "description_tooltip": null,
            "layout": "IPY_MODEL_8ca7f778b1b74901acb49ab4f725abfb",
            "max": 190,
            "min": 0,
            "orientation": "horizontal",
            "style": "IPY_MODEL_ed3fba98198c4c969020fcaca089858b",
            "value": 190
          }
        },
        "80782a6889b84efba4cb5b9f0c61bb7f": {
          "model_module": "@jupyter-widgets/controls",
          "model_name": "HTMLModel",
          "model_module_version": "1.5.0",
          "state": {
            "_dom_classes": [],
            "_model_module": "@jupyter-widgets/controls",
            "_model_module_version": "1.5.0",
            "_model_name": "HTMLModel",
            "_view_count": null,
            "_view_module": "@jupyter-widgets/controls",
            "_view_module_version": "1.5.0",
            "_view_name": "HTMLView",
            "description": "",
            "description_tooltip": null,
            "layout": "IPY_MODEL_2afa2a80d79c4e14a959b8e87cc34dee",
            "placeholder": "​",
            "style": "IPY_MODEL_bb8bbdfb06b5442a82f5d4ffe85932d6",
            "value": " 190/190 [00:00&lt;00:00, 3.37kB/s]"
          }
        },
        "79f15f663bb947debed59bb82380561c": {
          "model_module": "@jupyter-widgets/base",
          "model_name": "LayoutModel",
          "model_module_version": "1.2.0",
          "state": {
            "_model_module": "@jupyter-widgets/base",
            "_model_module_version": "1.2.0",
            "_model_name": "LayoutModel",
            "_view_count": null,
            "_view_module": "@jupyter-widgets/base",
            "_view_module_version": "1.2.0",
            "_view_name": "LayoutView",
            "align_content": null,
            "align_items": null,
            "align_self": null,
            "border": null,
            "bottom": null,
            "display": null,
            "flex": null,
            "flex_flow": null,
            "grid_area": null,
            "grid_auto_columns": null,
            "grid_auto_flow": null,
            "grid_auto_rows": null,
            "grid_column": null,
            "grid_gap": null,
            "grid_row": null,
            "grid_template_areas": null,
            "grid_template_columns": null,
            "grid_template_rows": null,
            "height": null,
            "justify_content": null,
            "justify_items": null,
            "left": null,
            "margin": null,
            "max_height": null,
            "max_width": null,
            "min_height": null,
            "min_width": null,
            "object_fit": null,
            "object_position": null,
            "order": null,
            "overflow": null,
            "overflow_x": null,
            "overflow_y": null,
            "padding": null,
            "right": null,
            "top": null,
            "visibility": null,
            "width": null
          }
        },
        "a11a6d5dce9649df9921feeb44c0c0c9": {
          "model_module": "@jupyter-widgets/base",
          "model_name": "LayoutModel",
          "model_module_version": "1.2.0",
          "state": {
            "_model_module": "@jupyter-widgets/base",
            "_model_module_version": "1.2.0",
            "_model_name": "LayoutModel",
            "_view_count": null,
            "_view_module": "@jupyter-widgets/base",
            "_view_module_version": "1.2.0",
            "_view_name": "LayoutView",
            "align_content": null,
            "align_items": null,
            "align_self": null,
            "border": null,
            "bottom": null,
            "display": null,
            "flex": null,
            "flex_flow": null,
            "grid_area": null,
            "grid_auto_columns": null,
            "grid_auto_flow": null,
            "grid_auto_rows": null,
            "grid_column": null,
            "grid_gap": null,
            "grid_row": null,
            "grid_template_areas": null,
            "grid_template_columns": null,
            "grid_template_rows": null,
            "height": null,
            "justify_content": null,
            "justify_items": null,
            "left": null,
            "margin": null,
            "max_height": null,
            "max_width": null,
            "min_height": null,
            "min_width": null,
            "object_fit": null,
            "object_position": null,
            "order": null,
            "overflow": null,
            "overflow_x": null,
            "overflow_y": null,
            "padding": null,
            "right": null,
            "top": null,
            "visibility": null,
            "width": null
          }
        },
        "54ac803e66e04630b748bcf07db8a73c": {
          "model_module": "@jupyter-widgets/controls",
          "model_name": "DescriptionStyleModel",
          "model_module_version": "1.5.0",
          "state": {
            "_model_module": "@jupyter-widgets/controls",
            "_model_module_version": "1.5.0",
            "_model_name": "DescriptionStyleModel",
            "_view_count": null,
            "_view_module": "@jupyter-widgets/base",
            "_view_module_version": "1.2.0",
            "_view_name": "StyleView",
            "description_width": ""
          }
        },
        "8ca7f778b1b74901acb49ab4f725abfb": {
          "model_module": "@jupyter-widgets/base",
          "model_name": "LayoutModel",
          "model_module_version": "1.2.0",
          "state": {
            "_model_module": "@jupyter-widgets/base",
            "_model_module_version": "1.2.0",
            "_model_name": "LayoutModel",
            "_view_count": null,
            "_view_module": "@jupyter-widgets/base",
            "_view_module_version": "1.2.0",
            "_view_name": "LayoutView",
            "align_content": null,
            "align_items": null,
            "align_self": null,
            "border": null,
            "bottom": null,
            "display": null,
            "flex": null,
            "flex_flow": null,
            "grid_area": null,
            "grid_auto_columns": null,
            "grid_auto_flow": null,
            "grid_auto_rows": null,
            "grid_column": null,
            "grid_gap": null,
            "grid_row": null,
            "grid_template_areas": null,
            "grid_template_columns": null,
            "grid_template_rows": null,
            "height": null,
            "justify_content": null,
            "justify_items": null,
            "left": null,
            "margin": null,
            "max_height": null,
            "max_width": null,
            "min_height": null,
            "min_width": null,
            "object_fit": null,
            "object_position": null,
            "order": null,
            "overflow": null,
            "overflow_x": null,
            "overflow_y": null,
            "padding": null,
            "right": null,
            "top": null,
            "visibility": null,
            "width": null
          }
        },
        "ed3fba98198c4c969020fcaca089858b": {
          "model_module": "@jupyter-widgets/controls",
          "model_name": "ProgressStyleModel",
          "model_module_version": "1.5.0",
          "state": {
            "_model_module": "@jupyter-widgets/controls",
            "_model_module_version": "1.5.0",
            "_model_name": "ProgressStyleModel",
            "_view_count": null,
            "_view_module": "@jupyter-widgets/base",
            "_view_module_version": "1.2.0",
            "_view_name": "StyleView",
            "bar_color": null,
            "description_width": ""
          }
        },
        "2afa2a80d79c4e14a959b8e87cc34dee": {
          "model_module": "@jupyter-widgets/base",
          "model_name": "LayoutModel",
          "model_module_version": "1.2.0",
          "state": {
            "_model_module": "@jupyter-widgets/base",
            "_model_module_version": "1.2.0",
            "_model_name": "LayoutModel",
            "_view_count": null,
            "_view_module": "@jupyter-widgets/base",
            "_view_module_version": "1.2.0",
            "_view_name": "LayoutView",
            "align_content": null,
            "align_items": null,
            "align_self": null,
            "border": null,
            "bottom": null,
            "display": null,
            "flex": null,
            "flex_flow": null,
            "grid_area": null,
            "grid_auto_columns": null,
            "grid_auto_flow": null,
            "grid_auto_rows": null,
            "grid_column": null,
            "grid_gap": null,
            "grid_row": null,
            "grid_template_areas": null,
            "grid_template_columns": null,
            "grid_template_rows": null,
            "height": null,
            "justify_content": null,
            "justify_items": null,
            "left": null,
            "margin": null,
            "max_height": null,
            "max_width": null,
            "min_height": null,
            "min_width": null,
            "object_fit": null,
            "object_position": null,
            "order": null,
            "overflow": null,
            "overflow_x": null,
            "overflow_y": null,
            "padding": null,
            "right": null,
            "top": null,
            "visibility": null,
            "width": null
          }
        },
        "bb8bbdfb06b5442a82f5d4ffe85932d6": {
          "model_module": "@jupyter-widgets/controls",
          "model_name": "DescriptionStyleModel",
          "model_module_version": "1.5.0",
          "state": {
            "_model_module": "@jupyter-widgets/controls",
            "_model_module_version": "1.5.0",
            "_model_name": "DescriptionStyleModel",
            "_view_count": null,
            "_view_module": "@jupyter-widgets/base",
            "_view_module_version": "1.2.0",
            "_view_name": "StyleView",
            "description_width": ""
          }
        },
        "cebed52b1d394a4982e23d3e56697dce": {
          "model_module": "@jupyter-widgets/controls",
          "model_name": "HBoxModel",
          "model_module_version": "1.5.0",
          "state": {
            "_dom_classes": [],
            "_model_module": "@jupyter-widgets/controls",
            "_model_module_version": "1.5.0",
            "_model_name": "HBoxModel",
            "_view_count": null,
            "_view_module": "@jupyter-widgets/controls",
            "_view_module_version": "1.5.0",
            "_view_name": "HBoxView",
            "box_style": "",
            "children": [
              "IPY_MODEL_b5fcf89e9ca44743be426ae5c9d69758",
              "IPY_MODEL_491e0db03839410b908b62af6474c046",
              "IPY_MODEL_8431a1ac7d9443378d1f4db85b544b6a"
            ],
            "layout": "IPY_MODEL_747a16eee1cc4549be0d83789c35d068"
          }
        },
        "b5fcf89e9ca44743be426ae5c9d69758": {
          "model_module": "@jupyter-widgets/controls",
          "model_name": "HTMLModel",
          "model_module_version": "1.5.0",
          "state": {
            "_dom_classes": [],
            "_model_module": "@jupyter-widgets/controls",
            "_model_module_version": "1.5.0",
            "_model_name": "HTMLModel",
            "_view_count": null,
            "_view_module": "@jupyter-widgets/controls",
            "_view_module_version": "1.5.0",
            "_view_name": "HTMLView",
            "description": "",
            "description_tooltip": null,
            "layout": "IPY_MODEL_565f42c4a6f346c2984eff7c5dc0a326",
            "placeholder": "​",
            "style": "IPY_MODEL_a0584c87ef7d4403b769371428470a72",
            "value": "Downloading (…)2e371b7135/README.md: 100%"
          }
        },
        "491e0db03839410b908b62af6474c046": {
          "model_module": "@jupyter-widgets/controls",
          "model_name": "FloatProgressModel",
          "model_module_version": "1.5.0",
          "state": {
            "_dom_classes": [],
            "_model_module": "@jupyter-widgets/controls",
            "_model_module_version": "1.5.0",
            "_model_name": "FloatProgressModel",
            "_view_count": null,
            "_view_module": "@jupyter-widgets/controls",
            "_view_module_version": "1.5.0",
            "_view_name": "ProgressView",
            "bar_style": "success",
            "description": "",
            "description_tooltip": null,
            "layout": "IPY_MODEL_80921737f33d4af38ceb915593a164ec",
            "max": 3708,
            "min": 0,
            "orientation": "horizontal",
            "style": "IPY_MODEL_947e7dbfee49492f80dc6c52e5cfe950",
            "value": 3708
          }
        },
        "8431a1ac7d9443378d1f4db85b544b6a": {
          "model_module": "@jupyter-widgets/controls",
          "model_name": "HTMLModel",
          "model_module_version": "1.5.0",
          "state": {
            "_dom_classes": [],
            "_model_module": "@jupyter-widgets/controls",
            "_model_module_version": "1.5.0",
            "_model_name": "HTMLModel",
            "_view_count": null,
            "_view_module": "@jupyter-widgets/controls",
            "_view_module_version": "1.5.0",
            "_view_name": "HTMLView",
            "description": "",
            "description_tooltip": null,
            "layout": "IPY_MODEL_f6a17f4a0a3e4675a6c9dc8b2ed98c7a",
            "placeholder": "​",
            "style": "IPY_MODEL_e496811bc8c9457b8eb75f5258c9e866",
            "value": " 3.71k/3.71k [00:00&lt;00:00, 80.8kB/s]"
          }
        },
        "747a16eee1cc4549be0d83789c35d068": {
          "model_module": "@jupyter-widgets/base",
          "model_name": "LayoutModel",
          "model_module_version": "1.2.0",
          "state": {
            "_model_module": "@jupyter-widgets/base",
            "_model_module_version": "1.2.0",
            "_model_name": "LayoutModel",
            "_view_count": null,
            "_view_module": "@jupyter-widgets/base",
            "_view_module_version": "1.2.0",
            "_view_name": "LayoutView",
            "align_content": null,
            "align_items": null,
            "align_self": null,
            "border": null,
            "bottom": null,
            "display": null,
            "flex": null,
            "flex_flow": null,
            "grid_area": null,
            "grid_auto_columns": null,
            "grid_auto_flow": null,
            "grid_auto_rows": null,
            "grid_column": null,
            "grid_gap": null,
            "grid_row": null,
            "grid_template_areas": null,
            "grid_template_columns": null,
            "grid_template_rows": null,
            "height": null,
            "justify_content": null,
            "justify_items": null,
            "left": null,
            "margin": null,
            "max_height": null,
            "max_width": null,
            "min_height": null,
            "min_width": null,
            "object_fit": null,
            "object_position": null,
            "order": null,
            "overflow": null,
            "overflow_x": null,
            "overflow_y": null,
            "padding": null,
            "right": null,
            "top": null,
            "visibility": null,
            "width": null
          }
        },
        "565f42c4a6f346c2984eff7c5dc0a326": {
          "model_module": "@jupyter-widgets/base",
          "model_name": "LayoutModel",
          "model_module_version": "1.2.0",
          "state": {
            "_model_module": "@jupyter-widgets/base",
            "_model_module_version": "1.2.0",
            "_model_name": "LayoutModel",
            "_view_count": null,
            "_view_module": "@jupyter-widgets/base",
            "_view_module_version": "1.2.0",
            "_view_name": "LayoutView",
            "align_content": null,
            "align_items": null,
            "align_self": null,
            "border": null,
            "bottom": null,
            "display": null,
            "flex": null,
            "flex_flow": null,
            "grid_area": null,
            "grid_auto_columns": null,
            "grid_auto_flow": null,
            "grid_auto_rows": null,
            "grid_column": null,
            "grid_gap": null,
            "grid_row": null,
            "grid_template_areas": null,
            "grid_template_columns": null,
            "grid_template_rows": null,
            "height": null,
            "justify_content": null,
            "justify_items": null,
            "left": null,
            "margin": null,
            "max_height": null,
            "max_width": null,
            "min_height": null,
            "min_width": null,
            "object_fit": null,
            "object_position": null,
            "order": null,
            "overflow": null,
            "overflow_x": null,
            "overflow_y": null,
            "padding": null,
            "right": null,
            "top": null,
            "visibility": null,
            "width": null
          }
        },
        "a0584c87ef7d4403b769371428470a72": {
          "model_module": "@jupyter-widgets/controls",
          "model_name": "DescriptionStyleModel",
          "model_module_version": "1.5.0",
          "state": {
            "_model_module": "@jupyter-widgets/controls",
            "_model_module_version": "1.5.0",
            "_model_name": "DescriptionStyleModel",
            "_view_count": null,
            "_view_module": "@jupyter-widgets/base",
            "_view_module_version": "1.2.0",
            "_view_name": "StyleView",
            "description_width": ""
          }
        },
        "80921737f33d4af38ceb915593a164ec": {
          "model_module": "@jupyter-widgets/base",
          "model_name": "LayoutModel",
          "model_module_version": "1.2.0",
          "state": {
            "_model_module": "@jupyter-widgets/base",
            "_model_module_version": "1.2.0",
            "_model_name": "LayoutModel",
            "_view_count": null,
            "_view_module": "@jupyter-widgets/base",
            "_view_module_version": "1.2.0",
            "_view_name": "LayoutView",
            "align_content": null,
            "align_items": null,
            "align_self": null,
            "border": null,
            "bottom": null,
            "display": null,
            "flex": null,
            "flex_flow": null,
            "grid_area": null,
            "grid_auto_columns": null,
            "grid_auto_flow": null,
            "grid_auto_rows": null,
            "grid_column": null,
            "grid_gap": null,
            "grid_row": null,
            "grid_template_areas": null,
            "grid_template_columns": null,
            "grid_template_rows": null,
            "height": null,
            "justify_content": null,
            "justify_items": null,
            "left": null,
            "margin": null,
            "max_height": null,
            "max_width": null,
            "min_height": null,
            "min_width": null,
            "object_fit": null,
            "object_position": null,
            "order": null,
            "overflow": null,
            "overflow_x": null,
            "overflow_y": null,
            "padding": null,
            "right": null,
            "top": null,
            "visibility": null,
            "width": null
          }
        },
        "947e7dbfee49492f80dc6c52e5cfe950": {
          "model_module": "@jupyter-widgets/controls",
          "model_name": "ProgressStyleModel",
          "model_module_version": "1.5.0",
          "state": {
            "_model_module": "@jupyter-widgets/controls",
            "_model_module_version": "1.5.0",
            "_model_name": "ProgressStyleModel",
            "_view_count": null,
            "_view_module": "@jupyter-widgets/base",
            "_view_module_version": "1.2.0",
            "_view_name": "StyleView",
            "bar_color": null,
            "description_width": ""
          }
        },
        "f6a17f4a0a3e4675a6c9dc8b2ed98c7a": {
          "model_module": "@jupyter-widgets/base",
          "model_name": "LayoutModel",
          "model_module_version": "1.2.0",
          "state": {
            "_model_module": "@jupyter-widgets/base",
            "_model_module_version": "1.2.0",
            "_model_name": "LayoutModel",
            "_view_count": null,
            "_view_module": "@jupyter-widgets/base",
            "_view_module_version": "1.2.0",
            "_view_name": "LayoutView",
            "align_content": null,
            "align_items": null,
            "align_self": null,
            "border": null,
            "bottom": null,
            "display": null,
            "flex": null,
            "flex_flow": null,
            "grid_area": null,
            "grid_auto_columns": null,
            "grid_auto_flow": null,
            "grid_auto_rows": null,
            "grid_column": null,
            "grid_gap": null,
            "grid_row": null,
            "grid_template_areas": null,
            "grid_template_columns": null,
            "grid_template_rows": null,
            "height": null,
            "justify_content": null,
            "justify_items": null,
            "left": null,
            "margin": null,
            "max_height": null,
            "max_width": null,
            "min_height": null,
            "min_width": null,
            "object_fit": null,
            "object_position": null,
            "order": null,
            "overflow": null,
            "overflow_x": null,
            "overflow_y": null,
            "padding": null,
            "right": null,
            "top": null,
            "visibility": null,
            "width": null
          }
        },
        "e496811bc8c9457b8eb75f5258c9e866": {
          "model_module": "@jupyter-widgets/controls",
          "model_name": "DescriptionStyleModel",
          "model_module_version": "1.5.0",
          "state": {
            "_model_module": "@jupyter-widgets/controls",
            "_model_module_version": "1.5.0",
            "_model_name": "DescriptionStyleModel",
            "_view_count": null,
            "_view_module": "@jupyter-widgets/base",
            "_view_module_version": "1.2.0",
            "_view_name": "StyleView",
            "description_width": ""
          }
        },
        "20b400d04c2d408a9526035a438e4f38": {
          "model_module": "@jupyter-widgets/controls",
          "model_name": "HBoxModel",
          "model_module_version": "1.5.0",
          "state": {
            "_dom_classes": [],
            "_model_module": "@jupyter-widgets/controls",
            "_model_module_version": "1.5.0",
            "_model_name": "HBoxModel",
            "_view_count": null,
            "_view_module": "@jupyter-widgets/controls",
            "_view_module_version": "1.5.0",
            "_view_name": "HBoxView",
            "box_style": "",
            "children": [
              "IPY_MODEL_76578d3cfb1842fbbc8a4888c469c30a",
              "IPY_MODEL_319afbd8bf7b49a8968b17f537987ca6",
              "IPY_MODEL_306a09d4e6104820873d3dba7707808d"
            ],
            "layout": "IPY_MODEL_ffa7ccb408db4c0587018765c970729c"
          }
        },
        "76578d3cfb1842fbbc8a4888c469c30a": {
          "model_module": "@jupyter-widgets/controls",
          "model_name": "HTMLModel",
          "model_module_version": "1.5.0",
          "state": {
            "_dom_classes": [],
            "_model_module": "@jupyter-widgets/controls",
            "_model_module_version": "1.5.0",
            "_model_name": "HTMLModel",
            "_view_count": null,
            "_view_module": "@jupyter-widgets/controls",
            "_view_module_version": "1.5.0",
            "_view_name": "HTMLView",
            "description": "",
            "description_tooltip": null,
            "layout": "IPY_MODEL_2d622af998a242dd87ee65de7bef8206",
            "placeholder": "​",
            "style": "IPY_MODEL_0677ef1b4a724979b2d15e56765e5c66",
            "value": "Downloading (…)371b7135/config.json: 100%"
          }
        },
        "319afbd8bf7b49a8968b17f537987ca6": {
          "model_module": "@jupyter-widgets/controls",
          "model_name": "FloatProgressModel",
          "model_module_version": "1.5.0",
          "state": {
            "_dom_classes": [],
            "_model_module": "@jupyter-widgets/controls",
            "_model_module_version": "1.5.0",
            "_model_name": "FloatProgressModel",
            "_view_count": null,
            "_view_module": "@jupyter-widgets/controls",
            "_view_module_version": "1.5.0",
            "_view_name": "ProgressView",
            "bar_style": "success",
            "description": "",
            "description_tooltip": null,
            "layout": "IPY_MODEL_64733779041348088877a2ff854822d9",
            "max": 647,
            "min": 0,
            "orientation": "horizontal",
            "style": "IPY_MODEL_735f99b30fa84e648aebee972f8ddb5f",
            "value": 647
          }
        },
        "306a09d4e6104820873d3dba7707808d": {
          "model_module": "@jupyter-widgets/controls",
          "model_name": "HTMLModel",
          "model_module_version": "1.5.0",
          "state": {
            "_dom_classes": [],
            "_model_module": "@jupyter-widgets/controls",
            "_model_module_version": "1.5.0",
            "_model_name": "HTMLModel",
            "_view_count": null,
            "_view_module": "@jupyter-widgets/controls",
            "_view_module_version": "1.5.0",
            "_view_name": "HTMLView",
            "description": "",
            "description_tooltip": null,
            "layout": "IPY_MODEL_bf2ef74ee09f42029da768cee89ddb81",
            "placeholder": "​",
            "style": "IPY_MODEL_037d3dd1bceb4464a4d664a5c4dd4142",
            "value": " 647/647 [00:00&lt;00:00, 19.6kB/s]"
          }
        },
        "ffa7ccb408db4c0587018765c970729c": {
          "model_module": "@jupyter-widgets/base",
          "model_name": "LayoutModel",
          "model_module_version": "1.2.0",
          "state": {
            "_model_module": "@jupyter-widgets/base",
            "_model_module_version": "1.2.0",
            "_model_name": "LayoutModel",
            "_view_count": null,
            "_view_module": "@jupyter-widgets/base",
            "_view_module_version": "1.2.0",
            "_view_name": "LayoutView",
            "align_content": null,
            "align_items": null,
            "align_self": null,
            "border": null,
            "bottom": null,
            "display": null,
            "flex": null,
            "flex_flow": null,
            "grid_area": null,
            "grid_auto_columns": null,
            "grid_auto_flow": null,
            "grid_auto_rows": null,
            "grid_column": null,
            "grid_gap": null,
            "grid_row": null,
            "grid_template_areas": null,
            "grid_template_columns": null,
            "grid_template_rows": null,
            "height": null,
            "justify_content": null,
            "justify_items": null,
            "left": null,
            "margin": null,
            "max_height": null,
            "max_width": null,
            "min_height": null,
            "min_width": null,
            "object_fit": null,
            "object_position": null,
            "order": null,
            "overflow": null,
            "overflow_x": null,
            "overflow_y": null,
            "padding": null,
            "right": null,
            "top": null,
            "visibility": null,
            "width": null
          }
        },
        "2d622af998a242dd87ee65de7bef8206": {
          "model_module": "@jupyter-widgets/base",
          "model_name": "LayoutModel",
          "model_module_version": "1.2.0",
          "state": {
            "_model_module": "@jupyter-widgets/base",
            "_model_module_version": "1.2.0",
            "_model_name": "LayoutModel",
            "_view_count": null,
            "_view_module": "@jupyter-widgets/base",
            "_view_module_version": "1.2.0",
            "_view_name": "LayoutView",
            "align_content": null,
            "align_items": null,
            "align_self": null,
            "border": null,
            "bottom": null,
            "display": null,
            "flex": null,
            "flex_flow": null,
            "grid_area": null,
            "grid_auto_columns": null,
            "grid_auto_flow": null,
            "grid_auto_rows": null,
            "grid_column": null,
            "grid_gap": null,
            "grid_row": null,
            "grid_template_areas": null,
            "grid_template_columns": null,
            "grid_template_rows": null,
            "height": null,
            "justify_content": null,
            "justify_items": null,
            "left": null,
            "margin": null,
            "max_height": null,
            "max_width": null,
            "min_height": null,
            "min_width": null,
            "object_fit": null,
            "object_position": null,
            "order": null,
            "overflow": null,
            "overflow_x": null,
            "overflow_y": null,
            "padding": null,
            "right": null,
            "top": null,
            "visibility": null,
            "width": null
          }
        },
        "0677ef1b4a724979b2d15e56765e5c66": {
          "model_module": "@jupyter-widgets/controls",
          "model_name": "DescriptionStyleModel",
          "model_module_version": "1.5.0",
          "state": {
            "_model_module": "@jupyter-widgets/controls",
            "_model_module_version": "1.5.0",
            "_model_name": "DescriptionStyleModel",
            "_view_count": null,
            "_view_module": "@jupyter-widgets/base",
            "_view_module_version": "1.2.0",
            "_view_name": "StyleView",
            "description_width": ""
          }
        },
        "64733779041348088877a2ff854822d9": {
          "model_module": "@jupyter-widgets/base",
          "model_name": "LayoutModel",
          "model_module_version": "1.2.0",
          "state": {
            "_model_module": "@jupyter-widgets/base",
            "_model_module_version": "1.2.0",
            "_model_name": "LayoutModel",
            "_view_count": null,
            "_view_module": "@jupyter-widgets/base",
            "_view_module_version": "1.2.0",
            "_view_name": "LayoutView",
            "align_content": null,
            "align_items": null,
            "align_self": null,
            "border": null,
            "bottom": null,
            "display": null,
            "flex": null,
            "flex_flow": null,
            "grid_area": null,
            "grid_auto_columns": null,
            "grid_auto_flow": null,
            "grid_auto_rows": null,
            "grid_column": null,
            "grid_gap": null,
            "grid_row": null,
            "grid_template_areas": null,
            "grid_template_columns": null,
            "grid_template_rows": null,
            "height": null,
            "justify_content": null,
            "justify_items": null,
            "left": null,
            "margin": null,
            "max_height": null,
            "max_width": null,
            "min_height": null,
            "min_width": null,
            "object_fit": null,
            "object_position": null,
            "order": null,
            "overflow": null,
            "overflow_x": null,
            "overflow_y": null,
            "padding": null,
            "right": null,
            "top": null,
            "visibility": null,
            "width": null
          }
        },
        "735f99b30fa84e648aebee972f8ddb5f": {
          "model_module": "@jupyter-widgets/controls",
          "model_name": "ProgressStyleModel",
          "model_module_version": "1.5.0",
          "state": {
            "_model_module": "@jupyter-widgets/controls",
            "_model_module_version": "1.5.0",
            "_model_name": "ProgressStyleModel",
            "_view_count": null,
            "_view_module": "@jupyter-widgets/base",
            "_view_module_version": "1.2.0",
            "_view_name": "StyleView",
            "bar_color": null,
            "description_width": ""
          }
        },
        "bf2ef74ee09f42029da768cee89ddb81": {
          "model_module": "@jupyter-widgets/base",
          "model_name": "LayoutModel",
          "model_module_version": "1.2.0",
          "state": {
            "_model_module": "@jupyter-widgets/base",
            "_model_module_version": "1.2.0",
            "_model_name": "LayoutModel",
            "_view_count": null,
            "_view_module": "@jupyter-widgets/base",
            "_view_module_version": "1.2.0",
            "_view_name": "LayoutView",
            "align_content": null,
            "align_items": null,
            "align_self": null,
            "border": null,
            "bottom": null,
            "display": null,
            "flex": null,
            "flex_flow": null,
            "grid_area": null,
            "grid_auto_columns": null,
            "grid_auto_flow": null,
            "grid_auto_rows": null,
            "grid_column": null,
            "grid_gap": null,
            "grid_row": null,
            "grid_template_areas": null,
            "grid_template_columns": null,
            "grid_template_rows": null,
            "height": null,
            "justify_content": null,
            "justify_items": null,
            "left": null,
            "margin": null,
            "max_height": null,
            "max_width": null,
            "min_height": null,
            "min_width": null,
            "object_fit": null,
            "object_position": null,
            "order": null,
            "overflow": null,
            "overflow_x": null,
            "overflow_y": null,
            "padding": null,
            "right": null,
            "top": null,
            "visibility": null,
            "width": null
          }
        },
        "037d3dd1bceb4464a4d664a5c4dd4142": {
          "model_module": "@jupyter-widgets/controls",
          "model_name": "DescriptionStyleModel",
          "model_module_version": "1.5.0",
          "state": {
            "_model_module": "@jupyter-widgets/controls",
            "_model_module_version": "1.5.0",
            "_model_name": "DescriptionStyleModel",
            "_view_count": null,
            "_view_module": "@jupyter-widgets/base",
            "_view_module_version": "1.2.0",
            "_view_name": "StyleView",
            "description_width": ""
          }
        },
        "b2e78a1c6a5a45bf971690e2829cf399": {
          "model_module": "@jupyter-widgets/controls",
          "model_name": "HBoxModel",
          "model_module_version": "1.5.0",
          "state": {
            "_dom_classes": [],
            "_model_module": "@jupyter-widgets/controls",
            "_model_module_version": "1.5.0",
            "_model_name": "HBoxModel",
            "_view_count": null,
            "_view_module": "@jupyter-widgets/controls",
            "_view_module_version": "1.5.0",
            "_view_name": "HBoxView",
            "box_style": "",
            "children": [
              "IPY_MODEL_2e8f57f024754beeb8c4f0ba1b49c72a",
              "IPY_MODEL_26c9e08c77704ff0bf1b32067df703ba",
              "IPY_MODEL_2e7650a90d4c4ea3904f0f1dc27ef471"
            ],
            "layout": "IPY_MODEL_e10e63339c4e4c0eb39c3ce2883eda61"
          }
        },
        "2e8f57f024754beeb8c4f0ba1b49c72a": {
          "model_module": "@jupyter-widgets/controls",
          "model_name": "HTMLModel",
          "model_module_version": "1.5.0",
          "state": {
            "_dom_classes": [],
            "_model_module": "@jupyter-widgets/controls",
            "_model_module_version": "1.5.0",
            "_model_name": "HTMLModel",
            "_view_count": null,
            "_view_module": "@jupyter-widgets/controls",
            "_view_module_version": "1.5.0",
            "_view_name": "HTMLView",
            "description": "",
            "description_tooltip": null,
            "layout": "IPY_MODEL_ec79192da9fb415f90f33c6443116be0",
            "placeholder": "​",
            "style": "IPY_MODEL_9090265fc6b04a26adf972dd9e2e6479",
            "value": "Downloading (…)ce_transformers.json: 100%"
          }
        },
        "26c9e08c77704ff0bf1b32067df703ba": {
          "model_module": "@jupyter-widgets/controls",
          "model_name": "FloatProgressModel",
          "model_module_version": "1.5.0",
          "state": {
            "_dom_classes": [],
            "_model_module": "@jupyter-widgets/controls",
            "_model_module_version": "1.5.0",
            "_model_name": "FloatProgressModel",
            "_view_count": null,
            "_view_module": "@jupyter-widgets/controls",
            "_view_module_version": "1.5.0",
            "_view_name": "ProgressView",
            "bar_style": "success",
            "description": "",
            "description_tooltip": null,
            "layout": "IPY_MODEL_4a35c7be946b4cfa9c382e59a4868b34",
            "max": 116,
            "min": 0,
            "orientation": "horizontal",
            "style": "IPY_MODEL_ecdc96759dfa465e9a42e864a86797a9",
            "value": 116
          }
        },
        "2e7650a90d4c4ea3904f0f1dc27ef471": {
          "model_module": "@jupyter-widgets/controls",
          "model_name": "HTMLModel",
          "model_module_version": "1.5.0",
          "state": {
            "_dom_classes": [],
            "_model_module": "@jupyter-widgets/controls",
            "_model_module_version": "1.5.0",
            "_model_name": "HTMLModel",
            "_view_count": null,
            "_view_module": "@jupyter-widgets/controls",
            "_view_module_version": "1.5.0",
            "_view_name": "HTMLView",
            "description": "",
            "description_tooltip": null,
            "layout": "IPY_MODEL_c2ae7b91cb2040f39427b09c4ce76b63",
            "placeholder": "​",
            "style": "IPY_MODEL_9fd70d70136f4524aec3eff60aee249c",
            "value": " 116/116 [00:00&lt;00:00, 1.95kB/s]"
          }
        },
        "e10e63339c4e4c0eb39c3ce2883eda61": {
          "model_module": "@jupyter-widgets/base",
          "model_name": "LayoutModel",
          "model_module_version": "1.2.0",
          "state": {
            "_model_module": "@jupyter-widgets/base",
            "_model_module_version": "1.2.0",
            "_model_name": "LayoutModel",
            "_view_count": null,
            "_view_module": "@jupyter-widgets/base",
            "_view_module_version": "1.2.0",
            "_view_name": "LayoutView",
            "align_content": null,
            "align_items": null,
            "align_self": null,
            "border": null,
            "bottom": null,
            "display": null,
            "flex": null,
            "flex_flow": null,
            "grid_area": null,
            "grid_auto_columns": null,
            "grid_auto_flow": null,
            "grid_auto_rows": null,
            "grid_column": null,
            "grid_gap": null,
            "grid_row": null,
            "grid_template_areas": null,
            "grid_template_columns": null,
            "grid_template_rows": null,
            "height": null,
            "justify_content": null,
            "justify_items": null,
            "left": null,
            "margin": null,
            "max_height": null,
            "max_width": null,
            "min_height": null,
            "min_width": null,
            "object_fit": null,
            "object_position": null,
            "order": null,
            "overflow": null,
            "overflow_x": null,
            "overflow_y": null,
            "padding": null,
            "right": null,
            "top": null,
            "visibility": null,
            "width": null
          }
        },
        "ec79192da9fb415f90f33c6443116be0": {
          "model_module": "@jupyter-widgets/base",
          "model_name": "LayoutModel",
          "model_module_version": "1.2.0",
          "state": {
            "_model_module": "@jupyter-widgets/base",
            "_model_module_version": "1.2.0",
            "_model_name": "LayoutModel",
            "_view_count": null,
            "_view_module": "@jupyter-widgets/base",
            "_view_module_version": "1.2.0",
            "_view_name": "LayoutView",
            "align_content": null,
            "align_items": null,
            "align_self": null,
            "border": null,
            "bottom": null,
            "display": null,
            "flex": null,
            "flex_flow": null,
            "grid_area": null,
            "grid_auto_columns": null,
            "grid_auto_flow": null,
            "grid_auto_rows": null,
            "grid_column": null,
            "grid_gap": null,
            "grid_row": null,
            "grid_template_areas": null,
            "grid_template_columns": null,
            "grid_template_rows": null,
            "height": null,
            "justify_content": null,
            "justify_items": null,
            "left": null,
            "margin": null,
            "max_height": null,
            "max_width": null,
            "min_height": null,
            "min_width": null,
            "object_fit": null,
            "object_position": null,
            "order": null,
            "overflow": null,
            "overflow_x": null,
            "overflow_y": null,
            "padding": null,
            "right": null,
            "top": null,
            "visibility": null,
            "width": null
          }
        },
        "9090265fc6b04a26adf972dd9e2e6479": {
          "model_module": "@jupyter-widgets/controls",
          "model_name": "DescriptionStyleModel",
          "model_module_version": "1.5.0",
          "state": {
            "_model_module": "@jupyter-widgets/controls",
            "_model_module_version": "1.5.0",
            "_model_name": "DescriptionStyleModel",
            "_view_count": null,
            "_view_module": "@jupyter-widgets/base",
            "_view_module_version": "1.2.0",
            "_view_name": "StyleView",
            "description_width": ""
          }
        },
        "4a35c7be946b4cfa9c382e59a4868b34": {
          "model_module": "@jupyter-widgets/base",
          "model_name": "LayoutModel",
          "model_module_version": "1.2.0",
          "state": {
            "_model_module": "@jupyter-widgets/base",
            "_model_module_version": "1.2.0",
            "_model_name": "LayoutModel",
            "_view_count": null,
            "_view_module": "@jupyter-widgets/base",
            "_view_module_version": "1.2.0",
            "_view_name": "LayoutView",
            "align_content": null,
            "align_items": null,
            "align_self": null,
            "border": null,
            "bottom": null,
            "display": null,
            "flex": null,
            "flex_flow": null,
            "grid_area": null,
            "grid_auto_columns": null,
            "grid_auto_flow": null,
            "grid_auto_rows": null,
            "grid_column": null,
            "grid_gap": null,
            "grid_row": null,
            "grid_template_areas": null,
            "grid_template_columns": null,
            "grid_template_rows": null,
            "height": null,
            "justify_content": null,
            "justify_items": null,
            "left": null,
            "margin": null,
            "max_height": null,
            "max_width": null,
            "min_height": null,
            "min_width": null,
            "object_fit": null,
            "object_position": null,
            "order": null,
            "overflow": null,
            "overflow_x": null,
            "overflow_y": null,
            "padding": null,
            "right": null,
            "top": null,
            "visibility": null,
            "width": null
          }
        },
        "ecdc96759dfa465e9a42e864a86797a9": {
          "model_module": "@jupyter-widgets/controls",
          "model_name": "ProgressStyleModel",
          "model_module_version": "1.5.0",
          "state": {
            "_model_module": "@jupyter-widgets/controls",
            "_model_module_version": "1.5.0",
            "_model_name": "ProgressStyleModel",
            "_view_count": null,
            "_view_module": "@jupyter-widgets/base",
            "_view_module_version": "1.2.0",
            "_view_name": "StyleView",
            "bar_color": null,
            "description_width": ""
          }
        },
        "c2ae7b91cb2040f39427b09c4ce76b63": {
          "model_module": "@jupyter-widgets/base",
          "model_name": "LayoutModel",
          "model_module_version": "1.2.0",
          "state": {
            "_model_module": "@jupyter-widgets/base",
            "_model_module_version": "1.2.0",
            "_model_name": "LayoutModel",
            "_view_count": null,
            "_view_module": "@jupyter-widgets/base",
            "_view_module_version": "1.2.0",
            "_view_name": "LayoutView",
            "align_content": null,
            "align_items": null,
            "align_self": null,
            "border": null,
            "bottom": null,
            "display": null,
            "flex": null,
            "flex_flow": null,
            "grid_area": null,
            "grid_auto_columns": null,
            "grid_auto_flow": null,
            "grid_auto_rows": null,
            "grid_column": null,
            "grid_gap": null,
            "grid_row": null,
            "grid_template_areas": null,
            "grid_template_columns": null,
            "grid_template_rows": null,
            "height": null,
            "justify_content": null,
            "justify_items": null,
            "left": null,
            "margin": null,
            "max_height": null,
            "max_width": null,
            "min_height": null,
            "min_width": null,
            "object_fit": null,
            "object_position": null,
            "order": null,
            "overflow": null,
            "overflow_x": null,
            "overflow_y": null,
            "padding": null,
            "right": null,
            "top": null,
            "visibility": null,
            "width": null
          }
        },
        "9fd70d70136f4524aec3eff60aee249c": {
          "model_module": "@jupyter-widgets/controls",
          "model_name": "DescriptionStyleModel",
          "model_module_version": "1.5.0",
          "state": {
            "_model_module": "@jupyter-widgets/controls",
            "_model_module_version": "1.5.0",
            "_model_name": "DescriptionStyleModel",
            "_view_count": null,
            "_view_module": "@jupyter-widgets/base",
            "_view_module_version": "1.2.0",
            "_view_name": "StyleView",
            "description_width": ""
          }
        },
        "1f3adc6235a849f38a36c09795370f4e": {
          "model_module": "@jupyter-widgets/controls",
          "model_name": "HBoxModel",
          "model_module_version": "1.5.0",
          "state": {
            "_dom_classes": [],
            "_model_module": "@jupyter-widgets/controls",
            "_model_module_version": "1.5.0",
            "_model_name": "HBoxModel",
            "_view_count": null,
            "_view_module": "@jupyter-widgets/controls",
            "_view_module_version": "1.5.0",
            "_view_name": "HBoxView",
            "box_style": "",
            "children": [
              "IPY_MODEL_023b04973a534b3894cc92f2e3102b33",
              "IPY_MODEL_e9307136b35c411d8e49df873b09b1b7",
              "IPY_MODEL_a3a3339ac1424d2aa009b284afdf0fd0"
            ],
            "layout": "IPY_MODEL_d4d02e8b879648018166dbdcab8e07e9"
          }
        },
        "023b04973a534b3894cc92f2e3102b33": {
          "model_module": "@jupyter-widgets/controls",
          "model_name": "HTMLModel",
          "model_module_version": "1.5.0",
          "state": {
            "_dom_classes": [],
            "_model_module": "@jupyter-widgets/controls",
            "_model_module_version": "1.5.0",
            "_model_name": "HTMLModel",
            "_view_count": null,
            "_view_module": "@jupyter-widgets/controls",
            "_view_module_version": "1.5.0",
            "_view_name": "HTMLView",
            "description": "",
            "description_tooltip": null,
            "layout": "IPY_MODEL_2cae33ac8af740daa8c8c6e57a1528be",
            "placeholder": "​",
            "style": "IPY_MODEL_a6d12e2c361d4a3391e5c89f8589616f",
            "value": "Downloading (…)e371b7135/merges.txt: 100%"
          }
        },
        "e9307136b35c411d8e49df873b09b1b7": {
          "model_module": "@jupyter-widgets/controls",
          "model_name": "FloatProgressModel",
          "model_module_version": "1.5.0",
          "state": {
            "_dom_classes": [],
            "_model_module": "@jupyter-widgets/controls",
            "_model_module_version": "1.5.0",
            "_model_name": "FloatProgressModel",
            "_view_count": null,
            "_view_module": "@jupyter-widgets/controls",
            "_view_module_version": "1.5.0",
            "_view_name": "ProgressView",
            "bar_style": "success",
            "description": "",
            "description_tooltip": null,
            "layout": "IPY_MODEL_4079813db62e4335822ab8cd411d2dc7",
            "max": 456356,
            "min": 0,
            "orientation": "horizontal",
            "style": "IPY_MODEL_ebd31d5153fe44b4a131101e69b87798",
            "value": 456356
          }
        },
        "a3a3339ac1424d2aa009b284afdf0fd0": {
          "model_module": "@jupyter-widgets/controls",
          "model_name": "HTMLModel",
          "model_module_version": "1.5.0",
          "state": {
            "_dom_classes": [],
            "_model_module": "@jupyter-widgets/controls",
            "_model_module_version": "1.5.0",
            "_model_name": "HTMLModel",
            "_view_count": null,
            "_view_module": "@jupyter-widgets/controls",
            "_view_module_version": "1.5.0",
            "_view_name": "HTMLView",
            "description": "",
            "description_tooltip": null,
            "layout": "IPY_MODEL_2887bec5d6a14006a4f11bbc5fbd468d",
            "placeholder": "​",
            "style": "IPY_MODEL_93aed4d45617496f95419e0aa8d50b1c",
            "value": " 456k/456k [00:00&lt;00:00, 5.58MB/s]"
          }
        },
        "d4d02e8b879648018166dbdcab8e07e9": {
          "model_module": "@jupyter-widgets/base",
          "model_name": "LayoutModel",
          "model_module_version": "1.2.0",
          "state": {
            "_model_module": "@jupyter-widgets/base",
            "_model_module_version": "1.2.0",
            "_model_name": "LayoutModel",
            "_view_count": null,
            "_view_module": "@jupyter-widgets/base",
            "_view_module_version": "1.2.0",
            "_view_name": "LayoutView",
            "align_content": null,
            "align_items": null,
            "align_self": null,
            "border": null,
            "bottom": null,
            "display": null,
            "flex": null,
            "flex_flow": null,
            "grid_area": null,
            "grid_auto_columns": null,
            "grid_auto_flow": null,
            "grid_auto_rows": null,
            "grid_column": null,
            "grid_gap": null,
            "grid_row": null,
            "grid_template_areas": null,
            "grid_template_columns": null,
            "grid_template_rows": null,
            "height": null,
            "justify_content": null,
            "justify_items": null,
            "left": null,
            "margin": null,
            "max_height": null,
            "max_width": null,
            "min_height": null,
            "min_width": null,
            "object_fit": null,
            "object_position": null,
            "order": null,
            "overflow": null,
            "overflow_x": null,
            "overflow_y": null,
            "padding": null,
            "right": null,
            "top": null,
            "visibility": null,
            "width": null
          }
        },
        "2cae33ac8af740daa8c8c6e57a1528be": {
          "model_module": "@jupyter-widgets/base",
          "model_name": "LayoutModel",
          "model_module_version": "1.2.0",
          "state": {
            "_model_module": "@jupyter-widgets/base",
            "_model_module_version": "1.2.0",
            "_model_name": "LayoutModel",
            "_view_count": null,
            "_view_module": "@jupyter-widgets/base",
            "_view_module_version": "1.2.0",
            "_view_name": "LayoutView",
            "align_content": null,
            "align_items": null,
            "align_self": null,
            "border": null,
            "bottom": null,
            "display": null,
            "flex": null,
            "flex_flow": null,
            "grid_area": null,
            "grid_auto_columns": null,
            "grid_auto_flow": null,
            "grid_auto_rows": null,
            "grid_column": null,
            "grid_gap": null,
            "grid_row": null,
            "grid_template_areas": null,
            "grid_template_columns": null,
            "grid_template_rows": null,
            "height": null,
            "justify_content": null,
            "justify_items": null,
            "left": null,
            "margin": null,
            "max_height": null,
            "max_width": null,
            "min_height": null,
            "min_width": null,
            "object_fit": null,
            "object_position": null,
            "order": null,
            "overflow": null,
            "overflow_x": null,
            "overflow_y": null,
            "padding": null,
            "right": null,
            "top": null,
            "visibility": null,
            "width": null
          }
        },
        "a6d12e2c361d4a3391e5c89f8589616f": {
          "model_module": "@jupyter-widgets/controls",
          "model_name": "DescriptionStyleModel",
          "model_module_version": "1.5.0",
          "state": {
            "_model_module": "@jupyter-widgets/controls",
            "_model_module_version": "1.5.0",
            "_model_name": "DescriptionStyleModel",
            "_view_count": null,
            "_view_module": "@jupyter-widgets/base",
            "_view_module_version": "1.2.0",
            "_view_name": "StyleView",
            "description_width": ""
          }
        },
        "4079813db62e4335822ab8cd411d2dc7": {
          "model_module": "@jupyter-widgets/base",
          "model_name": "LayoutModel",
          "model_module_version": "1.2.0",
          "state": {
            "_model_module": "@jupyter-widgets/base",
            "_model_module_version": "1.2.0",
            "_model_name": "LayoutModel",
            "_view_count": null,
            "_view_module": "@jupyter-widgets/base",
            "_view_module_version": "1.2.0",
            "_view_name": "LayoutView",
            "align_content": null,
            "align_items": null,
            "align_self": null,
            "border": null,
            "bottom": null,
            "display": null,
            "flex": null,
            "flex_flow": null,
            "grid_area": null,
            "grid_auto_columns": null,
            "grid_auto_flow": null,
            "grid_auto_rows": null,
            "grid_column": null,
            "grid_gap": null,
            "grid_row": null,
            "grid_template_areas": null,
            "grid_template_columns": null,
            "grid_template_rows": null,
            "height": null,
            "justify_content": null,
            "justify_items": null,
            "left": null,
            "margin": null,
            "max_height": null,
            "max_width": null,
            "min_height": null,
            "min_width": null,
            "object_fit": null,
            "object_position": null,
            "order": null,
            "overflow": null,
            "overflow_x": null,
            "overflow_y": null,
            "padding": null,
            "right": null,
            "top": null,
            "visibility": null,
            "width": null
          }
        },
        "ebd31d5153fe44b4a131101e69b87798": {
          "model_module": "@jupyter-widgets/controls",
          "model_name": "ProgressStyleModel",
          "model_module_version": "1.5.0",
          "state": {
            "_model_module": "@jupyter-widgets/controls",
            "_model_module_version": "1.5.0",
            "_model_name": "ProgressStyleModel",
            "_view_count": null,
            "_view_module": "@jupyter-widgets/base",
            "_view_module_version": "1.2.0",
            "_view_name": "StyleView",
            "bar_color": null,
            "description_width": ""
          }
        },
        "2887bec5d6a14006a4f11bbc5fbd468d": {
          "model_module": "@jupyter-widgets/base",
          "model_name": "LayoutModel",
          "model_module_version": "1.2.0",
          "state": {
            "_model_module": "@jupyter-widgets/base",
            "_model_module_version": "1.2.0",
            "_model_name": "LayoutModel",
            "_view_count": null,
            "_view_module": "@jupyter-widgets/base",
            "_view_module_version": "1.2.0",
            "_view_name": "LayoutView",
            "align_content": null,
            "align_items": null,
            "align_self": null,
            "border": null,
            "bottom": null,
            "display": null,
            "flex": null,
            "flex_flow": null,
            "grid_area": null,
            "grid_auto_columns": null,
            "grid_auto_flow": null,
            "grid_auto_rows": null,
            "grid_column": null,
            "grid_gap": null,
            "grid_row": null,
            "grid_template_areas": null,
            "grid_template_columns": null,
            "grid_template_rows": null,
            "height": null,
            "justify_content": null,
            "justify_items": null,
            "left": null,
            "margin": null,
            "max_height": null,
            "max_width": null,
            "min_height": null,
            "min_width": null,
            "object_fit": null,
            "object_position": null,
            "order": null,
            "overflow": null,
            "overflow_x": null,
            "overflow_y": null,
            "padding": null,
            "right": null,
            "top": null,
            "visibility": null,
            "width": null
          }
        },
        "93aed4d45617496f95419e0aa8d50b1c": {
          "model_module": "@jupyter-widgets/controls",
          "model_name": "DescriptionStyleModel",
          "model_module_version": "1.5.0",
          "state": {
            "_model_module": "@jupyter-widgets/controls",
            "_model_module_version": "1.5.0",
            "_model_name": "DescriptionStyleModel",
            "_view_count": null,
            "_view_module": "@jupyter-widgets/base",
            "_view_module_version": "1.2.0",
            "_view_name": "StyleView",
            "description_width": ""
          }
        },
        "0aa80c2af6f34125ad7bfd73c3cc7d20": {
          "model_module": "@jupyter-widgets/controls",
          "model_name": "HBoxModel",
          "model_module_version": "1.5.0",
          "state": {
            "_dom_classes": [],
            "_model_module": "@jupyter-widgets/controls",
            "_model_module_version": "1.5.0",
            "_model_name": "HBoxModel",
            "_view_count": null,
            "_view_module": "@jupyter-widgets/controls",
            "_view_module_version": "1.5.0",
            "_view_name": "HBoxView",
            "box_style": "",
            "children": [
              "IPY_MODEL_b9925871a4a041f6bfab760da4b1c332",
              "IPY_MODEL_366b806854c14cbd8b75ff8ee78f0654",
              "IPY_MODEL_627994803fb24f9b9173f9defe5251f8"
            ],
            "layout": "IPY_MODEL_4ca006baee104ea582278f5654b0cc8e"
          }
        },
        "b9925871a4a041f6bfab760da4b1c332": {
          "model_module": "@jupyter-widgets/controls",
          "model_name": "HTMLModel",
          "model_module_version": "1.5.0",
          "state": {
            "_dom_classes": [],
            "_model_module": "@jupyter-widgets/controls",
            "_model_module_version": "1.5.0",
            "_model_name": "HTMLModel",
            "_view_count": null,
            "_view_module": "@jupyter-widgets/controls",
            "_view_module_version": "1.5.0",
            "_view_name": "HTMLView",
            "description": "",
            "description_tooltip": null,
            "layout": "IPY_MODEL_b44aed75998d42fdb762876ae3b07191",
            "placeholder": "​",
            "style": "IPY_MODEL_fd1b1184e41c4a2b9ef7947195a5754c",
            "value": "Downloading pytorch_model.bin: 100%"
          }
        },
        "366b806854c14cbd8b75ff8ee78f0654": {
          "model_module": "@jupyter-widgets/controls",
          "model_name": "FloatProgressModel",
          "model_module_version": "1.5.0",
          "state": {
            "_dom_classes": [],
            "_model_module": "@jupyter-widgets/controls",
            "_model_module_version": "1.5.0",
            "_model_name": "FloatProgressModel",
            "_view_count": null,
            "_view_module": "@jupyter-widgets/controls",
            "_view_module_version": "1.5.0",
            "_view_name": "ProgressView",
            "bar_style": "success",
            "description": "",
            "description_tooltip": null,
            "layout": "IPY_MODEL_ca778fde3a8b4bcfb4f4c24b68b28139",
            "max": 328520407,
            "min": 0,
            "orientation": "horizontal",
            "style": "IPY_MODEL_706e2356c1b74b47b5b7e334939ea653",
            "value": 328520407
          }
        },
        "627994803fb24f9b9173f9defe5251f8": {
          "model_module": "@jupyter-widgets/controls",
          "model_name": "HTMLModel",
          "model_module_version": "1.5.0",
          "state": {
            "_dom_classes": [],
            "_model_module": "@jupyter-widgets/controls",
            "_model_module_version": "1.5.0",
            "_model_name": "HTMLModel",
            "_view_count": null,
            "_view_module": "@jupyter-widgets/controls",
            "_view_module_version": "1.5.0",
            "_view_name": "HTMLView",
            "description": "",
            "description_tooltip": null,
            "layout": "IPY_MODEL_17f760bf0c154c639c20ca27b7192271",
            "placeholder": "​",
            "style": "IPY_MODEL_169e2acdb21846bcadde48e69e4a779b",
            "value": " 329M/329M [00:01&lt;00:00, 188MB/s]"
          }
        },
        "4ca006baee104ea582278f5654b0cc8e": {
          "model_module": "@jupyter-widgets/base",
          "model_name": "LayoutModel",
          "model_module_version": "1.2.0",
          "state": {
            "_model_module": "@jupyter-widgets/base",
            "_model_module_version": "1.2.0",
            "_model_name": "LayoutModel",
            "_view_count": null,
            "_view_module": "@jupyter-widgets/base",
            "_view_module_version": "1.2.0",
            "_view_name": "LayoutView",
            "align_content": null,
            "align_items": null,
            "align_self": null,
            "border": null,
            "bottom": null,
            "display": null,
            "flex": null,
            "flex_flow": null,
            "grid_area": null,
            "grid_auto_columns": null,
            "grid_auto_flow": null,
            "grid_auto_rows": null,
            "grid_column": null,
            "grid_gap": null,
            "grid_row": null,
            "grid_template_areas": null,
            "grid_template_columns": null,
            "grid_template_rows": null,
            "height": null,
            "justify_content": null,
            "justify_items": null,
            "left": null,
            "margin": null,
            "max_height": null,
            "max_width": null,
            "min_height": null,
            "min_width": null,
            "object_fit": null,
            "object_position": null,
            "order": null,
            "overflow": null,
            "overflow_x": null,
            "overflow_y": null,
            "padding": null,
            "right": null,
            "top": null,
            "visibility": null,
            "width": null
          }
        },
        "b44aed75998d42fdb762876ae3b07191": {
          "model_module": "@jupyter-widgets/base",
          "model_name": "LayoutModel",
          "model_module_version": "1.2.0",
          "state": {
            "_model_module": "@jupyter-widgets/base",
            "_model_module_version": "1.2.0",
            "_model_name": "LayoutModel",
            "_view_count": null,
            "_view_module": "@jupyter-widgets/base",
            "_view_module_version": "1.2.0",
            "_view_name": "LayoutView",
            "align_content": null,
            "align_items": null,
            "align_self": null,
            "border": null,
            "bottom": null,
            "display": null,
            "flex": null,
            "flex_flow": null,
            "grid_area": null,
            "grid_auto_columns": null,
            "grid_auto_flow": null,
            "grid_auto_rows": null,
            "grid_column": null,
            "grid_gap": null,
            "grid_row": null,
            "grid_template_areas": null,
            "grid_template_columns": null,
            "grid_template_rows": null,
            "height": null,
            "justify_content": null,
            "justify_items": null,
            "left": null,
            "margin": null,
            "max_height": null,
            "max_width": null,
            "min_height": null,
            "min_width": null,
            "object_fit": null,
            "object_position": null,
            "order": null,
            "overflow": null,
            "overflow_x": null,
            "overflow_y": null,
            "padding": null,
            "right": null,
            "top": null,
            "visibility": null,
            "width": null
          }
        },
        "fd1b1184e41c4a2b9ef7947195a5754c": {
          "model_module": "@jupyter-widgets/controls",
          "model_name": "DescriptionStyleModel",
          "model_module_version": "1.5.0",
          "state": {
            "_model_module": "@jupyter-widgets/controls",
            "_model_module_version": "1.5.0",
            "_model_name": "DescriptionStyleModel",
            "_view_count": null,
            "_view_module": "@jupyter-widgets/base",
            "_view_module_version": "1.2.0",
            "_view_name": "StyleView",
            "description_width": ""
          }
        },
        "ca778fde3a8b4bcfb4f4c24b68b28139": {
          "model_module": "@jupyter-widgets/base",
          "model_name": "LayoutModel",
          "model_module_version": "1.2.0",
          "state": {
            "_model_module": "@jupyter-widgets/base",
            "_model_module_version": "1.2.0",
            "_model_name": "LayoutModel",
            "_view_count": null,
            "_view_module": "@jupyter-widgets/base",
            "_view_module_version": "1.2.0",
            "_view_name": "LayoutView",
            "align_content": null,
            "align_items": null,
            "align_self": null,
            "border": null,
            "bottom": null,
            "display": null,
            "flex": null,
            "flex_flow": null,
            "grid_area": null,
            "grid_auto_columns": null,
            "grid_auto_flow": null,
            "grid_auto_rows": null,
            "grid_column": null,
            "grid_gap": null,
            "grid_row": null,
            "grid_template_areas": null,
            "grid_template_columns": null,
            "grid_template_rows": null,
            "height": null,
            "justify_content": null,
            "justify_items": null,
            "left": null,
            "margin": null,
            "max_height": null,
            "max_width": null,
            "min_height": null,
            "min_width": null,
            "object_fit": null,
            "object_position": null,
            "order": null,
            "overflow": null,
            "overflow_x": null,
            "overflow_y": null,
            "padding": null,
            "right": null,
            "top": null,
            "visibility": null,
            "width": null
          }
        },
        "706e2356c1b74b47b5b7e334939ea653": {
          "model_module": "@jupyter-widgets/controls",
          "model_name": "ProgressStyleModel",
          "model_module_version": "1.5.0",
          "state": {
            "_model_module": "@jupyter-widgets/controls",
            "_model_module_version": "1.5.0",
            "_model_name": "ProgressStyleModel",
            "_view_count": null,
            "_view_module": "@jupyter-widgets/base",
            "_view_module_version": "1.2.0",
            "_view_name": "StyleView",
            "bar_color": null,
            "description_width": ""
          }
        },
        "17f760bf0c154c639c20ca27b7192271": {
          "model_module": "@jupyter-widgets/base",
          "model_name": "LayoutModel",
          "model_module_version": "1.2.0",
          "state": {
            "_model_module": "@jupyter-widgets/base",
            "_model_module_version": "1.2.0",
            "_model_name": "LayoutModel",
            "_view_count": null,
            "_view_module": "@jupyter-widgets/base",
            "_view_module_version": "1.2.0",
            "_view_name": "LayoutView",
            "align_content": null,
            "align_items": null,
            "align_self": null,
            "border": null,
            "bottom": null,
            "display": null,
            "flex": null,
            "flex_flow": null,
            "grid_area": null,
            "grid_auto_columns": null,
            "grid_auto_flow": null,
            "grid_auto_rows": null,
            "grid_column": null,
            "grid_gap": null,
            "grid_row": null,
            "grid_template_areas": null,
            "grid_template_columns": null,
            "grid_template_rows": null,
            "height": null,
            "justify_content": null,
            "justify_items": null,
            "left": null,
            "margin": null,
            "max_height": null,
            "max_width": null,
            "min_height": null,
            "min_width": null,
            "object_fit": null,
            "object_position": null,
            "order": null,
            "overflow": null,
            "overflow_x": null,
            "overflow_y": null,
            "padding": null,
            "right": null,
            "top": null,
            "visibility": null,
            "width": null
          }
        },
        "169e2acdb21846bcadde48e69e4a779b": {
          "model_module": "@jupyter-widgets/controls",
          "model_name": "DescriptionStyleModel",
          "model_module_version": "1.5.0",
          "state": {
            "_model_module": "@jupyter-widgets/controls",
            "_model_module_version": "1.5.0",
            "_model_name": "DescriptionStyleModel",
            "_view_count": null,
            "_view_module": "@jupyter-widgets/base",
            "_view_module_version": "1.2.0",
            "_view_name": "StyleView",
            "description_width": ""
          }
        },
        "dcf98cf77d994a018485e9f2277952cd": {
          "model_module": "@jupyter-widgets/controls",
          "model_name": "HBoxModel",
          "model_module_version": "1.5.0",
          "state": {
            "_dom_classes": [],
            "_model_module": "@jupyter-widgets/controls",
            "_model_module_version": "1.5.0",
            "_model_name": "HBoxModel",
            "_view_count": null,
            "_view_module": "@jupyter-widgets/controls",
            "_view_module_version": "1.5.0",
            "_view_name": "HBoxView",
            "box_style": "",
            "children": [
              "IPY_MODEL_98772431a0b840d2ac1df56d189eb96d",
              "IPY_MODEL_59c3d257e53943e1a84fda67c562e3ec",
              "IPY_MODEL_b3227c7c1a3a46949e8ea842880aeb9e"
            ],
            "layout": "IPY_MODEL_5cf9c096020d4c2ba69b98ee4a56c2e1"
          }
        },
        "98772431a0b840d2ac1df56d189eb96d": {
          "model_module": "@jupyter-widgets/controls",
          "model_name": "HTMLModel",
          "model_module_version": "1.5.0",
          "state": {
            "_dom_classes": [],
            "_model_module": "@jupyter-widgets/controls",
            "_model_module_version": "1.5.0",
            "_model_name": "HTMLModel",
            "_view_count": null,
            "_view_module": "@jupyter-widgets/controls",
            "_view_module_version": "1.5.0",
            "_view_name": "HTMLView",
            "description": "",
            "description_tooltip": null,
            "layout": "IPY_MODEL_25274406a2144e2b957f7b0134085af6",
            "placeholder": "​",
            "style": "IPY_MODEL_7112d11edbf941358aaf9b5f77db4998",
            "value": "Downloading (…)nce_bert_config.json: 100%"
          }
        },
        "59c3d257e53943e1a84fda67c562e3ec": {
          "model_module": "@jupyter-widgets/controls",
          "model_name": "FloatProgressModel",
          "model_module_version": "1.5.0",
          "state": {
            "_dom_classes": [],
            "_model_module": "@jupyter-widgets/controls",
            "_model_module_version": "1.5.0",
            "_model_name": "FloatProgressModel",
            "_view_count": null,
            "_view_module": "@jupyter-widgets/controls",
            "_view_module_version": "1.5.0",
            "_view_name": "ProgressView",
            "bar_style": "success",
            "description": "",
            "description_tooltip": null,
            "layout": "IPY_MODEL_975eac7d99e341e295e61769b6323818",
            "max": 53,
            "min": 0,
            "orientation": "horizontal",
            "style": "IPY_MODEL_fec35d1d943a49b9a769d1df38909743",
            "value": 53
          }
        },
        "b3227c7c1a3a46949e8ea842880aeb9e": {
          "model_module": "@jupyter-widgets/controls",
          "model_name": "HTMLModel",
          "model_module_version": "1.5.0",
          "state": {
            "_dom_classes": [],
            "_model_module": "@jupyter-widgets/controls",
            "_model_module_version": "1.5.0",
            "_model_name": "HTMLModel",
            "_view_count": null,
            "_view_module": "@jupyter-widgets/controls",
            "_view_module_version": "1.5.0",
            "_view_name": "HTMLView",
            "description": "",
            "description_tooltip": null,
            "layout": "IPY_MODEL_530d5e2f6fcd4a7c85823ad694f438c0",
            "placeholder": "​",
            "style": "IPY_MODEL_1da20bb2aac348ddb369c94e19be69a4",
            "value": " 53.0/53.0 [00:00&lt;00:00, 719B/s]"
          }
        },
        "5cf9c096020d4c2ba69b98ee4a56c2e1": {
          "model_module": "@jupyter-widgets/base",
          "model_name": "LayoutModel",
          "model_module_version": "1.2.0",
          "state": {
            "_model_module": "@jupyter-widgets/base",
            "_model_module_version": "1.2.0",
            "_model_name": "LayoutModel",
            "_view_count": null,
            "_view_module": "@jupyter-widgets/base",
            "_view_module_version": "1.2.0",
            "_view_name": "LayoutView",
            "align_content": null,
            "align_items": null,
            "align_self": null,
            "border": null,
            "bottom": null,
            "display": null,
            "flex": null,
            "flex_flow": null,
            "grid_area": null,
            "grid_auto_columns": null,
            "grid_auto_flow": null,
            "grid_auto_rows": null,
            "grid_column": null,
            "grid_gap": null,
            "grid_row": null,
            "grid_template_areas": null,
            "grid_template_columns": null,
            "grid_template_rows": null,
            "height": null,
            "justify_content": null,
            "justify_items": null,
            "left": null,
            "margin": null,
            "max_height": null,
            "max_width": null,
            "min_height": null,
            "min_width": null,
            "object_fit": null,
            "object_position": null,
            "order": null,
            "overflow": null,
            "overflow_x": null,
            "overflow_y": null,
            "padding": null,
            "right": null,
            "top": null,
            "visibility": null,
            "width": null
          }
        },
        "25274406a2144e2b957f7b0134085af6": {
          "model_module": "@jupyter-widgets/base",
          "model_name": "LayoutModel",
          "model_module_version": "1.2.0",
          "state": {
            "_model_module": "@jupyter-widgets/base",
            "_model_module_version": "1.2.0",
            "_model_name": "LayoutModel",
            "_view_count": null,
            "_view_module": "@jupyter-widgets/base",
            "_view_module_version": "1.2.0",
            "_view_name": "LayoutView",
            "align_content": null,
            "align_items": null,
            "align_self": null,
            "border": null,
            "bottom": null,
            "display": null,
            "flex": null,
            "flex_flow": null,
            "grid_area": null,
            "grid_auto_columns": null,
            "grid_auto_flow": null,
            "grid_auto_rows": null,
            "grid_column": null,
            "grid_gap": null,
            "grid_row": null,
            "grid_template_areas": null,
            "grid_template_columns": null,
            "grid_template_rows": null,
            "height": null,
            "justify_content": null,
            "justify_items": null,
            "left": null,
            "margin": null,
            "max_height": null,
            "max_width": null,
            "min_height": null,
            "min_width": null,
            "object_fit": null,
            "object_position": null,
            "order": null,
            "overflow": null,
            "overflow_x": null,
            "overflow_y": null,
            "padding": null,
            "right": null,
            "top": null,
            "visibility": null,
            "width": null
          }
        },
        "7112d11edbf941358aaf9b5f77db4998": {
          "model_module": "@jupyter-widgets/controls",
          "model_name": "DescriptionStyleModel",
          "model_module_version": "1.5.0",
          "state": {
            "_model_module": "@jupyter-widgets/controls",
            "_model_module_version": "1.5.0",
            "_model_name": "DescriptionStyleModel",
            "_view_count": null,
            "_view_module": "@jupyter-widgets/base",
            "_view_module_version": "1.2.0",
            "_view_name": "StyleView",
            "description_width": ""
          }
        },
        "975eac7d99e341e295e61769b6323818": {
          "model_module": "@jupyter-widgets/base",
          "model_name": "LayoutModel",
          "model_module_version": "1.2.0",
          "state": {
            "_model_module": "@jupyter-widgets/base",
            "_model_module_version": "1.2.0",
            "_model_name": "LayoutModel",
            "_view_count": null,
            "_view_module": "@jupyter-widgets/base",
            "_view_module_version": "1.2.0",
            "_view_name": "LayoutView",
            "align_content": null,
            "align_items": null,
            "align_self": null,
            "border": null,
            "bottom": null,
            "display": null,
            "flex": null,
            "flex_flow": null,
            "grid_area": null,
            "grid_auto_columns": null,
            "grid_auto_flow": null,
            "grid_auto_rows": null,
            "grid_column": null,
            "grid_gap": null,
            "grid_row": null,
            "grid_template_areas": null,
            "grid_template_columns": null,
            "grid_template_rows": null,
            "height": null,
            "justify_content": null,
            "justify_items": null,
            "left": null,
            "margin": null,
            "max_height": null,
            "max_width": null,
            "min_height": null,
            "min_width": null,
            "object_fit": null,
            "object_position": null,
            "order": null,
            "overflow": null,
            "overflow_x": null,
            "overflow_y": null,
            "padding": null,
            "right": null,
            "top": null,
            "visibility": null,
            "width": null
          }
        },
        "fec35d1d943a49b9a769d1df38909743": {
          "model_module": "@jupyter-widgets/controls",
          "model_name": "ProgressStyleModel",
          "model_module_version": "1.5.0",
          "state": {
            "_model_module": "@jupyter-widgets/controls",
            "_model_module_version": "1.5.0",
            "_model_name": "ProgressStyleModel",
            "_view_count": null,
            "_view_module": "@jupyter-widgets/base",
            "_view_module_version": "1.2.0",
            "_view_name": "StyleView",
            "bar_color": null,
            "description_width": ""
          }
        },
        "530d5e2f6fcd4a7c85823ad694f438c0": {
          "model_module": "@jupyter-widgets/base",
          "model_name": "LayoutModel",
          "model_module_version": "1.2.0",
          "state": {
            "_model_module": "@jupyter-widgets/base",
            "_model_module_version": "1.2.0",
            "_model_name": "LayoutModel",
            "_view_count": null,
            "_view_module": "@jupyter-widgets/base",
            "_view_module_version": "1.2.0",
            "_view_name": "LayoutView",
            "align_content": null,
            "align_items": null,
            "align_self": null,
            "border": null,
            "bottom": null,
            "display": null,
            "flex": null,
            "flex_flow": null,
            "grid_area": null,
            "grid_auto_columns": null,
            "grid_auto_flow": null,
            "grid_auto_rows": null,
            "grid_column": null,
            "grid_gap": null,
            "grid_row": null,
            "grid_template_areas": null,
            "grid_template_columns": null,
            "grid_template_rows": null,
            "height": null,
            "justify_content": null,
            "justify_items": null,
            "left": null,
            "margin": null,
            "max_height": null,
            "max_width": null,
            "min_height": null,
            "min_width": null,
            "object_fit": null,
            "object_position": null,
            "order": null,
            "overflow": null,
            "overflow_x": null,
            "overflow_y": null,
            "padding": null,
            "right": null,
            "top": null,
            "visibility": null,
            "width": null
          }
        },
        "1da20bb2aac348ddb369c94e19be69a4": {
          "model_module": "@jupyter-widgets/controls",
          "model_name": "DescriptionStyleModel",
          "model_module_version": "1.5.0",
          "state": {
            "_model_module": "@jupyter-widgets/controls",
            "_model_module_version": "1.5.0",
            "_model_name": "DescriptionStyleModel",
            "_view_count": null,
            "_view_module": "@jupyter-widgets/base",
            "_view_module_version": "1.2.0",
            "_view_name": "StyleView",
            "description_width": ""
          }
        },
        "cc0cdf583e2c419f9594bb4b6e6f7f63": {
          "model_module": "@jupyter-widgets/controls",
          "model_name": "HBoxModel",
          "model_module_version": "1.5.0",
          "state": {
            "_dom_classes": [],
            "_model_module": "@jupyter-widgets/controls",
            "_model_module_version": "1.5.0",
            "_model_name": "HBoxModel",
            "_view_count": null,
            "_view_module": "@jupyter-widgets/controls",
            "_view_module_version": "1.5.0",
            "_view_name": "HBoxView",
            "box_style": "",
            "children": [
              "IPY_MODEL_8fd0b4dba0de439fb8f40ac583f47153",
              "IPY_MODEL_ee925785f1484987af1590300fad531e",
              "IPY_MODEL_ce1f0a59c37d499d8bc44f44a1a5c057"
            ],
            "layout": "IPY_MODEL_7c7fc1d6dfb648ad8828ef6497626842"
          }
        },
        "8fd0b4dba0de439fb8f40ac583f47153": {
          "model_module": "@jupyter-widgets/controls",
          "model_name": "HTMLModel",
          "model_module_version": "1.5.0",
          "state": {
            "_dom_classes": [],
            "_model_module": "@jupyter-widgets/controls",
            "_model_module_version": "1.5.0",
            "_model_name": "HTMLModel",
            "_view_count": null,
            "_view_module": "@jupyter-widgets/controls",
            "_view_module_version": "1.5.0",
            "_view_name": "HTMLView",
            "description": "",
            "description_tooltip": null,
            "layout": "IPY_MODEL_8a4262dff74a416cadd4b9667380ee5e",
            "placeholder": "​",
            "style": "IPY_MODEL_4268241c2c3f4a1fabad65e703e5b3da",
            "value": "Downloading (…)cial_tokens_map.json: 100%"
          }
        },
        "ee925785f1484987af1590300fad531e": {
          "model_module": "@jupyter-widgets/controls",
          "model_name": "FloatProgressModel",
          "model_module_version": "1.5.0",
          "state": {
            "_dom_classes": [],
            "_model_module": "@jupyter-widgets/controls",
            "_model_module_version": "1.5.0",
            "_model_name": "FloatProgressModel",
            "_view_count": null,
            "_view_module": "@jupyter-widgets/controls",
            "_view_module_version": "1.5.0",
            "_view_name": "ProgressView",
            "bar_style": "success",
            "description": "",
            "description_tooltip": null,
            "layout": "IPY_MODEL_f7a5779f9fb940df9ba874003790d279",
            "max": 239,
            "min": 0,
            "orientation": "horizontal",
            "style": "IPY_MODEL_529aefb8a0ec415d94885cc6a3fb0b6c",
            "value": 239
          }
        },
        "ce1f0a59c37d499d8bc44f44a1a5c057": {
          "model_module": "@jupyter-widgets/controls",
          "model_name": "HTMLModel",
          "model_module_version": "1.5.0",
          "state": {
            "_dom_classes": [],
            "_model_module": "@jupyter-widgets/controls",
            "_model_module_version": "1.5.0",
            "_model_name": "HTMLModel",
            "_view_count": null,
            "_view_module": "@jupyter-widgets/controls",
            "_view_module_version": "1.5.0",
            "_view_name": "HTMLView",
            "description": "",
            "description_tooltip": null,
            "layout": "IPY_MODEL_64e73ba6325643f7b7b61f26874b0860",
            "placeholder": "​",
            "style": "IPY_MODEL_73b493c577344dd6b727ce4e75340c78",
            "value": " 239/239 [00:00&lt;00:00, 3.08kB/s]"
          }
        },
        "7c7fc1d6dfb648ad8828ef6497626842": {
          "model_module": "@jupyter-widgets/base",
          "model_name": "LayoutModel",
          "model_module_version": "1.2.0",
          "state": {
            "_model_module": "@jupyter-widgets/base",
            "_model_module_version": "1.2.0",
            "_model_name": "LayoutModel",
            "_view_count": null,
            "_view_module": "@jupyter-widgets/base",
            "_view_module_version": "1.2.0",
            "_view_name": "LayoutView",
            "align_content": null,
            "align_items": null,
            "align_self": null,
            "border": null,
            "bottom": null,
            "display": null,
            "flex": null,
            "flex_flow": null,
            "grid_area": null,
            "grid_auto_columns": null,
            "grid_auto_flow": null,
            "grid_auto_rows": null,
            "grid_column": null,
            "grid_gap": null,
            "grid_row": null,
            "grid_template_areas": null,
            "grid_template_columns": null,
            "grid_template_rows": null,
            "height": null,
            "justify_content": null,
            "justify_items": null,
            "left": null,
            "margin": null,
            "max_height": null,
            "max_width": null,
            "min_height": null,
            "min_width": null,
            "object_fit": null,
            "object_position": null,
            "order": null,
            "overflow": null,
            "overflow_x": null,
            "overflow_y": null,
            "padding": null,
            "right": null,
            "top": null,
            "visibility": null,
            "width": null
          }
        },
        "8a4262dff74a416cadd4b9667380ee5e": {
          "model_module": "@jupyter-widgets/base",
          "model_name": "LayoutModel",
          "model_module_version": "1.2.0",
          "state": {
            "_model_module": "@jupyter-widgets/base",
            "_model_module_version": "1.2.0",
            "_model_name": "LayoutModel",
            "_view_count": null,
            "_view_module": "@jupyter-widgets/base",
            "_view_module_version": "1.2.0",
            "_view_name": "LayoutView",
            "align_content": null,
            "align_items": null,
            "align_self": null,
            "border": null,
            "bottom": null,
            "display": null,
            "flex": null,
            "flex_flow": null,
            "grid_area": null,
            "grid_auto_columns": null,
            "grid_auto_flow": null,
            "grid_auto_rows": null,
            "grid_column": null,
            "grid_gap": null,
            "grid_row": null,
            "grid_template_areas": null,
            "grid_template_columns": null,
            "grid_template_rows": null,
            "height": null,
            "justify_content": null,
            "justify_items": null,
            "left": null,
            "margin": null,
            "max_height": null,
            "max_width": null,
            "min_height": null,
            "min_width": null,
            "object_fit": null,
            "object_position": null,
            "order": null,
            "overflow": null,
            "overflow_x": null,
            "overflow_y": null,
            "padding": null,
            "right": null,
            "top": null,
            "visibility": null,
            "width": null
          }
        },
        "4268241c2c3f4a1fabad65e703e5b3da": {
          "model_module": "@jupyter-widgets/controls",
          "model_name": "DescriptionStyleModel",
          "model_module_version": "1.5.0",
          "state": {
            "_model_module": "@jupyter-widgets/controls",
            "_model_module_version": "1.5.0",
            "_model_name": "DescriptionStyleModel",
            "_view_count": null,
            "_view_module": "@jupyter-widgets/base",
            "_view_module_version": "1.2.0",
            "_view_name": "StyleView",
            "description_width": ""
          }
        },
        "f7a5779f9fb940df9ba874003790d279": {
          "model_module": "@jupyter-widgets/base",
          "model_name": "LayoutModel",
          "model_module_version": "1.2.0",
          "state": {
            "_model_module": "@jupyter-widgets/base",
            "_model_module_version": "1.2.0",
            "_model_name": "LayoutModel",
            "_view_count": null,
            "_view_module": "@jupyter-widgets/base",
            "_view_module_version": "1.2.0",
            "_view_name": "LayoutView",
            "align_content": null,
            "align_items": null,
            "align_self": null,
            "border": null,
            "bottom": null,
            "display": null,
            "flex": null,
            "flex_flow": null,
            "grid_area": null,
            "grid_auto_columns": null,
            "grid_auto_flow": null,
            "grid_auto_rows": null,
            "grid_column": null,
            "grid_gap": null,
            "grid_row": null,
            "grid_template_areas": null,
            "grid_template_columns": null,
            "grid_template_rows": null,
            "height": null,
            "justify_content": null,
            "justify_items": null,
            "left": null,
            "margin": null,
            "max_height": null,
            "max_width": null,
            "min_height": null,
            "min_width": null,
            "object_fit": null,
            "object_position": null,
            "order": null,
            "overflow": null,
            "overflow_x": null,
            "overflow_y": null,
            "padding": null,
            "right": null,
            "top": null,
            "visibility": null,
            "width": null
          }
        },
        "529aefb8a0ec415d94885cc6a3fb0b6c": {
          "model_module": "@jupyter-widgets/controls",
          "model_name": "ProgressStyleModel",
          "model_module_version": "1.5.0",
          "state": {
            "_model_module": "@jupyter-widgets/controls",
            "_model_module_version": "1.5.0",
            "_model_name": "ProgressStyleModel",
            "_view_count": null,
            "_view_module": "@jupyter-widgets/base",
            "_view_module_version": "1.2.0",
            "_view_name": "StyleView",
            "bar_color": null,
            "description_width": ""
          }
        },
        "64e73ba6325643f7b7b61f26874b0860": {
          "model_module": "@jupyter-widgets/base",
          "model_name": "LayoutModel",
          "model_module_version": "1.2.0",
          "state": {
            "_model_module": "@jupyter-widgets/base",
            "_model_module_version": "1.2.0",
            "_model_name": "LayoutModel",
            "_view_count": null,
            "_view_module": "@jupyter-widgets/base",
            "_view_module_version": "1.2.0",
            "_view_name": "LayoutView",
            "align_content": null,
            "align_items": null,
            "align_self": null,
            "border": null,
            "bottom": null,
            "display": null,
            "flex": null,
            "flex_flow": null,
            "grid_area": null,
            "grid_auto_columns": null,
            "grid_auto_flow": null,
            "grid_auto_rows": null,
            "grid_column": null,
            "grid_gap": null,
            "grid_row": null,
            "grid_template_areas": null,
            "grid_template_columns": null,
            "grid_template_rows": null,
            "height": null,
            "justify_content": null,
            "justify_items": null,
            "left": null,
            "margin": null,
            "max_height": null,
            "max_width": null,
            "min_height": null,
            "min_width": null,
            "object_fit": null,
            "object_position": null,
            "order": null,
            "overflow": null,
            "overflow_x": null,
            "overflow_y": null,
            "padding": null,
            "right": null,
            "top": null,
            "visibility": null,
            "width": null
          }
        },
        "73b493c577344dd6b727ce4e75340c78": {
          "model_module": "@jupyter-widgets/controls",
          "model_name": "DescriptionStyleModel",
          "model_module_version": "1.5.0",
          "state": {
            "_model_module": "@jupyter-widgets/controls",
            "_model_module_version": "1.5.0",
            "_model_name": "DescriptionStyleModel",
            "_view_count": null,
            "_view_module": "@jupyter-widgets/base",
            "_view_module_version": "1.2.0",
            "_view_name": "StyleView",
            "description_width": ""
          }
        },
        "a50ef919b34142179d66eb68327cf5f4": {
          "model_module": "@jupyter-widgets/controls",
          "model_name": "HBoxModel",
          "model_module_version": "1.5.0",
          "state": {
            "_dom_classes": [],
            "_model_module": "@jupyter-widgets/controls",
            "_model_module_version": "1.5.0",
            "_model_name": "HBoxModel",
            "_view_count": null,
            "_view_module": "@jupyter-widgets/controls",
            "_view_module_version": "1.5.0",
            "_view_name": "HBoxView",
            "box_style": "",
            "children": [
              "IPY_MODEL_2865ddba884848b4a78a69163cdab0a0",
              "IPY_MODEL_6e52947adf9547ebbc68d596161abed9",
              "IPY_MODEL_645b0badf9674ddaaeca859ec10b0626"
            ],
            "layout": "IPY_MODEL_3ddf9757fb5741abb1ff3df99ec63919"
          }
        },
        "2865ddba884848b4a78a69163cdab0a0": {
          "model_module": "@jupyter-widgets/controls",
          "model_name": "HTMLModel",
          "model_module_version": "1.5.0",
          "state": {
            "_dom_classes": [],
            "_model_module": "@jupyter-widgets/controls",
            "_model_module_version": "1.5.0",
            "_model_name": "HTMLModel",
            "_view_count": null,
            "_view_module": "@jupyter-widgets/controls",
            "_view_module_version": "1.5.0",
            "_view_name": "HTMLView",
            "description": "",
            "description_tooltip": null,
            "layout": "IPY_MODEL_28b28ca4ceaf4141b08eca321082dd91",
            "placeholder": "​",
            "style": "IPY_MODEL_22a0b39d294a413da61aab76c31ee62a",
            "value": "Downloading (…)b7135/tokenizer.json: 100%"
          }
        },
        "6e52947adf9547ebbc68d596161abed9": {
          "model_module": "@jupyter-widgets/controls",
          "model_name": "FloatProgressModel",
          "model_module_version": "1.5.0",
          "state": {
            "_dom_classes": [],
            "_model_module": "@jupyter-widgets/controls",
            "_model_module_version": "1.5.0",
            "_model_name": "FloatProgressModel",
            "_view_count": null,
            "_view_module": "@jupyter-widgets/controls",
            "_view_module_version": "1.5.0",
            "_view_name": "ProgressView",
            "bar_style": "success",
            "description": "",
            "description_tooltip": null,
            "layout": "IPY_MODEL_4c04c3ce660640dc93e619d011748f03",
            "max": 1356048,
            "min": 0,
            "orientation": "horizontal",
            "style": "IPY_MODEL_34d1b82e440a44228a280335cbc570ce",
            "value": 1356048
          }
        },
        "645b0badf9674ddaaeca859ec10b0626": {
          "model_module": "@jupyter-widgets/controls",
          "model_name": "HTMLModel",
          "model_module_version": "1.5.0",
          "state": {
            "_dom_classes": [],
            "_model_module": "@jupyter-widgets/controls",
            "_model_module_version": "1.5.0",
            "_model_name": "HTMLModel",
            "_view_count": null,
            "_view_module": "@jupyter-widgets/controls",
            "_view_module_version": "1.5.0",
            "_view_name": "HTMLView",
            "description": "",
            "description_tooltip": null,
            "layout": "IPY_MODEL_8f381af94797420e99bba638d3438ae2",
            "placeholder": "​",
            "style": "IPY_MODEL_e56d666413ad4529995770ca6d6e141c",
            "value": " 1.36M/1.36M [00:00&lt;00:00, 3.21MB/s]"
          }
        },
        "3ddf9757fb5741abb1ff3df99ec63919": {
          "model_module": "@jupyter-widgets/base",
          "model_name": "LayoutModel",
          "model_module_version": "1.2.0",
          "state": {
            "_model_module": "@jupyter-widgets/base",
            "_model_module_version": "1.2.0",
            "_model_name": "LayoutModel",
            "_view_count": null,
            "_view_module": "@jupyter-widgets/base",
            "_view_module_version": "1.2.0",
            "_view_name": "LayoutView",
            "align_content": null,
            "align_items": null,
            "align_self": null,
            "border": null,
            "bottom": null,
            "display": null,
            "flex": null,
            "flex_flow": null,
            "grid_area": null,
            "grid_auto_columns": null,
            "grid_auto_flow": null,
            "grid_auto_rows": null,
            "grid_column": null,
            "grid_gap": null,
            "grid_row": null,
            "grid_template_areas": null,
            "grid_template_columns": null,
            "grid_template_rows": null,
            "height": null,
            "justify_content": null,
            "justify_items": null,
            "left": null,
            "margin": null,
            "max_height": null,
            "max_width": null,
            "min_height": null,
            "min_width": null,
            "object_fit": null,
            "object_position": null,
            "order": null,
            "overflow": null,
            "overflow_x": null,
            "overflow_y": null,
            "padding": null,
            "right": null,
            "top": null,
            "visibility": null,
            "width": null
          }
        },
        "28b28ca4ceaf4141b08eca321082dd91": {
          "model_module": "@jupyter-widgets/base",
          "model_name": "LayoutModel",
          "model_module_version": "1.2.0",
          "state": {
            "_model_module": "@jupyter-widgets/base",
            "_model_module_version": "1.2.0",
            "_model_name": "LayoutModel",
            "_view_count": null,
            "_view_module": "@jupyter-widgets/base",
            "_view_module_version": "1.2.0",
            "_view_name": "LayoutView",
            "align_content": null,
            "align_items": null,
            "align_self": null,
            "border": null,
            "bottom": null,
            "display": null,
            "flex": null,
            "flex_flow": null,
            "grid_area": null,
            "grid_auto_columns": null,
            "grid_auto_flow": null,
            "grid_auto_rows": null,
            "grid_column": null,
            "grid_gap": null,
            "grid_row": null,
            "grid_template_areas": null,
            "grid_template_columns": null,
            "grid_template_rows": null,
            "height": null,
            "justify_content": null,
            "justify_items": null,
            "left": null,
            "margin": null,
            "max_height": null,
            "max_width": null,
            "min_height": null,
            "min_width": null,
            "object_fit": null,
            "object_position": null,
            "order": null,
            "overflow": null,
            "overflow_x": null,
            "overflow_y": null,
            "padding": null,
            "right": null,
            "top": null,
            "visibility": null,
            "width": null
          }
        },
        "22a0b39d294a413da61aab76c31ee62a": {
          "model_module": "@jupyter-widgets/controls",
          "model_name": "DescriptionStyleModel",
          "model_module_version": "1.5.0",
          "state": {
            "_model_module": "@jupyter-widgets/controls",
            "_model_module_version": "1.5.0",
            "_model_name": "DescriptionStyleModel",
            "_view_count": null,
            "_view_module": "@jupyter-widgets/base",
            "_view_module_version": "1.2.0",
            "_view_name": "StyleView",
            "description_width": ""
          }
        },
        "4c04c3ce660640dc93e619d011748f03": {
          "model_module": "@jupyter-widgets/base",
          "model_name": "LayoutModel",
          "model_module_version": "1.2.0",
          "state": {
            "_model_module": "@jupyter-widgets/base",
            "_model_module_version": "1.2.0",
            "_model_name": "LayoutModel",
            "_view_count": null,
            "_view_module": "@jupyter-widgets/base",
            "_view_module_version": "1.2.0",
            "_view_name": "LayoutView",
            "align_content": null,
            "align_items": null,
            "align_self": null,
            "border": null,
            "bottom": null,
            "display": null,
            "flex": null,
            "flex_flow": null,
            "grid_area": null,
            "grid_auto_columns": null,
            "grid_auto_flow": null,
            "grid_auto_rows": null,
            "grid_column": null,
            "grid_gap": null,
            "grid_row": null,
            "grid_template_areas": null,
            "grid_template_columns": null,
            "grid_template_rows": null,
            "height": null,
            "justify_content": null,
            "justify_items": null,
            "left": null,
            "margin": null,
            "max_height": null,
            "max_width": null,
            "min_height": null,
            "min_width": null,
            "object_fit": null,
            "object_position": null,
            "order": null,
            "overflow": null,
            "overflow_x": null,
            "overflow_y": null,
            "padding": null,
            "right": null,
            "top": null,
            "visibility": null,
            "width": null
          }
        },
        "34d1b82e440a44228a280335cbc570ce": {
          "model_module": "@jupyter-widgets/controls",
          "model_name": "ProgressStyleModel",
          "model_module_version": "1.5.0",
          "state": {
            "_model_module": "@jupyter-widgets/controls",
            "_model_module_version": "1.5.0",
            "_model_name": "ProgressStyleModel",
            "_view_count": null,
            "_view_module": "@jupyter-widgets/base",
            "_view_module_version": "1.2.0",
            "_view_name": "StyleView",
            "bar_color": null,
            "description_width": ""
          }
        },
        "8f381af94797420e99bba638d3438ae2": {
          "model_module": "@jupyter-widgets/base",
          "model_name": "LayoutModel",
          "model_module_version": "1.2.0",
          "state": {
            "_model_module": "@jupyter-widgets/base",
            "_model_module_version": "1.2.0",
            "_model_name": "LayoutModel",
            "_view_count": null,
            "_view_module": "@jupyter-widgets/base",
            "_view_module_version": "1.2.0",
            "_view_name": "LayoutView",
            "align_content": null,
            "align_items": null,
            "align_self": null,
            "border": null,
            "bottom": null,
            "display": null,
            "flex": null,
            "flex_flow": null,
            "grid_area": null,
            "grid_auto_columns": null,
            "grid_auto_flow": null,
            "grid_auto_rows": null,
            "grid_column": null,
            "grid_gap": null,
            "grid_row": null,
            "grid_template_areas": null,
            "grid_template_columns": null,
            "grid_template_rows": null,
            "height": null,
            "justify_content": null,
            "justify_items": null,
            "left": null,
            "margin": null,
            "max_height": null,
            "max_width": null,
            "min_height": null,
            "min_width": null,
            "object_fit": null,
            "object_position": null,
            "order": null,
            "overflow": null,
            "overflow_x": null,
            "overflow_y": null,
            "padding": null,
            "right": null,
            "top": null,
            "visibility": null,
            "width": null
          }
        },
        "e56d666413ad4529995770ca6d6e141c": {
          "model_module": "@jupyter-widgets/controls",
          "model_name": "DescriptionStyleModel",
          "model_module_version": "1.5.0",
          "state": {
            "_model_module": "@jupyter-widgets/controls",
            "_model_module_version": "1.5.0",
            "_model_name": "DescriptionStyleModel",
            "_view_count": null,
            "_view_module": "@jupyter-widgets/base",
            "_view_module_version": "1.2.0",
            "_view_name": "StyleView",
            "description_width": ""
          }
        },
        "40b753727e42415aa164c4276b50a6e7": {
          "model_module": "@jupyter-widgets/controls",
          "model_name": "HBoxModel",
          "model_module_version": "1.5.0",
          "state": {
            "_dom_classes": [],
            "_model_module": "@jupyter-widgets/controls",
            "_model_module_version": "1.5.0",
            "_model_name": "HBoxModel",
            "_view_count": null,
            "_view_module": "@jupyter-widgets/controls",
            "_view_module_version": "1.5.0",
            "_view_name": "HBoxView",
            "box_style": "",
            "children": [
              "IPY_MODEL_0826305e7c2f4e2f88a1be87fecd25c2",
              "IPY_MODEL_8dee35d81fbf45a0ad667471ef814493",
              "IPY_MODEL_27dbef856e994180a7607f45a52db71a"
            ],
            "layout": "IPY_MODEL_cdca4570d0234c35b238cfce87555b2e"
          }
        },
        "0826305e7c2f4e2f88a1be87fecd25c2": {
          "model_module": "@jupyter-widgets/controls",
          "model_name": "HTMLModel",
          "model_module_version": "1.5.0",
          "state": {
            "_dom_classes": [],
            "_model_module": "@jupyter-widgets/controls",
            "_model_module_version": "1.5.0",
            "_model_name": "HTMLModel",
            "_view_count": null,
            "_view_module": "@jupyter-widgets/controls",
            "_view_module_version": "1.5.0",
            "_view_name": "HTMLView",
            "description": "",
            "description_tooltip": null,
            "layout": "IPY_MODEL_1831ffa61c0e4264a34f08a3c292b633",
            "placeholder": "​",
            "style": "IPY_MODEL_ebc9030301614e9b8b138491cb71b6c0",
            "value": "Downloading (…)okenizer_config.json: 100%"
          }
        },
        "8dee35d81fbf45a0ad667471ef814493": {
          "model_module": "@jupyter-widgets/controls",
          "model_name": "FloatProgressModel",
          "model_module_version": "1.5.0",
          "state": {
            "_dom_classes": [],
            "_model_module": "@jupyter-widgets/controls",
            "_model_module_version": "1.5.0",
            "_model_name": "FloatProgressModel",
            "_view_count": null,
            "_view_module": "@jupyter-widgets/controls",
            "_view_module_version": "1.5.0",
            "_view_name": "ProgressView",
            "bar_style": "success",
            "description": "",
            "description_tooltip": null,
            "layout": "IPY_MODEL_a64105fa87064fabb88e951848c84166",
            "max": 294,
            "min": 0,
            "orientation": "horizontal",
            "style": "IPY_MODEL_aa96975d4d514659a2c6f0dc6cc8a50b",
            "value": 294
          }
        },
        "27dbef856e994180a7607f45a52db71a": {
          "model_module": "@jupyter-widgets/controls",
          "model_name": "HTMLModel",
          "model_module_version": "1.5.0",
          "state": {
            "_dom_classes": [],
            "_model_module": "@jupyter-widgets/controls",
            "_model_module_version": "1.5.0",
            "_model_name": "HTMLModel",
            "_view_count": null,
            "_view_module": "@jupyter-widgets/controls",
            "_view_module_version": "1.5.0",
            "_view_name": "HTMLView",
            "description": "",
            "description_tooltip": null,
            "layout": "IPY_MODEL_f1831475bbf644758f5ec35b9c6e4b0f",
            "placeholder": "​",
            "style": "IPY_MODEL_2b41b801f0644d91a128cb6a70433856",
            "value": " 294/294 [00:00&lt;00:00, 6.80kB/s]"
          }
        },
        "cdca4570d0234c35b238cfce87555b2e": {
          "model_module": "@jupyter-widgets/base",
          "model_name": "LayoutModel",
          "model_module_version": "1.2.0",
          "state": {
            "_model_module": "@jupyter-widgets/base",
            "_model_module_version": "1.2.0",
            "_model_name": "LayoutModel",
            "_view_count": null,
            "_view_module": "@jupyter-widgets/base",
            "_view_module_version": "1.2.0",
            "_view_name": "LayoutView",
            "align_content": null,
            "align_items": null,
            "align_self": null,
            "border": null,
            "bottom": null,
            "display": null,
            "flex": null,
            "flex_flow": null,
            "grid_area": null,
            "grid_auto_columns": null,
            "grid_auto_flow": null,
            "grid_auto_rows": null,
            "grid_column": null,
            "grid_gap": null,
            "grid_row": null,
            "grid_template_areas": null,
            "grid_template_columns": null,
            "grid_template_rows": null,
            "height": null,
            "justify_content": null,
            "justify_items": null,
            "left": null,
            "margin": null,
            "max_height": null,
            "max_width": null,
            "min_height": null,
            "min_width": null,
            "object_fit": null,
            "object_position": null,
            "order": null,
            "overflow": null,
            "overflow_x": null,
            "overflow_y": null,
            "padding": null,
            "right": null,
            "top": null,
            "visibility": null,
            "width": null
          }
        },
        "1831ffa61c0e4264a34f08a3c292b633": {
          "model_module": "@jupyter-widgets/base",
          "model_name": "LayoutModel",
          "model_module_version": "1.2.0",
          "state": {
            "_model_module": "@jupyter-widgets/base",
            "_model_module_version": "1.2.0",
            "_model_name": "LayoutModel",
            "_view_count": null,
            "_view_module": "@jupyter-widgets/base",
            "_view_module_version": "1.2.0",
            "_view_name": "LayoutView",
            "align_content": null,
            "align_items": null,
            "align_self": null,
            "border": null,
            "bottom": null,
            "display": null,
            "flex": null,
            "flex_flow": null,
            "grid_area": null,
            "grid_auto_columns": null,
            "grid_auto_flow": null,
            "grid_auto_rows": null,
            "grid_column": null,
            "grid_gap": null,
            "grid_row": null,
            "grid_template_areas": null,
            "grid_template_columns": null,
            "grid_template_rows": null,
            "height": null,
            "justify_content": null,
            "justify_items": null,
            "left": null,
            "margin": null,
            "max_height": null,
            "max_width": null,
            "min_height": null,
            "min_width": null,
            "object_fit": null,
            "object_position": null,
            "order": null,
            "overflow": null,
            "overflow_x": null,
            "overflow_y": null,
            "padding": null,
            "right": null,
            "top": null,
            "visibility": null,
            "width": null
          }
        },
        "ebc9030301614e9b8b138491cb71b6c0": {
          "model_module": "@jupyter-widgets/controls",
          "model_name": "DescriptionStyleModel",
          "model_module_version": "1.5.0",
          "state": {
            "_model_module": "@jupyter-widgets/controls",
            "_model_module_version": "1.5.0",
            "_model_name": "DescriptionStyleModel",
            "_view_count": null,
            "_view_module": "@jupyter-widgets/base",
            "_view_module_version": "1.2.0",
            "_view_name": "StyleView",
            "description_width": ""
          }
        },
        "a64105fa87064fabb88e951848c84166": {
          "model_module": "@jupyter-widgets/base",
          "model_name": "LayoutModel",
          "model_module_version": "1.2.0",
          "state": {
            "_model_module": "@jupyter-widgets/base",
            "_model_module_version": "1.2.0",
            "_model_name": "LayoutModel",
            "_view_count": null,
            "_view_module": "@jupyter-widgets/base",
            "_view_module_version": "1.2.0",
            "_view_name": "LayoutView",
            "align_content": null,
            "align_items": null,
            "align_self": null,
            "border": null,
            "bottom": null,
            "display": null,
            "flex": null,
            "flex_flow": null,
            "grid_area": null,
            "grid_auto_columns": null,
            "grid_auto_flow": null,
            "grid_auto_rows": null,
            "grid_column": null,
            "grid_gap": null,
            "grid_row": null,
            "grid_template_areas": null,
            "grid_template_columns": null,
            "grid_template_rows": null,
            "height": null,
            "justify_content": null,
            "justify_items": null,
            "left": null,
            "margin": null,
            "max_height": null,
            "max_width": null,
            "min_height": null,
            "min_width": null,
            "object_fit": null,
            "object_position": null,
            "order": null,
            "overflow": null,
            "overflow_x": null,
            "overflow_y": null,
            "padding": null,
            "right": null,
            "top": null,
            "visibility": null,
            "width": null
          }
        },
        "aa96975d4d514659a2c6f0dc6cc8a50b": {
          "model_module": "@jupyter-widgets/controls",
          "model_name": "ProgressStyleModel",
          "model_module_version": "1.5.0",
          "state": {
            "_model_module": "@jupyter-widgets/controls",
            "_model_module_version": "1.5.0",
            "_model_name": "ProgressStyleModel",
            "_view_count": null,
            "_view_module": "@jupyter-widgets/base",
            "_view_module_version": "1.2.0",
            "_view_name": "StyleView",
            "bar_color": null,
            "description_width": ""
          }
        },
        "f1831475bbf644758f5ec35b9c6e4b0f": {
          "model_module": "@jupyter-widgets/base",
          "model_name": "LayoutModel",
          "model_module_version": "1.2.0",
          "state": {
            "_model_module": "@jupyter-widgets/base",
            "_model_module_version": "1.2.0",
            "_model_name": "LayoutModel",
            "_view_count": null,
            "_view_module": "@jupyter-widgets/base",
            "_view_module_version": "1.2.0",
            "_view_name": "LayoutView",
            "align_content": null,
            "align_items": null,
            "align_self": null,
            "border": null,
            "bottom": null,
            "display": null,
            "flex": null,
            "flex_flow": null,
            "grid_area": null,
            "grid_auto_columns": null,
            "grid_auto_flow": null,
            "grid_auto_rows": null,
            "grid_column": null,
            "grid_gap": null,
            "grid_row": null,
            "grid_template_areas": null,
            "grid_template_columns": null,
            "grid_template_rows": null,
            "height": null,
            "justify_content": null,
            "justify_items": null,
            "left": null,
            "margin": null,
            "max_height": null,
            "max_width": null,
            "min_height": null,
            "min_width": null,
            "object_fit": null,
            "object_position": null,
            "order": null,
            "overflow": null,
            "overflow_x": null,
            "overflow_y": null,
            "padding": null,
            "right": null,
            "top": null,
            "visibility": null,
            "width": null
          }
        },
        "2b41b801f0644d91a128cb6a70433856": {
          "model_module": "@jupyter-widgets/controls",
          "model_name": "DescriptionStyleModel",
          "model_module_version": "1.5.0",
          "state": {
            "_model_module": "@jupyter-widgets/controls",
            "_model_module_version": "1.5.0",
            "_model_name": "DescriptionStyleModel",
            "_view_count": null,
            "_view_module": "@jupyter-widgets/base",
            "_view_module_version": "1.2.0",
            "_view_name": "StyleView",
            "description_width": ""
          }
        },
        "ffb70e20caa04d40a332b6a5c0339a2b": {
          "model_module": "@jupyter-widgets/controls",
          "model_name": "HBoxModel",
          "model_module_version": "1.5.0",
          "state": {
            "_dom_classes": [],
            "_model_module": "@jupyter-widgets/controls",
            "_model_module_version": "1.5.0",
            "_model_name": "HBoxModel",
            "_view_count": null,
            "_view_module": "@jupyter-widgets/controls",
            "_view_module_version": "1.5.0",
            "_view_name": "HBoxView",
            "box_style": "",
            "children": [
              "IPY_MODEL_da8fc3831fc8449a8dc363123b00887a",
              "IPY_MODEL_2782b24665794d14a2cc30e094da671c",
              "IPY_MODEL_37430d8970b04017b7e03fa70fa09b2b"
            ],
            "layout": "IPY_MODEL_0a9db9310563403c95354a8b8e08eff9"
          }
        },
        "da8fc3831fc8449a8dc363123b00887a": {
          "model_module": "@jupyter-widgets/controls",
          "model_name": "HTMLModel",
          "model_module_version": "1.5.0",
          "state": {
            "_dom_classes": [],
            "_model_module": "@jupyter-widgets/controls",
            "_model_module_version": "1.5.0",
            "_model_name": "HTMLModel",
            "_view_count": null,
            "_view_module": "@jupyter-widgets/controls",
            "_view_module_version": "1.5.0",
            "_view_name": "HTMLView",
            "description": "",
            "description_tooltip": null,
            "layout": "IPY_MODEL_f5b032410fff4a8c8edeb35b02b27470",
            "placeholder": "​",
            "style": "IPY_MODEL_80bdec6afc23434b8b7403aa3b1b4d96",
            "value": "Downloading (…)7135/train_script.py: 100%"
          }
        },
        "2782b24665794d14a2cc30e094da671c": {
          "model_module": "@jupyter-widgets/controls",
          "model_name": "FloatProgressModel",
          "model_module_version": "1.5.0",
          "state": {
            "_dom_classes": [],
            "_model_module": "@jupyter-widgets/controls",
            "_model_module_version": "1.5.0",
            "_model_name": "FloatProgressModel",
            "_view_count": null,
            "_view_module": "@jupyter-widgets/controls",
            "_view_module_version": "1.5.0",
            "_view_name": "ProgressView",
            "bar_style": "success",
            "description": "",
            "description_tooltip": null,
            "layout": "IPY_MODEL_0bbd14d43513484eb9b2347de1d1f335",
            "max": 3837,
            "min": 0,
            "orientation": "horizontal",
            "style": "IPY_MODEL_43ee06debf4e40519707ea499bc1e428",
            "value": 3837
          }
        },
        "37430d8970b04017b7e03fa70fa09b2b": {
          "model_module": "@jupyter-widgets/controls",
          "model_name": "HTMLModel",
          "model_module_version": "1.5.0",
          "state": {
            "_dom_classes": [],
            "_model_module": "@jupyter-widgets/controls",
            "_model_module_version": "1.5.0",
            "_model_name": "HTMLModel",
            "_view_count": null,
            "_view_module": "@jupyter-widgets/controls",
            "_view_module_version": "1.5.0",
            "_view_name": "HTMLView",
            "description": "",
            "description_tooltip": null,
            "layout": "IPY_MODEL_af07cd6abd8b46ceb15cc6df1d0c32f3",
            "placeholder": "​",
            "style": "IPY_MODEL_831f83324321400496143f48bc8e487b",
            "value": " 3.84k/3.84k [00:00&lt;00:00, 163kB/s]"
          }
        },
        "0a9db9310563403c95354a8b8e08eff9": {
          "model_module": "@jupyter-widgets/base",
          "model_name": "LayoutModel",
          "model_module_version": "1.2.0",
          "state": {
            "_model_module": "@jupyter-widgets/base",
            "_model_module_version": "1.2.0",
            "_model_name": "LayoutModel",
            "_view_count": null,
            "_view_module": "@jupyter-widgets/base",
            "_view_module_version": "1.2.0",
            "_view_name": "LayoutView",
            "align_content": null,
            "align_items": null,
            "align_self": null,
            "border": null,
            "bottom": null,
            "display": null,
            "flex": null,
            "flex_flow": null,
            "grid_area": null,
            "grid_auto_columns": null,
            "grid_auto_flow": null,
            "grid_auto_rows": null,
            "grid_column": null,
            "grid_gap": null,
            "grid_row": null,
            "grid_template_areas": null,
            "grid_template_columns": null,
            "grid_template_rows": null,
            "height": null,
            "justify_content": null,
            "justify_items": null,
            "left": null,
            "margin": null,
            "max_height": null,
            "max_width": null,
            "min_height": null,
            "min_width": null,
            "object_fit": null,
            "object_position": null,
            "order": null,
            "overflow": null,
            "overflow_x": null,
            "overflow_y": null,
            "padding": null,
            "right": null,
            "top": null,
            "visibility": null,
            "width": null
          }
        },
        "f5b032410fff4a8c8edeb35b02b27470": {
          "model_module": "@jupyter-widgets/base",
          "model_name": "LayoutModel",
          "model_module_version": "1.2.0",
          "state": {
            "_model_module": "@jupyter-widgets/base",
            "_model_module_version": "1.2.0",
            "_model_name": "LayoutModel",
            "_view_count": null,
            "_view_module": "@jupyter-widgets/base",
            "_view_module_version": "1.2.0",
            "_view_name": "LayoutView",
            "align_content": null,
            "align_items": null,
            "align_self": null,
            "border": null,
            "bottom": null,
            "display": null,
            "flex": null,
            "flex_flow": null,
            "grid_area": null,
            "grid_auto_columns": null,
            "grid_auto_flow": null,
            "grid_auto_rows": null,
            "grid_column": null,
            "grid_gap": null,
            "grid_row": null,
            "grid_template_areas": null,
            "grid_template_columns": null,
            "grid_template_rows": null,
            "height": null,
            "justify_content": null,
            "justify_items": null,
            "left": null,
            "margin": null,
            "max_height": null,
            "max_width": null,
            "min_height": null,
            "min_width": null,
            "object_fit": null,
            "object_position": null,
            "order": null,
            "overflow": null,
            "overflow_x": null,
            "overflow_y": null,
            "padding": null,
            "right": null,
            "top": null,
            "visibility": null,
            "width": null
          }
        },
        "80bdec6afc23434b8b7403aa3b1b4d96": {
          "model_module": "@jupyter-widgets/controls",
          "model_name": "DescriptionStyleModel",
          "model_module_version": "1.5.0",
          "state": {
            "_model_module": "@jupyter-widgets/controls",
            "_model_module_version": "1.5.0",
            "_model_name": "DescriptionStyleModel",
            "_view_count": null,
            "_view_module": "@jupyter-widgets/base",
            "_view_module_version": "1.2.0",
            "_view_name": "StyleView",
            "description_width": ""
          }
        },
        "0bbd14d43513484eb9b2347de1d1f335": {
          "model_module": "@jupyter-widgets/base",
          "model_name": "LayoutModel",
          "model_module_version": "1.2.0",
          "state": {
            "_model_module": "@jupyter-widgets/base",
            "_model_module_version": "1.2.0",
            "_model_name": "LayoutModel",
            "_view_count": null,
            "_view_module": "@jupyter-widgets/base",
            "_view_module_version": "1.2.0",
            "_view_name": "LayoutView",
            "align_content": null,
            "align_items": null,
            "align_self": null,
            "border": null,
            "bottom": null,
            "display": null,
            "flex": null,
            "flex_flow": null,
            "grid_area": null,
            "grid_auto_columns": null,
            "grid_auto_flow": null,
            "grid_auto_rows": null,
            "grid_column": null,
            "grid_gap": null,
            "grid_row": null,
            "grid_template_areas": null,
            "grid_template_columns": null,
            "grid_template_rows": null,
            "height": null,
            "justify_content": null,
            "justify_items": null,
            "left": null,
            "margin": null,
            "max_height": null,
            "max_width": null,
            "min_height": null,
            "min_width": null,
            "object_fit": null,
            "object_position": null,
            "order": null,
            "overflow": null,
            "overflow_x": null,
            "overflow_y": null,
            "padding": null,
            "right": null,
            "top": null,
            "visibility": null,
            "width": null
          }
        },
        "43ee06debf4e40519707ea499bc1e428": {
          "model_module": "@jupyter-widgets/controls",
          "model_name": "ProgressStyleModel",
          "model_module_version": "1.5.0",
          "state": {
            "_model_module": "@jupyter-widgets/controls",
            "_model_module_version": "1.5.0",
            "_model_name": "ProgressStyleModel",
            "_view_count": null,
            "_view_module": "@jupyter-widgets/base",
            "_view_module_version": "1.2.0",
            "_view_name": "StyleView",
            "bar_color": null,
            "description_width": ""
          }
        },
        "af07cd6abd8b46ceb15cc6df1d0c32f3": {
          "model_module": "@jupyter-widgets/base",
          "model_name": "LayoutModel",
          "model_module_version": "1.2.0",
          "state": {
            "_model_module": "@jupyter-widgets/base",
            "_model_module_version": "1.2.0",
            "_model_name": "LayoutModel",
            "_view_count": null,
            "_view_module": "@jupyter-widgets/base",
            "_view_module_version": "1.2.0",
            "_view_name": "LayoutView",
            "align_content": null,
            "align_items": null,
            "align_self": null,
            "border": null,
            "bottom": null,
            "display": null,
            "flex": null,
            "flex_flow": null,
            "grid_area": null,
            "grid_auto_columns": null,
            "grid_auto_flow": null,
            "grid_auto_rows": null,
            "grid_column": null,
            "grid_gap": null,
            "grid_row": null,
            "grid_template_areas": null,
            "grid_template_columns": null,
            "grid_template_rows": null,
            "height": null,
            "justify_content": null,
            "justify_items": null,
            "left": null,
            "margin": null,
            "max_height": null,
            "max_width": null,
            "min_height": null,
            "min_width": null,
            "object_fit": null,
            "object_position": null,
            "order": null,
            "overflow": null,
            "overflow_x": null,
            "overflow_y": null,
            "padding": null,
            "right": null,
            "top": null,
            "visibility": null,
            "width": null
          }
        },
        "831f83324321400496143f48bc8e487b": {
          "model_module": "@jupyter-widgets/controls",
          "model_name": "DescriptionStyleModel",
          "model_module_version": "1.5.0",
          "state": {
            "_model_module": "@jupyter-widgets/controls",
            "_model_module_version": "1.5.0",
            "_model_name": "DescriptionStyleModel",
            "_view_count": null,
            "_view_module": "@jupyter-widgets/base",
            "_view_module_version": "1.2.0",
            "_view_name": "StyleView",
            "description_width": ""
          }
        },
        "b44238e0192c489695eb29d32d2efe67": {
          "model_module": "@jupyter-widgets/controls",
          "model_name": "HBoxModel",
          "model_module_version": "1.5.0",
          "state": {
            "_dom_classes": [],
            "_model_module": "@jupyter-widgets/controls",
            "_model_module_version": "1.5.0",
            "_model_name": "HBoxModel",
            "_view_count": null,
            "_view_module": "@jupyter-widgets/controls",
            "_view_module_version": "1.5.0",
            "_view_name": "HBoxView",
            "box_style": "",
            "children": [
              "IPY_MODEL_0dec07aeb6fb47ccaac81fec4cc93a44",
              "IPY_MODEL_50d2ece5e99f4240ab262b06dd281b69",
              "IPY_MODEL_ecb0550e64034232882055aea0b6c652"
            ],
            "layout": "IPY_MODEL_5e9a59d9134c413183cc9d55ac73ec32"
          }
        },
        "0dec07aeb6fb47ccaac81fec4cc93a44": {
          "model_module": "@jupyter-widgets/controls",
          "model_name": "HTMLModel",
          "model_module_version": "1.5.0",
          "state": {
            "_dom_classes": [],
            "_model_module": "@jupyter-widgets/controls",
            "_model_module_version": "1.5.0",
            "_model_name": "HTMLModel",
            "_view_count": null,
            "_view_module": "@jupyter-widgets/controls",
            "_view_module_version": "1.5.0",
            "_view_name": "HTMLView",
            "description": "",
            "description_tooltip": null,
            "layout": "IPY_MODEL_4e62b32f0c704413ab0c9e9352078795",
            "placeholder": "​",
            "style": "IPY_MODEL_4e1e7dc306c940c69d273554d25581e8",
            "value": "Downloading (…)e371b7135/vocab.json: 100%"
          }
        },
        "50d2ece5e99f4240ab262b06dd281b69": {
          "model_module": "@jupyter-widgets/controls",
          "model_name": "FloatProgressModel",
          "model_module_version": "1.5.0",
          "state": {
            "_dom_classes": [],
            "_model_module": "@jupyter-widgets/controls",
            "_model_module_version": "1.5.0",
            "_model_name": "FloatProgressModel",
            "_view_count": null,
            "_view_module": "@jupyter-widgets/controls",
            "_view_module_version": "1.5.0",
            "_view_name": "ProgressView",
            "bar_style": "success",
            "description": "",
            "description_tooltip": null,
            "layout": "IPY_MODEL_7703acd5e6824a58b8c2a3a3f577ec1f",
            "max": 798293,
            "min": 0,
            "orientation": "horizontal",
            "style": "IPY_MODEL_f734389daba245f3ba2329ad3cd92d71",
            "value": 798293
          }
        },
        "ecb0550e64034232882055aea0b6c652": {
          "model_module": "@jupyter-widgets/controls",
          "model_name": "HTMLModel",
          "model_module_version": "1.5.0",
          "state": {
            "_dom_classes": [],
            "_model_module": "@jupyter-widgets/controls",
            "_model_module_version": "1.5.0",
            "_model_name": "HTMLModel",
            "_view_count": null,
            "_view_module": "@jupyter-widgets/controls",
            "_view_module_version": "1.5.0",
            "_view_name": "HTMLView",
            "description": "",
            "description_tooltip": null,
            "layout": "IPY_MODEL_0727a83e9be8426e818652a8726c40fe",
            "placeholder": "​",
            "style": "IPY_MODEL_020ab07fa0b54301af59ef86bdd6c092",
            "value": " 798k/798k [00:00&lt;00:00, 18.8MB/s]"
          }
        },
        "5e9a59d9134c413183cc9d55ac73ec32": {
          "model_module": "@jupyter-widgets/base",
          "model_name": "LayoutModel",
          "model_module_version": "1.2.0",
          "state": {
            "_model_module": "@jupyter-widgets/base",
            "_model_module_version": "1.2.0",
            "_model_name": "LayoutModel",
            "_view_count": null,
            "_view_module": "@jupyter-widgets/base",
            "_view_module_version": "1.2.0",
            "_view_name": "LayoutView",
            "align_content": null,
            "align_items": null,
            "align_self": null,
            "border": null,
            "bottom": null,
            "display": null,
            "flex": null,
            "flex_flow": null,
            "grid_area": null,
            "grid_auto_columns": null,
            "grid_auto_flow": null,
            "grid_auto_rows": null,
            "grid_column": null,
            "grid_gap": null,
            "grid_row": null,
            "grid_template_areas": null,
            "grid_template_columns": null,
            "grid_template_rows": null,
            "height": null,
            "justify_content": null,
            "justify_items": null,
            "left": null,
            "margin": null,
            "max_height": null,
            "max_width": null,
            "min_height": null,
            "min_width": null,
            "object_fit": null,
            "object_position": null,
            "order": null,
            "overflow": null,
            "overflow_x": null,
            "overflow_y": null,
            "padding": null,
            "right": null,
            "top": null,
            "visibility": null,
            "width": null
          }
        },
        "4e62b32f0c704413ab0c9e9352078795": {
          "model_module": "@jupyter-widgets/base",
          "model_name": "LayoutModel",
          "model_module_version": "1.2.0",
          "state": {
            "_model_module": "@jupyter-widgets/base",
            "_model_module_version": "1.2.0",
            "_model_name": "LayoutModel",
            "_view_count": null,
            "_view_module": "@jupyter-widgets/base",
            "_view_module_version": "1.2.0",
            "_view_name": "LayoutView",
            "align_content": null,
            "align_items": null,
            "align_self": null,
            "border": null,
            "bottom": null,
            "display": null,
            "flex": null,
            "flex_flow": null,
            "grid_area": null,
            "grid_auto_columns": null,
            "grid_auto_flow": null,
            "grid_auto_rows": null,
            "grid_column": null,
            "grid_gap": null,
            "grid_row": null,
            "grid_template_areas": null,
            "grid_template_columns": null,
            "grid_template_rows": null,
            "height": null,
            "justify_content": null,
            "justify_items": null,
            "left": null,
            "margin": null,
            "max_height": null,
            "max_width": null,
            "min_height": null,
            "min_width": null,
            "object_fit": null,
            "object_position": null,
            "order": null,
            "overflow": null,
            "overflow_x": null,
            "overflow_y": null,
            "padding": null,
            "right": null,
            "top": null,
            "visibility": null,
            "width": null
          }
        },
        "4e1e7dc306c940c69d273554d25581e8": {
          "model_module": "@jupyter-widgets/controls",
          "model_name": "DescriptionStyleModel",
          "model_module_version": "1.5.0",
          "state": {
            "_model_module": "@jupyter-widgets/controls",
            "_model_module_version": "1.5.0",
            "_model_name": "DescriptionStyleModel",
            "_view_count": null,
            "_view_module": "@jupyter-widgets/base",
            "_view_module_version": "1.2.0",
            "_view_name": "StyleView",
            "description_width": ""
          }
        },
        "7703acd5e6824a58b8c2a3a3f577ec1f": {
          "model_module": "@jupyter-widgets/base",
          "model_name": "LayoutModel",
          "model_module_version": "1.2.0",
          "state": {
            "_model_module": "@jupyter-widgets/base",
            "_model_module_version": "1.2.0",
            "_model_name": "LayoutModel",
            "_view_count": null,
            "_view_module": "@jupyter-widgets/base",
            "_view_module_version": "1.2.0",
            "_view_name": "LayoutView",
            "align_content": null,
            "align_items": null,
            "align_self": null,
            "border": null,
            "bottom": null,
            "display": null,
            "flex": null,
            "flex_flow": null,
            "grid_area": null,
            "grid_auto_columns": null,
            "grid_auto_flow": null,
            "grid_auto_rows": null,
            "grid_column": null,
            "grid_gap": null,
            "grid_row": null,
            "grid_template_areas": null,
            "grid_template_columns": null,
            "grid_template_rows": null,
            "height": null,
            "justify_content": null,
            "justify_items": null,
            "left": null,
            "margin": null,
            "max_height": null,
            "max_width": null,
            "min_height": null,
            "min_width": null,
            "object_fit": null,
            "object_position": null,
            "order": null,
            "overflow": null,
            "overflow_x": null,
            "overflow_y": null,
            "padding": null,
            "right": null,
            "top": null,
            "visibility": null,
            "width": null
          }
        },
        "f734389daba245f3ba2329ad3cd92d71": {
          "model_module": "@jupyter-widgets/controls",
          "model_name": "ProgressStyleModel",
          "model_module_version": "1.5.0",
          "state": {
            "_model_module": "@jupyter-widgets/controls",
            "_model_module_version": "1.5.0",
            "_model_name": "ProgressStyleModel",
            "_view_count": null,
            "_view_module": "@jupyter-widgets/base",
            "_view_module_version": "1.2.0",
            "_view_name": "StyleView",
            "bar_color": null,
            "description_width": ""
          }
        },
        "0727a83e9be8426e818652a8726c40fe": {
          "model_module": "@jupyter-widgets/base",
          "model_name": "LayoutModel",
          "model_module_version": "1.2.0",
          "state": {
            "_model_module": "@jupyter-widgets/base",
            "_model_module_version": "1.2.0",
            "_model_name": "LayoutModel",
            "_view_count": null,
            "_view_module": "@jupyter-widgets/base",
            "_view_module_version": "1.2.0",
            "_view_name": "LayoutView",
            "align_content": null,
            "align_items": null,
            "align_self": null,
            "border": null,
            "bottom": null,
            "display": null,
            "flex": null,
            "flex_flow": null,
            "grid_area": null,
            "grid_auto_columns": null,
            "grid_auto_flow": null,
            "grid_auto_rows": null,
            "grid_column": null,
            "grid_gap": null,
            "grid_row": null,
            "grid_template_areas": null,
            "grid_template_columns": null,
            "grid_template_rows": null,
            "height": null,
            "justify_content": null,
            "justify_items": null,
            "left": null,
            "margin": null,
            "max_height": null,
            "max_width": null,
            "min_height": null,
            "min_width": null,
            "object_fit": null,
            "object_position": null,
            "order": null,
            "overflow": null,
            "overflow_x": null,
            "overflow_y": null,
            "padding": null,
            "right": null,
            "top": null,
            "visibility": null,
            "width": null
          }
        },
        "020ab07fa0b54301af59ef86bdd6c092": {
          "model_module": "@jupyter-widgets/controls",
          "model_name": "DescriptionStyleModel",
          "model_module_version": "1.5.0",
          "state": {
            "_model_module": "@jupyter-widgets/controls",
            "_model_module_version": "1.5.0",
            "_model_name": "DescriptionStyleModel",
            "_view_count": null,
            "_view_module": "@jupyter-widgets/base",
            "_view_module_version": "1.2.0",
            "_view_name": "StyleView",
            "description_width": ""
          }
        },
        "2678ba77dd3d43839145033774420be4": {
          "model_module": "@jupyter-widgets/controls",
          "model_name": "HBoxModel",
          "model_module_version": "1.5.0",
          "state": {
            "_dom_classes": [],
            "_model_module": "@jupyter-widgets/controls",
            "_model_module_version": "1.5.0",
            "_model_name": "HBoxModel",
            "_view_count": null,
            "_view_module": "@jupyter-widgets/controls",
            "_view_module_version": "1.5.0",
            "_view_name": "HBoxView",
            "box_style": "",
            "children": [
              "IPY_MODEL_4dfd95b32c4f4c86b9bf6bff0bd0b2d4",
              "IPY_MODEL_b30299406a864d1b827d46134a915a58",
              "IPY_MODEL_4ff064784fb648b6bf5b40d673229839"
            ],
            "layout": "IPY_MODEL_f6e3639c69474dccb43d1cb4ea30ab59"
          }
        },
        "4dfd95b32c4f4c86b9bf6bff0bd0b2d4": {
          "model_module": "@jupyter-widgets/controls",
          "model_name": "HTMLModel",
          "model_module_version": "1.5.0",
          "state": {
            "_dom_classes": [],
            "_model_module": "@jupyter-widgets/controls",
            "_model_module_version": "1.5.0",
            "_model_name": "HTMLModel",
            "_view_count": null,
            "_view_module": "@jupyter-widgets/controls",
            "_view_module_version": "1.5.0",
            "_view_name": "HTMLView",
            "description": "",
            "description_tooltip": null,
            "layout": "IPY_MODEL_48243d202ded47ed9edd19a95b875d8d",
            "placeholder": "​",
            "style": "IPY_MODEL_c30255b93e6742d38d8b3661d4dfa9c3",
            "value": "Downloading (…)71b7135/modules.json: 100%"
          }
        },
        "b30299406a864d1b827d46134a915a58": {
          "model_module": "@jupyter-widgets/controls",
          "model_name": "FloatProgressModel",
          "model_module_version": "1.5.0",
          "state": {
            "_dom_classes": [],
            "_model_module": "@jupyter-widgets/controls",
            "_model_module_version": "1.5.0",
            "_model_name": "FloatProgressModel",
            "_view_count": null,
            "_view_module": "@jupyter-widgets/controls",
            "_view_module_version": "1.5.0",
            "_view_name": "ProgressView",
            "bar_style": "success",
            "description": "",
            "description_tooltip": null,
            "layout": "IPY_MODEL_5fc752b4b9624149b9c5e9133a1713cb",
            "max": 349,
            "min": 0,
            "orientation": "horizontal",
            "style": "IPY_MODEL_5d1b67d9b0954b10868d8e3237f9e3ab",
            "value": 349
          }
        },
        "4ff064784fb648b6bf5b40d673229839": {
          "model_module": "@jupyter-widgets/controls",
          "model_name": "HTMLModel",
          "model_module_version": "1.5.0",
          "state": {
            "_dom_classes": [],
            "_model_module": "@jupyter-widgets/controls",
            "_model_module_version": "1.5.0",
            "_model_name": "HTMLModel",
            "_view_count": null,
            "_view_module": "@jupyter-widgets/controls",
            "_view_module_version": "1.5.0",
            "_view_name": "HTMLView",
            "description": "",
            "description_tooltip": null,
            "layout": "IPY_MODEL_e5f86e8aa5a446818b5770f2a3beadcc",
            "placeholder": "​",
            "style": "IPY_MODEL_78eb42d085324ad9a6c53ff957b67859",
            "value": " 349/349 [00:00&lt;00:00, 13.1kB/s]"
          }
        },
        "f6e3639c69474dccb43d1cb4ea30ab59": {
          "model_module": "@jupyter-widgets/base",
          "model_name": "LayoutModel",
          "model_module_version": "1.2.0",
          "state": {
            "_model_module": "@jupyter-widgets/base",
            "_model_module_version": "1.2.0",
            "_model_name": "LayoutModel",
            "_view_count": null,
            "_view_module": "@jupyter-widgets/base",
            "_view_module_version": "1.2.0",
            "_view_name": "LayoutView",
            "align_content": null,
            "align_items": null,
            "align_self": null,
            "border": null,
            "bottom": null,
            "display": null,
            "flex": null,
            "flex_flow": null,
            "grid_area": null,
            "grid_auto_columns": null,
            "grid_auto_flow": null,
            "grid_auto_rows": null,
            "grid_column": null,
            "grid_gap": null,
            "grid_row": null,
            "grid_template_areas": null,
            "grid_template_columns": null,
            "grid_template_rows": null,
            "height": null,
            "justify_content": null,
            "justify_items": null,
            "left": null,
            "margin": null,
            "max_height": null,
            "max_width": null,
            "min_height": null,
            "min_width": null,
            "object_fit": null,
            "object_position": null,
            "order": null,
            "overflow": null,
            "overflow_x": null,
            "overflow_y": null,
            "padding": null,
            "right": null,
            "top": null,
            "visibility": null,
            "width": null
          }
        },
        "48243d202ded47ed9edd19a95b875d8d": {
          "model_module": "@jupyter-widgets/base",
          "model_name": "LayoutModel",
          "model_module_version": "1.2.0",
          "state": {
            "_model_module": "@jupyter-widgets/base",
            "_model_module_version": "1.2.0",
            "_model_name": "LayoutModel",
            "_view_count": null,
            "_view_module": "@jupyter-widgets/base",
            "_view_module_version": "1.2.0",
            "_view_name": "LayoutView",
            "align_content": null,
            "align_items": null,
            "align_self": null,
            "border": null,
            "bottom": null,
            "display": null,
            "flex": null,
            "flex_flow": null,
            "grid_area": null,
            "grid_auto_columns": null,
            "grid_auto_flow": null,
            "grid_auto_rows": null,
            "grid_column": null,
            "grid_gap": null,
            "grid_row": null,
            "grid_template_areas": null,
            "grid_template_columns": null,
            "grid_template_rows": null,
            "height": null,
            "justify_content": null,
            "justify_items": null,
            "left": null,
            "margin": null,
            "max_height": null,
            "max_width": null,
            "min_height": null,
            "min_width": null,
            "object_fit": null,
            "object_position": null,
            "order": null,
            "overflow": null,
            "overflow_x": null,
            "overflow_y": null,
            "padding": null,
            "right": null,
            "top": null,
            "visibility": null,
            "width": null
          }
        },
        "c30255b93e6742d38d8b3661d4dfa9c3": {
          "model_module": "@jupyter-widgets/controls",
          "model_name": "DescriptionStyleModel",
          "model_module_version": "1.5.0",
          "state": {
            "_model_module": "@jupyter-widgets/controls",
            "_model_module_version": "1.5.0",
            "_model_name": "DescriptionStyleModel",
            "_view_count": null,
            "_view_module": "@jupyter-widgets/base",
            "_view_module_version": "1.2.0",
            "_view_name": "StyleView",
            "description_width": ""
          }
        },
        "5fc752b4b9624149b9c5e9133a1713cb": {
          "model_module": "@jupyter-widgets/base",
          "model_name": "LayoutModel",
          "model_module_version": "1.2.0",
          "state": {
            "_model_module": "@jupyter-widgets/base",
            "_model_module_version": "1.2.0",
            "_model_name": "LayoutModel",
            "_view_count": null,
            "_view_module": "@jupyter-widgets/base",
            "_view_module_version": "1.2.0",
            "_view_name": "LayoutView",
            "align_content": null,
            "align_items": null,
            "align_self": null,
            "border": null,
            "bottom": null,
            "display": null,
            "flex": null,
            "flex_flow": null,
            "grid_area": null,
            "grid_auto_columns": null,
            "grid_auto_flow": null,
            "grid_auto_rows": null,
            "grid_column": null,
            "grid_gap": null,
            "grid_row": null,
            "grid_template_areas": null,
            "grid_template_columns": null,
            "grid_template_rows": null,
            "height": null,
            "justify_content": null,
            "justify_items": null,
            "left": null,
            "margin": null,
            "max_height": null,
            "max_width": null,
            "min_height": null,
            "min_width": null,
            "object_fit": null,
            "object_position": null,
            "order": null,
            "overflow": null,
            "overflow_x": null,
            "overflow_y": null,
            "padding": null,
            "right": null,
            "top": null,
            "visibility": null,
            "width": null
          }
        },
        "5d1b67d9b0954b10868d8e3237f9e3ab": {
          "model_module": "@jupyter-widgets/controls",
          "model_name": "ProgressStyleModel",
          "model_module_version": "1.5.0",
          "state": {
            "_model_module": "@jupyter-widgets/controls",
            "_model_module_version": "1.5.0",
            "_model_name": "ProgressStyleModel",
            "_view_count": null,
            "_view_module": "@jupyter-widgets/base",
            "_view_module_version": "1.2.0",
            "_view_name": "StyleView",
            "bar_color": null,
            "description_width": ""
          }
        },
        "e5f86e8aa5a446818b5770f2a3beadcc": {
          "model_module": "@jupyter-widgets/base",
          "model_name": "LayoutModel",
          "model_module_version": "1.2.0",
          "state": {
            "_model_module": "@jupyter-widgets/base",
            "_model_module_version": "1.2.0",
            "_model_name": "LayoutModel",
            "_view_count": null,
            "_view_module": "@jupyter-widgets/base",
            "_view_module_version": "1.2.0",
            "_view_name": "LayoutView",
            "align_content": null,
            "align_items": null,
            "align_self": null,
            "border": null,
            "bottom": null,
            "display": null,
            "flex": null,
            "flex_flow": null,
            "grid_area": null,
            "grid_auto_columns": null,
            "grid_auto_flow": null,
            "grid_auto_rows": null,
            "grid_column": null,
            "grid_gap": null,
            "grid_row": null,
            "grid_template_areas": null,
            "grid_template_columns": null,
            "grid_template_rows": null,
            "height": null,
            "justify_content": null,
            "justify_items": null,
            "left": null,
            "margin": null,
            "max_height": null,
            "max_width": null,
            "min_height": null,
            "min_width": null,
            "object_fit": null,
            "object_position": null,
            "order": null,
            "overflow": null,
            "overflow_x": null,
            "overflow_y": null,
            "padding": null,
            "right": null,
            "top": null,
            "visibility": null,
            "width": null
          }
        },
        "78eb42d085324ad9a6c53ff957b67859": {
          "model_module": "@jupyter-widgets/controls",
          "model_name": "DescriptionStyleModel",
          "model_module_version": "1.5.0",
          "state": {
            "_model_module": "@jupyter-widgets/controls",
            "_model_module_version": "1.5.0",
            "_model_name": "DescriptionStyleModel",
            "_view_count": null,
            "_view_module": "@jupyter-widgets/base",
            "_view_module_version": "1.2.0",
            "_view_name": "StyleView",
            "description_width": ""
          }
        }
      }
    }
  },
  "nbformat": 4,
  "nbformat_minor": 0
}
